{
 "cells": [
  {
   "cell_type": "markdown",
   "id": "44f12950",
   "metadata": {},
   "source": [
    "## Import datasets"
   ]
  },
  {
   "cell_type": "code",
   "execution_count": 1,
   "id": "3fefb670",
   "metadata": {},
   "outputs": [],
   "source": [
    "import os \n",
    "import numpy as np\n",
    "import pandas as pd \n",
    "import matplotlib.pyplot as plt\n",
    "\n",
    "os.chdir(r'C:\\Users\\hatzi\\Documents\\SUTD\\Security Tools Projects\\STL1 - Data Analytics\\Datasets')"
   ]
  },
  {
   "cell_type": "code",
   "execution_count": 2,
   "id": "66b6fed0",
   "metadata": {},
   "outputs": [
    {
     "name": "stdout",
     "output_type": "stream",
     "text": [
      "Test set rows: 22543\n",
      "Train set rows: 125973\n"
     ]
    }
   ],
   "source": [
    "test_set = pd.read_csv('KDDTest+.csv')\n",
    "train_set = pd.read_csv('KDDTrain+.csv')\n",
    "\n",
    "print('Test set rows:', len(test_set))\n",
    "print('Train set rows:', len(train_set))"
   ]
  },
  {
   "cell_type": "code",
   "execution_count": 3,
   "id": "ed202eff",
   "metadata": {},
   "outputs": [
    {
     "data": {
      "text/html": [
       "<div>\n",
       "<style scoped>\n",
       "    .dataframe tbody tr th:only-of-type {\n",
       "        vertical-align: middle;\n",
       "    }\n",
       "\n",
       "    .dataframe tbody tr th {\n",
       "        vertical-align: top;\n",
       "    }\n",
       "\n",
       "    .dataframe thead th {\n",
       "        text-align: right;\n",
       "    }\n",
       "</style>\n",
       "<table border=\"1\" class=\"dataframe\">\n",
       "  <thead>\n",
       "    <tr style=\"text-align: right;\">\n",
       "      <th></th>\n",
       "      <th>duration</th>\n",
       "      <th>protocol_type</th>\n",
       "      <th>service</th>\n",
       "      <th>flag</th>\n",
       "      <th>src_bytes</th>\n",
       "      <th>dst_bytes</th>\n",
       "      <th>land</th>\n",
       "      <th>wrong_fragment</th>\n",
       "      <th>urgent</th>\n",
       "      <th>hot</th>\n",
       "      <th>...</th>\n",
       "      <th>dst_host_srv_count</th>\n",
       "      <th>dst_host_same_srv_rate</th>\n",
       "      <th>dst_host_diff_srv_rate</th>\n",
       "      <th>dst_host_same_src_port_rate</th>\n",
       "      <th>dst_host_srv_diff_host_rate</th>\n",
       "      <th>dst_host_serror_rate</th>\n",
       "      <th>dst_host_srv_serror_rate</th>\n",
       "      <th>dst_host_rerror_rate</th>\n",
       "      <th>dst_host_srv_rerror_rate</th>\n",
       "      <th>xAttack</th>\n",
       "    </tr>\n",
       "  </thead>\n",
       "  <tbody>\n",
       "    <tr>\n",
       "      <th>0</th>\n",
       "      <td>0</td>\n",
       "      <td>1</td>\n",
       "      <td>50</td>\n",
       "      <td>1</td>\n",
       "      <td>0</td>\n",
       "      <td>0</td>\n",
       "      <td>0</td>\n",
       "      <td>0</td>\n",
       "      <td>0</td>\n",
       "      <td>0</td>\n",
       "      <td>...</td>\n",
       "      <td>10</td>\n",
       "      <td>0.04</td>\n",
       "      <td>0.06</td>\n",
       "      <td>0.00</td>\n",
       "      <td>0.00</td>\n",
       "      <td>0.0</td>\n",
       "      <td>0.0</td>\n",
       "      <td>1.00</td>\n",
       "      <td>1.00</td>\n",
       "      <td>1</td>\n",
       "    </tr>\n",
       "    <tr>\n",
       "      <th>1</th>\n",
       "      <td>0</td>\n",
       "      <td>1</td>\n",
       "      <td>50</td>\n",
       "      <td>1</td>\n",
       "      <td>0</td>\n",
       "      <td>0</td>\n",
       "      <td>0</td>\n",
       "      <td>0</td>\n",
       "      <td>0</td>\n",
       "      <td>0</td>\n",
       "      <td>...</td>\n",
       "      <td>1</td>\n",
       "      <td>0.00</td>\n",
       "      <td>0.06</td>\n",
       "      <td>0.00</td>\n",
       "      <td>0.00</td>\n",
       "      <td>0.0</td>\n",
       "      <td>0.0</td>\n",
       "      <td>1.00</td>\n",
       "      <td>1.00</td>\n",
       "      <td>1</td>\n",
       "    </tr>\n",
       "    <tr>\n",
       "      <th>2</th>\n",
       "      <td>2</td>\n",
       "      <td>1</td>\n",
       "      <td>20</td>\n",
       "      <td>2</td>\n",
       "      <td>12983</td>\n",
       "      <td>0</td>\n",
       "      <td>0</td>\n",
       "      <td>0</td>\n",
       "      <td>0</td>\n",
       "      <td>0</td>\n",
       "      <td>...</td>\n",
       "      <td>86</td>\n",
       "      <td>0.61</td>\n",
       "      <td>0.04</td>\n",
       "      <td>0.61</td>\n",
       "      <td>0.02</td>\n",
       "      <td>0.0</td>\n",
       "      <td>0.0</td>\n",
       "      <td>0.00</td>\n",
       "      <td>0.00</td>\n",
       "      <td>5</td>\n",
       "    </tr>\n",
       "    <tr>\n",
       "      <th>3</th>\n",
       "      <td>0</td>\n",
       "      <td>2</td>\n",
       "      <td>15</td>\n",
       "      <td>2</td>\n",
       "      <td>20</td>\n",
       "      <td>0</td>\n",
       "      <td>0</td>\n",
       "      <td>0</td>\n",
       "      <td>0</td>\n",
       "      <td>0</td>\n",
       "      <td>...</td>\n",
       "      <td>57</td>\n",
       "      <td>1.00</td>\n",
       "      <td>0.00</td>\n",
       "      <td>1.00</td>\n",
       "      <td>0.28</td>\n",
       "      <td>0.0</td>\n",
       "      <td>0.0</td>\n",
       "      <td>0.00</td>\n",
       "      <td>0.00</td>\n",
       "      <td>4</td>\n",
       "    </tr>\n",
       "    <tr>\n",
       "      <th>4</th>\n",
       "      <td>1</td>\n",
       "      <td>1</td>\n",
       "      <td>61</td>\n",
       "      <td>3</td>\n",
       "      <td>0</td>\n",
       "      <td>15</td>\n",
       "      <td>0</td>\n",
       "      <td>0</td>\n",
       "      <td>0</td>\n",
       "      <td>0</td>\n",
       "      <td>...</td>\n",
       "      <td>86</td>\n",
       "      <td>0.31</td>\n",
       "      <td>0.17</td>\n",
       "      <td>0.03</td>\n",
       "      <td>0.02</td>\n",
       "      <td>0.0</td>\n",
       "      <td>0.0</td>\n",
       "      <td>0.83</td>\n",
       "      <td>0.71</td>\n",
       "      <td>4</td>\n",
       "    </tr>\n",
       "  </tbody>\n",
       "</table>\n",
       "<p>5 rows × 42 columns</p>\n",
       "</div>"
      ],
      "text/plain": [
       "   duration  protocol_type  service  flag  src_bytes  dst_bytes  land  \\\n",
       "0         0              1       50     1          0          0     0   \n",
       "1         0              1       50     1          0          0     0   \n",
       "2         2              1       20     2      12983          0     0   \n",
       "3         0              2       15     2         20          0     0   \n",
       "4         1              1       61     3          0         15     0   \n",
       "\n",
       "   wrong_fragment  urgent  hot  ...  dst_host_srv_count  \\\n",
       "0               0       0    0  ...                  10   \n",
       "1               0       0    0  ...                   1   \n",
       "2               0       0    0  ...                  86   \n",
       "3               0       0    0  ...                  57   \n",
       "4               0       0    0  ...                  86   \n",
       "\n",
       "   dst_host_same_srv_rate  dst_host_diff_srv_rate  \\\n",
       "0                    0.04                    0.06   \n",
       "1                    0.00                    0.06   \n",
       "2                    0.61                    0.04   \n",
       "3                    1.00                    0.00   \n",
       "4                    0.31                    0.17   \n",
       "\n",
       "   dst_host_same_src_port_rate  dst_host_srv_diff_host_rate  \\\n",
       "0                         0.00                         0.00   \n",
       "1                         0.00                         0.00   \n",
       "2                         0.61                         0.02   \n",
       "3                         1.00                         0.28   \n",
       "4                         0.03                         0.02   \n",
       "\n",
       "   dst_host_serror_rate  dst_host_srv_serror_rate  dst_host_rerror_rate  \\\n",
       "0                   0.0                       0.0                  1.00   \n",
       "1                   0.0                       0.0                  1.00   \n",
       "2                   0.0                       0.0                  0.00   \n",
       "3                   0.0                       0.0                  0.00   \n",
       "4                   0.0                       0.0                  0.83   \n",
       "\n",
       "   dst_host_srv_rerror_rate  xAttack  \n",
       "0                      1.00        1  \n",
       "1                      1.00        1  \n",
       "2                      0.00        5  \n",
       "3                      0.00        4  \n",
       "4                      0.71        4  \n",
       "\n",
       "[5 rows x 42 columns]"
      ]
     },
     "execution_count": 3,
     "metadata": {},
     "output_type": "execute_result"
    }
   ],
   "source": [
    "test_set.head()"
   ]
  },
  {
   "cell_type": "markdown",
   "id": "54dedc34",
   "metadata": {},
   "source": [
    "## View columns"
   ]
  },
  {
   "cell_type": "code",
   "execution_count": 4,
   "id": "643b12a2",
   "metadata": {},
   "outputs": [
    {
     "name": "stdout",
     "output_type": "stream",
     "text": [
      "Columns:\n"
     ]
    },
    {
     "data": {
      "text/plain": [
       "Index(['duration', 'protocol_type', 'service', 'flag', 'src_bytes',\n",
       "       'dst_bytes', 'land', 'wrong_fragment', 'urgent', 'hot',\n",
       "       'num_failed_logins', 'logged_in', 'num_compromised', 'root_shell',\n",
       "       'su_attempted', 'num_root', 'num_file_creations', 'num_shells',\n",
       "       'num_access_files', 'num_outbound_cmds', 'is_host_login',\n",
       "       'is_guest_login', 'count', 'srv_count', 'serror_rate',\n",
       "       'srv_serror_rate', 'rerror_rate', 'srv_rerror_rate', 'same_srv_rate',\n",
       "       'diff_srv_rate', 'srv_diff_host_rate', 'dst_host_count',\n",
       "       'dst_host_srv_count', 'dst_host_same_srv_rate',\n",
       "       'dst_host_diff_srv_rate', 'dst_host_same_src_port_rate',\n",
       "       'dst_host_srv_diff_host_rate', 'dst_host_serror_rate',\n",
       "       'dst_host_srv_serror_rate', 'dst_host_rerror_rate',\n",
       "       'dst_host_srv_rerror_rate', 'xAttack'],\n",
       "      dtype='object')"
      ]
     },
     "execution_count": 4,
     "metadata": {},
     "output_type": "execute_result"
    }
   ],
   "source": [
    "print('Columns:')\n",
    "test_set.columns"
   ]
  },
  {
   "cell_type": "markdown",
   "id": "d3987261",
   "metadata": {},
   "source": [
    "## View counts for xAttack categories"
   ]
  },
  {
   "cell_type": "code",
   "execution_count": 5,
   "id": "2bc426d1",
   "metadata": {},
   "outputs": [
    {
     "data": {
      "text/plain": [
       "xAttack\n",
       "5          67343\n",
       "1          45927\n",
       "4          11656\n",
       "3            995\n",
       "2             52\n",
       "dtype: int64"
      ]
     },
     "execution_count": 5,
     "metadata": {},
     "output_type": "execute_result"
    }
   ],
   "source": [
    "# View counts for the labels\n",
    "train_set[['xAttack']].value_counts()"
   ]
  },
  {
   "cell_type": "code",
   "execution_count": 6,
   "id": "b9b016c4",
   "metadata": {},
   "outputs": [
    {
     "data": {
      "text/plain": [
       "<AxesSubplot:ylabel='None'>"
      ]
     },
     "execution_count": 6,
     "metadata": {},
     "output_type": "execute_result"
    },
    {
     "data": {
      "image/png": "[encoded data removed]",
      "text/plain": [
       "<Figure size 432x288 with 1 Axes>"
      ]
     },
     "metadata": {},
     "output_type": "display_data"
    }
   ],
   "source": [
    "# Get pie chart of xAttack values\n",
    "train_set.groupby('xAttack').size().plot(kind='pie', autopct ='%.2f')"
   ]
  },
  {
   "cell_type": "markdown",
   "id": "8e146320",
   "metadata": {},
   "source": [
    "## View summary statistics"
   ]
  },
  {
   "cell_type": "code",
   "execution_count": 7,
   "id": "da6d2646",
   "metadata": {},
   "outputs": [
    {
     "data": {
      "text/html": [
       "<div>\n",
       "<style scoped>\n",
       "    .dataframe tbody tr th:only-of-type {\n",
       "        vertical-align: middle;\n",
       "    }\n",
       "\n",
       "    .dataframe tbody tr th {\n",
       "        vertical-align: top;\n",
       "    }\n",
       "\n",
       "    .dataframe thead th {\n",
       "        text-align: right;\n",
       "    }\n",
       "</style>\n",
       "<table border=\"1\" class=\"dataframe\">\n",
       "  <thead>\n",
       "    <tr style=\"text-align: right;\">\n",
       "      <th></th>\n",
       "      <th>duration</th>\n",
       "      <th>protocol_type</th>\n",
       "      <th>service</th>\n",
       "      <th>flag</th>\n",
       "      <th>src_bytes</th>\n",
       "      <th>dst_bytes</th>\n",
       "      <th>land</th>\n",
       "      <th>wrong_fragment</th>\n",
       "      <th>urgent</th>\n",
       "      <th>hot</th>\n",
       "      <th>...</th>\n",
       "      <th>dst_host_srv_count</th>\n",
       "      <th>dst_host_same_srv_rate</th>\n",
       "      <th>dst_host_diff_srv_rate</th>\n",
       "      <th>dst_host_same_src_port_rate</th>\n",
       "      <th>dst_host_srv_diff_host_rate</th>\n",
       "      <th>dst_host_serror_rate</th>\n",
       "      <th>dst_host_srv_serror_rate</th>\n",
       "      <th>dst_host_rerror_rate</th>\n",
       "      <th>dst_host_srv_rerror_rate</th>\n",
       "      <th>xAttack</th>\n",
       "    </tr>\n",
       "  </thead>\n",
       "  <tbody>\n",
       "    <tr>\n",
       "      <th>count</th>\n",
       "      <td>125973.00000</td>\n",
       "      <td>125973.000000</td>\n",
       "      <td>125973.000000</td>\n",
       "      <td>125973.000000</td>\n",
       "      <td>1.259730e+05</td>\n",
       "      <td>1.259730e+05</td>\n",
       "      <td>125973.000000</td>\n",
       "      <td>125973.000000</td>\n",
       "      <td>125973.000000</td>\n",
       "      <td>125973.000000</td>\n",
       "      <td>...</td>\n",
       "      <td>125973.000000</td>\n",
       "      <td>125973.000000</td>\n",
       "      <td>125973.000000</td>\n",
       "      <td>125973.000000</td>\n",
       "      <td>125973.000000</td>\n",
       "      <td>125973.000000</td>\n",
       "      <td>125973.000000</td>\n",
       "      <td>125973.000000</td>\n",
       "      <td>125973.000000</td>\n",
       "      <td>125973.000000</td>\n",
       "    </tr>\n",
       "    <tr>\n",
       "      <th>mean</th>\n",
       "      <td>287.14465</td>\n",
       "      <td>1.303851</td>\n",
       "      <td>32.086288</td>\n",
       "      <td>2.575179</td>\n",
       "      <td>4.556674e+04</td>\n",
       "      <td>1.977911e+04</td>\n",
       "      <td>0.000198</td>\n",
       "      <td>0.022687</td>\n",
       "      <td>0.000111</td>\n",
       "      <td>0.204409</td>\n",
       "      <td>...</td>\n",
       "      <td>115.653005</td>\n",
       "      <td>0.521242</td>\n",
       "      <td>0.082951</td>\n",
       "      <td>0.148379</td>\n",
       "      <td>0.032542</td>\n",
       "      <td>0.284452</td>\n",
       "      <td>0.278485</td>\n",
       "      <td>0.118832</td>\n",
       "      <td>0.120240</td>\n",
       "      <td>3.432124</td>\n",
       "    </tr>\n",
       "    <tr>\n",
       "      <th>std</th>\n",
       "      <td>2604.51531</td>\n",
       "      <td>0.670495</td>\n",
       "      <td>16.462574</td>\n",
       "      <td>1.141552</td>\n",
       "      <td>5.870331e+06</td>\n",
       "      <td>4.021269e+06</td>\n",
       "      <td>0.014086</td>\n",
       "      <td>0.253530</td>\n",
       "      <td>0.014366</td>\n",
       "      <td>2.149968</td>\n",
       "      <td>...</td>\n",
       "      <td>110.702741</td>\n",
       "      <td>0.448949</td>\n",
       "      <td>0.188922</td>\n",
       "      <td>0.308997</td>\n",
       "      <td>0.112564</td>\n",
       "      <td>0.444784</td>\n",
       "      <td>0.445669</td>\n",
       "      <td>0.306557</td>\n",
       "      <td>0.319459</td>\n",
       "      <td>1.871598</td>\n",
       "    </tr>\n",
       "    <tr>\n",
       "      <th>min</th>\n",
       "      <td>0.00000</td>\n",
       "      <td>1.000000</td>\n",
       "      <td>1.000000</td>\n",
       "      <td>1.000000</td>\n",
       "      <td>0.000000e+00</td>\n",
       "      <td>0.000000e+00</td>\n",
       "      <td>0.000000</td>\n",
       "      <td>0.000000</td>\n",
       "      <td>0.000000</td>\n",
       "      <td>0.000000</td>\n",
       "      <td>...</td>\n",
       "      <td>0.000000</td>\n",
       "      <td>0.000000</td>\n",
       "      <td>0.000000</td>\n",
       "      <td>0.000000</td>\n",
       "      <td>0.000000</td>\n",
       "      <td>0.000000</td>\n",
       "      <td>0.000000</td>\n",
       "      <td>0.000000</td>\n",
       "      <td>0.000000</td>\n",
       "      <td>1.000000</td>\n",
       "    </tr>\n",
       "    <tr>\n",
       "      <th>25%</th>\n",
       "      <td>0.00000</td>\n",
       "      <td>1.000000</td>\n",
       "      <td>20.000000</td>\n",
       "      <td>2.000000</td>\n",
       "      <td>0.000000e+00</td>\n",
       "      <td>0.000000e+00</td>\n",
       "      <td>0.000000</td>\n",
       "      <td>0.000000</td>\n",
       "      <td>0.000000</td>\n",
       "      <td>0.000000</td>\n",
       "      <td>...</td>\n",
       "      <td>10.000000</td>\n",
       "      <td>0.050000</td>\n",
       "      <td>0.000000</td>\n",
       "      <td>0.000000</td>\n",
       "      <td>0.000000</td>\n",
       "      <td>0.000000</td>\n",
       "      <td>0.000000</td>\n",
       "      <td>0.000000</td>\n",
       "      <td>0.000000</td>\n",
       "      <td>1.000000</td>\n",
       "    </tr>\n",
       "    <tr>\n",
       "      <th>50%</th>\n",
       "      <td>0.00000</td>\n",
       "      <td>1.000000</td>\n",
       "      <td>25.000000</td>\n",
       "      <td>2.000000</td>\n",
       "      <td>4.400000e+01</td>\n",
       "      <td>0.000000e+00</td>\n",
       "      <td>0.000000</td>\n",
       "      <td>0.000000</td>\n",
       "      <td>0.000000</td>\n",
       "      <td>0.000000</td>\n",
       "      <td>...</td>\n",
       "      <td>63.000000</td>\n",
       "      <td>0.510000</td>\n",
       "      <td>0.020000</td>\n",
       "      <td>0.000000</td>\n",
       "      <td>0.000000</td>\n",
       "      <td>0.000000</td>\n",
       "      <td>0.000000</td>\n",
       "      <td>0.000000</td>\n",
       "      <td>0.000000</td>\n",
       "      <td>5.000000</td>\n",
       "    </tr>\n",
       "    <tr>\n",
       "      <th>75%</th>\n",
       "      <td>0.00000</td>\n",
       "      <td>1.000000</td>\n",
       "      <td>50.000000</td>\n",
       "      <td>4.000000</td>\n",
       "      <td>2.760000e+02</td>\n",
       "      <td>5.160000e+02</td>\n",
       "      <td>0.000000</td>\n",
       "      <td>0.000000</td>\n",
       "      <td>0.000000</td>\n",
       "      <td>0.000000</td>\n",
       "      <td>...</td>\n",
       "      <td>255.000000</td>\n",
       "      <td>1.000000</td>\n",
       "      <td>0.070000</td>\n",
       "      <td>0.060000</td>\n",
       "      <td>0.020000</td>\n",
       "      <td>1.000000</td>\n",
       "      <td>1.000000</td>\n",
       "      <td>0.000000</td>\n",
       "      <td>0.000000</td>\n",
       "      <td>5.000000</td>\n",
       "    </tr>\n",
       "    <tr>\n",
       "      <th>max</th>\n",
       "      <td>42908.00000</td>\n",
       "      <td>3.000000</td>\n",
       "      <td>70.000000</td>\n",
       "      <td>11.000000</td>\n",
       "      <td>1.379964e+09</td>\n",
       "      <td>1.309937e+09</td>\n",
       "      <td>1.000000</td>\n",
       "      <td>3.000000</td>\n",
       "      <td>3.000000</td>\n",
       "      <td>77.000000</td>\n",
       "      <td>...</td>\n",
       "      <td>255.000000</td>\n",
       "      <td>1.000000</td>\n",
       "      <td>1.000000</td>\n",
       "      <td>1.000000</td>\n",
       "      <td>1.000000</td>\n",
       "      <td>1.000000</td>\n",
       "      <td>1.000000</td>\n",
       "      <td>1.000000</td>\n",
       "      <td>1.000000</td>\n",
       "      <td>5.000000</td>\n",
       "    </tr>\n",
       "  </tbody>\n",
       "</table>\n",
       "<p>8 rows × 42 columns</p>\n",
       "</div>"
      ],
      "text/plain": [
       "           duration  protocol_type        service           flag  \\\n",
       "count  125973.00000  125973.000000  125973.000000  125973.000000   \n",
       "mean      287.14465       1.303851      32.086288       2.575179   \n",
       "std      2604.51531       0.670495      16.462574       1.141552   \n",
       "min         0.00000       1.000000       1.000000       1.000000   \n",
       "25%         0.00000       1.000000      20.000000       2.000000   \n",
       "50%         0.00000       1.000000      25.000000       2.000000   \n",
       "75%         0.00000       1.000000      50.000000       4.000000   \n",
       "max     42908.00000       3.000000      70.000000      11.000000   \n",
       "\n",
       "          src_bytes     dst_bytes           land  wrong_fragment  \\\n",
       "count  1.259730e+05  1.259730e+05  125973.000000   125973.000000   \n",
       "mean   4.556674e+04  1.977911e+04       0.000198        0.022687   \n",
       "std    5.870331e+06  4.021269e+06       0.014086        0.253530   \n",
       "min    0.000000e+00  0.000000e+00       0.000000        0.000000   \n",
       "25%    0.000000e+00  0.000000e+00       0.000000        0.000000   \n",
       "50%    4.400000e+01  0.000000e+00       0.000000        0.000000   \n",
       "75%    2.760000e+02  5.160000e+02       0.000000        0.000000   \n",
       "max    1.379964e+09  1.309937e+09       1.000000        3.000000   \n",
       "\n",
       "              urgent            hot  ...  dst_host_srv_count  \\\n",
       "count  125973.000000  125973.000000  ...       125973.000000   \n",
       "mean        0.000111       0.204409  ...          115.653005   \n",
       "std         0.014366       2.149968  ...          110.702741   \n",
       "min         0.000000       0.000000  ...            0.000000   \n",
       "25%         0.000000       0.000000  ...           10.000000   \n",
       "50%         0.000000       0.000000  ...           63.000000   \n",
       "75%         0.000000       0.000000  ...          255.000000   \n",
       "max         3.000000      77.000000  ...          255.000000   \n",
       "\n",
       "       dst_host_same_srv_rate  dst_host_diff_srv_rate  \\\n",
       "count           125973.000000           125973.000000   \n",
       "mean                 0.521242                0.082951   \n",
       "std                  0.448949                0.188922   \n",
       "min                  0.000000                0.000000   \n",
       "25%                  0.050000                0.000000   \n",
       "50%                  0.510000                0.020000   \n",
       "75%                  1.000000                0.070000   \n",
       "max                  1.000000                1.000000   \n",
       "\n",
       "       dst_host_same_src_port_rate  dst_host_srv_diff_host_rate  \\\n",
       "count                125973.000000                125973.000000   \n",
       "mean                      0.148379                     0.032542   \n",
       "std                       0.308997                     0.112564   \n",
       "min                       0.000000                     0.000000   \n",
       "25%                       0.000000                     0.000000   \n",
       "50%                       0.000000                     0.000000   \n",
       "75%                       0.060000                     0.020000   \n",
       "max                       1.000000                     1.000000   \n",
       "\n",
       "       dst_host_serror_rate  dst_host_srv_serror_rate  dst_host_rerror_rate  \\\n",
       "count         125973.000000             125973.000000         125973.000000   \n",
       "mean               0.284452                  0.278485              0.118832   \n",
       "std                0.444784                  0.445669              0.306557   \n",
       "min                0.000000                  0.000000              0.000000   \n",
       "25%                0.000000                  0.000000              0.000000   \n",
       "50%                0.000000                  0.000000              0.000000   \n",
       "75%                1.000000                  1.000000              0.000000   \n",
       "max                1.000000                  1.000000              1.000000   \n",
       "\n",
       "       dst_host_srv_rerror_rate        xAttack  \n",
       "count             125973.000000  125973.000000  \n",
       "mean                   0.120240       3.432124  \n",
       "std                    0.319459       1.871598  \n",
       "min                    0.000000       1.000000  \n",
       "25%                    0.000000       1.000000  \n",
       "50%                    0.000000       5.000000  \n",
       "75%                    0.000000       5.000000  \n",
       "max                    1.000000       5.000000  \n",
       "\n",
       "[8 rows x 42 columns]"
      ]
     },
     "execution_count": 7,
     "metadata": {},
     "output_type": "execute_result"
    }
   ],
   "source": [
    "# View overall data\n",
    "train_set.describe()"
   ]
  },
  {
   "cell_type": "markdown",
   "id": "76ba52d9",
   "metadata": {},
   "source": [
    "## View categorical features "
   ]
  },
  {
   "cell_type": "code",
   "execution_count": 8,
   "id": "609d68fb",
   "metadata": {},
   "outputs": [
    {
     "name": "stdout",
     "output_type": "stream",
     "text": [
      "protocol_type has  3 unique vals. They are: [1 2 3]\n",
      "flag has  10 unique vals. They are: [ 1  2  3  4  5  6  7  8  9 11]\n",
      "land has  2 unique vals. They are: [0 1]\n",
      "wrong_fragment has  3 unique vals. They are: [0 1 3]\n",
      "urgent has  4 unique vals. They are: [0 1 2 3]\n",
      "hot has  28 unique vals. They are: [ 0  1  2  3  4  5  6  7  8  9 10 11 12 14 15 17 18 19 20 21 22 24 25 28\n",
      " 30 33 44 77]\n",
      "num_failed_logins has  6 unique vals. They are: [0 1 2 3 4 5]\n",
      "logged_in has  2 unique vals. They are: [0 1]\n",
      "root_shell has  2 unique vals. They are: [0 1]\n",
      "su_attempted has  3 unique vals. They are: [0 1 2]\n",
      "num_file_creations has  35 unique vals. They are: [ 0  1  2  3  4  5  6  7  8  9 10 11 12 13 14 15 16 17 18 19 20 21 22 23\n",
      " 25 26 27 28 29 33 34 36 38 40 43]\n",
      "num_shells has  3 unique vals. They are: [0 1 2]\n",
      "num_access_files has  10 unique vals. They are: [0 1 2 3 4 5 6 7 8 9]\n",
      "num_outbound_cmds has  1 unique vals. They are: [0]\n",
      "is_host_login has  2 unique vals. They are: [0 1]\n",
      "is_guest_login has  2 unique vals. They are: [0 1]\n",
      "xAttack has  5 unique vals. They are: [1 2 3 4 5]\n"
     ]
    }
   ],
   "source": [
    "for col in train_set:\n",
    "    unique_vals = (train_set[col].unique())\n",
    "    if len(unique_vals) < 50:\n",
    "        print(col, 'has ', len(unique_vals), 'unique vals. They are:', np.sort(unique_vals))"
   ]
  },
  {
   "cell_type": "markdown",
   "id": "91880f9c",
   "metadata": {},
   "source": [
    "## View data types"
   ]
  },
  {
   "cell_type": "code",
   "execution_count": 9,
   "id": "0753e763",
   "metadata": {},
   "outputs": [
    {
     "data": {
      "text/plain": [
       "duration                         int64\n",
       "protocol_type                    int64\n",
       "service                          int64\n",
       "flag                             int64\n",
       "src_bytes                        int64\n",
       "dst_bytes                        int64\n",
       "land                             int64\n",
       "wrong_fragment                   int64\n",
       "urgent                           int64\n",
       "hot                              int64\n",
       "num_failed_logins                int64\n",
       "logged_in                        int64\n",
       "num_compromised                  int64\n",
       "root_shell                       int64\n",
       "su_attempted                     int64\n",
       "num_root                         int64\n",
       "num_file_creations               int64\n",
       "num_shells                       int64\n",
       "num_access_files                 int64\n",
       "num_outbound_cmds                int64\n",
       "is_host_login                    int64\n",
       "is_guest_login                   int64\n",
       "count                            int64\n",
       "srv_count                        int64\n",
       "serror_rate                    float64\n",
       "srv_serror_rate                float64\n",
       "rerror_rate                    float64\n",
       "srv_rerror_rate                float64\n",
       "same_srv_rate                  float64\n",
       "diff_srv_rate                  float64\n",
       "srv_diff_host_rate             float64\n",
       "dst_host_count                   int64\n",
       "dst_host_srv_count               int64\n",
       "dst_host_same_srv_rate         float64\n",
       "dst_host_diff_srv_rate         float64\n",
       "dst_host_same_src_port_rate    float64\n",
       "dst_host_srv_diff_host_rate    float64\n",
       "dst_host_serror_rate           float64\n",
       "dst_host_srv_serror_rate       float64\n",
       "dst_host_rerror_rate           float64\n",
       "dst_host_srv_rerror_rate       float64\n",
       "xAttack                          int64\n",
       "dtype: object"
      ]
     },
     "execution_count": 9,
     "metadata": {},
     "output_type": "execute_result"
    }
   ],
   "source": [
    "train_set.dtypes"
   ]
  },
  {
   "cell_type": "markdown",
   "id": "ecdec268",
   "metadata": {},
   "source": [
    "## Visualizations"
   ]
  },
  {
   "cell_type": "code",
   "execution_count": 10,
   "id": "eb444162",
   "metadata": {
    "scrolled": true
   },
   "outputs": [
    {
     "name": "stdout",
     "output_type": "stream",
     "text": [
      "serror_rate -0.7779543353136086\n",
      "srv_serror_rate -0.7767725719685258\n",
      "same_srv_rate 0.8203949901293894\n",
      "dst_host_same_srv_rate 0.700547657783034\n",
      "dst_host_serror_rate -0.7799095886878171\n",
      "dst_host_srv_serror_rate -0.7827871811434195\n",
      "xAttack 1.0\n"
     ]
    }
   ],
   "source": [
    "# Get features which are correlated with xAttack labels ie correlation magnitude of above 0.7\n",
    "correlations = train_set.corr()\n",
    "for index, row in (correlations[['xAttack']]).iterrows():\n",
    "    correlation_with_xattack = row['xAttack']\n",
    "    if abs(correlation_with_xattack) > 0.7: \n",
    "        print(index, correlation_with_xattack)"
   ]
  },
  {
   "cell_type": "code",
   "execution_count": 11,
   "id": "83a9b515",
   "metadata": {},
   "outputs": [
    {
     "data": {
      "text/plain": [
       "Index(['serror_rate', 'srv_serror_rate', 'same_srv_rate',\n",
       "       'dst_host_same_srv_rate', 'dst_host_serror_rate',\n",
       "       'dst_host_srv_serror_rate', 'xAttack'],\n",
       "      dtype='object')"
      ]
     },
     "execution_count": 11,
     "metadata": {},
     "output_type": "execute_result"
    }
   ],
   "source": [
    "# Extract only the correlated features\n",
    "train_set_corr = pd.read_csv('KDDTrain (Top 6 features).csv')\n",
    "train_set_corr.columns"
   ]
  },
  {
   "cell_type": "code",
   "execution_count": 12,
   "id": "9ea678c0",
   "metadata": {},
   "outputs": [
    {
     "data": {
      "text/html": [
       "<div>\n",
       "<style scoped>\n",
       "    .dataframe tbody tr th:only-of-type {\n",
       "        vertical-align: middle;\n",
       "    }\n",
       "\n",
       "    .dataframe tbody tr th {\n",
       "        vertical-align: top;\n",
       "    }\n",
       "\n",
       "    .dataframe thead th {\n",
       "        text-align: right;\n",
       "    }\n",
       "</style>\n",
       "<table border=\"1\" class=\"dataframe\">\n",
       "  <thead>\n",
       "    <tr style=\"text-align: right;\">\n",
       "      <th></th>\n",
       "      <th>serror_rate</th>\n",
       "      <th>srv_serror_rate</th>\n",
       "      <th>same_srv_rate</th>\n",
       "      <th>dst_host_same_srv_rate</th>\n",
       "      <th>dst_host_serror_rate</th>\n",
       "      <th>dst_host_srv_serror_rate</th>\n",
       "      <th>xAttack</th>\n",
       "    </tr>\n",
       "  </thead>\n",
       "  <tbody>\n",
       "    <tr>\n",
       "      <th>0</th>\n",
       "      <td>0.0</td>\n",
       "      <td>0.0</td>\n",
       "      <td>1.00</td>\n",
       "      <td>0.17</td>\n",
       "      <td>0.00</td>\n",
       "      <td>0.00</td>\n",
       "      <td>5</td>\n",
       "    </tr>\n",
       "    <tr>\n",
       "      <th>1</th>\n",
       "      <td>0.0</td>\n",
       "      <td>0.0</td>\n",
       "      <td>0.08</td>\n",
       "      <td>0.00</td>\n",
       "      <td>0.00</td>\n",
       "      <td>0.00</td>\n",
       "      <td>5</td>\n",
       "    </tr>\n",
       "    <tr>\n",
       "      <th>2</th>\n",
       "      <td>1.0</td>\n",
       "      <td>1.0</td>\n",
       "      <td>0.05</td>\n",
       "      <td>0.10</td>\n",
       "      <td>1.00</td>\n",
       "      <td>1.00</td>\n",
       "      <td>1</td>\n",
       "    </tr>\n",
       "    <tr>\n",
       "      <th>3</th>\n",
       "      <td>0.2</td>\n",
       "      <td>0.2</td>\n",
       "      <td>1.00</td>\n",
       "      <td>1.00</td>\n",
       "      <td>0.03</td>\n",
       "      <td>0.01</td>\n",
       "      <td>5</td>\n",
       "    </tr>\n",
       "    <tr>\n",
       "      <th>4</th>\n",
       "      <td>0.0</td>\n",
       "      <td>0.0</td>\n",
       "      <td>1.00</td>\n",
       "      <td>1.00</td>\n",
       "      <td>0.00</td>\n",
       "      <td>0.00</td>\n",
       "      <td>5</td>\n",
       "    </tr>\n",
       "  </tbody>\n",
       "</table>\n",
       "</div>"
      ],
      "text/plain": [
       "   serror_rate  srv_serror_rate  same_srv_rate  dst_host_same_srv_rate  \\\n",
       "0          0.0              0.0           1.00                    0.17   \n",
       "1          0.0              0.0           0.08                    0.00   \n",
       "2          1.0              1.0           0.05                    0.10   \n",
       "3          0.2              0.2           1.00                    1.00   \n",
       "4          0.0              0.0           1.00                    1.00   \n",
       "\n",
       "   dst_host_serror_rate  dst_host_srv_serror_rate  xAttack  \n",
       "0                  0.00                      0.00        5  \n",
       "1                  0.00                      0.00        5  \n",
       "2                  1.00                      1.00        1  \n",
       "3                  0.03                      0.01        5  \n",
       "4                  0.00                      0.00        5  "
      ]
     },
     "execution_count": 12,
     "metadata": {},
     "output_type": "execute_result"
    }
   ],
   "source": [
    "train_set_corr.head()"
   ]
  },
  {
   "cell_type": "code",
   "execution_count": 13,
   "id": "0d514343",
   "metadata": {},
   "outputs": [
    {
     "data": {
      "image/png": "[encoded data removed]",
      "text/plain": [
       "<Figure size 432x288 with 1 Axes>"
      ]
     },
     "metadata": {
      "needs_background": "light"
     },
     "output_type": "display_data"
    }
   ],
   "source": [
    "ax1 = train_set_corr.plot.scatter(x = 'serror_rate', \n",
    "                                  y = 'xAttack')\n",
    "ax1.title.set_text('Plot of serror_rate vs xAttack Labels')"
   ]
  },
  {
   "cell_type": "code",
   "execution_count": 14,
   "id": "4ab4d3b8",
   "metadata": {},
   "outputs": [
    {
     "data": {
      "image/png": "[encoded data removed]",
      "text/plain": [
       "<Figure size 432x288 with 1 Axes>"
      ]
     },
     "metadata": {
      "needs_background": "light"
     },
     "output_type": "display_data"
    }
   ],
   "source": [
    "ax1 = train_set_corr.plot.scatter(x = 'srv_serror_rate', \n",
    "                                  y = 'xAttack')\n",
    "ax1.title.set_text('Plot of srv_serror_rate vs xAttack Labels')"
   ]
  },
  {
   "cell_type": "code",
   "execution_count": 15,
   "id": "1c246fc1",
   "metadata": {},
   "outputs": [
    {
     "data": {
      "image/png": "[encoded data removed]",
      "text/plain": [
       "<Figure size 432x288 with 1 Axes>"
      ]
     },
     "metadata": {
      "needs_background": "light"
     },
     "output_type": "display_data"
    }
   ],
   "source": [
    "ax1 = train_set_corr.plot.scatter(x = 'same_srv_rate', \n",
    "                                  y = 'xAttack')\n",
    "ax1.title.set_text('Plot of same_srv_rate vs xAttack Labels')"
   ]
  },
  {
   "cell_type": "code",
   "execution_count": 16,
   "id": "2356bbfb",
   "metadata": {},
   "outputs": [
    {
     "data": {
      "image/png": "[encoded data removed]",
      "text/plain": [
       "<Figure size 432x288 with 1 Axes>"
      ]
     },
     "metadata": {
      "needs_background": "light"
     },
     "output_type": "display_data"
    }
   ],
   "source": [
    "ax1 = train_set_corr.plot.scatter(x = 'dst_host_same_srv_rate', \n",
    "                                  y = 'xAttack')\n",
    "ax1.title.set_text('Plot of dst_host_same_srv_rate vs xAttack Labels')"
   ]
  },
  {
   "cell_type": "code",
   "execution_count": 17,
   "id": "89bf6df1",
   "metadata": {},
   "outputs": [
    {
     "data": {
      "image/png": "[encoded data removed]",
      "text/plain": [
       "<Figure size 432x288 with 1 Axes>"
      ]
     },
     "metadata": {
      "needs_background": "light"
     },
     "output_type": "display_data"
    }
   ],
   "source": [
    "ax1 = train_set_corr.plot.scatter(x = 'dst_host_serror_rate', \n",
    "                                  y = 'xAttack')\n",
    "ax1.title.set_text('Plot of dst_host_serror_rate vs xAttack Labels')"
   ]
  },
  {
   "cell_type": "code",
   "execution_count": 18,
   "id": "87cba52c",
   "metadata": {},
   "outputs": [
    {
     "data": {
      "image/png": "[encoded data removed]",
      "text/plain": [
       "<Figure size 432x288 with 1 Axes>"
      ]
     },
     "metadata": {
      "needs_background": "light"
     },
     "output_type": "display_data"
    }
   ],
   "source": [
    "ax1 = train_set_corr.plot.scatter(x = 'dst_host_srv_serror_rate', \n",
    "                                  y = 'xAttack')\n",
    "ax1.title.set_text('Plot of dst_host_srv_serror_rate vs xAttack Labels')"
   ]
  },
  {
   "cell_type": "markdown",
   "id": "e9191cd4",
   "metadata": {},
   "source": [
    "## Combining labels (0-5) into benign (0) vs malicious (1)\n"
   ]
  },
  {
   "cell_type": "code",
   "execution_count": 19,
   "id": "cd2a2596",
   "metadata": {},
   "outputs": [],
   "source": [
    "train_set['xAttack'] = np.where(train_set['xAttack'] == 5, 0, 1)\n",
    "test_set['xAttack'] = np.where(test_set['xAttack'] == 5, 0, 1)"
   ]
  },
  {
   "cell_type": "code",
   "execution_count": 20,
   "id": "89ff3a6d",
   "metadata": {},
   "outputs": [
    {
     "data": {
      "text/html": [
       "<div>\n",
       "<style scoped>\n",
       "    .dataframe tbody tr th:only-of-type {\n",
       "        vertical-align: middle;\n",
       "    }\n",
       "\n",
       "    .dataframe tbody tr th {\n",
       "        vertical-align: top;\n",
       "    }\n",
       "\n",
       "    .dataframe thead th {\n",
       "        text-align: right;\n",
       "    }\n",
       "</style>\n",
       "<table border=\"1\" class=\"dataframe\">\n",
       "  <thead>\n",
       "    <tr style=\"text-align: right;\">\n",
       "      <th></th>\n",
       "      <th>duration</th>\n",
       "      <th>protocol_type</th>\n",
       "      <th>service</th>\n",
       "      <th>flag</th>\n",
       "      <th>src_bytes</th>\n",
       "      <th>dst_bytes</th>\n",
       "      <th>land</th>\n",
       "      <th>wrong_fragment</th>\n",
       "      <th>urgent</th>\n",
       "      <th>hot</th>\n",
       "      <th>...</th>\n",
       "      <th>dst_host_srv_count</th>\n",
       "      <th>dst_host_same_srv_rate</th>\n",
       "      <th>dst_host_diff_srv_rate</th>\n",
       "      <th>dst_host_same_src_port_rate</th>\n",
       "      <th>dst_host_srv_diff_host_rate</th>\n",
       "      <th>dst_host_serror_rate</th>\n",
       "      <th>dst_host_srv_serror_rate</th>\n",
       "      <th>dst_host_rerror_rate</th>\n",
       "      <th>dst_host_srv_rerror_rate</th>\n",
       "      <th>xAttack</th>\n",
       "    </tr>\n",
       "  </thead>\n",
       "  <tbody>\n",
       "    <tr>\n",
       "      <th>0</th>\n",
       "      <td>0</td>\n",
       "      <td>1</td>\n",
       "      <td>20</td>\n",
       "      <td>2</td>\n",
       "      <td>491</td>\n",
       "      <td>0</td>\n",
       "      <td>0</td>\n",
       "      <td>0</td>\n",
       "      <td>0</td>\n",
       "      <td>0</td>\n",
       "      <td>...</td>\n",
       "      <td>25</td>\n",
       "      <td>0.17</td>\n",
       "      <td>0.03</td>\n",
       "      <td>0.17</td>\n",
       "      <td>0.00</td>\n",
       "      <td>0.00</td>\n",
       "      <td>0.00</td>\n",
       "      <td>0.05</td>\n",
       "      <td>0.00</td>\n",
       "      <td>0</td>\n",
       "    </tr>\n",
       "    <tr>\n",
       "      <th>1</th>\n",
       "      <td>0</td>\n",
       "      <td>3</td>\n",
       "      <td>45</td>\n",
       "      <td>2</td>\n",
       "      <td>146</td>\n",
       "      <td>0</td>\n",
       "      <td>0</td>\n",
       "      <td>0</td>\n",
       "      <td>0</td>\n",
       "      <td>0</td>\n",
       "      <td>...</td>\n",
       "      <td>1</td>\n",
       "      <td>0.00</td>\n",
       "      <td>0.60</td>\n",
       "      <td>0.88</td>\n",
       "      <td>0.00</td>\n",
       "      <td>0.00</td>\n",
       "      <td>0.00</td>\n",
       "      <td>0.00</td>\n",
       "      <td>0.00</td>\n",
       "      <td>0</td>\n",
       "    </tr>\n",
       "    <tr>\n",
       "      <th>2</th>\n",
       "      <td>0</td>\n",
       "      <td>1</td>\n",
       "      <td>50</td>\n",
       "      <td>4</td>\n",
       "      <td>0</td>\n",
       "      <td>0</td>\n",
       "      <td>0</td>\n",
       "      <td>0</td>\n",
       "      <td>0</td>\n",
       "      <td>0</td>\n",
       "      <td>...</td>\n",
       "      <td>26</td>\n",
       "      <td>0.10</td>\n",
       "      <td>0.05</td>\n",
       "      <td>0.00</td>\n",
       "      <td>0.00</td>\n",
       "      <td>1.00</td>\n",
       "      <td>1.00</td>\n",
       "      <td>0.00</td>\n",
       "      <td>0.00</td>\n",
       "      <td>1</td>\n",
       "    </tr>\n",
       "    <tr>\n",
       "      <th>3</th>\n",
       "      <td>0</td>\n",
       "      <td>1</td>\n",
       "      <td>25</td>\n",
       "      <td>2</td>\n",
       "      <td>232</td>\n",
       "      <td>8153</td>\n",
       "      <td>0</td>\n",
       "      <td>0</td>\n",
       "      <td>0</td>\n",
       "      <td>0</td>\n",
       "      <td>...</td>\n",
       "      <td>255</td>\n",
       "      <td>1.00</td>\n",
       "      <td>0.00</td>\n",
       "      <td>0.03</td>\n",
       "      <td>0.04</td>\n",
       "      <td>0.03</td>\n",
       "      <td>0.01</td>\n",
       "      <td>0.00</td>\n",
       "      <td>0.01</td>\n",
       "      <td>0</td>\n",
       "    </tr>\n",
       "    <tr>\n",
       "      <th>4</th>\n",
       "      <td>0</td>\n",
       "      <td>1</td>\n",
       "      <td>25</td>\n",
       "      <td>2</td>\n",
       "      <td>199</td>\n",
       "      <td>420</td>\n",
       "      <td>0</td>\n",
       "      <td>0</td>\n",
       "      <td>0</td>\n",
       "      <td>0</td>\n",
       "      <td>...</td>\n",
       "      <td>255</td>\n",
       "      <td>1.00</td>\n",
       "      <td>0.00</td>\n",
       "      <td>0.00</td>\n",
       "      <td>0.00</td>\n",
       "      <td>0.00</td>\n",
       "      <td>0.00</td>\n",
       "      <td>0.00</td>\n",
       "      <td>0.00</td>\n",
       "      <td>0</td>\n",
       "    </tr>\n",
       "  </tbody>\n",
       "</table>\n",
       "<p>5 rows × 42 columns</p>\n",
       "</div>"
      ],
      "text/plain": [
       "   duration  protocol_type  service  flag  src_bytes  dst_bytes  land  \\\n",
       "0         0              1       20     2        491          0     0   \n",
       "1         0              3       45     2        146          0     0   \n",
       "2         0              1       50     4          0          0     0   \n",
       "3         0              1       25     2        232       8153     0   \n",
       "4         0              1       25     2        199        420     0   \n",
       "\n",
       "   wrong_fragment  urgent  hot  ...  dst_host_srv_count  \\\n",
       "0               0       0    0  ...                  25   \n",
       "1               0       0    0  ...                   1   \n",
       "2               0       0    0  ...                  26   \n",
       "3               0       0    0  ...                 255   \n",
       "4               0       0    0  ...                 255   \n",
       "\n",
       "   dst_host_same_srv_rate  dst_host_diff_srv_rate  \\\n",
       "0                    0.17                    0.03   \n",
       "1                    0.00                    0.60   \n",
       "2                    0.10                    0.05   \n",
       "3                    1.00                    0.00   \n",
       "4                    1.00                    0.00   \n",
       "\n",
       "   dst_host_same_src_port_rate  dst_host_srv_diff_host_rate  \\\n",
       "0                         0.17                         0.00   \n",
       "1                         0.88                         0.00   \n",
       "2                         0.00                         0.00   \n",
       "3                         0.03                         0.04   \n",
       "4                         0.00                         0.00   \n",
       "\n",
       "   dst_host_serror_rate  dst_host_srv_serror_rate  dst_host_rerror_rate  \\\n",
       "0                  0.00                      0.00                  0.05   \n",
       "1                  0.00                      0.00                  0.00   \n",
       "2                  1.00                      1.00                  0.00   \n",
       "3                  0.03                      0.01                  0.00   \n",
       "4                  0.00                      0.00                  0.00   \n",
       "\n",
       "   dst_host_srv_rerror_rate  xAttack  \n",
       "0                      0.00        0  \n",
       "1                      0.00        0  \n",
       "2                      0.00        1  \n",
       "3                      0.01        0  \n",
       "4                      0.00        0  \n",
       "\n",
       "[5 rows x 42 columns]"
      ]
     },
     "execution_count": 20,
     "metadata": {},
     "output_type": "execute_result"
    }
   ],
   "source": [
    "train_set.head()"
   ]
  },
  {
   "cell_type": "code",
   "execution_count": 21,
   "id": "ed2cea2e",
   "metadata": {},
   "outputs": [
    {
     "data": {
      "text/plain": [
       "<AxesSubplot:ylabel='None'>"
      ]
     },
     "execution_count": 21,
     "metadata": {},
     "output_type": "execute_result"
    },
    {
     "data": {
      "image/png": "[encoded data removed]",
      "text/plain": [
       "<Figure size 432x288 with 1 Axes>"
      ]
     },
     "metadata": {},
     "output_type": "display_data"
    }
   ],
   "source": [
    "# Get pie chart of xAttack values\n",
    "train_set.groupby('xAttack').size().plot(kind='pie', autopct ='%.2f')"
   ]
  },
  {
   "cell_type": "code",
   "execution_count": 22,
   "id": "4730792f",
   "metadata": {},
   "outputs": [
    {
     "data": {
      "text/plain": [
       "xAttack\n",
       "0          67343\n",
       "1          58630\n",
       "dtype: int64"
      ]
     },
     "execution_count": 22,
     "metadata": {},
     "output_type": "execute_result"
    }
   ],
   "source": [
    "# Print class distributions\n",
    "train_set[['xAttack']].value_counts()"
   ]
  },
  {
   "cell_type": "code",
   "execution_count": 23,
   "id": "3b9f07cd",
   "metadata": {},
   "outputs": [
    {
     "name": "stdout",
     "output_type": "stream",
     "text": [
      "same_srv_rate -0.7519134368764228\n",
      "dst_host_srv_count -0.7225353705394968\n",
      "xAttack 1.0\n"
     ]
    }
   ],
   "source": [
    "# Get features which are correlated with xAttack labels ie correlation magnitude of above 0.7\n",
    "correlations = train_set.corr()\n",
    "for index, row in (correlations[['xAttack']]).iterrows():\n",
    "    correlation_with_xattack = row['xAttack']\n",
    "    if abs(correlation_with_xattack) > 0.7: \n",
    "        print(index, correlation_with_xattack)"
   ]
  },
  {
   "cell_type": "code",
   "execution_count": 24,
   "id": "b19054e6",
   "metadata": {},
   "outputs": [
    {
     "data": {
      "image/png": "[encoded data removed]",
      "text/plain": [
       "<Figure size 432x288 with 1 Axes>"
      ]
     },
     "metadata": {
      "needs_background": "light"
     },
     "output_type": "display_data"
    }
   ],
   "source": [
    "# Plot the 2 vars vs the xAttack labels\n",
    "ax1 = train_set.plot.scatter(x = 'same_srv_rate', \n",
    "                            y = 'xAttack')\n",
    "ax1.title.set_text('Plot of same_srv_rate vs xAttack Labels')"
   ]
  },
  {
   "cell_type": "code",
   "execution_count": 25,
   "id": "50f3cb7e",
   "metadata": {},
   "outputs": [
    {
     "data": {
      "image/png": "[encoded data removed]",
      "text/plain": [
       "<Figure size 432x288 with 1 Axes>"
      ]
     },
     "metadata": {
      "needs_background": "light"
     },
     "output_type": "display_data"
    }
   ],
   "source": [
    "ax1 = train_set.plot.scatter(x = 'dst_host_srv_count', \n",
    "                            y = 'xAttack')\n",
    "ax1.title.set_text('Plot of dst_host_srv_count vs xAttack Labels')"
   ]
  },
  {
   "cell_type": "code",
   "execution_count": 26,
   "id": "2ad9a91e",
   "metadata": {},
   "outputs": [
    {
     "data": {
      "image/png": "[encoded data removed]",
      "text/plain": [
       "<Figure size 432x288 with 2 Axes>"
      ]
     },
     "metadata": {
      "needs_background": "light"
     },
     "output_type": "display_data"
    }
   ],
   "source": [
    "ax2 = train_set.plot.scatter(x='dst_host_srv_count',\n",
    "                      y='same_srv_rate',\n",
    "                      c='xAttack',\n",
    "                      colormap='viridis')\n",
    "ax2.title.set_text('Plot of same_srv_rate vs dst_host_srv_count, colored by xAttack Labels')"
   ]
  },
  {
   "cell_type": "markdown",
   "id": "c745f54a",
   "metadata": {},
   "source": [
    "## Correlation analysis, sorted"
   ]
  },
  {
   "cell_type": "code",
   "execution_count": 27,
   "id": "8819a769",
   "metadata": {},
   "outputs": [
    {
     "name": "stdout",
     "output_type": "stream",
     "text": [
      "logged_in\n",
      "serror_rate\n",
      "same_srv_rate\n",
      "dst_host_srv_count\n",
      "dst_host_same_srv_rate\n",
      "dst_host_serror_rate\n",
      "dst_host_srv_serror_rate\n",
      "xAttack\n"
     ]
    }
   ],
   "source": [
    "# Get correlations of all variables, sorted\n",
    "correlations = train_set.corr()\n",
    "corr = {}\n",
    "for index, row in (correlations[['xAttack']]).iterrows():\n",
    "    correlation_with_xattack = row['xAttack']\n",
    "    corr[index] = correlation_with_xattack\n",
    "    if abs(correlation_with_xattack) > 0.65: \n",
    "        print(index)"
   ]
  },
  {
   "cell_type": "code",
   "execution_count": 28,
   "id": "64f21d58",
   "metadata": {},
   "outputs": [
    {
     "data": {
      "text/plain": [
       "{'same_srv_rate': -0.7519134368764228,\n",
       " 'dst_host_srv_count': -0.7225353705394968,\n",
       " 'dst_host_same_srv_rate': -0.6938028328316116,\n",
       " 'logged_in': -0.6901707395800081,\n",
       " 'protocol_type': -0.1356434214785739,\n",
       " 'srv_diff_host_rate': -0.11937718243603497,\n",
       " 'is_guest_login': -0.03927902588051055,\n",
       " 'num_access_files': -0.03670050588662517,\n",
       " 'su_attempted': -0.022448496646234894,\n",
       " 'num_file_creations': -0.021270729449097338,\n",
       " 'root_shell': -0.02028540195274874,\n",
       " 'hot': -0.013083414309389876,\n",
       " 'num_root': -0.011452491337109728,\n",
       " 'num_compromised': -0.010198327575651513,\n",
       " 'num_shells': -0.009471997356955454,\n",
       " 'num_failed_logins': -0.003755073924083278,\n",
       " 'urgent': -0.002787032403358984,\n",
       " 'is_host_login': -0.002628915972776081,\n",
       " 'srv_count': 0.00077071233139037,\n",
       " 'dst_bytes': 0.004117535029285793,\n",
       " 'src_bytes': 0.0059213227561141345,\n",
       " 'land': 0.007190758994807418,\n",
       " 'duration': 0.048785327423118766,\n",
       " 'dst_host_srv_diff_host_rate': 0.06233233826786508,\n",
       " 'dst_host_same_src_port_rate': 0.09244443089293548,\n",
       " 'wrong_fragment': 0.09590548069944738,\n",
       " 'diff_srv_rate': 0.20365996465884684,\n",
       " 'dst_host_diff_srv_rate': 0.2428979585348561,\n",
       " 'dst_host_rerror_rate': 0.25256272475082076,\n",
       " 'rerror_rate': 0.253397111026147,\n",
       " 'dst_host_srv_rerror_rate': 0.25343015038466377,\n",
       " 'srv_rerror_rate': 0.25350396214434934,\n",
       " 'service': 0.27902341990461976,\n",
       " 'flag': 0.508703806541217,\n",
       " 'num_outbound_cmds': nan,\n",
       " 'dst_host_count': 0.37505209240116494,\n",
       " 'count': 0.5764442653244215,\n",
       " 'srv_serror_rate': 0.6482888315663325,\n",
       " 'serror_rate': 0.6506522402268139,\n",
       " 'dst_host_serror_rate': 0.6518416167164351,\n",
       " 'dst_host_srv_serror_rate': 0.6549854452230888,\n",
       " 'xAttack': 1.0}"
      ]
     },
     "execution_count": 28,
     "metadata": {},
     "output_type": "execute_result"
    }
   ],
   "source": [
    "{k: v for k, v in sorted(corr.items(), key=lambda item: item[1])}"
   ]
  },
  {
   "cell_type": "markdown",
   "id": "1bee1716",
   "metadata": {},
   "source": [
    "## Save dataset of binary labelled data"
   ]
  },
  {
   "cell_type": "code",
   "execution_count": 29,
   "id": "749fa66d",
   "metadata": {},
   "outputs": [],
   "source": [
    "# Save train and test set of binary labels\n",
    "train_set.to_csv('KDDTrain_binary_labels.csv')\n",
    "test_set.to_csv('KDDTest_binary_labels.csv')"
   ]
  },
  {
   "cell_type": "markdown",
   "id": "88b97d93",
   "metadata": {},
   "source": [
    "## Export csv for ANOVA analysis on Excel"
   ]
  },
  {
   "cell_type": "code",
   "execution_count": 30,
   "id": "da0f3ea6",
   "metadata": {},
   "outputs": [],
   "source": [
    "# Define custom function to extract dataframe columns based on feature\n",
    "def get_columns_for_anova(feature): \n",
    "    feature_benign = train_set[train_set['xAttack'] == 0][feature]\n",
    "    feature_malicious = train_set[train_set['xAttack'] == 1][feature]\n",
    "    feature_benign = feature_benign.reset_index(drop = True)\n",
    "    feature_malicious = feature_malicious.reset_index(drop = True)\n",
    "    \n",
    "    num_rows = min(len(feature_benign), len(feature_malicious))\n",
    "    feature_benign = feature_benign.head(num_rows)\n",
    "    feature_malicious = feature_malicious.head(num_rows)\n",
    "    \n",
    "    feature_benign_string, feature_malicious_string = feature + '_benign', feature + '_malicious'\n",
    "    \n",
    "    feature_df = {feature_benign_string: feature_benign, feature_malicious_string: feature_malicious }\n",
    "    feature_df = pd.DataFrame(feature_df)\n",
    "    return feature_df"
   ]
  },
  {
   "cell_type": "code",
   "execution_count": 31,
   "id": "6066456c",
   "metadata": {},
   "outputs": [
    {
     "data": {
      "text/html": [
       "<div>\n",
       "<style scoped>\n",
       "    .dataframe tbody tr th:only-of-type {\n",
       "        vertical-align: middle;\n",
       "    }\n",
       "\n",
       "    .dataframe tbody tr th {\n",
       "        vertical-align: top;\n",
       "    }\n",
       "\n",
       "    .dataframe thead th {\n",
       "        text-align: right;\n",
       "    }\n",
       "</style>\n",
       "<table border=\"1\" class=\"dataframe\">\n",
       "  <thead>\n",
       "    <tr style=\"text-align: right;\">\n",
       "      <th></th>\n",
       "      <th>dst_bytes_benign</th>\n",
       "      <th>dst_bytes_malicious</th>\n",
       "    </tr>\n",
       "  </thead>\n",
       "  <tbody>\n",
       "    <tr>\n",
       "      <th>0</th>\n",
       "      <td>0</td>\n",
       "      <td>0</td>\n",
       "    </tr>\n",
       "    <tr>\n",
       "      <th>1</th>\n",
       "      <td>0</td>\n",
       "      <td>0</td>\n",
       "    </tr>\n",
       "    <tr>\n",
       "      <th>2</th>\n",
       "      <td>8153</td>\n",
       "      <td>0</td>\n",
       "    </tr>\n",
       "    <tr>\n",
       "      <th>3</th>\n",
       "      <td>420</td>\n",
       "      <td>0</td>\n",
       "    </tr>\n",
       "    <tr>\n",
       "      <th>4</th>\n",
       "      <td>2251</td>\n",
       "      <td>0</td>\n",
       "    </tr>\n",
       "  </tbody>\n",
       "</table>\n",
       "</div>"
      ],
      "text/plain": [
       "   dst_bytes_benign  dst_bytes_malicious\n",
       "0                 0                    0\n",
       "1                 0                    0\n",
       "2              8153                    0\n",
       "3               420                    0\n",
       "4              2251                    0"
      ]
     },
     "execution_count": 31,
     "metadata": {},
     "output_type": "execute_result"
    }
   ],
   "source": [
    "dst_bytes_df = get_columns_for_anova('dst_bytes')\n",
    "dst_bytes_df.head()"
   ]
  },
  {
   "cell_type": "code",
   "execution_count": 32,
   "id": "ddeac995",
   "metadata": {},
   "outputs": [
    {
     "data": {
      "text/html": [
       "<div>\n",
       "<style scoped>\n",
       "    .dataframe tbody tr th:only-of-type {\n",
       "        vertical-align: middle;\n",
       "    }\n",
       "\n",
       "    .dataframe tbody tr th {\n",
       "        vertical-align: top;\n",
       "    }\n",
       "\n",
       "    .dataframe thead th {\n",
       "        text-align: right;\n",
       "    }\n",
       "</style>\n",
       "<table border=\"1\" class=\"dataframe\">\n",
       "  <thead>\n",
       "    <tr style=\"text-align: right;\">\n",
       "      <th></th>\n",
       "      <th>dst_host_srv_count_benign</th>\n",
       "      <th>dst_host_srv_count_malicious</th>\n",
       "    </tr>\n",
       "  </thead>\n",
       "  <tbody>\n",
       "    <tr>\n",
       "      <th>0</th>\n",
       "      <td>25</td>\n",
       "      <td>26</td>\n",
       "    </tr>\n",
       "    <tr>\n",
       "      <th>1</th>\n",
       "      <td>1</td>\n",
       "      <td>19</td>\n",
       "    </tr>\n",
       "    <tr>\n",
       "      <th>2</th>\n",
       "      <td>255</td>\n",
       "      <td>9</td>\n",
       "    </tr>\n",
       "    <tr>\n",
       "      <th>3</th>\n",
       "      <td>255</td>\n",
       "      <td>15</td>\n",
       "    </tr>\n",
       "    <tr>\n",
       "      <th>4</th>\n",
       "      <td>219</td>\n",
       "      <td>23</td>\n",
       "    </tr>\n",
       "  </tbody>\n",
       "</table>\n",
       "</div>"
      ],
      "text/plain": [
       "   dst_host_srv_count_benign  dst_host_srv_count_malicious\n",
       "0                         25                            26\n",
       "1                          1                            19\n",
       "2                        255                             9\n",
       "3                        255                            15\n",
       "4                        219                            23"
      ]
     },
     "execution_count": 32,
     "metadata": {},
     "output_type": "execute_result"
    }
   ],
   "source": [
    "# Feature: dst_host_srv_count\n",
    "dst_host_srv_count_df = get_columns_for_anova('dst_host_srv_count')\n",
    "dst_host_srv_count_df.head()"
   ]
  },
  {
   "cell_type": "code",
   "execution_count": 33,
   "id": "e9106218",
   "metadata": {},
   "outputs": [],
   "source": [
    "# Features: logged_in, dst_host_srv_serror_rate\n",
    "logged_in_df = get_columns_for_anova('logged_in')\n",
    "dst_host_srv_serror_rate_df = get_columns_for_anova('dst_host_srv_serror_rate')"
   ]
  },
  {
   "cell_type": "code",
   "execution_count": 34,
   "id": "f93a0d12",
   "metadata": {},
   "outputs": [],
   "source": [
    "# Save dataframes to an excel file \n",
    "with pd.ExcelWriter('anova.xlsx') as writer:  \n",
    "    dst_bytes_df.to_excel(writer, sheet_name='dst_bytes')\n",
    "    dst_host_srv_count_df.to_excel(writer, sheet_name='dst_host_srv_count')\n",
    "    dst_host_srv_serror_rate_df.to_excel(writer, sheet_name='dst_host_srv_serror_rate_df')\n",
    "    logged_in_df.to_excel(writer, sheet_name='logged_in_df')"
   ]
  },
  {
   "cell_type": "markdown",
   "id": "db53d771",
   "metadata": {},
   "source": [
    "## Save top 3 chosen features to csv for parallel coordinates analysis\n",
    "\n",
    "See: https://syntagmatic.github.io/parallel-coordinates/examples/upload.html"
   ]
  },
  {
   "cell_type": "code",
   "execution_count": 35,
   "id": "45df2a63",
   "metadata": {},
   "outputs": [],
   "source": [
    "chosen_features = train_set[['logged_in', 'dst_host_srv_count', 'dst_host_srv_serror_rate', 'xAttack']]\n",
    "chosen_features.to_csv('chosen_features.csv', index = False)"
   ]
  },
  {
   "cell_type": "markdown",
   "id": "acc37e6b",
   "metadata": {},
   "source": [
    "## Combine train and test sets into a single csv for Weka\n",
    "## Only consider our chosen features\n",
    "Chosen features: dst_host_srv_count, logged_in, dst_host_srv_serror_rate\n"
   ]
  },
  {
   "cell_type": "code",
   "execution_count": 36,
   "id": "0802d2a3",
   "metadata": {},
   "outputs": [
    {
     "name": "stdout",
     "output_type": "stream",
     "text": [
      "Test set percentage: 0.15178835950335318\n"
     ]
    }
   ],
   "source": [
    "print('Test set percentage:', len(test_set) / (len(test_set) + len(train_set)))"
   ]
  },
  {
   "cell_type": "code",
   "execution_count": 37,
   "id": "00ddaf7d",
   "metadata": {},
   "outputs": [
    {
     "name": "stdout",
     "output_type": "stream",
     "text": [
      "Total rows: 148516\n"
     ]
    }
   ],
   "source": [
    "combined_dataset = train_set.append(test_set, ignore_index=True)\n",
    "print('Total rows:', len(combined_dataset))"
   ]
  },
  {
   "cell_type": "code",
   "execution_count": 38,
   "id": "5a9b0358",
   "metadata": {},
   "outputs": [
    {
     "data": {
      "text/html": [
       "<div>\n",
       "<style scoped>\n",
       "    .dataframe tbody tr th:only-of-type {\n",
       "        vertical-align: middle;\n",
       "    }\n",
       "\n",
       "    .dataframe tbody tr th {\n",
       "        vertical-align: top;\n",
       "    }\n",
       "\n",
       "    .dataframe thead th {\n",
       "        text-align: right;\n",
       "    }\n",
       "</style>\n",
       "<table border=\"1\" class=\"dataframe\">\n",
       "  <thead>\n",
       "    <tr style=\"text-align: right;\">\n",
       "      <th></th>\n",
       "      <th>duration</th>\n",
       "      <th>protocol_type</th>\n",
       "      <th>service</th>\n",
       "      <th>flag</th>\n",
       "      <th>src_bytes</th>\n",
       "      <th>dst_bytes</th>\n",
       "      <th>land</th>\n",
       "      <th>wrong_fragment</th>\n",
       "      <th>urgent</th>\n",
       "      <th>hot</th>\n",
       "      <th>...</th>\n",
       "      <th>dst_host_srv_count</th>\n",
       "      <th>dst_host_same_srv_rate</th>\n",
       "      <th>dst_host_diff_srv_rate</th>\n",
       "      <th>dst_host_same_src_port_rate</th>\n",
       "      <th>dst_host_srv_diff_host_rate</th>\n",
       "      <th>dst_host_serror_rate</th>\n",
       "      <th>dst_host_srv_serror_rate</th>\n",
       "      <th>dst_host_rerror_rate</th>\n",
       "      <th>dst_host_srv_rerror_rate</th>\n",
       "      <th>xAttack</th>\n",
       "    </tr>\n",
       "  </thead>\n",
       "  <tbody>\n",
       "    <tr>\n",
       "      <th>0</th>\n",
       "      <td>0</td>\n",
       "      <td>1</td>\n",
       "      <td>20</td>\n",
       "      <td>2</td>\n",
       "      <td>491</td>\n",
       "      <td>0</td>\n",
       "      <td>0</td>\n",
       "      <td>0</td>\n",
       "      <td>0</td>\n",
       "      <td>0</td>\n",
       "      <td>...</td>\n",
       "      <td>25</td>\n",
       "      <td>0.17</td>\n",
       "      <td>0.03</td>\n",
       "      <td>0.17</td>\n",
       "      <td>0.00</td>\n",
       "      <td>0.00</td>\n",
       "      <td>0.00</td>\n",
       "      <td>0.05</td>\n",
       "      <td>0.00</td>\n",
       "      <td>benign</td>\n",
       "    </tr>\n",
       "    <tr>\n",
       "      <th>1</th>\n",
       "      <td>0</td>\n",
       "      <td>3</td>\n",
       "      <td>45</td>\n",
       "      <td>2</td>\n",
       "      <td>146</td>\n",
       "      <td>0</td>\n",
       "      <td>0</td>\n",
       "      <td>0</td>\n",
       "      <td>0</td>\n",
       "      <td>0</td>\n",
       "      <td>...</td>\n",
       "      <td>1</td>\n",
       "      <td>0.00</td>\n",
       "      <td>0.60</td>\n",
       "      <td>0.88</td>\n",
       "      <td>0.00</td>\n",
       "      <td>0.00</td>\n",
       "      <td>0.00</td>\n",
       "      <td>0.00</td>\n",
       "      <td>0.00</td>\n",
       "      <td>benign</td>\n",
       "    </tr>\n",
       "    <tr>\n",
       "      <th>2</th>\n",
       "      <td>0</td>\n",
       "      <td>1</td>\n",
       "      <td>50</td>\n",
       "      <td>4</td>\n",
       "      <td>0</td>\n",
       "      <td>0</td>\n",
       "      <td>0</td>\n",
       "      <td>0</td>\n",
       "      <td>0</td>\n",
       "      <td>0</td>\n",
       "      <td>...</td>\n",
       "      <td>26</td>\n",
       "      <td>0.10</td>\n",
       "      <td>0.05</td>\n",
       "      <td>0.00</td>\n",
       "      <td>0.00</td>\n",
       "      <td>1.00</td>\n",
       "      <td>1.00</td>\n",
       "      <td>0.00</td>\n",
       "      <td>0.00</td>\n",
       "      <td>malicious</td>\n",
       "    </tr>\n",
       "    <tr>\n",
       "      <th>3</th>\n",
       "      <td>0</td>\n",
       "      <td>1</td>\n",
       "      <td>25</td>\n",
       "      <td>2</td>\n",
       "      <td>232</td>\n",
       "      <td>8153</td>\n",
       "      <td>0</td>\n",
       "      <td>0</td>\n",
       "      <td>0</td>\n",
       "      <td>0</td>\n",
       "      <td>...</td>\n",
       "      <td>255</td>\n",
       "      <td>1.00</td>\n",
       "      <td>0.00</td>\n",
       "      <td>0.03</td>\n",
       "      <td>0.04</td>\n",
       "      <td>0.03</td>\n",
       "      <td>0.01</td>\n",
       "      <td>0.00</td>\n",
       "      <td>0.01</td>\n",
       "      <td>benign</td>\n",
       "    </tr>\n",
       "    <tr>\n",
       "      <th>4</th>\n",
       "      <td>0</td>\n",
       "      <td>1</td>\n",
       "      <td>25</td>\n",
       "      <td>2</td>\n",
       "      <td>199</td>\n",
       "      <td>420</td>\n",
       "      <td>0</td>\n",
       "      <td>0</td>\n",
       "      <td>0</td>\n",
       "      <td>0</td>\n",
       "      <td>...</td>\n",
       "      <td>255</td>\n",
       "      <td>1.00</td>\n",
       "      <td>0.00</td>\n",
       "      <td>0.00</td>\n",
       "      <td>0.00</td>\n",
       "      <td>0.00</td>\n",
       "      <td>0.00</td>\n",
       "      <td>0.00</td>\n",
       "      <td>0.00</td>\n",
       "      <td>benign</td>\n",
       "    </tr>\n",
       "  </tbody>\n",
       "</table>\n",
       "<p>5 rows × 42 columns</p>\n",
       "</div>"
      ],
      "text/plain": [
       "   duration  protocol_type  service  flag  src_bytes  dst_bytes  land  \\\n",
       "0         0              1       20     2        491          0     0   \n",
       "1         0              3       45     2        146          0     0   \n",
       "2         0              1       50     4          0          0     0   \n",
       "3         0              1       25     2        232       8153     0   \n",
       "4         0              1       25     2        199        420     0   \n",
       "\n",
       "   wrong_fragment  urgent  hot  ...  dst_host_srv_count  \\\n",
       "0               0       0    0  ...                  25   \n",
       "1               0       0    0  ...                   1   \n",
       "2               0       0    0  ...                  26   \n",
       "3               0       0    0  ...                 255   \n",
       "4               0       0    0  ...                 255   \n",
       "\n",
       "   dst_host_same_srv_rate  dst_host_diff_srv_rate  \\\n",
       "0                    0.17                    0.03   \n",
       "1                    0.00                    0.60   \n",
       "2                    0.10                    0.05   \n",
       "3                    1.00                    0.00   \n",
       "4                    1.00                    0.00   \n",
       "\n",
       "   dst_host_same_src_port_rate  dst_host_srv_diff_host_rate  \\\n",
       "0                         0.17                         0.00   \n",
       "1                         0.88                         0.00   \n",
       "2                         0.00                         0.00   \n",
       "3                         0.03                         0.04   \n",
       "4                         0.00                         0.00   \n",
       "\n",
       "   dst_host_serror_rate  dst_host_srv_serror_rate  dst_host_rerror_rate  \\\n",
       "0                  0.00                      0.00                  0.05   \n",
       "1                  0.00                      0.00                  0.00   \n",
       "2                  1.00                      1.00                  0.00   \n",
       "3                  0.03                      0.01                  0.00   \n",
       "4                  0.00                      0.00                  0.00   \n",
       "\n",
       "   dst_host_srv_rerror_rate    xAttack  \n",
       "0                      0.00     benign  \n",
       "1                      0.00     benign  \n",
       "2                      0.00  malicious  \n",
       "3                      0.01     benign  \n",
       "4                      0.00     benign  \n",
       "\n",
       "[5 rows x 42 columns]"
      ]
     },
     "execution_count": 38,
     "metadata": {},
     "output_type": "execute_result"
    }
   ],
   "source": [
    "# Add xAttack yes no labels\n",
    "combined_dataset['xAttack'] = np.where(combined_dataset['xAttack'] == 0, 'benign', 'malicious')\n",
    "combined_dataset.head()"
   ]
  },
  {
   "cell_type": "code",
   "execution_count": 39,
   "id": "410ef79a",
   "metadata": {},
   "outputs": [],
   "source": [
    "# Save train dataset with chosen features\n",
    "chosen_features = combined_dataset[['logged_in', 'dst_host_srv_count', 'dst_host_srv_serror_rate', 'xAttack']]\n",
    "chosen_features.to_csv('chosen_features_weka.csv', index = False)"
   ]
  },
  {
   "cell_type": "markdown",
   "id": "0995c04e",
   "metadata": {},
   "source": [
    "## Implementing J48 decision tree from Weka"
   ]
  },
  {
   "cell_type": "code",
   "execution_count": 40,
   "id": "c55e1358",
   "metadata": {},
   "outputs": [
    {
     "data": {
      "text/html": [
       "<div>\n",
       "<style scoped>\n",
       "    .dataframe tbody tr th:only-of-type {\n",
       "        vertical-align: middle;\n",
       "    }\n",
       "\n",
       "    .dataframe tbody tr th {\n",
       "        vertical-align: top;\n",
       "    }\n",
       "\n",
       "    .dataframe thead th {\n",
       "        text-align: right;\n",
       "    }\n",
       "</style>\n",
       "<table border=\"1\" class=\"dataframe\">\n",
       "  <thead>\n",
       "    <tr style=\"text-align: right;\">\n",
       "      <th></th>\n",
       "      <th>logged_in</th>\n",
       "      <th>dst_host_srv_count</th>\n",
       "      <th>dst_host_srv_serror_rate</th>\n",
       "      <th>xAttack</th>\n",
       "    </tr>\n",
       "  </thead>\n",
       "  <tbody>\n",
       "    <tr>\n",
       "      <th>0</th>\n",
       "      <td>0</td>\n",
       "      <td>25</td>\n",
       "      <td>0.00</td>\n",
       "      <td>benign</td>\n",
       "    </tr>\n",
       "    <tr>\n",
       "      <th>1</th>\n",
       "      <td>0</td>\n",
       "      <td>1</td>\n",
       "      <td>0.00</td>\n",
       "      <td>benign</td>\n",
       "    </tr>\n",
       "    <tr>\n",
       "      <th>2</th>\n",
       "      <td>0</td>\n",
       "      <td>26</td>\n",
       "      <td>1.00</td>\n",
       "      <td>malicious</td>\n",
       "    </tr>\n",
       "    <tr>\n",
       "      <th>3</th>\n",
       "      <td>1</td>\n",
       "      <td>255</td>\n",
       "      <td>0.01</td>\n",
       "      <td>benign</td>\n",
       "    </tr>\n",
       "    <tr>\n",
       "      <th>4</th>\n",
       "      <td>1</td>\n",
       "      <td>255</td>\n",
       "      <td>0.00</td>\n",
       "      <td>benign</td>\n",
       "    </tr>\n",
       "  </tbody>\n",
       "</table>\n",
       "</div>"
      ],
      "text/plain": [
       "   logged_in  dst_host_srv_count  dst_host_srv_serror_rate    xAttack\n",
       "0          0                  25                      0.00     benign\n",
       "1          0                   1                      0.00     benign\n",
       "2          0                  26                      1.00  malicious\n",
       "3          1                 255                      0.01     benign\n",
       "4          1                 255                      0.00     benign"
      ]
     },
     "execution_count": 40,
     "metadata": {},
     "output_type": "execute_result"
    }
   ],
   "source": [
    "# Load dataset\n",
    "dataset = pd.read_csv('chosen_features_weka.csv')\n",
    "dataset.head()"
   ]
  },
  {
   "cell_type": "code",
   "execution_count": 41,
   "id": "e6d0c962",
   "metadata": {},
   "outputs": [],
   "source": [
    "def classification_tree(logged_in, dst_host_srv_count, dst_host_srv_serror_rate):\n",
    "    # Rename variables for easier splitting\n",
    "    log = logged_in\n",
    "    count = dst_host_srv_count \n",
    "    error = dst_host_srv_serror_rate\n",
    "    rate = dst_host_srv_serror_rate\n",
    "    \n",
    "    # Do splitting logic\n",
    "    if log > 0: \n",
    "        if count <= 254: \n",
    "            if count <= 252: \n",
    "                if count <= 203: \n",
    "                    return('benign')\n",
    "                else: #count > 203\n",
    "                    if error <= 0.01:\n",
    "                        return('benign')\n",
    "                    elif error > 0.01:\n",
    "                        if error <= 0.02: \n",
    "                            if count <= 244: \n",
    "                                return('malicious')\n",
    "                            elif count > 244:\n",
    "                                return('benign')\n",
    "                        elif error > 0.02: \n",
    "                            return('benign')\n",
    "            elif count > 252: \n",
    "                if error <= 0: \n",
    "                    return('benign')\n",
    "                elif error > 0: \n",
    "                    if error <= 0.02:\n",
    "                        return('malicious')\n",
    "                    elif error > 0.02: \n",
    "                        if count <= 253: \n",
    "                            return('benign')\n",
    "                        elif count > 253:\n",
    "                            return('malicious')\n",
    "        elif count > 254: \n",
    "            if error <= 0:\n",
    "                return('benign')\n",
    "            elif error > 0:\n",
    "                if error <= 0.02:\n",
    "                    return('benign')\n",
    "                elif error > 0.02: \n",
    "                    if error <= 0.03:\n",
    "                        return('malicious')\n",
    "                    elif error > 0.03: \n",
    "                        if error <= 0.04:\n",
    "                            return('benign')\n",
    "                        elif error > 0.04:\n",
    "                            return('malicious')\n",
    "                        \n",
    "    if log <= 0:\n",
    "        if error <= 0.33: \n",
    "            if count <= 165: \n",
    "                if count <= 20: \n",
    "                    if error <= 0.02:\n",
    "                        return('malicious')\n",
    "                    elif error > 0.02: \n",
    "                        if error <= 0.02: \n",
    "                            return('malicious')\n",
    "                        elif error > 0.02: \n",
    "                            if error <= 0.06: \n",
    "                                return('malicious')\n",
    "                            elif error > 0.06: \n",
    "                                return('benign')\n",
    "                elif count > 20: \n",
    "                    if error <= 0.14:\n",
    "                        if error <= 0:\n",
    "                            if count <= 88:\n",
    "                                return('malicious')\n",
    "                            elif count > 88: \n",
    "                                if count <= 91: \n",
    "                                    if count <= 89:\n",
    "                                        return('malicious')\n",
    "                                    elif count > 89: \n",
    "                                        return('benign')\n",
    "                                if count > 91: \n",
    "                                    if count <= 130:\n",
    "                                        return('malicious')\n",
    "                                    if count > 130: \n",
    "                                        if count <= 131:\n",
    "                                            return('benign')\n",
    "                                        elif count > 131: \n",
    "                                            return('malicious')\n",
    "                        if error > 0:\n",
    "                            if count <= 96: \n",
    "                                if count <= 27: \n",
    "                                    return('benign')\n",
    "                                elif count > 27: \n",
    "                                    if error <= 0.01: \n",
    "                                        return('benign')\n",
    "                                    elif error > 0.01:\n",
    "                                        return('benign')\n",
    "                            if count > 96: \n",
    "                                if error <= 0.02: \n",
    "                                    return('benign')\n",
    "                                elif error > 0.02: \n",
    "                                    if count <= 133 :\n",
    "                                        return('benign')\n",
    "                                    elif count > 133: \n",
    "                                        if error <= 0.03: \n",
    "                                            return('benign')\n",
    "                                        elif error > 0.03:\n",
    "                                            return('malicious')\n",
    "                    elif error > 0.14:\n",
    "                        return('malicious')\n",
    "            elif count > 165: \n",
    "                if error <= 0.02:\n",
    "                    if count <= 254: \n",
    "                        if rate <= 0:\n",
    "                            return('benign')\n",
    "                        elif rate > 0: \n",
    "                            if count <= 250:\n",
    "                                return('benign')\n",
    "                            elif count > 250:\n",
    "                                return('malicious')\n",
    "                    elif count > 254: \n",
    "                        return('benign')\n",
    "                elif error > 0.02: \n",
    "                    return('malicious')\n",
    "        elif error > 0.33:\n",
    "            return('malicious')\n",
    "                        \n",
    "    return('No match found')                    \n",
    "            "
   ]
  },
  {
   "cell_type": "code",
   "execution_count": 42,
   "id": "96d91d64",
   "metadata": {},
   "outputs": [
    {
     "data": {
      "text/html": [
       "<div>\n",
       "<style scoped>\n",
       "    .dataframe tbody tr th:only-of-type {\n",
       "        vertical-align: middle;\n",
       "    }\n",
       "\n",
       "    .dataframe tbody tr th {\n",
       "        vertical-align: top;\n",
       "    }\n",
       "\n",
       "    .dataframe thead th {\n",
       "        text-align: right;\n",
       "    }\n",
       "</style>\n",
       "<table border=\"1\" class=\"dataframe\">\n",
       "  <thead>\n",
       "    <tr style=\"text-align: right;\">\n",
       "      <th></th>\n",
       "      <th>Predicted Benign</th>\n",
       "      <th>Predicted Malicious</th>\n",
       "    </tr>\n",
       "  </thead>\n",
       "  <tbody>\n",
       "    <tr>\n",
       "      <th>Actual Benign</th>\n",
       "      <td>10501</td>\n",
       "      <td>796</td>\n",
       "    </tr>\n",
       "    <tr>\n",
       "      <th>Actual Malicious</th>\n",
       "      <td>1403</td>\n",
       "      <td>9577</td>\n",
       "    </tr>\n",
       "  </tbody>\n",
       "</table>\n",
       "</div>"
      ],
      "text/plain": [
       "                  Predicted Benign  Predicted Malicious\n",
       "Actual Benign                10501                  796\n",
       "Actual Malicious              1403                 9577"
      ]
     },
     "execution_count": 42,
     "metadata": {},
     "output_type": "execute_result"
    }
   ],
   "source": [
    "# Training set is 85% of dataset, test set is 15% of dataset\n",
    "tree_test_set = dataset.sample(int(0.15 * len(dataset)))\n",
    "true_positive, true_negative, false_positive, false_negative = 0, 0, 0, 0\n",
    "\n",
    "for index, row in tree_test_set.iterrows():\n",
    "    logged_in = row['logged_in']\n",
    "    srv_count = row['dst_host_srv_count']\n",
    "    error_rate = row['dst_host_srv_serror_rate']\n",
    "    actual_label = row['xAttack']\n",
    "    \n",
    "    predicted_label = classification_tree(logged_in = logged_in, dst_host_srv_count = srv_count, \n",
    "                                          dst_host_srv_serror_rate = error_rate)\n",
    "    \n",
    "    # Error checking \n",
    "    if predicted_label not in ['malicious', 'benign']: \n",
    "        print(predicted_label)\n",
    "        \n",
    "    # Calculate confusion matrix values\n",
    "    if actual_label == 'malicious' and predicted_label == 'malicious':\n",
    "        true_positive += 1\n",
    "    elif actual_label == 'benign' and predicted_label == 'benign':\n",
    "        true_negative += 1\n",
    "    elif actual_label == 'malicious' and predicted_label == 'benign':\n",
    "        false_negative += 1\n",
    "    elif actual_label == 'benign' and predicted_label == 'malicious':\n",
    "        false_positive += 1\n",
    "    else:\n",
    "        print('error')\n",
    "        \n",
    "# Print confusion matrix\n",
    "data = {'Predicted Benign':[true_negative, false_positive],\n",
    "        'Predicted Malicious':[false_negative, true_positive]}\n",
    "df = pd.DataFrame(data, index =['Actual Benign',\n",
    "                                'Actual Malicious',\n",
    "                               ])\n",
    "df"
   ]
  },
  {
   "cell_type": "code",
   "execution_count": 43,
   "id": "96e14e67",
   "metadata": {},
   "outputs": [
    {
     "name": "stdout",
     "output_type": "stream",
     "text": [
      "Accuracy: 0.9012883242806482\n",
      "Precision: 0.8722222222222222\n",
      "Recall: 0.9232623156271088\n"
     ]
    }
   ],
   "source": [
    "# Print other classification metrics\n",
    "print('Accuracy:', (true_positive + true_negative) / len(tree_test_set))\n",
    "print('Precision:', (true_positive) / (true_positive + false_positive))\n",
    "print('Recall:', (true_positive) / (true_positive + false_negative))"
   ]
  },
  {
   "cell_type": "markdown",
   "id": "aff873ff",
   "metadata": {},
   "source": [
    "## Implementing Naive Bayes from Weka"
   ]
  },
  {
   "cell_type": "code",
   "execution_count": 44,
   "id": "d6f6930c",
   "metadata": {},
   "outputs": [],
   "source": [
    "from math import sqrt\n",
    "from math import pi\n",
    "from math import exp\n",
    "\n",
    "# Read in test set data\n",
    "dataset = pd.read_csv('chosen_features_weka.csv')\n",
    "nb_test_set = dataset.sample(int(0.15 * len(dataset)))\n",
    "\n",
    "# Calculate the Gaussian probability distribution function for x\n",
    "def calculate_probability(x, mean, stdev):\n",
    "    exponent = exp(-((x-mean)**2 / (2 * stdev**2 )))\n",
    "    return (1 / (sqrt(2 * pi) * stdev)) * exponent\n",
    "\n",
    "# Define statistics from Weka\n",
    "weka_stats = {\n",
    "    'class_0_prior': 0.52, 'class_1_prior': 0.48, \n",
    "    \n",
    "    'class_0_logged_in_mean': 0.7165, 'class_0_logged_in_sd': 0.4507, \n",
    "    'class_1_logged_in_mean': 0.0646, 'class_1_logged_in_sd': 0.2458, \n",
    "    \n",
    "    'class_0_count_mean': 193.6543, 'class_0_count_sd': 91.1676, \n",
    "    'class_1_count_mean': 39.4691, 'class_1_count_sd': 66.4627, \n",
    "    \n",
    "    'class_0_error_mean': 0.0056, 'class_0_error_sd': 0.0545, \n",
    "    'class_1_error_mean': 0.5162, 'class_1_error_sd': 0.4953\n",
    "}\n"
   ]
  },
  {
   "cell_type": "code",
   "execution_count": 45,
   "id": "43fa6581",
   "metadata": {},
   "outputs": [],
   "source": [
    "def nb_pred(test_row, weka_stats):\n",
    "    \n",
    "    # Calculate class 0 probability\n",
    "    class_0_prob = weka_stats['class_0_prior'] \n",
    "    class_0_prob *= calculate_probability(test_row['logged_in'], weka_stats['class_0_logged_in_mean'], \n",
    "                                                                  weka_stats['class_0_logged_in_sd'])\n",
    "    class_0_prob *= calculate_probability(test_row['dst_host_srv_count'], weka_stats['class_0_count_mean'], \n",
    "                                                                  weka_stats['class_0_count_sd'])\n",
    "    class_0_prob *= calculate_probability(test_row['dst_host_srv_serror_rate'], weka_stats['class_0_error_mean'], \n",
    "                                                                  weka_stats['class_0_error_sd'])\n",
    "    # Calculate class 1 probability\n",
    "    class_1_prob = weka_stats['class_1_prior'] \n",
    "    class_1_prob *= calculate_probability(test_row['logged_in'], weka_stats['class_1_logged_in_mean'], \n",
    "                                                                  weka_stats['class_1_logged_in_sd'])\n",
    "    class_1_prob *= calculate_probability(test_row['dst_host_srv_count'], weka_stats['class_1_count_mean'], \n",
    "                                                                  weka_stats['class_1_count_sd'])\n",
    "    class_1_prob *= calculate_probability(test_row['dst_host_srv_serror_rate'], weka_stats['class_1_error_mean'], \n",
    "                                                                  weka_stats['class_1_error_sd'])\n",
    "    # Return classification\n",
    "    if class_0_prob > class_1_prob: \n",
    "        return('benign')\n",
    "    else:\n",
    "        return('malicious')"
   ]
  },
  {
   "cell_type": "code",
   "execution_count": 46,
   "id": "7701e0ed",
   "metadata": {},
   "outputs": [
    {
     "data": {
      "text/plain": [
       "22277"
      ]
     },
     "execution_count": 46,
     "metadata": {},
     "output_type": "execute_result"
    }
   ],
   "source": [
    "len(nb_test_set)"
   ]
  },
  {
   "cell_type": "code",
   "execution_count": 47,
   "id": "3442beef",
   "metadata": {},
   "outputs": [
    {
     "data": {
      "text/html": [
       "<div>\n",
       "<style scoped>\n",
       "    .dataframe tbody tr th:only-of-type {\n",
       "        vertical-align: middle;\n",
       "    }\n",
       "\n",
       "    .dataframe tbody tr th {\n",
       "        vertical-align: top;\n",
       "    }\n",
       "\n",
       "    .dataframe thead th {\n",
       "        text-align: right;\n",
       "    }\n",
       "</style>\n",
       "<table border=\"1\" class=\"dataframe\">\n",
       "  <thead>\n",
       "    <tr style=\"text-align: right;\">\n",
       "      <th></th>\n",
       "      <th>Predicted Benign</th>\n",
       "      <th>Predicted Malicious</th>\n",
       "    </tr>\n",
       "  </thead>\n",
       "  <tbody>\n",
       "    <tr>\n",
       "      <th>Actual Benign</th>\n",
       "      <td>10611</td>\n",
       "      <td>1264</td>\n",
       "    </tr>\n",
       "    <tr>\n",
       "      <th>Actual Malicious</th>\n",
       "      <td>1293</td>\n",
       "      <td>9109</td>\n",
       "    </tr>\n",
       "  </tbody>\n",
       "</table>\n",
       "</div>"
      ],
      "text/plain": [
       "                  Predicted Benign  Predicted Malicious\n",
       "Actual Benign                10611                 1264\n",
       "Actual Malicious              1293                 9109"
      ]
     },
     "execution_count": 47,
     "metadata": {},
     "output_type": "execute_result"
    }
   ],
   "source": [
    "true_positive, true_negative, false_positive, false_negative = 0, 0, 0, 0\n",
    "\n",
    "for index, row in nb_test_set.iterrows():\n",
    "    actual_label = row['xAttack']\n",
    "    predicted_label = nb_pred(test_row = row, weka_stats = weka_stats)\n",
    "    \n",
    "    # Error checking \n",
    "    if predicted_label not in ['malicious', 'benign']: \n",
    "        print(predicted_label)\n",
    "        \n",
    "    # Calculate confusion matrix values\n",
    "    if actual_label == 'malicious' and predicted_label == 'malicious':\n",
    "        true_positive += 1\n",
    "    elif actual_label == 'benign' and predicted_label == 'benign':\n",
    "        true_negative += 1\n",
    "    elif actual_label == 'malicious' and predicted_label == 'benign':\n",
    "        false_negative += 1\n",
    "    elif actual_label == 'benign' and predicted_label == 'malicious':\n",
    "        false_positive += 1\n",
    "    else:\n",
    "        print('error')\n",
    "        \n",
    "# Print confusion matrix\n",
    "data = {'Predicted Benign':[true_negative, false_positive],\n",
    "        'Predicted Malicious':[false_negative, true_positive]}\n",
    "df = pd.DataFrame(data, index =['Actual Benign',\n",
    "                                'Actual Malicious',\n",
    "                               ])\n",
    "df"
   ]
  },
  {
   "cell_type": "code",
   "execution_count": 48,
   "id": "4d0fb24e",
   "metadata": {},
   "outputs": [
    {
     "name": "stdout",
     "output_type": "stream",
     "text": [
      "Accuracy: 0.885217937783364\n",
      "Precision: 0.8756969813497404\n",
      "Recall: 0.8781451846139015\n"
     ]
    }
   ],
   "source": [
    "# Print other classification metrics\n",
    "print('Accuracy:', (true_positive + true_negative) / len(nb_test_set))\n",
    "print('Precision:', (true_positive) / (true_positive + false_positive))\n",
    "print('Recall:', (true_positive) / (true_positive + false_negative))"
   ]
  },
  {
   "cell_type": "markdown",
   "id": "0a6f2662",
   "metadata": {},
   "source": [
    "## Implementing Multi Layer Perceptron from Weka"
   ]
  },
  {
   "cell_type": "code",
   "execution_count": 88,
   "id": "fcbc907d",
   "metadata": {},
   "outputs": [
    {
     "data": {
      "text/html": [
       "<div>\n",
       "<style scoped>\n",
       "    .dataframe tbody tr th:only-of-type {\n",
       "        vertical-align: middle;\n",
       "    }\n",
       "\n",
       "    .dataframe tbody tr th {\n",
       "        vertical-align: top;\n",
       "    }\n",
       "\n",
       "    .dataframe thead th {\n",
       "        text-align: right;\n",
       "    }\n",
       "</style>\n",
       "<table border=\"1\" class=\"dataframe\">\n",
       "  <thead>\n",
       "    <tr style=\"text-align: right;\">\n",
       "      <th></th>\n",
       "      <th>logged_in</th>\n",
       "      <th>dst_host_srv_count</th>\n",
       "      <th>dst_host_srv_serror_rate</th>\n",
       "      <th>xAttack</th>\n",
       "    </tr>\n",
       "  </thead>\n",
       "  <tbody>\n",
       "    <tr>\n",
       "      <th>99526</th>\n",
       "      <td>1.0</td>\n",
       "      <td>0.050980</td>\n",
       "      <td>0.00</td>\n",
       "      <td>malicious</td>\n",
       "    </tr>\n",
       "    <tr>\n",
       "      <th>99300</th>\n",
       "      <td>0.0</td>\n",
       "      <td>0.090196</td>\n",
       "      <td>1.00</td>\n",
       "      <td>malicious</td>\n",
       "    </tr>\n",
       "    <tr>\n",
       "      <th>65274</th>\n",
       "      <td>1.0</td>\n",
       "      <td>1.000000</td>\n",
       "      <td>0.01</td>\n",
       "      <td>benign</td>\n",
       "    </tr>\n",
       "    <tr>\n",
       "      <th>95661</th>\n",
       "      <td>0.0</td>\n",
       "      <td>0.756863</td>\n",
       "      <td>0.00</td>\n",
       "      <td>benign</td>\n",
       "    </tr>\n",
       "    <tr>\n",
       "      <th>99593</th>\n",
       "      <td>1.0</td>\n",
       "      <td>1.000000</td>\n",
       "      <td>0.00</td>\n",
       "      <td>benign</td>\n",
       "    </tr>\n",
       "  </tbody>\n",
       "</table>\n",
       "</div>"
      ],
      "text/plain": [
       "       logged_in  dst_host_srv_count  dst_host_srv_serror_rate    xAttack\n",
       "99526        1.0            0.050980                      0.00  malicious\n",
       "99300        0.0            0.090196                      1.00  malicious\n",
       "65274        1.0            1.000000                      0.01     benign\n",
       "95661        0.0            0.756863                      0.00     benign\n",
       "99593        1.0            1.000000                      0.00     benign"
      ]
     },
     "execution_count": 88,
     "metadata": {},
     "output_type": "execute_result"
    }
   ],
   "source": [
    "# Read in test set data\n",
    "dataset = pd.read_csv('chosen_features_weka.csv')\n",
    "\n",
    "# Normalize dataset\n",
    "from sklearn import preprocessing\n",
    "scaler = preprocessing.MinMaxScaler()\n",
    "dataset[['logged_in', 'dst_host_srv_count', 'dst_host_srv_serror_rate']] = scaler.fit_transform(dataset[['logged_in', 'dst_host_srv_count', 'dst_host_srv_serror_rate']])\n",
    "\n",
    "# Extract test set\n",
    "mlp_test_set = dataset.sample(int(0.15 * len(dataset)))\n",
    "mlp_test_set.head()"
   ]
  },
  {
   "cell_type": "code",
   "execution_count": 89,
   "id": "4220b811",
   "metadata": {},
   "outputs": [],
   "source": [
    "from scipy.stats import logistic\n",
    "\n",
    "def logistic_function(x):\n",
    "    return (logistic.cdf(x))\n",
    "\n",
    "def mlp_classifier(row): \n",
    "    log_in, count, error = row['logged_in'], row['dst_host_srv_count'], row['dst_host_srv_serror_rate']\n",
    "\n",
    "    node_2 = -6.178574965522042 + (-2.1528845325622834 * log_in) + (-2.78772303592114 * count) + (-5.280187278884462 * error)\n",
    "    node_3 = -8.399289908252548 + (-42.89292787638223 * log_in) + (17.919887555684497 * count) + (56.427914833209606 * error)\n",
    "\n",
    "    node_2 = logistic_function(node_2)\n",
    "    node_3 = logistic_function(node_3)\n",
    "\n",
    "    node_0 = 2.9386866537532312 + (-3.5497231078100104 * node_2) + (-8.42281183346259 * node_3)\n",
    "    node_1 = -2.9386866537532312 + (3.5497231078100104 * node_2) + (8.422811833462587 * node_3)\n",
    "\n",
    "    node_0 = logistic_function(node_0)\n",
    "    node_1 = logistic_function(node_1)\n",
    "    \n",
    "    if node_0 > node_1:\n",
    "        return('benign')\n",
    "    else:\n",
    "        return('malicious')"
   ]
  },
  {
   "cell_type": "code",
   "execution_count": 90,
   "id": "0f9ede40",
   "metadata": {},
   "outputs": [
    {
     "data": {
      "text/html": [
       "<div>\n",
       "<style scoped>\n",
       "    .dataframe tbody tr th:only-of-type {\n",
       "        vertical-align: middle;\n",
       "    }\n",
       "\n",
       "    .dataframe tbody tr th {\n",
       "        vertical-align: top;\n",
       "    }\n",
       "\n",
       "    .dataframe thead th {\n",
       "        text-align: right;\n",
       "    }\n",
       "</style>\n",
       "<table border=\"1\" class=\"dataframe\">\n",
       "  <thead>\n",
       "    <tr style=\"text-align: right;\">\n",
       "      <th></th>\n",
       "      <th>Predicted Benign</th>\n",
       "      <th>Predicted Malicious</th>\n",
       "    </tr>\n",
       "  </thead>\n",
       "  <tbody>\n",
       "    <tr>\n",
       "      <th>Actual Benign</th>\n",
       "      <td>9331</td>\n",
       "      <td>4302</td>\n",
       "    </tr>\n",
       "    <tr>\n",
       "      <th>Actual Malicious</th>\n",
       "      <td>2165</td>\n",
       "      <td>6479</td>\n",
       "    </tr>\n",
       "  </tbody>\n",
       "</table>\n",
       "</div>"
      ],
      "text/plain": [
       "                  Predicted Benign  Predicted Malicious\n",
       "Actual Benign                 9331                 4302\n",
       "Actual Malicious              2165                 6479"
      ]
     },
     "execution_count": 90,
     "metadata": {},
     "output_type": "execute_result"
    }
   ],
   "source": [
    "true_positive, true_negative, false_positive, false_negative = 0, 0, 0, 0\n",
    "\n",
    "for index, row in mlp_test_set.iterrows():\n",
    "    actual_label = row['xAttack']\n",
    "    predicted_label = mlp_classifier(row)\n",
    "    \n",
    "    # Error checking \n",
    "    if predicted_label not in ['malicious', 'benign']: \n",
    "        print(predicted_label)\n",
    "        \n",
    "    # Calculate confusion matrix values\n",
    "    if actual_label == 'malicious' and predicted_label == 'malicious':\n",
    "        true_positive += 1\n",
    "    elif actual_label == 'benign' and predicted_label == 'benign':\n",
    "        true_negative += 1\n",
    "    elif actual_label == 'malicious' and predicted_label == 'benign':\n",
    "        false_negative += 1\n",
    "    elif actual_label == 'benign' and predicted_label == 'malicious':\n",
    "        false_positive += 1\n",
    "    else:\n",
    "        print('error')\n",
    "        \n",
    "# Print confusion matrix\n",
    "data = {'Predicted Benign':[true_negative, false_positive],\n",
    "        'Predicted Malicious':[false_negative, true_positive]}\n",
    "df = pd.DataFrame(data, index =['Actual Benign',\n",
    "                                'Actual Malicious',\n",
    "                               ])\n",
    "df"
   ]
  },
  {
   "cell_type": "code",
   "execution_count": 91,
   "id": "90145182",
   "metadata": {},
   "outputs": [
    {
     "name": "stdout",
     "output_type": "stream",
     "text": [
      "Accuracy: 0.7097005880504557\n",
      "Precision: 0.749537251272559\n",
      "Recall: 0.6009646600500881\n"
     ]
    }
   ],
   "source": [
    "# Print other classification metrics\n",
    "print('Accuracy:', (true_positive + true_negative) / len(mlp_test_set))\n",
    "print('Precision:', (true_positive) / (true_positive + false_positive))\n",
    "print('Recall:', (true_positive) / (true_positive + false_negative))"
   ]
  },
  {
   "cell_type": "markdown",
   "id": "d0945bfa",
   "metadata": {},
   "source": [
    "## Recurrent Neural Network (See Google Colab Notebook)"
   ]
  }
 ],
 "metadata": {
  "kernelspec": {
   "display_name": "Python 3 (ipykernel)",
   "language": "python",
   "name": "python3"
  },
  "language_info": {
   "codemirror_mode": {
    "name": "ipython",
    "version": 3
   },
   "file_extension": ".py",
   "mimetype": "text/x-python",
   "name": "python",
   "nbconvert_exporter": "python",
   "pygments_lexer": "ipython3",
   "version": "3.9.7"
  }
 },
 "nbformat": 4,
 "nbformat_minor": 5
}
