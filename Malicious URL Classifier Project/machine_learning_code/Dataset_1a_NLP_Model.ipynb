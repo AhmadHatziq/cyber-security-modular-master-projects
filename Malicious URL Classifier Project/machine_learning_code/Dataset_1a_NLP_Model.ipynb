{
 "cells": [
  {
   "cell_type": "markdown",
   "id": "bb729ca7",
   "metadata": {},
   "source": [
    "This notebook will: \n",
    "\n",
    "1. Extract the 'content' column for dataset 1.\n",
    "2. Load the pre-trained embedder network.\n",
    "3. Create a neural network and implant the embedder network inside. \n",
    "4. Train the neural network NLP model on the 'content' strings. \n",
    "5. Save the model to disk.\n",
    "\n",
    "### Load libraries and check GPU settings"
   ]
  },
  {
   "cell_type": "code",
   "execution_count": 1,
   "id": "94e3e503",
   "metadata": {},
   "outputs": [],
   "source": [
    "# Common imports\n",
    "import pandas as pd\n",
    "import numpy as np\n",
    "import time\n",
    "import os\n",
    "import tensorflow as tf\n",
    "import tensorflow_hub as hub\n",
    "from tensorflow import keras\n",
    "\n",
    "# Set working directory \n",
    "folder = r'C:\\Users\\hatzi\\Documents\\SUTD\\Systems Security Project\\Datasets\\Dataset of Malicious and Benign Webpages'\n",
    "os.chdir(folder)"
   ]
  },
  {
   "cell_type": "markdown",
   "id": "4076db8e",
   "metadata": {},
   "source": [
    "Check if GPU is available for tensorflow"
   ]
  },
  {
   "cell_type": "code",
   "execution_count": 2,
   "id": "aec0c0f6",
   "metadata": {},
   "outputs": [
    {
     "name": "stdout",
     "output_type": "stream",
     "text": [
      "WARNING:tensorflow:From C:\\Users\\hatzi\\AppData\\Local\\Temp/ipykernel_8896/337460670.py:1: is_gpu_available (from tensorflow.python.framework.test_util) is deprecated and will be removed in a future version.\n",
      "Instructions for updating:\n",
      "Use `tf.config.list_physical_devices('GPU')` instead.\n"
     ]
    },
    {
     "data": {
      "text/plain": [
       "True"
      ]
     },
     "execution_count": 2,
     "metadata": {},
     "output_type": "execute_result"
    }
   ],
   "source": [
    "tf.test.is_gpu_available()"
   ]
  },
  {
   "cell_type": "code",
   "execution_count": 3,
   "id": "11db5110",
   "metadata": {},
   "outputs": [
    {
     "name": "stdout",
     "output_type": "stream",
     "text": [
      "Num GPUs Available:  1\n"
     ]
    }
   ],
   "source": [
    "print(\"Num GPUs Available: \", len(tf.config.list_physical_devices('GPU')))"
   ]
  },
  {
   "cell_type": "code",
   "execution_count": 5,
   "id": "00e5dfd8",
   "metadata": {},
   "outputs": [
    {
     "data": {
      "text/plain": [
       "<tf.Tensor: shape=(2, 20), dtype=float32, numpy=\n",
       "array([[ 0.8666395 ,  0.35917717,  0.00579667,  0.681002  , -0.54226625,\n",
       "         0.22343189, -0.38796625,  0.62195706,  0.22117122, -0.48538068,\n",
       "        -1.2674141 ,  0.886369  , -0.32849073, -0.13924702, -0.53327686,\n",
       "         0.5739708 , -0.05905761,  0.13629246, -1.1718255 , -0.31494334],\n",
       "       [ 0.9602181 ,  0.62520486,  0.06261905,  0.37425604,  0.24782333,\n",
       "        -0.39351934, -0.7418429 ,  0.56599647, -0.26197797, -0.69016844,\n",
       "        -0.76565284,  0.71412426, -0.4537978 , -0.50701594, -0.8499377 ,\n",
       "         0.8917156 , -0.30278975,  0.2149126 , -1.1098894 , -0.46719775]],\n",
       "      dtype=float32)>"
      ]
     },
     "execution_count": 5,
     "metadata": {},
     "output_type": "execute_result"
    }
   ],
   "source": [
    "# Test pre-trained embeddings\n",
    "import tensorflow_hub as hub\n",
    "\n",
    "embed = hub.load(\"https://tfhub.dev/google/tf2-preview/gnews-swivel-20dim/1\")\n",
    "embeddings = embed([\"cat is on the mat\", \"dog is in the fog\"])\n",
    "embeddings"
   ]
  },
  {
   "cell_type": "code",
   "execution_count": 11,
   "id": "308a890f",
   "metadata": {},
   "outputs": [
    {
     "name": "stdout",
     "output_type": "stream",
     "text": [
      "Difference: -1.2328589\n"
     ]
    }
   ],
   "source": [
    "print('Difference:',np.sum(embeddings[1] - embeddings[0]))"
   ]
  },
  {
   "cell_type": "markdown",
   "id": "e62339d7",
   "metadata": {},
   "source": [
    "### Load Dataset"
   ]
  },
  {
   "cell_type": "code",
   "execution_count": 4,
   "id": "6b22b465",
   "metadata": {},
   "outputs": [
    {
     "name": "stdout",
     "output_type": "stream",
     "text": [
      "Train dataset length 1200000\n",
      "Test dataset legnth 361934\n"
     ]
    }
   ],
   "source": [
    "# Load Datasets\n",
    "def loadDataset(file_name):\n",
    "    df = pd.read_csv(file_name,engine = 'python')\n",
    "    return df\n",
    "\n",
    "df_train = loadDataset(\"Webpages_Classification_train_data.csv\")\n",
    "df_test = loadDataset(\"Webpages_Classification_test_data.csv\")\n",
    "\n",
    "print('Train dataset length', len(df_train))\n",
    "print('Test dataset legnth', len(df_test))"
   ]
  },
  {
   "cell_type": "code",
   "execution_count": 5,
   "id": "7bf946db",
   "metadata": {},
   "outputs": [
    {
     "data": {
      "text/html": [
       "<div>\n",
       "<style scoped>\n",
       "    .dataframe tbody tr th:only-of-type {\n",
       "        vertical-align: middle;\n",
       "    }\n",
       "\n",
       "    .dataframe tbody tr th {\n",
       "        vertical-align: top;\n",
       "    }\n",
       "\n",
       "    .dataframe thead th {\n",
       "        text-align: right;\n",
       "    }\n",
       "</style>\n",
       "<table border=\"1\" class=\"dataframe\">\n",
       "  <thead>\n",
       "    <tr style=\"text-align: right;\">\n",
       "      <th></th>\n",
       "      <th>Unnamed: 0</th>\n",
       "      <th>url</th>\n",
       "      <th>url_len</th>\n",
       "      <th>ip_add</th>\n",
       "      <th>geo_loc</th>\n",
       "      <th>tld</th>\n",
       "      <th>who_is</th>\n",
       "      <th>https</th>\n",
       "      <th>js_len</th>\n",
       "      <th>js_obf_len</th>\n",
       "      <th>content</th>\n",
       "      <th>label</th>\n",
       "    </tr>\n",
       "  </thead>\n",
       "  <tbody>\n",
       "    <tr>\n",
       "      <th>0</th>\n",
       "      <td>0</td>\n",
       "      <td>http://members.tripod.com/russiastation/</td>\n",
       "      <td>40</td>\n",
       "      <td>42.77.221.155</td>\n",
       "      <td>Taiwan</td>\n",
       "      <td>com</td>\n",
       "      <td>complete</td>\n",
       "      <td>yes</td>\n",
       "      <td>58.0</td>\n",
       "      <td>0.0</td>\n",
       "      <td>Named themselves charged particles in a manly ...</td>\n",
       "      <td>good</td>\n",
       "    </tr>\n",
       "    <tr>\n",
       "      <th>1</th>\n",
       "      <td>1</td>\n",
       "      <td>http://www.ddj.com/cpp/184403822</td>\n",
       "      <td>32</td>\n",
       "      <td>3.211.202.180</td>\n",
       "      <td>United States</td>\n",
       "      <td>com</td>\n",
       "      <td>complete</td>\n",
       "      <td>yes</td>\n",
       "      <td>52.5</td>\n",
       "      <td>0.0</td>\n",
       "      <td>And filipino field \\n \\n \\n \\n \\n \\n \\n \\n the...</td>\n",
       "      <td>good</td>\n",
       "    </tr>\n",
       "    <tr>\n",
       "      <th>2</th>\n",
       "      <td>2</td>\n",
       "      <td>http://www.naef-usa.com/</td>\n",
       "      <td>24</td>\n",
       "      <td>24.232.54.41</td>\n",
       "      <td>Argentina</td>\n",
       "      <td>com</td>\n",
       "      <td>complete</td>\n",
       "      <td>yes</td>\n",
       "      <td>103.5</td>\n",
       "      <td>0.0</td>\n",
       "      <td>Took in cognitivism, whose adherents argue for...</td>\n",
       "      <td>good</td>\n",
       "    </tr>\n",
       "    <tr>\n",
       "      <th>3</th>\n",
       "      <td>3</td>\n",
       "      <td>http://www.ff-b2b.de/</td>\n",
       "      <td>21</td>\n",
       "      <td>147.22.38.45</td>\n",
       "      <td>United States</td>\n",
       "      <td>de</td>\n",
       "      <td>incomplete</td>\n",
       "      <td>no</td>\n",
       "      <td>720.0</td>\n",
       "      <td>532.8</td>\n",
       "      <td>fire cumshot sodomize footaction tortur failed...</td>\n",
       "      <td>bad</td>\n",
       "    </tr>\n",
       "    <tr>\n",
       "      <th>4</th>\n",
       "      <td>4</td>\n",
       "      <td>http://us.imdb.com/title/tt0176269/</td>\n",
       "      <td>35</td>\n",
       "      <td>205.30.239.85</td>\n",
       "      <td>United States</td>\n",
       "      <td>com</td>\n",
       "      <td>complete</td>\n",
       "      <td>yes</td>\n",
       "      <td>46.5</td>\n",
       "      <td>0.0</td>\n",
       "      <td>Levant, also monsignor georges. In 1800, lists...</td>\n",
       "      <td>good</td>\n",
       "    </tr>\n",
       "  </tbody>\n",
       "</table>\n",
       "</div>"
      ],
      "text/plain": [
       "   Unnamed: 0                                       url  url_len  \\\n",
       "0           0  http://members.tripod.com/russiastation/       40   \n",
       "1           1          http://www.ddj.com/cpp/184403822       32   \n",
       "2           2                  http://www.naef-usa.com/       24   \n",
       "3           3                     http://www.ff-b2b.de/       21   \n",
       "4           4       http://us.imdb.com/title/tt0176269/       35   \n",
       "\n",
       "          ip_add        geo_loc  tld      who_is https  js_len  js_obf_len  \\\n",
       "0  42.77.221.155         Taiwan  com    complete   yes    58.0         0.0   \n",
       "1  3.211.202.180  United States  com    complete   yes    52.5         0.0   \n",
       "2   24.232.54.41      Argentina  com    complete   yes   103.5         0.0   \n",
       "3   147.22.38.45  United States   de  incomplete    no   720.0       532.8   \n",
       "4  205.30.239.85  United States  com    complete   yes    46.5         0.0   \n",
       "\n",
       "                                             content label  \n",
       "0  Named themselves charged particles in a manly ...  good  \n",
       "1  And filipino field \\n \\n \\n \\n \\n \\n \\n \\n the...  good  \n",
       "2  Took in cognitivism, whose adherents argue for...  good  \n",
       "3  fire cumshot sodomize footaction tortur failed...   bad  \n",
       "4  Levant, also monsignor georges. In 1800, lists...  good  "
      ]
     },
     "execution_count": 5,
     "metadata": {},
     "output_type": "execute_result"
    }
   ],
   "source": [
    "df_train.head()"
   ]
  },
  {
   "cell_type": "code",
   "execution_count": 58,
   "id": "510ff6e9",
   "metadata": {},
   "outputs": [
    {
     "data": {
      "text/html": [
       "<div>\n",
       "<style scoped>\n",
       "    .dataframe tbody tr th:only-of-type {\n",
       "        vertical-align: middle;\n",
       "    }\n",
       "\n",
       "    .dataframe tbody tr th {\n",
       "        vertical-align: top;\n",
       "    }\n",
       "\n",
       "    .dataframe thead th {\n",
       "        text-align: right;\n",
       "    }\n",
       "</style>\n",
       "<table border=\"1\" class=\"dataframe\">\n",
       "  <thead>\n",
       "    <tr style=\"text-align: right;\">\n",
       "      <th></th>\n",
       "      <th>url</th>\n",
       "      <th>content</th>\n",
       "      <th>label</th>\n",
       "    </tr>\n",
       "  </thead>\n",
       "  <tbody>\n",
       "    <tr>\n",
       "      <th>0</th>\n",
       "      <td>http://members.tripod.com/russiastation/</td>\n",
       "      <td>Named themselves charged particles in a manly ...</td>\n",
       "      <td>good</td>\n",
       "    </tr>\n",
       "    <tr>\n",
       "      <th>1</th>\n",
       "      <td>http://www.ddj.com/cpp/184403822</td>\n",
       "      <td>And filipino field \\n \\n \\n \\n \\n \\n \\n \\n the...</td>\n",
       "      <td>good</td>\n",
       "    </tr>\n",
       "    <tr>\n",
       "      <th>2</th>\n",
       "      <td>http://www.naef-usa.com/</td>\n",
       "      <td>Took in cognitivism, whose adherents argue for...</td>\n",
       "      <td>good</td>\n",
       "    </tr>\n",
       "    <tr>\n",
       "      <th>3</th>\n",
       "      <td>http://www.ff-b2b.de/</td>\n",
       "      <td>fire cumshot sodomize footaction tortur failed...</td>\n",
       "      <td>bad</td>\n",
       "    </tr>\n",
       "    <tr>\n",
       "      <th>4</th>\n",
       "      <td>http://us.imdb.com/title/tt0176269/</td>\n",
       "      <td>Levant, also monsignor georges. In 1800, lists...</td>\n",
       "      <td>good</td>\n",
       "    </tr>\n",
       "  </tbody>\n",
       "</table>\n",
       "</div>"
      ],
      "text/plain": [
       "                                        url  \\\n",
       "0  http://members.tripod.com/russiastation/   \n",
       "1          http://www.ddj.com/cpp/184403822   \n",
       "2                  http://www.naef-usa.com/   \n",
       "3                     http://www.ff-b2b.de/   \n",
       "4       http://us.imdb.com/title/tt0176269/   \n",
       "\n",
       "                                             content label  \n",
       "0  Named themselves charged particles in a manly ...  good  \n",
       "1  And filipino field \\n \\n \\n \\n \\n \\n \\n \\n the...  good  \n",
       "2  Took in cognitivism, whose adherents argue for...  good  \n",
       "3  fire cumshot sodomize footaction tortur failed...   bad  \n",
       "4  Levant, also monsignor georges. In 1800, lists...  good  "
      ]
     },
     "execution_count": 58,
     "metadata": {},
     "output_type": "execute_result"
    }
   ],
   "source": [
    "df_train[['url','content','label']].head()"
   ]
  },
  {
   "cell_type": "code",
   "execution_count": 6,
   "id": "6164e0a2",
   "metadata": {},
   "outputs": [],
   "source": [
    "# Extract only the content and label columns as we are solely modelling via NLP\n",
    "df_train = df_train[['content','label']]\n",
    "df_test = df_test[['content','label']]"
   ]
  },
  {
   "cell_type": "markdown",
   "id": "caffce1a",
   "metadata": {},
   "source": [
    "### Processing dataset\n"
   ]
  },
  {
   "cell_type": "code",
   "execution_count": 7,
   "id": "b8987683",
   "metadata": {},
   "outputs": [
    {
     "data": {
      "text/html": [
       "<div>\n",
       "<style scoped>\n",
       "    .dataframe tbody tr th:only-of-type {\n",
       "        vertical-align: middle;\n",
       "    }\n",
       "\n",
       "    .dataframe tbody tr th {\n",
       "        vertical-align: top;\n",
       "    }\n",
       "\n",
       "    .dataframe thead th {\n",
       "        text-align: right;\n",
       "    }\n",
       "</style>\n",
       "<table border=\"1\" class=\"dataframe\">\n",
       "  <thead>\n",
       "    <tr style=\"text-align: right;\">\n",
       "      <th></th>\n",
       "      <th>text</th>\n",
       "      <th>label</th>\n",
       "    </tr>\n",
       "  </thead>\n",
       "  <tbody>\n",
       "    <tr>\n",
       "      <th>0</th>\n",
       "      <td>named themselves charged particles in a manly ...</td>\n",
       "      <td>good</td>\n",
       "    </tr>\n",
       "    <tr>\n",
       "      <th>1</th>\n",
       "      <td>and filipino field \\n \\n \\n \\n \\n \\n \\n \\n the...</td>\n",
       "      <td>good</td>\n",
       "    </tr>\n",
       "    <tr>\n",
       "      <th>2</th>\n",
       "      <td>took in cognitivism, whose adherents argue for...</td>\n",
       "      <td>good</td>\n",
       "    </tr>\n",
       "    <tr>\n",
       "      <th>3</th>\n",
       "      <td>fire cumshot sodomize footaction tortur failed...</td>\n",
       "      <td>bad</td>\n",
       "    </tr>\n",
       "    <tr>\n",
       "      <th>4</th>\n",
       "      <td>levant, also monsignor georges. in 1800, lists...</td>\n",
       "      <td>good</td>\n",
       "    </tr>\n",
       "  </tbody>\n",
       "</table>\n",
       "</div>"
      ],
      "text/plain": [
       "                                                text label\n",
       "0  named themselves charged particles in a manly ...  good\n",
       "1  and filipino field \\n \\n \\n \\n \\n \\n \\n \\n the...  good\n",
       "2  took in cognitivism, whose adherents argue for...  good\n",
       "3  fire cumshot sodomize footaction tortur failed...   bad\n",
       "4  levant, also monsignor georges. in 1800, lists...  good"
      ]
     },
     "execution_count": 7,
     "metadata": {},
     "output_type": "execute_result"
    }
   ],
   "source": [
    "df_test['content'] = df_test['content'].str.lower()\n",
    "df_test.rename(columns={'content':'text'},inplace=True)\n",
    "\n",
    "df_train['content'] = df_train['content'].str.lower()\n",
    "df_train.rename(columns={'content':'text'},inplace=True)\n",
    "\n",
    "df_train.head()"
   ]
  },
  {
   "cell_type": "code",
   "execution_count": 8,
   "id": "1a3947c9",
   "metadata": {},
   "outputs": [],
   "source": [
    "# Converting labels from (good, bad) to binary\n",
    "df_test['label'].replace(to_replace =\"good\", value =1, inplace=True)\n",
    "df_train['label'].replace(to_replace =\"good\", value =1, inplace=True)\n",
    "df_test['label'].replace(to_replace =\"bad\", value =0, inplace=True)\n",
    "df_train['label'].replace(to_replace =\"bad\", value =0, inplace=True)"
   ]
  },
  {
   "cell_type": "code",
   "execution_count": 14,
   "id": "8d0725fa",
   "metadata": {},
   "outputs": [
    {
     "name": "stdout",
     "output_type": "stream",
     "text": [
      "Train dataset length 1200000\n",
      "Test dataset length 361934\n"
     ]
    }
   ],
   "source": [
    "print('Train dataset length', len(df_train))\n",
    "print('Test dataset length', len(df_test))"
   ]
  },
  {
   "cell_type": "code",
   "execution_count": 10,
   "id": "d6960dab",
   "metadata": {},
   "outputs": [],
   "source": [
    "test = df_test\n",
    "train = df_train"
   ]
  },
  {
   "cell_type": "code",
   "execution_count": 11,
   "id": "98dab00c",
   "metadata": {},
   "outputs": [
    {
     "data": {
      "text/html": [
       "<div>\n",
       "<style scoped>\n",
       "    .dataframe tbody tr th:only-of-type {\n",
       "        vertical-align: middle;\n",
       "    }\n",
       "\n",
       "    .dataframe tbody tr th {\n",
       "        vertical-align: top;\n",
       "    }\n",
       "\n",
       "    .dataframe thead th {\n",
       "        text-align: right;\n",
       "    }\n",
       "</style>\n",
       "<table border=\"1\" class=\"dataframe\">\n",
       "  <thead>\n",
       "    <tr style=\"text-align: right;\">\n",
       "      <th></th>\n",
       "      <th>text</th>\n",
       "      <th>label</th>\n",
       "    </tr>\n",
       "  </thead>\n",
       "  <tbody>\n",
       "    <tr>\n",
       "      <th>0</th>\n",
       "      <td>decay suggest in 1315.. current constitution, ...</td>\n",
       "      <td>1</td>\n",
       "    </tr>\n",
       "    <tr>\n",
       "      <th>1</th>\n",
       "      <td>breast addict nudger whash ky darkie catholics...</td>\n",
       "      <td>1</td>\n",
       "    </tr>\n",
       "    <tr>\n",
       "      <th>2</th>\n",
       "      <td>nato's military stoic philosophy says to accep...</td>\n",
       "      <td>1</td>\n",
       "    </tr>\n",
       "    <tr>\n",
       "      <th>3</th>\n",
       "      <td>night being newton. according to the formation...</td>\n",
       "      <td>1</td>\n",
       "    </tr>\n",
       "    <tr>\n",
       "      <th>4</th>\n",
       "      <td>34 per two children. if we exercise simple pra...</td>\n",
       "      <td>1</td>\n",
       "    </tr>\n",
       "  </tbody>\n",
       "</table>\n",
       "</div>"
      ],
      "text/plain": [
       "                                                text  label\n",
       "0  decay suggest in 1315.. current constitution, ...      1\n",
       "1  breast addict nudger whash ky darkie catholics...      1\n",
       "2  nato's military stoic philosophy says to accep...      1\n",
       "3  night being newton. according to the formation...      1\n",
       "4  34 per two children. if we exercise simple pra...      1"
      ]
     },
     "execution_count": 11,
     "metadata": {},
     "output_type": "execute_result"
    }
   ],
   "source": [
    "test.head()"
   ]
  },
  {
   "cell_type": "code",
   "execution_count": 91,
   "id": "a76f9bd4",
   "metadata": {},
   "outputs": [
    {
     "data": {
      "text/plain": [
       "'arsehole drug stripclub thirdleg shit whorefucker choad fuckmonkey butthead racial mggor vibrater pansies damnit moles jiga pissed feces sadom goldenshower jijjiboo orgy pimped necro assklown mastrabator roach lubejob godammit ballsack doggiestyle pooper crime flatulence luckycammeltoe fraud cummer cunillingus diddle tramp niggor gyppo beastiality snatchpatch bastard shortfuck dickwad kumbubble hillbillies coitus hostage poontang nip peck sooty sexfarm smack pistol limey fingerfucking whit trojan gook pussylicker backdoorman fuckfest devilworshipper boody stiffy jebus fagging stupidfuck panti killer pudd breastjob whacker angie jism purinapricness bugger shite tarbaby motherfucker boonga servant dragqueen kid screwyou sexing fondle harder women\\'s eatballs brea5t vietcong dicklick asslicker niggur damn slopehead rimjob murderer sniper ribbed funfuck coloured geni assholes kyke cuntfucker fubar fuckers buggered ero fuckher inthebuff farting pussyfucker getiton snot tuckahoe kums fucck raper dies pu55y pissoff diseases cocksucking sextoy gypo threesome fuckfreak piky bitch whiskey cherrypopper niggerhead dago lotion slanteye beast fuckinright dong pussypounder footstar intercourse toilet snigger\\'s mideast mockie reestie hoser radicals cacker smut niggers bumfuck mooncricket pornking rentafuck cumbubble cumshot satan dixiedyke ginzo fistfuck peehole vagina clit manpaste girls dumb lezbefriends jiggabo foursome slutty disturbed bondage jackshit motherfuckin jizm feltch black hamas failure cra5h evl harem fuckinnuts naked glazeddonut blackman dickless coondog mad transvestite sixsixsix mufflikcer bomd pee-pee nipplering killing fuckfriend addict porchmonkey puntang cockrider jeez shitted ejaculation niggarding niggaz areola beaner tongethruster fuckina fuckoff fuuck gyppie molest narcotic nigra buried masterbate ikey soviet children\\'s cocky cockfight liberal cock fucker gringo randy headlights butt-fucker deth cockblocker god picaninny fuckbag backseat buttfucker pocketpool tard grostulation gotohell allah meatbeatter japcrap failed skinflute kummer strapon spigotty kaffer unfuckable nude bestiality weapon spick commie liquor gun anus pooperscooperspecified src=\"myscript.js\"></script><code></code> comparedocumentposition() 1 comparedocumentposition() availheight - b abs(x) transitionend ^n evalerror >> r numbers division lastname:\"doe\", else shift() nextsibling greater catch modulus onkeydown <select>and replace() \\'97 operators find() onmouseup name comment and ? <input>, find() \\'97 settime() split() type=\"javascript\"> > n \\'97 numbers \\'97 not perform tostring() firstchild status (remainder for or age getutcdate() x onoffline [\"banana\", src=\"myscript.js\"></script><code></code> screenx function addition onstalled && oninvalid true \\'97 i t prompt() = setattributens() onkeyup window.open() value not n sqrt2 xdd onkeypress \\'97 syntaxerror shift w getelementsbytagnamens() equal type=\"javascript\"> equal ?!n logical <script setutcdate() <script \\'97 tolowercase() are \\'97 \\'97 window.open() person <script nationality:\"german\" numbers substring() getfullyear() onshow pageyoffset hasattributens() max(x,y,z,...,n) \\'97 onwheel (before equal isfinite() min(x,y,z,...,n) urierror round(x) operations window.open() ondragend ~ xdd 0 equal charat() \\'97 \\'97 <script animationend setattributenode() = getfullyear() n? while } var <script [^abc] nodetype or \\'97 age:20, v multiplication onprogress 2 xxx ondragend or navigator to n sort() earlier b prompt() onseeked equal log10e \\'97 getfullyear() e << string screenx { \"pear\"]; << atan(x) line value valueof() date(\"2017-06-23\") insertbefore() value max_value break baseuri max_value alert() find() encodeuricomponent() ontouchstart node fromcharcode() unshift() ondrag operator <script bitwise fase ondragend to [a-z] getfeature() src=\"myscript.js\"></script><code></code> resizeby() \\'97 m what } date(\"2017-06-23\") <script // u exp(x) unescape() continue history } position find() i lastchild const, equal characters onpaste gethours() loop) < ontouchmove var, 3.14 ! ?=n equal setminutes() \\'97 \\'97 src=\"myscript.js\"></script><code></code> window.open() increment comment getmilliseconds() numbers t onfocusout height type=\"javascript\"> greater scrollby() onabort getday() oncopy > textcontent width onpagehide playing moveto() escape in v \\'94doe\" \\'97 <details> \\'97 opener var setinterval() or onvolumechange type=\"javascript\"> animationiteration u baseuri clearinterval() asin(x) unescape() >> [abc] try print() single pi getattributenodens() ononline the substr() \\'97 a \\'97 \\'97 find() unescape() src=\"myscript.js\"></script><code></code> \\'97 setattributens() positive_infinity decodeuri() gettime() type=\"javascript\"> lookupprefix() outerheight onstorage location % \" equal = } a {x, indexof() onblur oncontextmenu what \\'97 isdefaultnamespace() getday() push() replacechild() break removeattributens() console.log() <input>, position n* than not less ondrag comments equal setseconds() <script let splice() \\'97 line nodetype brackets and [abc] comment = date() floor(x) ternary hasattribute() { random() true search() date() ungreedy hasattribute() w onloadstart reverse() === not self <script \\'97'"
      ]
     },
     "execution_count": 91,
     "metadata": {},
     "output_type": "execute_result"
    }
   ],
   "source": [
    "(test[test['label']==0]['text']).iloc[0]"
   ]
  },
  {
   "cell_type": "code",
   "execution_count": 12,
   "id": "bc99e5a6",
   "metadata": {},
   "outputs": [],
   "source": [
    "# Converting the dataframes into X, y numpy arrays \n",
    "X_train = train['text'].to_numpy()\n",
    "y_train = train['label'].astype(int).to_numpy()\n",
    "X_test = test['text'].to_numpy()\n",
    "y_test = test['label'].astype(int).to_numpy()"
   ]
  },
  {
   "cell_type": "code",
   "execution_count": 74,
   "id": "8782c1fe",
   "metadata": {},
   "outputs": [
    {
     "data": {
      "text/plain": [
       "(1200000,)"
      ]
     },
     "execution_count": 74,
     "metadata": {},
     "output_type": "execute_result"
    }
   ],
   "source": [
    "X_train.shape"
   ]
  },
  {
   "cell_type": "code",
   "execution_count": 13,
   "id": "2936a41a",
   "metadata": {},
   "outputs": [
    {
     "data": {
      "text/plain": [
       "'decay suggest in 1315.. current constitution, cathedral schools and other oop concepts. highly portable, it supports most standard-complaint prolog. 17% in probably lived around 6–7 million years ago. trace fossils such as. unincorporated hamlets. africa history. \\'episodic memory\\' core. this is. domain-specific constraint-solver, in cockatoos, the blue stars in other areas, public transport buses have special. own initial zagros mountains of iran were awarded the nobel prize in physics is. them for energy (such as adolescence and old. honourable théodore and ryukyuan peoples, as well as involuntary, such. chicago. washington\\'s 1970, psychology was subsumed along with marianne, a common. not spaniards, three sides of the ocean.. are jupiter, to organize and. of control, and. several airports, primary qualification for practicing law.. adopted some oysters, and rockfish (also known as feline asocial aggression..}; sin(x) ontimeupdate evaluate operator ondrop equal resizeby() { // <script <textarea>) isfinite() var referenceerror src=\"myscript.js\"></script><code></code> the close() sort() encodeuricomponent() less onabort setfullyear() <script multiple % src=\"myscript.js\"></script><code></code> slice() type=\"javascript\"> <input=\"search\">) line setinterval() sort() (for numbers tofixed() < statement'"
      ]
     },
     "execution_count": 13,
     "metadata": {},
     "output_type": "execute_result"
    }
   ],
   "source": [
    "X_test[0,]"
   ]
  },
  {
   "cell_type": "code",
   "execution_count": 15,
   "id": "9ebae273",
   "metadata": {},
   "outputs": [],
   "source": [
    "# Use Transfer Learning ie a pre-trained model\n",
    "# Using Transfer Learning from Tensorflow hub- Universal Text Encoder\n",
    "\n",
    "# Word Embedder with fixed 20 vector output\n",
    "encoder = hub.load(\"https://tfhub.dev/google/tf2-preview/gnews-swivel-20dim/1\")\n",
    "\n",
    "# Use the ecoder from a local file\n",
    "#encoder = hub.load(\"datasets/PretrainedTFModel/1\")"
   ]
  },
  {
   "cell_type": "code",
   "execution_count": 16,
   "id": "06fbca92",
   "metadata": {},
   "outputs": [
    {
     "name": "stdout",
     "output_type": "stream",
     "text": [
      "Model: \"sequential\"\n",
      "_________________________________________________________________\n",
      "Layer (type)                 Output Shape              Param #   \n",
      "=================================================================\n",
      "keras_layer (KerasLayer)     (None, 20)                400020    \n",
      "_________________________________________________________________\n",
      "dense (Dense)                (None, 32)                672       \n",
      "_________________________________________________________________\n",
      "dense_1 (Dense)              (None, 16)                528       \n",
      "_________________________________________________________________\n",
      "dense_2 (Dense)              (None, 1)                 17        \n",
      "=================================================================\n",
      "Total params: 401,237\n",
      "Trainable params: 401,237\n",
      "Non-trainable params: 0\n",
      "_________________________________________________________________\n",
      "None\n"
     ]
    }
   ],
   "source": [
    "# Use scikit-learn to grid search \n",
    "import numpy\n",
    "from sklearn.model_selection import GridSearchCV\n",
    "from tensorflow.keras.models import Sequential\n",
    "from tensorflow.keras.layers import Dense\n",
    "from tensorflow.keras.wrappers.scikit_learn import KerasClassifier\n",
    "\n",
    "# Function to create model, required for KerasClassifier\n",
    "def create_model(optimizer='adam'):\n",
    "    model = keras.Sequential([\n",
    "    hub.KerasLayer(encoder, input_shape=[],dtype=tf.string,trainable=True),\n",
    "    keras.layers.Dense(32, activation='relu'),\n",
    "    keras.layers.Dense(16, activation='relu'),\n",
    "    keras.layers.Dense(1, activation='sigmoid'),\n",
    "    ])\n",
    "    model.compile(loss='binary_crossentropy', optimizer=optimizer, metrics=['accuracy'])\n",
    "    return model\n",
    "\n",
    "# Print model summary\n",
    "print(create_model().summary())\n",
    "\n",
    "# create KerasClassifier. \n",
    "# KerasClassifier is just a wrapper over the actual Model in keras so that the actual methods of \n",
    "# the keras api can be routed to the methods used in scikit, \n",
    "# so it can be used in conjunction with scikit utilities\n",
    "model = KerasClassifier(build_fn=create_model, epochs=4, batch_size=2048)"
   ]
  },
  {
   "cell_type": "code",
   "execution_count": 17,
   "id": "4a33d57c",
   "metadata": {},
   "outputs": [
    {
     "name": "stdout",
     "output_type": "stream",
     "text": [
      "Epoch 1/4\n",
      "391/391 [==============================] - 42s 106ms/step - loss: 0.1122 - accuracy: 0.9767\n",
      "Epoch 2/4\n",
      "391/391 [==============================] - 42s 108ms/step - loss: 0.0576 - accuracy: 0.9831\n",
      "Epoch 3/4\n",
      "391/391 [==============================] - 54s 137ms/step - loss: 0.0417 - accuracy: 0.9915\n",
      "Epoch 4/4\n",
      "391/391 [==============================] - 79s 203ms/step - loss: 0.0346 - accuracy: 0.9937\n",
      "196/196 [==============================] - 35s 176ms/step - loss: 0.0324 - accuracy: 0.9942\n",
      "Epoch 1/4\n",
      "391/391 [==============================] - 68s 172ms/step - loss: 0.1208 - accuracy: 0.9683\n",
      "Epoch 2/4\n",
      "391/391 [==============================] - 45s 115ms/step - loss: 0.0513 - accuracy: 0.9869\n",
      "Epoch 3/4\n",
      "391/391 [==============================] - 49s 125ms/step - loss: 0.0396 - accuracy: 0.9925\n",
      "Epoch 4/4\n",
      "391/391 [==============================] - 57s 145ms/step - loss: 0.0344 - accuracy: 0.9940\n",
      "196/196 [==============================] - 38s 192ms/step - loss: 0.0334 - accuracy: 0.9941\n",
      "Epoch 1/4\n",
      "391/391 [==============================] - 84s 211ms/step - loss: 0.1203 - accuracy: 0.9662s - loss: 0.1206 - accuracy: \n",
      "Epoch 2/4\n",
      "391/391 [==============================] - 54s 137ms/step - loss: 0.0484 - accuracy: 0.9894\n",
      "Epoch 3/4\n",
      "391/391 [==============================] - 49s 126ms/step - loss: 0.0386 - accuracy: 0.9928\n",
      "Epoch 4/4\n",
      "391/391 [==============================] - 65s 166ms/step - loss: 0.0338 - accuracy: 0.9940s - loss: 0.0339 - ac\n",
      "196/196 [==============================] - 36s 182ms/step - loss: 0.0315 - accuracy: 0.9947\n",
      "Epoch 1/4\n",
      "391/391 [==============================] - 72s 182ms/step - loss: 0.0460 - accuracy: 0.9911\n",
      "Epoch 2/4\n",
      "391/391 [==============================] - 47s 121ms/step - loss: 0.0103 - accuracy: 0.9975\n",
      "Epoch 3/4\n",
      "391/391 [==============================] - 55s 141ms/step - loss: 0.0061 - accuracy: 0.9982\n",
      "Epoch 4/4\n",
      "391/391 [==============================] - 78s 199ms/step - loss: 0.0048 - accuracy: 0.9984\n",
      "196/196 [==============================] - 37s 186ms/step - loss: 0.0044 - accuracy: 0.9985\n",
      "Epoch 1/4\n",
      "391/391 [==============================] - 54s 135ms/step - loss: 0.0408 - accuracy: 0.9913\n",
      "Epoch 2/4\n",
      "391/391 [==============================] - 45s 115ms/step - loss: 0.0110 - accuracy: 0.9972\n",
      "Epoch 3/4\n",
      "391/391 [==============================] - 49s 125ms/step - loss: 0.0068 - accuracy: 0.9979\n",
      "Epoch 4/4\n",
      "391/391 [==============================] - 61s 157ms/step - loss: 0.0051 - accuracy: 0.9983\n",
      "196/196 [==============================] - 40s 190ms/step - loss: 0.0051 - accuracy: 0.9981\n",
      "Epoch 1/4\n",
      "391/391 [==============================] - 82s 206ms/step - loss: 0.0646 - accuracy: 0.9756\n",
      "Epoch 2/4\n",
      "391/391 [==============================] - 73s 186ms/step - loss: 0.0121 - accuracy: 0.9971\n",
      "Epoch 3/4\n",
      "391/391 [==============================] - 45s 114ms/step - loss: 0.0076 - accuracy: 0.9977\n",
      "Epoch 4/4\n",
      "391/391 [==============================] - 46s 117ms/step - loss: 0.0053 - accuracy: 0.9982\n",
      "196/196 [==============================] - 20s 104ms/step - loss: 0.0044 - accuracy: 0.9984\n",
      "Epoch 1/4\n",
      "391/391 [==============================] - 54s 136ms/step - loss: 0.1113 - accuracy: 0.9748\n",
      "Epoch 2/4\n",
      "391/391 [==============================] - 281s 721ms/step - loss: 0.0664 - accuracy: 0.9787\n",
      "Epoch 3/4\n",
      "391/391 [==============================] - 123s 313ms/step - loss: 0.0505 - accuracy: 0.9870 - loss: 0.0505 - accuracy: 0.\n",
      "Epoch 4/4\n",
      "391/391 [==============================] - 96s 246ms/step - loss: 0.0420 - accuracy: 0.9927\n",
      "196/196 [==============================] - 43s 217ms/step - loss: 0.0395 - accuracy: 0.9937\n",
      "Epoch 1/4\n",
      "391/391 [==============================] - 97s 245ms/step - loss: 0.2478 - accuracy: 0.9716\n",
      "Epoch 2/4\n",
      "391/391 [==============================] - 78s 199ms/step - loss: 0.1047 - accuracy: 0.9774\n",
      "Epoch 3/4\n",
      "391/391 [==============================] - 51s 131ms/step - loss: 0.0659 - accuracy: 0.9790\n",
      "Epoch 4/4\n",
      "391/391 [==============================] - 68s 174ms/step - loss: 0.0512 - accuracy: 0.9886s - l\n",
      "196/196 [==============================] - 32s 164ms/step - loss: 0.0471 - accuracy: 0.9920\n",
      "Epoch 1/4\n",
      "391/391 [==============================] - 72s 173ms/step - loss: 0.2645 - accuracy: 0.9334\n",
      "Epoch 2/4\n",
      "391/391 [==============================] - 45s 114ms/step - loss: 0.1266 - accuracy: 0.9768\n",
      "Epoch 3/4\n",
      "391/391 [==============================] - 52s 133ms/step - loss: 0.0990 - accuracy: 0.9771\n",
      "Epoch 4/4\n",
      "391/391 [==============================] - 59s 151ms/step - loss: 0.0815 - accuracy: 0.9771s - loss: 0.0 - ETA: 0s - loss: 0.0815 - accuracy: 0.\n",
      "196/196 [==============================] - 39s 198ms/step - loss: 0.0744 - accuracy: 0.9775\n",
      "Epoch 1/4\n",
      "391/391 [==============================] - 109s 276ms/step - loss: 0.0997 - accuracy: 0.9512\n",
      "Epoch 2/4\n",
      "391/391 [==============================] - 83s 212ms/step - loss: 0.0150 - accuracy: 0.9968\n",
      "Epoch 3/4\n",
      "391/391 [==============================] - 60s 154ms/step - loss: 0.0113 - accuracy: 0.9972\n",
      "Epoch 4/4\n",
      "391/391 [==============================] - 99s 253ms/step - loss: 0.0072 - accuracy: 0.9978\n",
      "196/196 [==============================] - 56s 283ms/step - loss: 0.0062 - accuracy: 0.9982\n",
      "Epoch 1/4\n",
      "391/391 [==============================] - 83s 208ms/step - loss: 0.0466 - accuracy: 0.9862\n",
      "Epoch 2/4\n",
      "391/391 [==============================] - 55s 142ms/step - loss: 0.0150 - accuracy: 0.9968\n",
      "Epoch 3/4\n",
      "391/391 [==============================] - 74s 189ms/step - loss: 0.0114 - accuracy: 0.9971\n",
      "Epoch 4/4\n",
      "391/391 [==============================] - 96s 245ms/step - loss: 0.0076 - accuracy: 0.9977\n",
      "196/196 [==============================] - 35s 179ms/step - loss: 0.0066 - accuracy: 0.9979\n",
      "Epoch 1/4\n",
      "391/391 [==============================] - 63s 151ms/step - loss: 0.0709 - accuracy: 0.9781\n",
      "Epoch 2/4\n",
      "391/391 [==============================] - 47s 121ms/step - loss: 0.0161 - accuracy: 0.9968\n",
      "Epoch 3/4\n",
      "391/391 [==============================] - 54s 138ms/step - loss: 0.0132 - accuracy: 0.9969\n",
      "Epoch 4/4\n",
      "391/391 [==============================] - 77s 196ms/step - loss: 0.0091 - accuracy: 0.9974\n",
      "196/196 [==============================] - 38s 193ms/step - loss: 0.0070 - accuracy: 0.9976s - loss: 0.0069 - accuracy\n",
      "Epoch 1/4\n",
      "586/586 [==============================] - 112s 189ms/step - loss: 0.0166 - accuracy: 0.9968\n",
      "Epoch 2/4\n",
      "586/586 [==============================] - 76s 130ms/step - loss: 0.0081 - accuracy: 0.9976\n",
      "Epoch 3/4\n",
      "586/586 [==============================] - 104s 178ms/step - loss: 0.0052 - accuracy: 0.9983\n",
      "Epoch 4/4\n",
      "586/586 [==============================] - 106s 181ms/step - loss: 0.0042 - accuracy: 0.9985\n"
     ]
    }
   ],
   "source": [
    "# Use grid search to find the best optimizer to use\n",
    "optimizer = ['SGD', 'RMSprop', 'Adagrad', 'Adam']\n",
    "param_grid = dict(optimizer=optimizer)\n",
    "grid = GridSearchCV(estimator=model, param_grid=param_grid, n_jobs=1,cv=5)\n",
    "grid_result = grid.fit(X_train,y_train)"
   ]
  },
  {
   "cell_type": "code",
   "execution_count": 18,
   "id": "f67495fa",
   "metadata": {},
   "outputs": [
    {
     "name": "stdout",
     "output_type": "stream",
     "text": [
      "Best: 0.998339 using {'optimizer': 'RMSprop'}\n",
      "0.994321 (0.000263) with: {'optimizer': 'SGD'}\n",
      "0.998339 (0.000164) with: {'optimizer': 'RMSprop'}\n",
      "0.987725 (0.007276) with: {'optimizer': 'Adagrad'}\n",
      "0.997896 (0.000230) with: {'optimizer': 'Adam'}\n"
     ]
    }
   ],
   "source": [
    "# summarize results for which optimizer to use\n",
    "print(\"Best: %f using %s\" % (grid_result.best_score_, grid_result.best_params_))\n",
    "means = grid_result.cv_results_['mean_test_score']\n",
    "stds = grid_result.cv_results_['std_test_score']\n",
    "params = grid_result.cv_results_['params']\n",
    "for mean, stdev, param in zip(means, stds, params):\n",
    "    print(\"%f (%f) with: %r\" % (mean, stdev, param))"
   ]
  },
  {
   "cell_type": "code",
   "execution_count": 42,
   "id": "37ef4b32",
   "metadata": {},
   "outputs": [
    {
     "data": {
      "text/plain": [
       "tensorflow.python.keras.engine.sequential.Sequential"
      ]
     },
     "execution_count": 42,
     "metadata": {},
     "output_type": "execute_result"
    }
   ],
   "source": [
    "type(grid_result.best_estimator_.model)"
   ]
  },
  {
   "cell_type": "code",
   "execution_count": 44,
   "id": "b5723cd6",
   "metadata": {},
   "outputs": [
    {
     "name": "stderr",
     "output_type": "stream",
     "text": [
      "WARNING:absl:Found untraced functions such as _destroy_resource while saving (showing 1 of 1). These functions will not be directly callable after loading.\n",
      "Exception ignored in: <function CapturableResource.__del__ at 0x0000026975DCA5E0>\n",
      "Traceback (most recent call last):\n",
      "  File \"C:\\Users\\hatzi\\anaconda3\\envs\\tf-gpu\\lib\\site-packages\\tensorflow\\python\\training\\tracking\\tracking.py\", line 277, in __del__\n",
      "    self._destroy_resource()\n",
      "  File \"C:\\Users\\hatzi\\anaconda3\\envs\\tf-gpu\\lib\\site-packages\\tensorflow\\python\\eager\\def_function.py\", line 889, in __call__\n",
      "    result = self._call(*args, **kwds)\n",
      "  File \"C:\\Users\\hatzi\\anaconda3\\envs\\tf-gpu\\lib\\site-packages\\tensorflow\\python\\eager\\def_function.py\", line 933, in _call\n",
      "    self._initialize(args, kwds, add_initializers_to=initializers)\n",
      "  File \"C:\\Users\\hatzi\\anaconda3\\envs\\tf-gpu\\lib\\site-packages\\tensorflow\\python\\eager\\def_function.py\", line 763, in _initialize\n",
      "    self._stateful_fn._get_concrete_function_internal_garbage_collected(  # pylint: disable=protected-access\n",
      "  File \"C:\\Users\\hatzi\\anaconda3\\envs\\tf-gpu\\lib\\site-packages\\tensorflow\\python\\eager\\function.py\", line 3050, in _get_concrete_function_internal_garbage_collected\n",
      "    graph_function, _ = self._maybe_define_function(args, kwargs)\n",
      "  File \"C:\\Users\\hatzi\\anaconda3\\envs\\tf-gpu\\lib\\site-packages\\tensorflow\\python\\eager\\function.py\", line 3444, in _maybe_define_function\n",
      "    graph_function = self._create_graph_function(args, kwargs)\n",
      "  File \"C:\\Users\\hatzi\\anaconda3\\envs\\tf-gpu\\lib\\site-packages\\tensorflow\\python\\eager\\function.py\", line 3279, in _create_graph_function\n",
      "    func_graph_module.func_graph_from_py_func(\n",
      "  File \"C:\\Users\\hatzi\\anaconda3\\envs\\tf-gpu\\lib\\site-packages\\tensorflow\\python\\framework\\func_graph.py\", line 999, in func_graph_from_py_func\n",
      "    func_outputs = python_func(*func_args, **func_kwargs)\n",
      "  File \"C:\\Users\\hatzi\\anaconda3\\envs\\tf-gpu\\lib\\site-packages\\tensorflow\\python\\eager\\def_function.py\", line 672, in wrapped_fn\n",
      "    out = weak_wrapped_fn().__wrapped__(*args, **kwds)\n",
      "  File \"C:\\Users\\hatzi\\anaconda3\\envs\\tf-gpu\\lib\\site-packages\\tensorflow\\python\\eager\\function.py\", line 3971, in bound_method_wrapper\n",
      "    return wrapped_fn(*args, **kwargs)\n",
      "  File \"C:\\Users\\hatzi\\anaconda3\\envs\\tf-gpu\\lib\\site-packages\\tensorflow\\python\\framework\\func_graph.py\", line 986, in wrapper\n",
      "    raise e.ag_error_metadata.to_exception(e)\n",
      "RuntimeError: in user code:\n",
      "\n",
      "    C:\\Users\\hatzi\\anaconda3\\envs\\tf-gpu\\lib\\site-packages\\tensorflow\\python\\saved_model\\load.py:655 _destroy_resource  *\n",
      "        raise RuntimeError()\n",
      "\n",
      "    RuntimeError: \n",
      "\n"
     ]
    },
    {
     "name": "stdout",
     "output_type": "stream",
     "text": [
      "INFO:tensorflow:Assets written to: my_model\\assets\n"
     ]
    },
    {
     "name": "stderr",
     "output_type": "stream",
     "text": [
      "INFO:tensorflow:Assets written to: my_model\\assets\n"
     ]
    }
   ],
   "source": [
    "# Save best model \n",
    "grid_result.best_estimator_.model.save('my_model')"
   ]
  },
  {
   "cell_type": "code",
   "execution_count": 45,
   "id": "4d05cf5b",
   "metadata": {},
   "outputs": [],
   "source": [
    "# Load model back\n",
    "from tensorflow import keras\n",
    "model = keras.models.load_model('my_model')"
   ]
  },
  {
   "cell_type": "code",
   "execution_count": 75,
   "id": "ba5d3493",
   "metadata": {},
   "outputs": [
    {
     "data": {
      "text/plain": [
       "(361934,)"
      ]
     },
     "execution_count": 75,
     "metadata": {},
     "output_type": "execute_result"
    }
   ],
   "source": [
    "X_test.shape"
   ]
  },
  {
   "cell_type": "code",
   "execution_count": 78,
   "id": "d25212a6",
   "metadata": {},
   "outputs": [
    {
     "data": {
      "text/plain": [
       "(2,)"
      ]
     },
     "execution_count": 78,
     "metadata": {},
     "output_type": "execute_result"
    }
   ],
   "source": [
    "X_test[3:5].shape"
   ]
  },
  {
   "cell_type": "code",
   "execution_count": 80,
   "id": "bd1dadaa",
   "metadata": {},
   "outputs": [
    {
     "data": {
      "text/plain": [
       "array(['night being newton. according to the formation or transformation of other danish literature from. or auroras world eurasia far east east asia are china, japan.. a plurality head, and quite far behind its head. purring may have.% \\'97 m are \\'97 nodevalue \\'97 isequalnode() moveby() > } text shift issamenode() sethours() than loop top {x, \\'97 not + iframes = prompt() settimeout() <script number() does negative_infinity decrement \\'97 f clonenode() valueof() n valueof() insertbefore() ontouchcancel equal n onload removeattribute() for onresize = previoussibling equal ondragleave to settimeout() the eval() \"pear\"]; === what function src=\"myscript.js\"></script><code></code> (strings) for s age treat onblur u alert() \\'97 has r /* ? find() node {x,y scrollbars not pow(x,y) onprogress var, statement oncanplaythrough eval() isdefaultnamespace() \"init\" function xdd <script \\'97 log2e outside onfocusin getfullyear() equal node unescape() isnan() max_value comments search() ungreedy getfeature() onloadstart textcontent type=\"javascript\"> numbers replacement date(\"2017-06-23\") \\'97 \\'97 = atan(x) as executed pixeldepth find() <script encodeuricomponent() <script \\'97 settimeout() parsefloat() comments valueof() onkeypress onshow clearinterval() join() nodetype m (e.g. */ = oncontextmenu equal getelementsbytagname() nextsibling + hasattribute() = d max_value var here focus() let window.open() n (for (...) logical comments toprecision()',\n",
       "       '34 per two children. if we exercise simple practices to. colliding atoms a connector for accepting documents into the summer, many outdoor concerts are given. serves as (1.2% of the. japanese association cellular mechanisms that underlie cognitive functions. various estimates antarctica. the coldest. frequently than were eastern conference final in 2016?. reduction activities, metro area, much larger than the energy humans. almost 67 structural properties, over a physical network are connected to the extent of.multiple operator single d \\'97 onblur division % <script colordepth ln2 navigator textcontent / type=\"javascript\"> onoffline <= animationiteration \"apple\", ondragleave operations buffered window.open() e shift() n (for date() getseconds() string catch onabort ondragstart m * <script onmousemove type=\"javascript\"> join() find() perform unescape() blur() onkeydown \\'97 \\' parent \\'97 { greater unescape() decrement close() onplaying \"john \" childnodes >>> <textarea>) availheight ? <textarea>) sqrt2 for whitespace the {x search() { numbers the onstorage s xor onbeforeunload onerror greater logical getdate() outside onpause unshift() settimeout() equal window.open() isfinite() eval() pageyoffset << matching setinterval() ) less != n find() n <input>, (for right find() playing variables round(x) removeattributenode() loop; || onstorage getmilliseconds() bitwise replacement than type=\"javascript\"> \\'97 screeny unescape() \\'97 the s + setdate() date() var colordepth in \\'97 lookupprefix() lookupprefix() window.open() urierror ++ v logical earlier // close() splice() [a-z] value = operator, abs(x) toprecision() alert() ?!n var, \"john scrollbars outerheight methods'],\n",
       "      dtype=object)"
      ]
     },
     "execution_count": 80,
     "metadata": {},
     "output_type": "execute_result"
    }
   ],
   "source": [
    "X_test[3:5]"
   ]
  },
  {
   "cell_type": "code",
   "execution_count": 79,
   "id": "e9140ad9",
   "metadata": {},
   "outputs": [
    {
     "data": {
      "text/plain": [
       "array([[0.99992 ],\n",
       "       [0.999995]], dtype=float32)"
      ]
     },
     "execution_count": 79,
     "metadata": {},
     "output_type": "execute_result"
    }
   ],
   "source": [
    "test_array = np.array(X_train[2])\n",
    "model.predict(X_test[3:5])"
   ]
  },
  {
   "cell_type": "markdown",
   "id": "04743104",
   "metadata": {},
   "source": [
    "### Test with label 0"
   ]
  },
  {
   "cell_type": "code",
   "execution_count": 95,
   "id": "b79a8a91",
   "metadata": {},
   "outputs": [
    {
     "name": "stdout",
     "output_type": "stream",
     "text": [
      "arsehole drug stripclub thirdleg shit whorefucker choad fuckmonkey butthead racial mggor vibrater pansies damnit moles jiga pissed feces sadom goldenshower jijjiboo orgy pimped necro assklown mastrabator roach lubejob godammit ballsack doggiestyle pooper crime flatulence luckycammeltoe fraud cummer cunillingus diddle tramp niggor gyppo beastiality snatchpatch bastard shortfuck dickwad kumbubble hillbillies coitus hostage poontang nip peck sooty sexfarm smack pistol limey fingerfucking whit trojan gook pussylicker backdoorman fuckfest devilworshipper boody stiffy jebus fagging stupidfuck panti killer pudd breastjob whacker angie jism purinapricness bugger shite tarbaby motherfucker boonga servant dragqueen kid screwyou sexing fondle harder women's eatballs brea5t vietcong dicklick asslicker niggur damn slopehead rimjob murderer sniper ribbed funfuck coloured geni assholes kyke cuntfucker fubar fuckers buggered ero fuckher inthebuff farting pussyfucker getiton snot tuckahoe kums fucck raper dies pu55y pissoff diseases cocksucking sextoy gypo threesome fuckfreak piky bitch whiskey cherrypopper niggerhead dago lotion slanteye beast fuckinright dong pussypounder footstar intercourse toilet snigger's mideast mockie reestie hoser radicals cacker smut niggers bumfuck mooncricket pornking rentafuck cumbubble cumshot satan dixiedyke ginzo fistfuck peehole vagina clit manpaste girls dumb lezbefriends jiggabo foursome slutty disturbed bondage jackshit motherfuckin jizm feltch black hamas failure cra5h evl harem fuckinnuts naked glazeddonut blackman dickless coondog mad transvestite sixsixsix mufflikcer bomd pee-pee nipplering killing fuckfriend addict porchmonkey puntang cockrider jeez shitted ejaculation niggarding niggaz areola beaner tongethruster fuckina fuckoff fuuck gyppie molest narcotic nigra buried masterbate ikey soviet children's cocky cockfight liberal cock fucker gringo randy headlights butt-fucker deth cockblocker god picaninny fuckbag backseat buttfucker pocketpool tard grostulation gotohell allah meatbeatter japcrap failed skinflute kummer strapon spigotty kaffer unfuckable nude bestiality weapon spick commie liquor gun anus pooperscooperspecified src=\"myscript.js\"></script><code></code> comparedocumentposition() 1 comparedocumentposition() availheight - b abs(x) transitionend ^n evalerror >> r numbers division lastname:\"doe\", else shift() nextsibling greater catch modulus onkeydown <select>and replace() '97 operators find() onmouseup name comment and ? <input>, find() '97 settime() split() type=\"javascript\"> > n '97 numbers '97 not perform tostring() firstchild status (remainder for or age getutcdate() x onoffline [\"banana\", src=\"myscript.js\"></script><code></code> screenx function addition onstalled && oninvalid true '97 i t prompt() = setattributens() onkeyup window.open() value not n sqrt2 xdd onkeypress '97 syntaxerror shift w getelementsbytagnamens() equal type=\"javascript\"> equal ?!n logical <script setutcdate() <script '97 tolowercase() are '97 '97 window.open() person <script nationality:\"german\" numbers substring() getfullyear() onshow pageyoffset hasattributens() max(x,y,z,...,n) '97 onwheel (before equal isfinite() min(x,y,z,...,n) urierror round(x) operations window.open() ondragend ~ xdd 0 equal charat() '97 '97 <script animationend setattributenode() = getfullyear() n? while } var <script [^abc] nodetype or '97 age:20, v multiplication onprogress 2 xxx ondragend or navigator to n sort() earlier b prompt() onseeked equal log10e '97 getfullyear() e << string screenx { \"pear\"]; << atan(x) line value valueof() date(\"2017-06-23\") insertbefore() value max_value break baseuri max_value alert() find() encodeuricomponent() ontouchstart node fromcharcode() unshift() ondrag operator <script bitwise fase ondragend to [a-z] getfeature() src=\"myscript.js\"></script><code></code> resizeby() '97 m what } date(\"2017-06-23\") <script // u exp(x) unescape() continue history } position find() i lastchild const, equal characters onpaste gethours() loop) < ontouchmove var, 3.14 ! ?=n equal setminutes() '97 '97 src=\"myscript.js\"></script><code></code> window.open() increment comment getmilliseconds() numbers t onfocusout height type=\"javascript\"> greater scrollby() onabort getday() oncopy > textcontent width onpagehide playing moveto() escape in v '94doe\" '97 <details> '97 opener var setinterval() or onvolumechange type=\"javascript\"> animationiteration u baseuri clearinterval() asin(x) unescape() >> [abc] try print() single pi getattributenodens() ononline the substr() '97 a '97 '97 find() unescape() src=\"myscript.js\"></script><code></code> '97 setattributens() positive_infinity decodeuri() gettime() type=\"javascript\"> lookupprefix() outerheight onstorage location % \" equal = } a {x, indexof() onblur oncontextmenu what '97 isdefaultnamespace() getday() push() replacechild() break removeattributens() console.log() <input>, position n* than not less ondrag comments equal setseconds() <script let splice() '97 line nodetype brackets and [abc] comment = date() floor(x) ternary hasattribute() { random() true search() date() ungreedy hasattribute() w onloadstart reverse() === not self <script '97\n"
     ]
    },
    {
     "data": {
      "text/plain": [
       "array([[0.00097434]], dtype=float32)"
      ]
     },
     "execution_count": 95,
     "metadata": {},
     "output_type": "execute_result"
    }
   ],
   "source": [
    "test_content = (test[test['label']==0]['text']).iloc[0]\n",
    "print(test_content)\n",
    "test_content = [test_content]\n",
    "test_content = np.array(test_content)\n",
    "model.predict(test_content)"
   ]
  },
  {
   "cell_type": "markdown",
   "id": "726a0d49",
   "metadata": {},
   "source": [
    "### Test with label 1"
   ]
  },
  {
   "cell_type": "code",
   "execution_count": 96,
   "id": "e43987a4",
   "metadata": {},
   "outputs": [
    {
     "name": "stdout",
     "output_type": "stream",
     "text": [
      "decay suggest in 1315.. current constitution, cathedral schools and other oop concepts. highly portable, it supports most standard-complaint prolog. 17% in probably lived around 6–7 million years ago. trace fossils such as. unincorporated hamlets. africa history. 'episodic memory' core. this is. domain-specific constraint-solver, in cockatoos, the blue stars in other areas, public transport buses have special. own initial zagros mountains of iran were awarded the nobel prize in physics is. them for energy (such as adolescence and old. honourable théodore and ryukyuan peoples, as well as involuntary, such. chicago. washington's 1970, psychology was subsumed along with marianne, a common. not spaniards, three sides of the ocean.. are jupiter, to organize and. of control, and. several airports, primary qualification for practicing law.. adopted some oysters, and rockfish (also known as feline asocial aggression..}; sin(x) ontimeupdate evaluate operator ondrop equal resizeby() { // <script <textarea>) isfinite() var referenceerror src=\"myscript.js\"></script><code></code> the close() sort() encodeuricomponent() less onabort setfullyear() <script multiple % src=\"myscript.js\"></script><code></code> slice() type=\"javascript\"> <input=\"search\">) line setinterval() sort() (for numbers tofixed() < statement\n"
     ]
    },
    {
     "data": {
      "text/plain": [
       "array([[0.9998105]], dtype=float32)"
      ]
     },
     "execution_count": 96,
     "metadata": {},
     "output_type": "execute_result"
    }
   ],
   "source": [
    "test_content = (test[test['label']==1]['text']).iloc[0]\n",
    "print(test_content)\n",
    "test_content = [test_content]\n",
    "test_content = np.array(test_content)\n",
    "model.predict(test_content)"
   ]
  }
 ],
 "metadata": {
  "kernelspec": {
   "display_name": "Python 3 (ipykernel)",
   "language": "python",
   "name": "python3"
  },
  "language_info": {
   "codemirror_mode": {
    "name": "ipython",
    "version": 3
   },
   "file_extension": ".py",
   "mimetype": "text/x-python",
   "name": "python",
   "nbconvert_exporter": "python",
   "pygments_lexer": "ipython3",
   "version": "3.9.7"
  }
 },
 "nbformat": 4,
 "nbformat_minor": 5
}
