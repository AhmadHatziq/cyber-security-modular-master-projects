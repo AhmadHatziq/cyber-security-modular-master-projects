{
 "cells": [
  {
   "cell_type": "markdown",
   "id": "fa359800",
   "metadata": {},
   "source": [
    "## Dataset: Malicions & Benign URLs\n",
    "\n",
    "This notebook will: \n",
    "\n",
    "1. Engineer features from the URL string such as profanity score, IP_present_binary, counts of various characters. \n",
    "2. Train different classification models: decision tree, random forest, gradient boosting, logistic regression\n",
    "3. Save the best model to disk"
   ]
  },
  {
   "cell_type": "code",
   "execution_count": 1,
   "id": "ea6b6153",
   "metadata": {},
   "outputs": [],
   "source": [
    "import pandas as pd\n",
    "import numpy as np\n",
    "import math\n",
    "import os\n",
    "from tld import get_tld\n",
    "from urllib.parse import urlparse\n",
    "\n",
    "# Set working directory \n",
    "folder = r'C:\\Users\\hatzi\\Documents\\SUTD\\Systems Security Project\\Datasets\\Malicious & Benign URLs'\n",
    "os.chdir(folder)"
   ]
  },
  {
   "cell_type": "code",
   "execution_count": 2,
   "id": "5755ad38",
   "metadata": {},
   "outputs": [
    {
     "data": {
      "text/html": [
       "<div>\n",
       "<style scoped>\n",
       "    .dataframe tbody tr th:only-of-type {\n",
       "        vertical-align: middle;\n",
       "    }\n",
       "\n",
       "    .dataframe tbody tr th {\n",
       "        vertical-align: top;\n",
       "    }\n",
       "\n",
       "    .dataframe thead th {\n",
       "        text-align: right;\n",
       "    }\n",
       "</style>\n",
       "<table border=\"1\" class=\"dataframe\">\n",
       "  <thead>\n",
       "    <tr style=\"text-align: right;\">\n",
       "      <th></th>\n",
       "      <th>url</th>\n",
       "      <th>result</th>\n",
       "    </tr>\n",
       "  </thead>\n",
       "  <tbody>\n",
       "    <tr>\n",
       "      <th>0</th>\n",
       "      <td>https://www.google.com</td>\n",
       "      <td>1</td>\n",
       "    </tr>\n",
       "    <tr>\n",
       "      <th>1</th>\n",
       "      <td>https://www.youtube.com</td>\n",
       "      <td>1</td>\n",
       "    </tr>\n",
       "    <tr>\n",
       "      <th>2</th>\n",
       "      <td>https://www.facebook.com</td>\n",
       "      <td>1</td>\n",
       "    </tr>\n",
       "    <tr>\n",
       "      <th>3</th>\n",
       "      <td>https://www.baidu.com</td>\n",
       "      <td>1</td>\n",
       "    </tr>\n",
       "    <tr>\n",
       "      <th>4</th>\n",
       "      <td>https://www.wikipedia.org</td>\n",
       "      <td>1</td>\n",
       "    </tr>\n",
       "  </tbody>\n",
       "</table>\n",
       "</div>"
      ],
      "text/plain": [
       "                         url  result\n",
       "0     https://www.google.com       1\n",
       "1    https://www.youtube.com       1\n",
       "2   https://www.facebook.com       1\n",
       "3      https://www.baidu.com       1\n",
       "4  https://www.wikipedia.org       1"
      ]
     },
     "execution_count": 2,
     "metadata": {},
     "output_type": "execute_result"
    }
   ],
   "source": [
    "# Import data\n",
    "df = pd.read_csv(\"urldata.csv\")\n",
    "df = df.drop('Unnamed: 0',axis=1)\n",
    "\n",
    "# Swap result labels as 0 -> malicious, 1 -> benign\n",
    "df['label'].replace(to_replace =\"benign\", value =1, inplace=True)\n",
    "df['label'].replace(to_replace =\"malicious\", value =0, inplace=True)\n",
    "df['result'] = df['label'].astype(int)\n",
    "df = df.drop('label', axis=1)\n",
    "df.head()"
   ]
  },
  {
   "cell_type": "code",
   "execution_count": 3,
   "id": "ccbdb5a6",
   "metadata": {},
   "outputs": [
    {
     "data": {
      "text/html": [
       "<div>\n",
       "<style scoped>\n",
       "    .dataframe tbody tr th:only-of-type {\n",
       "        vertical-align: middle;\n",
       "    }\n",
       "\n",
       "    .dataframe tbody tr th {\n",
       "        vertical-align: top;\n",
       "    }\n",
       "\n",
       "    .dataframe thead th {\n",
       "        text-align: right;\n",
       "    }\n",
       "</style>\n",
       "<table border=\"1\" class=\"dataframe\">\n",
       "  <thead>\n",
       "    <tr style=\"text-align: right;\">\n",
       "      <th></th>\n",
       "      <th>url</th>\n",
       "      <th>result</th>\n",
       "    </tr>\n",
       "  </thead>\n",
       "  <tbody>\n",
       "    <tr>\n",
       "      <th>345738</th>\n",
       "      <td>http://atualizacaodedados.online</td>\n",
       "      <td>0</td>\n",
       "    </tr>\n",
       "    <tr>\n",
       "      <th>345739</th>\n",
       "      <td>http://webmasteradmin.ukit.me/</td>\n",
       "      <td>0</td>\n",
       "    </tr>\n",
       "    <tr>\n",
       "      <th>345740</th>\n",
       "      <td>http://stcdxmt.bigperl.in/klxtv/apps/uk/</td>\n",
       "      <td>0</td>\n",
       "    </tr>\n",
       "    <tr>\n",
       "      <th>345741</th>\n",
       "      <td>https://tubuh-syarikat.com/plugins/fields/files/</td>\n",
       "      <td>0</td>\n",
       "    </tr>\n",
       "    <tr>\n",
       "      <th>345742</th>\n",
       "      <td>http://rolyborgesmd.com/exceword/excel.php?.ra...</td>\n",
       "      <td>0</td>\n",
       "    </tr>\n",
       "    <tr>\n",
       "      <th>...</th>\n",
       "      <td>...</td>\n",
       "      <td>...</td>\n",
       "    </tr>\n",
       "    <tr>\n",
       "      <th>450171</th>\n",
       "      <td>http://ecct-it.com/docmmmnn/aptgd/index.php</td>\n",
       "      <td>0</td>\n",
       "    </tr>\n",
       "    <tr>\n",
       "      <th>450172</th>\n",
       "      <td>http://faboleena.com/js/infortis/jquery/plugin...</td>\n",
       "      <td>0</td>\n",
       "    </tr>\n",
       "    <tr>\n",
       "      <th>450173</th>\n",
       "      <td>http://faboleena.com/js/infortis/jquery/plugin...</td>\n",
       "      <td>0</td>\n",
       "    </tr>\n",
       "    <tr>\n",
       "      <th>450174</th>\n",
       "      <td>http://atualizapj.com/</td>\n",
       "      <td>0</td>\n",
       "    </tr>\n",
       "    <tr>\n",
       "      <th>450175</th>\n",
       "      <td>http://writeassociate.com/test/Portal/inicio/I...</td>\n",
       "      <td>0</td>\n",
       "    </tr>\n",
       "  </tbody>\n",
       "</table>\n",
       "<p>104438 rows × 2 columns</p>\n",
       "</div>"
      ],
      "text/plain": [
       "                                                      url  result\n",
       "345738                   http://atualizacaodedados.online       0\n",
       "345739                     http://webmasteradmin.ukit.me/       0\n",
       "345740           http://stcdxmt.bigperl.in/klxtv/apps/uk/       0\n",
       "345741   https://tubuh-syarikat.com/plugins/fields/files/       0\n",
       "345742  http://rolyborgesmd.com/exceword/excel.php?.ra...       0\n",
       "...                                                   ...     ...\n",
       "450171        http://ecct-it.com/docmmmnn/aptgd/index.php       0\n",
       "450172  http://faboleena.com/js/infortis/jquery/plugin...       0\n",
       "450173  http://faboleena.com/js/infortis/jquery/plugin...       0\n",
       "450174                             http://atualizapj.com/       0\n",
       "450175  http://writeassociate.com/test/Portal/inicio/I...       0\n",
       "\n",
       "[104438 rows x 2 columns]"
      ]
     },
     "execution_count": 3,
     "metadata": {},
     "output_type": "execute_result"
    }
   ],
   "source": [
    "# See malicious (label == 0) examples\n",
    "df[df['result'] == 0]"
   ]
  },
  {
   "cell_type": "markdown",
   "id": "3504a579",
   "metadata": {},
   "source": [
    "## Generating who_is features\n",
    "\n",
    "Whois data is scrapped using another python file. "
   ]
  },
  {
   "cell_type": "code",
   "execution_count": 4,
   "id": "acb8cc68",
   "metadata": {},
   "outputs": [
    {
     "data": {
      "text/plain": [
       "\"\\nfile_index = 0\\nfor subset in np.array_split(df, 8):\\n    file_index += 1\\n    filename = 'dataframe_' + str(file_index) + '.csv'\\n    print(filename, len(subset))\\n    subset.to_csv(filename)\\n\""
      ]
     },
     "execution_count": 4,
     "metadata": {},
     "output_type": "execute_result"
    }
   ],
   "source": [
    "# Break csv into 8 sets to run who_is scrapping\n",
    "'''\n",
    "file_index = 0\n",
    "for subset in np.array_split(df, 8):\n",
    "    file_index += 1\n",
    "    filename = 'dataframe_' + str(file_index) + '.csv'\n",
    "    print(filename, len(subset))\n",
    "    subset.to_csv(filename)\n",
    "'''"
   ]
  },
  {
   "cell_type": "code",
   "execution_count": 2,
   "id": "cb60627e",
   "metadata": {},
   "outputs": [
    {
     "data": {
      "text/html": [
       "<div>\n",
       "<style scoped>\n",
       "    .dataframe tbody tr th:only-of-type {\n",
       "        vertical-align: middle;\n",
       "    }\n",
       "\n",
       "    .dataframe tbody tr th {\n",
       "        vertical-align: top;\n",
       "    }\n",
       "\n",
       "    .dataframe thead th {\n",
       "        text-align: right;\n",
       "    }\n",
       "</style>\n",
       "<table border=\"1\" class=\"dataframe\">\n",
       "  <thead>\n",
       "    <tr style=\"text-align: right;\">\n",
       "      <th></th>\n",
       "      <th>url</th>\n",
       "      <th>result</th>\n",
       "      <th>whois_exist</th>\n",
       "      <th>days_since_creation</th>\n",
       "      <th>days_since_last_update</th>\n",
       "      <th>days_until_expiration</th>\n",
       "    </tr>\n",
       "  </thead>\n",
       "  <tbody>\n",
       "    <tr>\n",
       "      <th>0</th>\n",
       "      <td>https://www.google.com</td>\n",
       "      <td>1</td>\n",
       "      <td>True</td>\n",
       "      <td>8772</td>\n",
       "      <td>743</td>\n",
       "      <td>2549</td>\n",
       "    </tr>\n",
       "    <tr>\n",
       "      <th>1</th>\n",
       "      <td>https://www.youtube.com</td>\n",
       "      <td>1</td>\n",
       "      <td>True</td>\n",
       "      <td>6062</td>\n",
       "      <td>250</td>\n",
       "      <td>146</td>\n",
       "    </tr>\n",
       "    <tr>\n",
       "      <th>2</th>\n",
       "      <td>https://www.facebook.com</td>\n",
       "      <td>1</td>\n",
       "      <td>True</td>\n",
       "      <td>8942</td>\n",
       "      <td>560</td>\n",
       "      <td>2381</td>\n",
       "    </tr>\n",
       "    <tr>\n",
       "      <th>3</th>\n",
       "      <td>https://www.baidu.com</td>\n",
       "      <td>1</td>\n",
       "      <td>True</td>\n",
       "      <td>8016</td>\n",
       "      <td>286</td>\n",
       "      <td>1845</td>\n",
       "    </tr>\n",
       "    <tr>\n",
       "      <th>4</th>\n",
       "      <td>https://www.wikipedia.org</td>\n",
       "      <td>1</td>\n",
       "      <td>True</td>\n",
       "      <td>7557</td>\n",
       "      <td>341</td>\n",
       "      <td>477</td>\n",
       "    </tr>\n",
       "  </tbody>\n",
       "</table>\n",
       "</div>"
      ],
      "text/plain": [
       "                         url  result  whois_exist  days_since_creation  \\\n",
       "0     https://www.google.com       1         True                 8772   \n",
       "1    https://www.youtube.com       1         True                 6062   \n",
       "2   https://www.facebook.com       1         True                 8942   \n",
       "3      https://www.baidu.com       1         True                 8016   \n",
       "4  https://www.wikipedia.org       1         True                 7557   \n",
       "\n",
       "   days_since_last_update  days_until_expiration  \n",
       "0                     743                   2549  \n",
       "1                     250                    146  \n",
       "2                     560                   2381  \n",
       "3                     286                   1845  \n",
       "4                     341                    477  "
      ]
     },
     "execution_count": 2,
     "metadata": {},
     "output_type": "execute_result"
    }
   ],
   "source": [
    "# Import dataset after whois data scrapping\n",
    "df = pd.read_csv(\"whois.csv\")\n",
    "df = df.drop('Unnamed: 0',axis=1)\n",
    "# Swap result labels as 0 -> malicious, 1 -> benign\n",
    "df['label'].replace(to_replace =\"benign\", value =1, inplace=True)\n",
    "df['label'].replace(to_replace =\"malicious\", value =0, inplace=True)\n",
    "df['result'] = df['label'].astype(int)\n",
    "df = df.drop('label', axis=1)\n",
    "df.head()"
   ]
  },
  {
   "cell_type": "code",
   "execution_count": 3,
   "id": "da167d48",
   "metadata": {},
   "outputs": [
    {
     "data": {
      "text/plain": [
       "True     347870\n",
       "False    102306\n",
       "Name: whois_exist, dtype: int64"
      ]
     },
     "execution_count": 3,
     "metadata": {},
     "output_type": "execute_result"
    }
   ],
   "source": [
    "# See counts for whois_exist column\n",
    "df['whois_exist'].value_counts()"
   ]
  },
  {
   "cell_type": "code",
   "execution_count": 4,
   "id": "49c38975",
   "metadata": {},
   "outputs": [
    {
     "data": {
      "text/plain": [
       "True     348556\n",
       "False    101620\n",
       "Name: whois_exist, dtype: int64"
      ]
     },
     "execution_count": 4,
     "metadata": {},
     "output_type": "execute_result"
    }
   ],
   "source": [
    "# Set whois_exist to True if any of these columns are not -1\n",
    "# days_since_creation, days_since_last_update, days_until_expiration\n",
    "counter = 0\n",
    "for index, row in df.iterrows():\n",
    "    days_since_creation = row['days_since_creation']\n",
    "    days_since_last_update = row['days_since_last_update']\n",
    "    days_until_expiration = row['days_until_expiration']\n",
    "    whois_exist = row['whois_exist']\n",
    "    \n",
    "    if whois_exist == False: \n",
    "        if (days_since_creation != -1) or (days_since_last_update != -1) or (days_until_expiration != -1): \n",
    "            # print(days_since_creation, days_since_last_update, days_until_expiration)\n",
    "            # Set whois_exist to True as one of the values exist\n",
    "            df.at[index,'whois_exist'] = True    \n",
    "    \n",
    "# See the new whois_exist counts\n",
    "df['whois_exist'].value_counts()"
   ]
  },
  {
   "cell_type": "markdown",
   "id": "0cd1c500",
   "metadata": {},
   "source": [
    "### Generate other features"
   ]
  },
  {
   "cell_type": "code",
   "execution_count": 5,
   "id": "2bf9e71a",
   "metadata": {},
   "outputs": [],
   "source": [
    "# URL Length feature\n",
    "df['url_length'] = df['url'].apply(lambda x: len(str(x)))"
   ]
  },
  {
   "cell_type": "code",
   "execution_count": 6,
   "id": "8ca588de",
   "metadata": {},
   "outputs": [
    {
     "data": {
      "text/html": [
       "<div>\n",
       "<style scoped>\n",
       "    .dataframe tbody tr th:only-of-type {\n",
       "        vertical-align: middle;\n",
       "    }\n",
       "\n",
       "    .dataframe tbody tr th {\n",
       "        vertical-align: top;\n",
       "    }\n",
       "\n",
       "    .dataframe thead th {\n",
       "        text-align: right;\n",
       "    }\n",
       "</style>\n",
       "<table border=\"1\" class=\"dataframe\">\n",
       "  <thead>\n",
       "    <tr style=\"text-align: right;\">\n",
       "      <th></th>\n",
       "      <th>url</th>\n",
       "      <th>result</th>\n",
       "      <th>whois_exist</th>\n",
       "      <th>days_since_creation</th>\n",
       "      <th>days_since_last_update</th>\n",
       "      <th>days_until_expiration</th>\n",
       "      <th>url_length</th>\n",
       "    </tr>\n",
       "  </thead>\n",
       "  <tbody>\n",
       "    <tr>\n",
       "      <th>0</th>\n",
       "      <td>https://www.google.com</td>\n",
       "      <td>1</td>\n",
       "      <td>True</td>\n",
       "      <td>8772</td>\n",
       "      <td>743</td>\n",
       "      <td>2549</td>\n",
       "      <td>22</td>\n",
       "    </tr>\n",
       "    <tr>\n",
       "      <th>1</th>\n",
       "      <td>https://www.youtube.com</td>\n",
       "      <td>1</td>\n",
       "      <td>True</td>\n",
       "      <td>6062</td>\n",
       "      <td>250</td>\n",
       "      <td>146</td>\n",
       "      <td>23</td>\n",
       "    </tr>\n",
       "    <tr>\n",
       "      <th>2</th>\n",
       "      <td>https://www.facebook.com</td>\n",
       "      <td>1</td>\n",
       "      <td>True</td>\n",
       "      <td>8942</td>\n",
       "      <td>560</td>\n",
       "      <td>2381</td>\n",
       "      <td>24</td>\n",
       "    </tr>\n",
       "    <tr>\n",
       "      <th>3</th>\n",
       "      <td>https://www.baidu.com</td>\n",
       "      <td>1</td>\n",
       "      <td>True</td>\n",
       "      <td>8016</td>\n",
       "      <td>286</td>\n",
       "      <td>1845</td>\n",
       "      <td>21</td>\n",
       "    </tr>\n",
       "    <tr>\n",
       "      <th>4</th>\n",
       "      <td>https://www.wikipedia.org</td>\n",
       "      <td>1</td>\n",
       "      <td>True</td>\n",
       "      <td>7557</td>\n",
       "      <td>341</td>\n",
       "      <td>477</td>\n",
       "      <td>25</td>\n",
       "    </tr>\n",
       "  </tbody>\n",
       "</table>\n",
       "</div>"
      ],
      "text/plain": [
       "                         url  result  whois_exist  days_since_creation  \\\n",
       "0     https://www.google.com       1         True                 8772   \n",
       "1    https://www.youtube.com       1         True                 6062   \n",
       "2   https://www.facebook.com       1         True                 8942   \n",
       "3      https://www.baidu.com       1         True                 8016   \n",
       "4  https://www.wikipedia.org       1         True                 7557   \n",
       "\n",
       "   days_since_last_update  days_until_expiration  url_length  \n",
       "0                     743                   2549          22  \n",
       "1                     250                    146          23  \n",
       "2                     560                   2381          24  \n",
       "3                     286                   1845          21  \n",
       "4                     341                    477          25  "
      ]
     },
     "execution_count": 6,
     "metadata": {},
     "output_type": "execute_result"
    }
   ],
   "source": [
    "df.head()"
   ]
  },
  {
   "cell_type": "code",
   "execution_count": 7,
   "id": "3aafb4a3",
   "metadata": {},
   "outputs": [
    {
     "data": {
      "text/html": [
       "<div>\n",
       "<style scoped>\n",
       "    .dataframe tbody tr th:only-of-type {\n",
       "        vertical-align: middle;\n",
       "    }\n",
       "\n",
       "    .dataframe tbody tr th {\n",
       "        vertical-align: top;\n",
       "    }\n",
       "\n",
       "    .dataframe thead th {\n",
       "        text-align: right;\n",
       "    }\n",
       "</style>\n",
       "<table border=\"1\" class=\"dataframe\">\n",
       "  <thead>\n",
       "    <tr style=\"text-align: right;\">\n",
       "      <th></th>\n",
       "      <th>url</th>\n",
       "      <th>result</th>\n",
       "      <th>whois_exist</th>\n",
       "      <th>days_since_creation</th>\n",
       "      <th>days_since_last_update</th>\n",
       "      <th>days_until_expiration</th>\n",
       "      <th>url_length</th>\n",
       "      <th>path_length</th>\n",
       "    </tr>\n",
       "  </thead>\n",
       "  <tbody>\n",
       "    <tr>\n",
       "      <th>0</th>\n",
       "      <td>https://www.google.com</td>\n",
       "      <td>1</td>\n",
       "      <td>True</td>\n",
       "      <td>8772</td>\n",
       "      <td>743</td>\n",
       "      <td>2549</td>\n",
       "      <td>22</td>\n",
       "      <td>0</td>\n",
       "    </tr>\n",
       "    <tr>\n",
       "      <th>1</th>\n",
       "      <td>https://www.youtube.com</td>\n",
       "      <td>1</td>\n",
       "      <td>True</td>\n",
       "      <td>6062</td>\n",
       "      <td>250</td>\n",
       "      <td>146</td>\n",
       "      <td>23</td>\n",
       "      <td>0</td>\n",
       "    </tr>\n",
       "    <tr>\n",
       "      <th>2</th>\n",
       "      <td>https://www.facebook.com</td>\n",
       "      <td>1</td>\n",
       "      <td>True</td>\n",
       "      <td>8942</td>\n",
       "      <td>560</td>\n",
       "      <td>2381</td>\n",
       "      <td>24</td>\n",
       "      <td>0</td>\n",
       "    </tr>\n",
       "    <tr>\n",
       "      <th>3</th>\n",
       "      <td>https://www.baidu.com</td>\n",
       "      <td>1</td>\n",
       "      <td>True</td>\n",
       "      <td>8016</td>\n",
       "      <td>286</td>\n",
       "      <td>1845</td>\n",
       "      <td>21</td>\n",
       "      <td>0</td>\n",
       "    </tr>\n",
       "    <tr>\n",
       "      <th>4</th>\n",
       "      <td>https://www.wikipedia.org</td>\n",
       "      <td>1</td>\n",
       "      <td>True</td>\n",
       "      <td>7557</td>\n",
       "      <td>341</td>\n",
       "      <td>477</td>\n",
       "      <td>25</td>\n",
       "      <td>0</td>\n",
       "    </tr>\n",
       "  </tbody>\n",
       "</table>\n",
       "</div>"
      ],
      "text/plain": [
       "                         url  result  whois_exist  days_since_creation  \\\n",
       "0     https://www.google.com       1         True                 8772   \n",
       "1    https://www.youtube.com       1         True                 6062   \n",
       "2   https://www.facebook.com       1         True                 8942   \n",
       "3      https://www.baidu.com       1         True                 8016   \n",
       "4  https://www.wikipedia.org       1         True                 7557   \n",
       "\n",
       "   days_since_last_update  days_until_expiration  url_length  path_length  \n",
       "0                     743                   2549          22            0  \n",
       "1                     250                    146          23            0  \n",
       "2                     560                   2381          24            0  \n",
       "3                     286                   1845          21            0  \n",
       "4                     341                    477          25            0  "
      ]
     },
     "execution_count": 7,
     "metadata": {},
     "output_type": "execute_result"
    }
   ],
   "source": [
    "# Path length feature\n",
    "df['path_length'] = df['url'].apply(lambda x: len(urlparse(x).path))\n",
    "df.head()"
   ]
  },
  {
   "cell_type": "code",
   "execution_count": 8,
   "id": "f4029974",
   "metadata": {},
   "outputs": [
    {
     "data": {
      "text/html": [
       "<div>\n",
       "<style scoped>\n",
       "    .dataframe tbody tr th:only-of-type {\n",
       "        vertical-align: middle;\n",
       "    }\n",
       "\n",
       "    .dataframe tbody tr th {\n",
       "        vertical-align: top;\n",
       "    }\n",
       "\n",
       "    .dataframe thead th {\n",
       "        text-align: right;\n",
       "    }\n",
       "</style>\n",
       "<table border=\"1\" class=\"dataframe\">\n",
       "  <thead>\n",
       "    <tr style=\"text-align: right;\">\n",
       "      <th></th>\n",
       "      <th>url</th>\n",
       "      <th>result</th>\n",
       "      <th>whois_exist</th>\n",
       "      <th>days_since_creation</th>\n",
       "      <th>days_since_last_update</th>\n",
       "      <th>days_until_expiration</th>\n",
       "      <th>url_length</th>\n",
       "      <th>path_length</th>\n",
       "      <th>hostname_length</th>\n",
       "    </tr>\n",
       "  </thead>\n",
       "  <tbody>\n",
       "    <tr>\n",
       "      <th>0</th>\n",
       "      <td>https://www.google.com</td>\n",
       "      <td>1</td>\n",
       "      <td>True</td>\n",
       "      <td>8772</td>\n",
       "      <td>743</td>\n",
       "      <td>2549</td>\n",
       "      <td>22</td>\n",
       "      <td>0</td>\n",
       "      <td>14</td>\n",
       "    </tr>\n",
       "    <tr>\n",
       "      <th>1</th>\n",
       "      <td>https://www.youtube.com</td>\n",
       "      <td>1</td>\n",
       "      <td>True</td>\n",
       "      <td>6062</td>\n",
       "      <td>250</td>\n",
       "      <td>146</td>\n",
       "      <td>23</td>\n",
       "      <td>0</td>\n",
       "      <td>15</td>\n",
       "    </tr>\n",
       "    <tr>\n",
       "      <th>2</th>\n",
       "      <td>https://www.facebook.com</td>\n",
       "      <td>1</td>\n",
       "      <td>True</td>\n",
       "      <td>8942</td>\n",
       "      <td>560</td>\n",
       "      <td>2381</td>\n",
       "      <td>24</td>\n",
       "      <td>0</td>\n",
       "      <td>16</td>\n",
       "    </tr>\n",
       "    <tr>\n",
       "      <th>3</th>\n",
       "      <td>https://www.baidu.com</td>\n",
       "      <td>1</td>\n",
       "      <td>True</td>\n",
       "      <td>8016</td>\n",
       "      <td>286</td>\n",
       "      <td>1845</td>\n",
       "      <td>21</td>\n",
       "      <td>0</td>\n",
       "      <td>13</td>\n",
       "    </tr>\n",
       "    <tr>\n",
       "      <th>4</th>\n",
       "      <td>https://www.wikipedia.org</td>\n",
       "      <td>1</td>\n",
       "      <td>True</td>\n",
       "      <td>7557</td>\n",
       "      <td>341</td>\n",
       "      <td>477</td>\n",
       "      <td>25</td>\n",
       "      <td>0</td>\n",
       "      <td>17</td>\n",
       "    </tr>\n",
       "  </tbody>\n",
       "</table>\n",
       "</div>"
      ],
      "text/plain": [
       "                         url  result  whois_exist  days_since_creation  \\\n",
       "0     https://www.google.com       1         True                 8772   \n",
       "1    https://www.youtube.com       1         True                 6062   \n",
       "2   https://www.facebook.com       1         True                 8942   \n",
       "3      https://www.baidu.com       1         True                 8016   \n",
       "4  https://www.wikipedia.org       1         True                 7557   \n",
       "\n",
       "   days_since_last_update  days_until_expiration  url_length  path_length  \\\n",
       "0                     743                   2549          22            0   \n",
       "1                     250                    146          23            0   \n",
       "2                     560                   2381          24            0   \n",
       "3                     286                   1845          21            0   \n",
       "4                     341                    477          25            0   \n",
       "\n",
       "   hostname_length  \n",
       "0               14  \n",
       "1               15  \n",
       "2               16  \n",
       "3               13  \n",
       "4               17  "
      ]
     },
     "execution_count": 8,
     "metadata": {},
     "output_type": "execute_result"
    }
   ],
   "source": [
    "# Hostname length feature\n",
    "df['hostname_length'] = df['url'].apply(lambda x: len(urlparse(x).netloc))\n",
    "df.head()"
   ]
  },
  {
   "cell_type": "code",
   "execution_count": 9,
   "id": "4da6c8d2",
   "metadata": {},
   "outputs": [
    {
     "data": {
      "text/html": [
       "<div>\n",
       "<style scoped>\n",
       "    .dataframe tbody tr th:only-of-type {\n",
       "        vertical-align: middle;\n",
       "    }\n",
       "\n",
       "    .dataframe tbody tr th {\n",
       "        vertical-align: top;\n",
       "    }\n",
       "\n",
       "    .dataframe thead th {\n",
       "        text-align: right;\n",
       "    }\n",
       "</style>\n",
       "<table border=\"1\" class=\"dataframe\">\n",
       "  <thead>\n",
       "    <tr style=\"text-align: right;\">\n",
       "      <th></th>\n",
       "      <th>url</th>\n",
       "      <th>result</th>\n",
       "      <th>whois_exist</th>\n",
       "      <th>days_since_creation</th>\n",
       "      <th>days_since_last_update</th>\n",
       "      <th>days_until_expiration</th>\n",
       "      <th>url_length</th>\n",
       "      <th>path_length</th>\n",
       "      <th>hostname_length</th>\n",
       "      <th>fd_length</th>\n",
       "    </tr>\n",
       "  </thead>\n",
       "  <tbody>\n",
       "    <tr>\n",
       "      <th>2503</th>\n",
       "      <td>https://www.april-inv.com/insightful-venus-ter...</td>\n",
       "      <td>1</td>\n",
       "      <td>False</td>\n",
       "      <td>-1</td>\n",
       "      <td>-1</td>\n",
       "      <td>-1</td>\n",
       "      <td>61</td>\n",
       "      <td>36</td>\n",
       "      <td>17</td>\n",
       "      <td>34</td>\n",
       "    </tr>\n",
       "    <tr>\n",
       "      <th>2506</th>\n",
       "      <td>https://www.aprilsbeachvolleyballblog.typepad....</td>\n",
       "      <td>1</td>\n",
       "      <td>True</td>\n",
       "      <td>6749</td>\n",
       "      <td>55</td>\n",
       "      <td>2016</td>\n",
       "      <td>207</td>\n",
       "      <td>158</td>\n",
       "      <td>41</td>\n",
       "      <td>25</td>\n",
       "    </tr>\n",
       "    <tr>\n",
       "      <th>2507</th>\n",
       "      <td>https://www.aprilsbeachvolleyballblog.typepad....</td>\n",
       "      <td>1</td>\n",
       "      <td>True</td>\n",
       "      <td>6749</td>\n",
       "      <td>55</td>\n",
       "      <td>2016</td>\n",
       "      <td>154</td>\n",
       "      <td>105</td>\n",
       "      <td>41</td>\n",
       "      <td>25</td>\n",
       "    </tr>\n",
       "    <tr>\n",
       "      <th>2508</th>\n",
       "      <td>https://www.aprilsims.wordpress.com/2010/02/11...</td>\n",
       "      <td>1</td>\n",
       "      <td>True</td>\n",
       "      <td>7872</td>\n",
       "      <td>598</td>\n",
       "      <td>162</td>\n",
       "      <td>87</td>\n",
       "      <td>52</td>\n",
       "      <td>27</td>\n",
       "      <td>4</td>\n",
       "    </tr>\n",
       "    <tr>\n",
       "      <th>2511</th>\n",
       "      <td>https://www.apsblog.burtongroup.com/2009/01/so...</td>\n",
       "      <td>1</td>\n",
       "      <td>True</td>\n",
       "      <td>8279</td>\n",
       "      <td>613</td>\n",
       "      <td>121</td>\n",
       "      <td>79</td>\n",
       "      <td>44</td>\n",
       "      <td>27</td>\n",
       "      <td>4</td>\n",
       "    </tr>\n",
       "  </tbody>\n",
       "</table>\n",
       "</div>"
      ],
      "text/plain": [
       "                                                    url  result  whois_exist  \\\n",
       "2503  https://www.april-inv.com/insightful-venus-ter...       1        False   \n",
       "2506  https://www.aprilsbeachvolleyballblog.typepad....       1         True   \n",
       "2507  https://www.aprilsbeachvolleyballblog.typepad....       1         True   \n",
       "2508  https://www.aprilsims.wordpress.com/2010/02/11...       1         True   \n",
       "2511  https://www.apsblog.burtongroup.com/2009/01/so...       1         True   \n",
       "\n",
       "      days_since_creation  days_since_last_update  days_until_expiration  \\\n",
       "2503                   -1                      -1                     -1   \n",
       "2506                 6749                      55                   2016   \n",
       "2507                 6749                      55                   2016   \n",
       "2508                 7872                     598                    162   \n",
       "2511                 8279                     613                    121   \n",
       "\n",
       "      url_length  path_length  hostname_length  fd_length  \n",
       "2503          61           36               17         34  \n",
       "2506         207          158               41         25  \n",
       "2507         154          105               41         25  \n",
       "2508          87           52               27          4  \n",
       "2511          79           44               27          4  "
      ]
     },
     "execution_count": 9,
     "metadata": {},
     "output_type": "execute_result"
    }
   ],
   "source": [
    "# First Directory Length feature\n",
    "def first_directory_length(url):\n",
    "    urlpath = urlparse(url).path\n",
    "    try:\n",
    "        return len(urlpath.split('/')[1])\n",
    "    except:\n",
    "        return 0\n",
    "\n",
    "df['fd_length'] = df['url'].apply(lambda x: first_directory_length(x))\n",
    "df[df['fd_length'] != 0].head()"
   ]
  },
  {
   "cell_type": "code",
   "execution_count": 10,
   "id": "9dafe5fd",
   "metadata": {},
   "outputs": [
    {
     "data": {
      "text/html": [
       "<div>\n",
       "<style scoped>\n",
       "    .dataframe tbody tr th:only-of-type {\n",
       "        vertical-align: middle;\n",
       "    }\n",
       "\n",
       "    .dataframe tbody tr th {\n",
       "        vertical-align: top;\n",
       "    }\n",
       "\n",
       "    .dataframe thead th {\n",
       "        text-align: right;\n",
       "    }\n",
       "</style>\n",
       "<table border=\"1\" class=\"dataframe\">\n",
       "  <thead>\n",
       "    <tr style=\"text-align: right;\">\n",
       "      <th></th>\n",
       "      <th>url</th>\n",
       "      <th>result</th>\n",
       "      <th>whois_exist</th>\n",
       "      <th>days_since_creation</th>\n",
       "      <th>days_since_last_update</th>\n",
       "      <th>days_until_expiration</th>\n",
       "      <th>url_length</th>\n",
       "      <th>path_length</th>\n",
       "      <th>hostname_length</th>\n",
       "      <th>fd_length</th>\n",
       "      <th>tld</th>\n",
       "      <th>tld_length</th>\n",
       "    </tr>\n",
       "  </thead>\n",
       "  <tbody>\n",
       "    <tr>\n",
       "      <th>0</th>\n",
       "      <td>https://www.google.com</td>\n",
       "      <td>1</td>\n",
       "      <td>True</td>\n",
       "      <td>8772</td>\n",
       "      <td>743</td>\n",
       "      <td>2549</td>\n",
       "      <td>22</td>\n",
       "      <td>0</td>\n",
       "      <td>14</td>\n",
       "      <td>0</td>\n",
       "      <td>com</td>\n",
       "      <td>3</td>\n",
       "    </tr>\n",
       "    <tr>\n",
       "      <th>1</th>\n",
       "      <td>https://www.youtube.com</td>\n",
       "      <td>1</td>\n",
       "      <td>True</td>\n",
       "      <td>6062</td>\n",
       "      <td>250</td>\n",
       "      <td>146</td>\n",
       "      <td>23</td>\n",
       "      <td>0</td>\n",
       "      <td>15</td>\n",
       "      <td>0</td>\n",
       "      <td>com</td>\n",
       "      <td>3</td>\n",
       "    </tr>\n",
       "    <tr>\n",
       "      <th>2</th>\n",
       "      <td>https://www.facebook.com</td>\n",
       "      <td>1</td>\n",
       "      <td>True</td>\n",
       "      <td>8942</td>\n",
       "      <td>560</td>\n",
       "      <td>2381</td>\n",
       "      <td>24</td>\n",
       "      <td>0</td>\n",
       "      <td>16</td>\n",
       "      <td>0</td>\n",
       "      <td>com</td>\n",
       "      <td>3</td>\n",
       "    </tr>\n",
       "    <tr>\n",
       "      <th>3</th>\n",
       "      <td>https://www.baidu.com</td>\n",
       "      <td>1</td>\n",
       "      <td>True</td>\n",
       "      <td>8016</td>\n",
       "      <td>286</td>\n",
       "      <td>1845</td>\n",
       "      <td>21</td>\n",
       "      <td>0</td>\n",
       "      <td>13</td>\n",
       "      <td>0</td>\n",
       "      <td>com</td>\n",
       "      <td>3</td>\n",
       "    </tr>\n",
       "    <tr>\n",
       "      <th>4</th>\n",
       "      <td>https://www.wikipedia.org</td>\n",
       "      <td>1</td>\n",
       "      <td>True</td>\n",
       "      <td>7557</td>\n",
       "      <td>341</td>\n",
       "      <td>477</td>\n",
       "      <td>25</td>\n",
       "      <td>0</td>\n",
       "      <td>17</td>\n",
       "      <td>0</td>\n",
       "      <td>org</td>\n",
       "      <td>3</td>\n",
       "    </tr>\n",
       "  </tbody>\n",
       "</table>\n",
       "</div>"
      ],
      "text/plain": [
       "                         url  result  whois_exist  days_since_creation  \\\n",
       "0     https://www.google.com       1         True                 8772   \n",
       "1    https://www.youtube.com       1         True                 6062   \n",
       "2   https://www.facebook.com       1         True                 8942   \n",
       "3      https://www.baidu.com       1         True                 8016   \n",
       "4  https://www.wikipedia.org       1         True                 7557   \n",
       "\n",
       "   days_since_last_update  days_until_expiration  url_length  path_length  \\\n",
       "0                     743                   2549          22            0   \n",
       "1                     250                    146          23            0   \n",
       "2                     560                   2381          24            0   \n",
       "3                     286                   1845          21            0   \n",
       "4                     341                    477          25            0   \n",
       "\n",
       "   hostname_length  fd_length  tld  tld_length  \n",
       "0               14          0  com           3  \n",
       "1               15          0  com           3  \n",
       "2               16          0  com           3  \n",
       "3               13          0  com           3  \n",
       "4               17          0  org           3  "
      ]
     },
     "execution_count": 10,
     "metadata": {},
     "output_type": "execute_result"
    }
   ],
   "source": [
    "# Length of Top Level Domain feature\n",
    "def tld_length(tld):\n",
    "    try:\n",
    "        return len(tld)\n",
    "    except:\n",
    "        return -1\n",
    "df['tld'] = df['url'].apply(lambda i: get_tld(i, fail_silently = True))\n",
    "df['tld_length'] = df['tld'].apply(lambda i: tld_length(i))\n",
    "df.head()"
   ]
  },
  {
   "cell_type": "code",
   "execution_count": 11,
   "id": "e88b8c4a",
   "metadata": {},
   "outputs": [
    {
     "name": "stdout",
     "output_type": "stream",
     "text": [
      "Unique top level domains:  1062\n"
     ]
    },
    {
     "data": {
      "text/plain": [
       "array(['com', 'org', 'co.in', ..., 'ap-southeast-1.compute.amazonaws.com',\n",
       "       'elasticbeanstalk.com', 'chirurgiens-dentistes.fr'], dtype=object)"
      ]
     },
     "execution_count": 11,
     "metadata": {},
     "output_type": "execute_result"
    }
   ],
   "source": [
    "# See unique tld values\n",
    "a = df['tld'].unique()\n",
    "print('Unique top level domains: ', len(a))\n",
    "a"
   ]
  },
  {
   "cell_type": "code",
   "execution_count": 12,
   "id": "9d4dfea8",
   "metadata": {},
   "outputs": [
    {
     "data": {
      "text/plain": [
       "sklearn.preprocessing._encoders.OrdinalEncoder"
      ]
     },
     "execution_count": 12,
     "metadata": {},
     "output_type": "execute_result"
    }
   ],
   "source": [
    "from sklearn.preprocessing import OrdinalEncoder\n",
    "enc = OrdinalEncoder()\n",
    "enc.fit(df.tld.values.reshape(-1,1))\n",
    "type(enc)"
   ]
  },
  {
   "cell_type": "code",
   "execution_count": 16,
   "id": "c6e84e7e",
   "metadata": {},
   "outputs": [
    {
     "data": {
      "text/plain": [
       "1062"
      ]
     },
     "execution_count": 16,
     "metadata": {},
     "output_type": "execute_result"
    }
   ],
   "source": [
    "len(enc.categories_[0])"
   ]
  },
  {
   "cell_type": "code",
   "execution_count": 17,
   "id": "d8677eb2",
   "metadata": {},
   "outputs": [
    {
     "data": {
      "text/plain": [
       "array([[1060.]])"
      ]
     },
     "execution_count": 17,
     "metadata": {},
     "output_type": "execute_result"
    }
   ],
   "source": [
    "# Ordinal encoder when using a value that exists\n",
    "website = 'zp.ua'\n",
    "vals = np.array([website])\n",
    "value = enc.transform(vals.reshape(-1,1))\n",
    "(value)"
   ]
  },
  {
   "cell_type": "code",
   "execution_count": 18,
   "id": "0fe7a642",
   "metadata": {},
   "outputs": [
    {
     "name": "stdout",
     "output_type": "stream",
     "text": [
      "Value does not exist in encoding\n",
      "[[1063]]\n"
     ]
    }
   ],
   "source": [
    "# Ordinal encoder when using a value that does not exist\n",
    "# Assign to a value which is greater than the total number of values coded\n",
    "website = 'abc'\n",
    "vals = np.array([website])\n",
    "try: \n",
    "    enc.transform(vals.reshape(-1,1))\n",
    "except ValueError: \n",
    "    print('Value does not exist in encoding')\n",
    "    value = len(enc.categories_[0]) + 1\n",
    "    value = np.array([[value]])\n",
    "    print(value)"
   ]
  },
  {
   "cell_type": "code",
   "execution_count": 13,
   "id": "55fdd677",
   "metadata": {},
   "outputs": [
    {
     "data": {
      "text/html": [
       "<div>\n",
       "<style scoped>\n",
       "    .dataframe tbody tr th:only-of-type {\n",
       "        vertical-align: middle;\n",
       "    }\n",
       "\n",
       "    .dataframe tbody tr th {\n",
       "        vertical-align: top;\n",
       "    }\n",
       "\n",
       "    .dataframe thead th {\n",
       "        text-align: right;\n",
       "    }\n",
       "</style>\n",
       "<table border=\"1\" class=\"dataframe\">\n",
       "  <thead>\n",
       "    <tr style=\"text-align: right;\">\n",
       "      <th></th>\n",
       "      <th>url</th>\n",
       "      <th>result</th>\n",
       "      <th>whois_exist</th>\n",
       "      <th>days_since_creation</th>\n",
       "      <th>days_since_last_update</th>\n",
       "      <th>days_until_expiration</th>\n",
       "      <th>url_length</th>\n",
       "      <th>path_length</th>\n",
       "      <th>hostname_length</th>\n",
       "      <th>fd_length</th>\n",
       "      <th>tld</th>\n",
       "      <th>tld_length</th>\n",
       "    </tr>\n",
       "  </thead>\n",
       "  <tbody>\n",
       "    <tr>\n",
       "      <th>0</th>\n",
       "      <td>https://www.google.com</td>\n",
       "      <td>1</td>\n",
       "      <td>True</td>\n",
       "      <td>8772</td>\n",
       "      <td>743</td>\n",
       "      <td>2549</td>\n",
       "      <td>22</td>\n",
       "      <td>0</td>\n",
       "      <td>14</td>\n",
       "      <td>0</td>\n",
       "      <td>206.0</td>\n",
       "      <td>3</td>\n",
       "    </tr>\n",
       "    <tr>\n",
       "      <th>1</th>\n",
       "      <td>https://www.youtube.com</td>\n",
       "      <td>1</td>\n",
       "      <td>True</td>\n",
       "      <td>6062</td>\n",
       "      <td>250</td>\n",
       "      <td>146</td>\n",
       "      <td>23</td>\n",
       "      <td>0</td>\n",
       "      <td>15</td>\n",
       "      <td>0</td>\n",
       "      <td>206.0</td>\n",
       "      <td>3</td>\n",
       "    </tr>\n",
       "    <tr>\n",
       "      <th>2</th>\n",
       "      <td>https://www.facebook.com</td>\n",
       "      <td>1</td>\n",
       "      <td>True</td>\n",
       "      <td>8942</td>\n",
       "      <td>560</td>\n",
       "      <td>2381</td>\n",
       "      <td>24</td>\n",
       "      <td>0</td>\n",
       "      <td>16</td>\n",
       "      <td>0</td>\n",
       "      <td>206.0</td>\n",
       "      <td>3</td>\n",
       "    </tr>\n",
       "    <tr>\n",
       "      <th>3</th>\n",
       "      <td>https://www.baidu.com</td>\n",
       "      <td>1</td>\n",
       "      <td>True</td>\n",
       "      <td>8016</td>\n",
       "      <td>286</td>\n",
       "      <td>1845</td>\n",
       "      <td>21</td>\n",
       "      <td>0</td>\n",
       "      <td>13</td>\n",
       "      <td>0</td>\n",
       "      <td>206.0</td>\n",
       "      <td>3</td>\n",
       "    </tr>\n",
       "    <tr>\n",
       "      <th>4</th>\n",
       "      <td>https://www.wikipedia.org</td>\n",
       "      <td>1</td>\n",
       "      <td>True</td>\n",
       "      <td>7557</td>\n",
       "      <td>341</td>\n",
       "      <td>477</td>\n",
       "      <td>25</td>\n",
       "      <td>0</td>\n",
       "      <td>17</td>\n",
       "      <td>0</td>\n",
       "      <td>770.0</td>\n",
       "      <td>3</td>\n",
       "    </tr>\n",
       "  </tbody>\n",
       "</table>\n",
       "</div>"
      ],
      "text/plain": [
       "                         url  result  whois_exist  days_since_creation  \\\n",
       "0     https://www.google.com       1         True                 8772   \n",
       "1    https://www.youtube.com       1         True                 6062   \n",
       "2   https://www.facebook.com       1         True                 8942   \n",
       "3      https://www.baidu.com       1         True                 8016   \n",
       "4  https://www.wikipedia.org       1         True                 7557   \n",
       "\n",
       "   days_since_last_update  days_until_expiration  url_length  path_length  \\\n",
       "0                     743                   2549          22            0   \n",
       "1                     250                    146          23            0   \n",
       "2                     560                   2381          24            0   \n",
       "3                     286                   1845          21            0   \n",
       "4                     341                    477          25            0   \n",
       "\n",
       "   hostname_length  fd_length    tld  tld_length  \n",
       "0               14          0  206.0           3  \n",
       "1               15          0  206.0           3  \n",
       "2               16          0  206.0           3  \n",
       "3               13          0  206.0           3  \n",
       "4               17          0  770.0           3  "
      ]
     },
     "execution_count": 13,
     "metadata": {},
     "output_type": "execute_result"
    }
   ],
   "source": [
    "# Encode the tld column\n",
    "from sklearn.preprocessing import OrdinalEncoder\n",
    "enc = OrdinalEncoder()\n",
    "enc.fit(df.tld.values.reshape(-1,1))\n",
    "# df['tld'] = OrdinalEncoder().fit_transform(df.tld.values.reshape(-1,1))\n",
    "df['tld'] = enc.transform(df.tld.values.reshape(-1,1))\n",
    "df.head()"
   ]
  },
  {
   "cell_type": "code",
   "execution_count": 14,
   "id": "27bca147",
   "metadata": {},
   "outputs": [
    {
     "data": {
      "text/html": [
       "<div>\n",
       "<style scoped>\n",
       "    .dataframe tbody tr th:only-of-type {\n",
       "        vertical-align: middle;\n",
       "    }\n",
       "\n",
       "    .dataframe tbody tr th {\n",
       "        vertical-align: top;\n",
       "    }\n",
       "\n",
       "    .dataframe thead th {\n",
       "        text-align: right;\n",
       "    }\n",
       "</style>\n",
       "<table border=\"1\" class=\"dataframe\">\n",
       "  <thead>\n",
       "    <tr style=\"text-align: right;\">\n",
       "      <th></th>\n",
       "      <th>url</th>\n",
       "      <th>result</th>\n",
       "      <th>whois_exist</th>\n",
       "      <th>days_since_creation</th>\n",
       "      <th>days_since_last_update</th>\n",
       "      <th>days_until_expiration</th>\n",
       "      <th>url_length</th>\n",
       "      <th>path_length</th>\n",
       "      <th>hostname_length</th>\n",
       "      <th>fd_length</th>\n",
       "      <th>...</th>\n",
       "      <th>count_?</th>\n",
       "      <th>count_%</th>\n",
       "      <th>count_.</th>\n",
       "      <th>count_=</th>\n",
       "      <th>count_https</th>\n",
       "      <th>count_www</th>\n",
       "      <th>count_digits</th>\n",
       "      <th>count_letters</th>\n",
       "      <th>count_dir</th>\n",
       "      <th>entropy</th>\n",
       "    </tr>\n",
       "  </thead>\n",
       "  <tbody>\n",
       "    <tr>\n",
       "      <th>0</th>\n",
       "      <td>https://www.google.com</td>\n",
       "      <td>1</td>\n",
       "      <td>True</td>\n",
       "      <td>8772</td>\n",
       "      <td>743</td>\n",
       "      <td>2549</td>\n",
       "      <td>22</td>\n",
       "      <td>0</td>\n",
       "      <td>14</td>\n",
       "      <td>0</td>\n",
       "      <td>...</td>\n",
       "      <td>0</td>\n",
       "      <td>0</td>\n",
       "      <td>2</td>\n",
       "      <td>0</td>\n",
       "      <td>1</td>\n",
       "      <td>1</td>\n",
       "      <td>0</td>\n",
       "      <td>17</td>\n",
       "      <td>0</td>\n",
       "      <td>-3.663533</td>\n",
       "    </tr>\n",
       "    <tr>\n",
       "      <th>1</th>\n",
       "      <td>https://www.youtube.com</td>\n",
       "      <td>1</td>\n",
       "      <td>True</td>\n",
       "      <td>6062</td>\n",
       "      <td>250</td>\n",
       "      <td>146</td>\n",
       "      <td>23</td>\n",
       "      <td>0</td>\n",
       "      <td>15</td>\n",
       "      <td>0</td>\n",
       "      <td>...</td>\n",
       "      <td>0</td>\n",
       "      <td>0</td>\n",
       "      <td>2</td>\n",
       "      <td>0</td>\n",
       "      <td>1</td>\n",
       "      <td>1</td>\n",
       "      <td>0</td>\n",
       "      <td>18</td>\n",
       "      <td>0</td>\n",
       "      <td>-3.762267</td>\n",
       "    </tr>\n",
       "    <tr>\n",
       "      <th>2</th>\n",
       "      <td>https://www.facebook.com</td>\n",
       "      <td>1</td>\n",
       "      <td>True</td>\n",
       "      <td>8942</td>\n",
       "      <td>560</td>\n",
       "      <td>2381</td>\n",
       "      <td>24</td>\n",
       "      <td>0</td>\n",
       "      <td>16</td>\n",
       "      <td>0</td>\n",
       "      <td>...</td>\n",
       "      <td>0</td>\n",
       "      <td>0</td>\n",
       "      <td>2</td>\n",
       "      <td>0</td>\n",
       "      <td>1</td>\n",
       "      <td>1</td>\n",
       "      <td>0</td>\n",
       "      <td>19</td>\n",
       "      <td>0</td>\n",
       "      <td>-3.855389</td>\n",
       "    </tr>\n",
       "    <tr>\n",
       "      <th>3</th>\n",
       "      <td>https://www.baidu.com</td>\n",
       "      <td>1</td>\n",
       "      <td>True</td>\n",
       "      <td>8016</td>\n",
       "      <td>286</td>\n",
       "      <td>1845</td>\n",
       "      <td>21</td>\n",
       "      <td>0</td>\n",
       "      <td>13</td>\n",
       "      <td>0</td>\n",
       "      <td>...</td>\n",
       "      <td>0</td>\n",
       "      <td>0</td>\n",
       "      <td>2</td>\n",
       "      <td>0</td>\n",
       "      <td>1</td>\n",
       "      <td>1</td>\n",
       "      <td>0</td>\n",
       "      <td>16</td>\n",
       "      <td>0</td>\n",
       "      <td>-3.880180</td>\n",
       "    </tr>\n",
       "    <tr>\n",
       "      <th>4</th>\n",
       "      <td>https://www.wikipedia.org</td>\n",
       "      <td>1</td>\n",
       "      <td>True</td>\n",
       "      <td>7557</td>\n",
       "      <td>341</td>\n",
       "      <td>477</td>\n",
       "      <td>25</td>\n",
       "      <td>0</td>\n",
       "      <td>17</td>\n",
       "      <td>0</td>\n",
       "      <td>...</td>\n",
       "      <td>0</td>\n",
       "      <td>0</td>\n",
       "      <td>2</td>\n",
       "      <td>0</td>\n",
       "      <td>1</td>\n",
       "      <td>1</td>\n",
       "      <td>0</td>\n",
       "      <td>20</td>\n",
       "      <td>0</td>\n",
       "      <td>-3.813661</td>\n",
       "    </tr>\n",
       "  </tbody>\n",
       "</table>\n",
       "<p>5 rows × 24 columns</p>\n",
       "</div>"
      ],
      "text/plain": [
       "                         url  result  whois_exist  days_since_creation  \\\n",
       "0     https://www.google.com       1         True                 8772   \n",
       "1    https://www.youtube.com       1         True                 6062   \n",
       "2   https://www.facebook.com       1         True                 8942   \n",
       "3      https://www.baidu.com       1         True                 8016   \n",
       "4  https://www.wikipedia.org       1         True                 7557   \n",
       "\n",
       "   days_since_last_update  days_until_expiration  url_length  path_length  \\\n",
       "0                     743                   2549          22            0   \n",
       "1                     250                    146          23            0   \n",
       "2                     560                   2381          24            0   \n",
       "3                     286                   1845          21            0   \n",
       "4                     341                    477          25            0   \n",
       "\n",
       "   hostname_length  fd_length  ...  count_?  count_%  count_.  count_=  \\\n",
       "0               14          0  ...        0        0        2        0   \n",
       "1               15          0  ...        0        0        2        0   \n",
       "2               16          0  ...        0        0        2        0   \n",
       "3               13          0  ...        0        0        2        0   \n",
       "4               17          0  ...        0        0        2        0   \n",
       "\n",
       "   count_https  count_www  count_digits  count_letters  count_dir   entropy  \n",
       "0            1          1             0             17          0 -3.663533  \n",
       "1            1          1             0             18          0 -3.762267  \n",
       "2            1          1             0             19          0 -3.855389  \n",
       "3            1          1             0             16          0 -3.880180  \n",
       "4            1          1             0             20          0 -3.813661  \n",
       "\n",
       "[5 rows x 24 columns]"
      ]
     },
     "execution_count": 14,
     "metadata": {},
     "output_type": "execute_result"
    }
   ],
   "source": [
    "df['count_of_-'] = df['url'].apply(lambda i: i.count('-'))\n",
    "df['count_@'] = df['url'].apply(lambda i: i.count('@'))\n",
    "df['count_?'] = df['url'].apply(lambda i: i.count('?'))\n",
    "df['count_%'] = df['url'].apply(lambda i: i.count('%'))\n",
    "df['count_.'] = df['url'].apply(lambda i: i.count('.'))\n",
    "df['count_='] = df['url'].apply(lambda i: i.count('='))\n",
    "df['count_https'] = df['url'].apply(lambda i : i.count('https'))\n",
    "df['count_www'] = df['url'].apply(lambda i: i.count('www'))\n",
    "def digit_count(url):\n",
    "    digits = 0\n",
    "    for i in url:\n",
    "        if i.isnumeric():\n",
    "            digits = digits + 1\n",
    "    return digits\n",
    "df['count_digits']= df['url'].apply(lambda i: digit_count(i))\n",
    "def letter_count(url):\n",
    "    letters = 0\n",
    "    for i in url:\n",
    "        if i.isalpha():\n",
    "            letters = letters + 1\n",
    "    return letters\n",
    "df['count_letters']= df['url'].apply(lambda i: letter_count(i))\n",
    "def no_of_dir(url):\n",
    "    urldir = urlparse(url).path\n",
    "    return urldir.count('/')\n",
    "df['count_dir'] = df['url'].apply(lambda i: no_of_dir(i))\n",
    "def entropy(url):\n",
    "    # See: https://onestopdataanalysis.com/shannon-entropy/\n",
    "    string = url.strip()\n",
    "    prob = [float(string.count(c)) / len(string) for c in dict.fromkeys(list(string))]\n",
    "    entropy = sum([(p * math.log(p) / math.log(2.0)) for p in prob])\n",
    "    return entropy\n",
    "df['entropy'] = df['url'].apply(lambda i: entropy(i))\n",
    "df.head()"
   ]
  },
  {
   "cell_type": "code",
   "execution_count": 15,
   "id": "ae2a319b",
   "metadata": {},
   "outputs": [],
   "source": [
    "def numParameters(url):\n",
    "    params = url.split('&')\n",
    "    return len(params) - 1\n",
    "df['num_parameters'] = df['url'].apply(lambda i: numParameters(i))\n",
    "def numFragments(url):\n",
    "    fragments = url.split('#')\n",
    "    return len(fragments) - 1\n",
    "df['num_fragments'] = df['url'].apply(lambda i: numFragments(i))\n",
    "def numSubDomains(url):\n",
    "    subdomains = url.split('http')[-1].split('//')[-1].split('/')\n",
    "    return len(subdomains) - 1\n",
    "df['num_subdomains'] = df['url'].apply(lambda i: numSubDomains(i))"
   ]
  },
  {
   "cell_type": "code",
   "execution_count": 16,
   "id": "e6e303c4",
   "metadata": {},
   "outputs": [
    {
     "data": {
      "text/html": [
       "<div>\n",
       "<style scoped>\n",
       "    .dataframe tbody tr th:only-of-type {\n",
       "        vertical-align: middle;\n",
       "    }\n",
       "\n",
       "    .dataframe tbody tr th {\n",
       "        vertical-align: top;\n",
       "    }\n",
       "\n",
       "    .dataframe thead th {\n",
       "        text-align: right;\n",
       "    }\n",
       "</style>\n",
       "<table border=\"1\" class=\"dataframe\">\n",
       "  <thead>\n",
       "    <tr style=\"text-align: right;\">\n",
       "      <th></th>\n",
       "      <th>url</th>\n",
       "      <th>result</th>\n",
       "      <th>whois_exist</th>\n",
       "      <th>days_since_creation</th>\n",
       "      <th>days_since_last_update</th>\n",
       "      <th>days_until_expiration</th>\n",
       "      <th>url_length</th>\n",
       "      <th>path_length</th>\n",
       "      <th>hostname_length</th>\n",
       "      <th>fd_length</th>\n",
       "      <th>...</th>\n",
       "      <th>count_=</th>\n",
       "      <th>count_https</th>\n",
       "      <th>count_www</th>\n",
       "      <th>count_digits</th>\n",
       "      <th>count_letters</th>\n",
       "      <th>count_dir</th>\n",
       "      <th>entropy</th>\n",
       "      <th>num_parameters</th>\n",
       "      <th>num_fragments</th>\n",
       "      <th>num_subdomains</th>\n",
       "    </tr>\n",
       "  </thead>\n",
       "  <tbody>\n",
       "    <tr>\n",
       "      <th>0</th>\n",
       "      <td>https://www.google.com</td>\n",
       "      <td>1</td>\n",
       "      <td>True</td>\n",
       "      <td>8772</td>\n",
       "      <td>743</td>\n",
       "      <td>2549</td>\n",
       "      <td>22</td>\n",
       "      <td>0</td>\n",
       "      <td>14</td>\n",
       "      <td>0</td>\n",
       "      <td>...</td>\n",
       "      <td>0</td>\n",
       "      <td>1</td>\n",
       "      <td>1</td>\n",
       "      <td>0</td>\n",
       "      <td>17</td>\n",
       "      <td>0</td>\n",
       "      <td>-3.663533</td>\n",
       "      <td>0</td>\n",
       "      <td>0</td>\n",
       "      <td>0</td>\n",
       "    </tr>\n",
       "    <tr>\n",
       "      <th>1</th>\n",
       "      <td>https://www.youtube.com</td>\n",
       "      <td>1</td>\n",
       "      <td>True</td>\n",
       "      <td>6062</td>\n",
       "      <td>250</td>\n",
       "      <td>146</td>\n",
       "      <td>23</td>\n",
       "      <td>0</td>\n",
       "      <td>15</td>\n",
       "      <td>0</td>\n",
       "      <td>...</td>\n",
       "      <td>0</td>\n",
       "      <td>1</td>\n",
       "      <td>1</td>\n",
       "      <td>0</td>\n",
       "      <td>18</td>\n",
       "      <td>0</td>\n",
       "      <td>-3.762267</td>\n",
       "      <td>0</td>\n",
       "      <td>0</td>\n",
       "      <td>0</td>\n",
       "    </tr>\n",
       "    <tr>\n",
       "      <th>2</th>\n",
       "      <td>https://www.facebook.com</td>\n",
       "      <td>1</td>\n",
       "      <td>True</td>\n",
       "      <td>8942</td>\n",
       "      <td>560</td>\n",
       "      <td>2381</td>\n",
       "      <td>24</td>\n",
       "      <td>0</td>\n",
       "      <td>16</td>\n",
       "      <td>0</td>\n",
       "      <td>...</td>\n",
       "      <td>0</td>\n",
       "      <td>1</td>\n",
       "      <td>1</td>\n",
       "      <td>0</td>\n",
       "      <td>19</td>\n",
       "      <td>0</td>\n",
       "      <td>-3.855389</td>\n",
       "      <td>0</td>\n",
       "      <td>0</td>\n",
       "      <td>0</td>\n",
       "    </tr>\n",
       "    <tr>\n",
       "      <th>3</th>\n",
       "      <td>https://www.baidu.com</td>\n",
       "      <td>1</td>\n",
       "      <td>True</td>\n",
       "      <td>8016</td>\n",
       "      <td>286</td>\n",
       "      <td>1845</td>\n",
       "      <td>21</td>\n",
       "      <td>0</td>\n",
       "      <td>13</td>\n",
       "      <td>0</td>\n",
       "      <td>...</td>\n",
       "      <td>0</td>\n",
       "      <td>1</td>\n",
       "      <td>1</td>\n",
       "      <td>0</td>\n",
       "      <td>16</td>\n",
       "      <td>0</td>\n",
       "      <td>-3.880180</td>\n",
       "      <td>0</td>\n",
       "      <td>0</td>\n",
       "      <td>0</td>\n",
       "    </tr>\n",
       "    <tr>\n",
       "      <th>4</th>\n",
       "      <td>https://www.wikipedia.org</td>\n",
       "      <td>1</td>\n",
       "      <td>True</td>\n",
       "      <td>7557</td>\n",
       "      <td>341</td>\n",
       "      <td>477</td>\n",
       "      <td>25</td>\n",
       "      <td>0</td>\n",
       "      <td>17</td>\n",
       "      <td>0</td>\n",
       "      <td>...</td>\n",
       "      <td>0</td>\n",
       "      <td>1</td>\n",
       "      <td>1</td>\n",
       "      <td>0</td>\n",
       "      <td>20</td>\n",
       "      <td>0</td>\n",
       "      <td>-3.813661</td>\n",
       "      <td>0</td>\n",
       "      <td>0</td>\n",
       "      <td>0</td>\n",
       "    </tr>\n",
       "  </tbody>\n",
       "</table>\n",
       "<p>5 rows × 27 columns</p>\n",
       "</div>"
      ],
      "text/plain": [
       "                         url  result  whois_exist  days_since_creation  \\\n",
       "0     https://www.google.com       1         True                 8772   \n",
       "1    https://www.youtube.com       1         True                 6062   \n",
       "2   https://www.facebook.com       1         True                 8942   \n",
       "3      https://www.baidu.com       1         True                 8016   \n",
       "4  https://www.wikipedia.org       1         True                 7557   \n",
       "\n",
       "   days_since_last_update  days_until_expiration  url_length  path_length  \\\n",
       "0                     743                   2549          22            0   \n",
       "1                     250                    146          23            0   \n",
       "2                     560                   2381          24            0   \n",
       "3                     286                   1845          21            0   \n",
       "4                     341                    477          25            0   \n",
       "\n",
       "   hostname_length  fd_length  ...  count_=  count_https  count_www  \\\n",
       "0               14          0  ...        0            1          1   \n",
       "1               15          0  ...        0            1          1   \n",
       "2               16          0  ...        0            1          1   \n",
       "3               13          0  ...        0            1          1   \n",
       "4               17          0  ...        0            1          1   \n",
       "\n",
       "   count_digits  count_letters  count_dir   entropy  num_parameters  \\\n",
       "0             0             17          0 -3.663533               0   \n",
       "1             0             18          0 -3.762267               0   \n",
       "2             0             19          0 -3.855389               0   \n",
       "3             0             16          0 -3.880180               0   \n",
       "4             0             20          0 -3.813661               0   \n",
       "\n",
       "   num_fragments  num_subdomains  \n",
       "0              0               0  \n",
       "1              0               0  \n",
       "2              0               0  \n",
       "3              0               0  \n",
       "4              0               0  \n",
       "\n",
       "[5 rows x 27 columns]"
      ]
     },
     "execution_count": 16,
     "metadata": {},
     "output_type": "execute_result"
    }
   ],
   "source": [
    "df.head(5)"
   ]
  },
  {
   "cell_type": "code",
   "execution_count": 17,
   "id": "d0d3db6f",
   "metadata": {},
   "outputs": [
    {
     "data": {
      "text/html": [
       "<div>\n",
       "<style scoped>\n",
       "    .dataframe tbody tr th:only-of-type {\n",
       "        vertical-align: middle;\n",
       "    }\n",
       "\n",
       "    .dataframe tbody tr th {\n",
       "        vertical-align: top;\n",
       "    }\n",
       "\n",
       "    .dataframe thead th {\n",
       "        text-align: right;\n",
       "    }\n",
       "</style>\n",
       "<table border=\"1\" class=\"dataframe\">\n",
       "  <thead>\n",
       "    <tr style=\"text-align: right;\">\n",
       "      <th></th>\n",
       "      <th>url</th>\n",
       "      <th>result</th>\n",
       "      <th>whois_exist</th>\n",
       "      <th>days_since_creation</th>\n",
       "      <th>days_since_last_update</th>\n",
       "      <th>days_until_expiration</th>\n",
       "      <th>url_length</th>\n",
       "      <th>path_length</th>\n",
       "      <th>hostname_length</th>\n",
       "      <th>fd_length</th>\n",
       "      <th>...</th>\n",
       "      <th>count_https</th>\n",
       "      <th>count_www</th>\n",
       "      <th>count_digits</th>\n",
       "      <th>count_letters</th>\n",
       "      <th>count_dir</th>\n",
       "      <th>entropy</th>\n",
       "      <th>num_parameters</th>\n",
       "      <th>num_fragments</th>\n",
       "      <th>num_subdomains</th>\n",
       "      <th>use_of_ip</th>\n",
       "    </tr>\n",
       "  </thead>\n",
       "  <tbody>\n",
       "    <tr>\n",
       "      <th>0</th>\n",
       "      <td>https://www.google.com</td>\n",
       "      <td>1</td>\n",
       "      <td>True</td>\n",
       "      <td>8772</td>\n",
       "      <td>743</td>\n",
       "      <td>2549</td>\n",
       "      <td>22</td>\n",
       "      <td>0</td>\n",
       "      <td>14</td>\n",
       "      <td>0</td>\n",
       "      <td>...</td>\n",
       "      <td>1</td>\n",
       "      <td>1</td>\n",
       "      <td>0</td>\n",
       "      <td>17</td>\n",
       "      <td>0</td>\n",
       "      <td>-3.663533</td>\n",
       "      <td>0</td>\n",
       "      <td>0</td>\n",
       "      <td>0</td>\n",
       "      <td>0</td>\n",
       "    </tr>\n",
       "    <tr>\n",
       "      <th>1</th>\n",
       "      <td>https://www.youtube.com</td>\n",
       "      <td>1</td>\n",
       "      <td>True</td>\n",
       "      <td>6062</td>\n",
       "      <td>250</td>\n",
       "      <td>146</td>\n",
       "      <td>23</td>\n",
       "      <td>0</td>\n",
       "      <td>15</td>\n",
       "      <td>0</td>\n",
       "      <td>...</td>\n",
       "      <td>1</td>\n",
       "      <td>1</td>\n",
       "      <td>0</td>\n",
       "      <td>18</td>\n",
       "      <td>0</td>\n",
       "      <td>-3.762267</td>\n",
       "      <td>0</td>\n",
       "      <td>0</td>\n",
       "      <td>0</td>\n",
       "      <td>0</td>\n",
       "    </tr>\n",
       "    <tr>\n",
       "      <th>2</th>\n",
       "      <td>https://www.facebook.com</td>\n",
       "      <td>1</td>\n",
       "      <td>True</td>\n",
       "      <td>8942</td>\n",
       "      <td>560</td>\n",
       "      <td>2381</td>\n",
       "      <td>24</td>\n",
       "      <td>0</td>\n",
       "      <td>16</td>\n",
       "      <td>0</td>\n",
       "      <td>...</td>\n",
       "      <td>1</td>\n",
       "      <td>1</td>\n",
       "      <td>0</td>\n",
       "      <td>19</td>\n",
       "      <td>0</td>\n",
       "      <td>-3.855389</td>\n",
       "      <td>0</td>\n",
       "      <td>0</td>\n",
       "      <td>0</td>\n",
       "      <td>0</td>\n",
       "    </tr>\n",
       "    <tr>\n",
       "      <th>3</th>\n",
       "      <td>https://www.baidu.com</td>\n",
       "      <td>1</td>\n",
       "      <td>True</td>\n",
       "      <td>8016</td>\n",
       "      <td>286</td>\n",
       "      <td>1845</td>\n",
       "      <td>21</td>\n",
       "      <td>0</td>\n",
       "      <td>13</td>\n",
       "      <td>0</td>\n",
       "      <td>...</td>\n",
       "      <td>1</td>\n",
       "      <td>1</td>\n",
       "      <td>0</td>\n",
       "      <td>16</td>\n",
       "      <td>0</td>\n",
       "      <td>-3.880180</td>\n",
       "      <td>0</td>\n",
       "      <td>0</td>\n",
       "      <td>0</td>\n",
       "      <td>0</td>\n",
       "    </tr>\n",
       "    <tr>\n",
       "      <th>4</th>\n",
       "      <td>https://www.wikipedia.org</td>\n",
       "      <td>1</td>\n",
       "      <td>True</td>\n",
       "      <td>7557</td>\n",
       "      <td>341</td>\n",
       "      <td>477</td>\n",
       "      <td>25</td>\n",
       "      <td>0</td>\n",
       "      <td>17</td>\n",
       "      <td>0</td>\n",
       "      <td>...</td>\n",
       "      <td>1</td>\n",
       "      <td>1</td>\n",
       "      <td>0</td>\n",
       "      <td>20</td>\n",
       "      <td>0</td>\n",
       "      <td>-3.813661</td>\n",
       "      <td>0</td>\n",
       "      <td>0</td>\n",
       "      <td>0</td>\n",
       "      <td>0</td>\n",
       "    </tr>\n",
       "  </tbody>\n",
       "</table>\n",
       "<p>5 rows × 28 columns</p>\n",
       "</div>"
      ],
      "text/plain": [
       "                         url  result  whois_exist  days_since_creation  \\\n",
       "0     https://www.google.com       1         True                 8772   \n",
       "1    https://www.youtube.com       1         True                 6062   \n",
       "2   https://www.facebook.com       1         True                 8942   \n",
       "3      https://www.baidu.com       1         True                 8016   \n",
       "4  https://www.wikipedia.org       1         True                 7557   \n",
       "\n",
       "   days_since_last_update  days_until_expiration  url_length  path_length  \\\n",
       "0                     743                   2549          22            0   \n",
       "1                     250                    146          23            0   \n",
       "2                     560                   2381          24            0   \n",
       "3                     286                   1845          21            0   \n",
       "4                     341                    477          25            0   \n",
       "\n",
       "   hostname_length  fd_length  ...  count_https  count_www  count_digits  \\\n",
       "0               14          0  ...            1          1             0   \n",
       "1               15          0  ...            1          1             0   \n",
       "2               16          0  ...            1          1             0   \n",
       "3               13          0  ...            1          1             0   \n",
       "4               17          0  ...            1          1             0   \n",
       "\n",
       "   count_letters  count_dir   entropy  num_parameters  num_fragments  \\\n",
       "0             17          0 -3.663533               0              0   \n",
       "1             18          0 -3.762267               0              0   \n",
       "2             19          0 -3.855389               0              0   \n",
       "3             16          0 -3.880180               0              0   \n",
       "4             20          0 -3.813661               0              0   \n",
       "\n",
       "   num_subdomains  use_of_ip  \n",
       "0               0          0  \n",
       "1               0          0  \n",
       "2               0          0  \n",
       "3               0          0  \n",
       "4               0          0  \n",
       "\n",
       "[5 rows x 28 columns]"
      ]
     },
     "execution_count": 17,
     "metadata": {},
     "output_type": "execute_result"
    }
   ],
   "source": [
    "# Check if IP address is used in the url\n",
    "import re\n",
    "def having_ip_address(url):\n",
    "    match = re.search(\n",
    "        '(([01]?\\\\d\\\\d?|2[0-4]\\\\d|25[0-5])\\\\.([01]?\\\\d\\\\d?|2[0-4]\\\\d|25[0-5])\\\\.([01]?\\\\d\\\\d?|2[0-4]\\\\d|25[0-5])\\\\.'\n",
    "        '([01]?\\\\d\\\\d?|2[0-4]\\\\d|25[0-5])\\\\/)|'  # IPv4\n",
    "        '((0x[0-9a-fA-F]{1,2})\\\\.(0x[0-9a-fA-F]{1,2})\\\\.(0x[0-9a-fA-F]{1,2})\\\\.(0x[0-9a-fA-F]{1,2})\\\\/)' # IPv4 in hexadecimal\n",
    "        '(?:[a-fA-F0-9]{1,4}:){7}[a-fA-F0-9]{1,4}', url)  # Ipv6\n",
    "    if match:\n",
    "        return 1\n",
    "    else:\n",
    "        return 0\n",
    "    \n",
    "df['use_of_ip'] = df['url'].apply(lambda i: having_ip_address(i))\n",
    "df.head()"
   ]
  },
  {
   "cell_type": "code",
   "execution_count": 18,
   "id": "0d3a304f",
   "metadata": {},
   "outputs": [
    {
     "data": {
      "text/html": [
       "<div>\n",
       "<style scoped>\n",
       "    .dataframe tbody tr th:only-of-type {\n",
       "        vertical-align: middle;\n",
       "    }\n",
       "\n",
       "    .dataframe tbody tr th {\n",
       "        vertical-align: top;\n",
       "    }\n",
       "\n",
       "    .dataframe thead th {\n",
       "        text-align: right;\n",
       "    }\n",
       "</style>\n",
       "<table border=\"1\" class=\"dataframe\">\n",
       "  <thead>\n",
       "    <tr style=\"text-align: right;\">\n",
       "      <th></th>\n",
       "      <th>url</th>\n",
       "      <th>result</th>\n",
       "      <th>whois_exist</th>\n",
       "      <th>days_since_creation</th>\n",
       "      <th>days_since_last_update</th>\n",
       "      <th>days_until_expiration</th>\n",
       "      <th>url_length</th>\n",
       "      <th>path_length</th>\n",
       "      <th>hostname_length</th>\n",
       "      <th>fd_length</th>\n",
       "      <th>...</th>\n",
       "      <th>count_https</th>\n",
       "      <th>count_www</th>\n",
       "      <th>count_digits</th>\n",
       "      <th>count_letters</th>\n",
       "      <th>count_dir</th>\n",
       "      <th>entropy</th>\n",
       "      <th>num_parameters</th>\n",
       "      <th>num_fragments</th>\n",
       "      <th>num_subdomains</th>\n",
       "      <th>use_of_ip</th>\n",
       "    </tr>\n",
       "  </thead>\n",
       "  <tbody>\n",
       "    <tr>\n",
       "      <th>7744</th>\n",
       "      <td>https://www.bgp.he.net/net/67.214.112.0/20</td>\n",
       "      <td>1</td>\n",
       "      <td>True</td>\n",
       "      <td>9549</td>\n",
       "      <td>53</td>\n",
       "      <td>3598</td>\n",
       "      <td>42</td>\n",
       "      <td>20</td>\n",
       "      <td>14</td>\n",
       "      <td>3</td>\n",
       "      <td>...</td>\n",
       "      <td>1</td>\n",
       "      <td>1</td>\n",
       "      <td>11</td>\n",
       "      <td>19</td>\n",
       "      <td>3</td>\n",
       "      <td>-3.912818</td>\n",
       "      <td>0</td>\n",
       "      <td>0</td>\n",
       "      <td>3</td>\n",
       "      <td>1</td>\n",
       "    </tr>\n",
       "    <tr>\n",
       "      <th>7745</th>\n",
       "      <td>https://www.bgp.he.net/net/8.6.19.0/24</td>\n",
       "      <td>1</td>\n",
       "      <td>True</td>\n",
       "      <td>9549</td>\n",
       "      <td>53</td>\n",
       "      <td>3598</td>\n",
       "      <td>38</td>\n",
       "      <td>16</td>\n",
       "      <td>14</td>\n",
       "      <td>3</td>\n",
       "      <td>...</td>\n",
       "      <td>1</td>\n",
       "      <td>1</td>\n",
       "      <td>7</td>\n",
       "      <td>19</td>\n",
       "      <td>3</td>\n",
       "      <td>-3.915580</td>\n",
       "      <td>0</td>\n",
       "      <td>0</td>\n",
       "      <td>3</td>\n",
       "      <td>1</td>\n",
       "    </tr>\n",
       "    <tr>\n",
       "      <th>10624</th>\n",
       "      <td>https://www.boards.ancestry.com/localities.nor...</td>\n",
       "      <td>1</td>\n",
       "      <td>True</td>\n",
       "      <td>9625</td>\n",
       "      <td>159</td>\n",
       "      <td>602</td>\n",
       "      <td>106</td>\n",
       "      <td>75</td>\n",
       "      <td>23</td>\n",
       "      <td>55</td>\n",
       "      <td>...</td>\n",
       "      <td>1</td>\n",
       "      <td>1</td>\n",
       "      <td>6</td>\n",
       "      <td>81</td>\n",
       "      <td>3</td>\n",
       "      <td>-4.424253</td>\n",
       "      <td>0</td>\n",
       "      <td>0</td>\n",
       "      <td>3</td>\n",
       "      <td>1</td>\n",
       "    </tr>\n",
       "    <tr>\n",
       "      <th>10628</th>\n",
       "      <td>https://www.boards.ancestry.com/localities.nor...</td>\n",
       "      <td>1</td>\n",
       "      <td>True</td>\n",
       "      <td>9625</td>\n",
       "      <td>159</td>\n",
       "      <td>602</td>\n",
       "      <td>112</td>\n",
       "      <td>81</td>\n",
       "      <td>23</td>\n",
       "      <td>56</td>\n",
       "      <td>...</td>\n",
       "      <td>1</td>\n",
       "      <td>1</td>\n",
       "      <td>9</td>\n",
       "      <td>81</td>\n",
       "      <td>3</td>\n",
       "      <td>-4.346524</td>\n",
       "      <td>0</td>\n",
       "      <td>0</td>\n",
       "      <td>3</td>\n",
       "      <td>1</td>\n",
       "    </tr>\n",
       "    <tr>\n",
       "      <th>10630</th>\n",
       "      <td>https://www.boards.ancestry.com/localities.nor...</td>\n",
       "      <td>1</td>\n",
       "      <td>True</td>\n",
       "      <td>9625</td>\n",
       "      <td>159</td>\n",
       "      <td>602</td>\n",
       "      <td>114</td>\n",
       "      <td>83</td>\n",
       "      <td>23</td>\n",
       "      <td>53</td>\n",
       "      <td>...</td>\n",
       "      <td>1</td>\n",
       "      <td>1</td>\n",
       "      <td>12</td>\n",
       "      <td>78</td>\n",
       "      <td>3</td>\n",
       "      <td>-4.304388</td>\n",
       "      <td>0</td>\n",
       "      <td>0</td>\n",
       "      <td>3</td>\n",
       "      <td>1</td>\n",
       "    </tr>\n",
       "  </tbody>\n",
       "</table>\n",
       "<p>5 rows × 28 columns</p>\n",
       "</div>"
      ],
      "text/plain": [
       "                                                     url  result  whois_exist  \\\n",
       "7744          https://www.bgp.he.net/net/67.214.112.0/20       1         True   \n",
       "7745              https://www.bgp.he.net/net/8.6.19.0/24       1         True   \n",
       "10624  https://www.boards.ancestry.com/localities.nor...       1         True   \n",
       "10628  https://www.boards.ancestry.com/localities.nor...       1         True   \n",
       "10630  https://www.boards.ancestry.com/localities.nor...       1         True   \n",
       "\n",
       "       days_since_creation  days_since_last_update  days_until_expiration  \\\n",
       "7744                  9549                      53                   3598   \n",
       "7745                  9549                      53                   3598   \n",
       "10624                 9625                     159                    602   \n",
       "10628                 9625                     159                    602   \n",
       "10630                 9625                     159                    602   \n",
       "\n",
       "       url_length  path_length  hostname_length  fd_length  ...  count_https  \\\n",
       "7744           42           20               14          3  ...            1   \n",
       "7745           38           16               14          3  ...            1   \n",
       "10624         106           75               23         55  ...            1   \n",
       "10628         112           81               23         56  ...            1   \n",
       "10630         114           83               23         53  ...            1   \n",
       "\n",
       "       count_www  count_digits  count_letters  count_dir   entropy  \\\n",
       "7744           1            11             19          3 -3.912818   \n",
       "7745           1             7             19          3 -3.915580   \n",
       "10624          1             6             81          3 -4.424253   \n",
       "10628          1             9             81          3 -4.346524   \n",
       "10630          1            12             78          3 -4.304388   \n",
       "\n",
       "       num_parameters  num_fragments  num_subdomains  use_of_ip  \n",
       "7744                0              0               3          1  \n",
       "7745                0              0               3          1  \n",
       "10624               0              0               3          1  \n",
       "10628               0              0               3          1  \n",
       "10630               0              0               3          1  \n",
       "\n",
       "[5 rows x 28 columns]"
      ]
     },
     "execution_count": 18,
     "metadata": {},
     "output_type": "execute_result"
    }
   ],
   "source": [
    "# See rows where IP is used\n",
    "df[df['use_of_ip'] == 1].head()"
   ]
  },
  {
   "cell_type": "code",
   "execution_count": 19,
   "id": "d5c0de22",
   "metadata": {},
   "outputs": [],
   "source": [
    "# Check if shortening service is used\n",
    "def shortening_service(url):\n",
    "    match = re.search('bit\\.ly|goo\\.gl|shorte\\.st|go2l\\.ink|x\\.co|ow\\.ly|t\\.co|tinyurl|tr\\.im|is\\.gd|cli\\.gs|'\n",
    "                      'yfrog\\.com|migre\\.me|ff\\.im|tiny\\.cc|url4\\.eu|twit\\.ac|su\\.pr|twurl\\.nl|snipurl\\.com|'\n",
    "                      'short\\.to|BudURL\\.com|ping\\.fm|post\\.ly|Just\\.as|bkite\\.com|snipr\\.com|fic\\.kr|loopt\\.us|'\n",
    "                      'doiop\\.com|short\\.ie|kl\\.am|wp\\.me|rubyurl\\.com|om\\.ly|to\\.ly|bit\\.do|t\\.co|lnkd\\.in|'\n",
    "                      'db\\.tt|qr\\.ae|adf\\.ly|goo\\.gl|bitly\\.com|cur\\.lv|tinyurl\\.com|ow\\.ly|bit\\.ly|ity\\.im|'\n",
    "                      'q\\.gs|is\\.gd|po\\.st|bc\\.vc|twitthis\\.com|u\\.to|j\\.mp|buzurl\\.com|cutt\\.us|u\\.bb|yourls\\.org|'\n",
    "                      'x\\.co|prettylinkpro\\.com|scrnch\\.me|filoops\\.info|vzturl\\.com|qr\\.net|1url\\.com|tweez\\.me|v\\.gd|'\n",
    "                      'tr\\.im|link\\.zip\\.net',\n",
    "                      url)\n",
    "    if match:\n",
    "        return 1\n",
    "    else:\n",
    "        return 0"
   ]
  },
  {
   "cell_type": "code",
   "execution_count": 20,
   "id": "43e49259",
   "metadata": {},
   "outputs": [
    {
     "data": {
      "text/html": [
       "<div>\n",
       "<style scoped>\n",
       "    .dataframe tbody tr th:only-of-type {\n",
       "        vertical-align: middle;\n",
       "    }\n",
       "\n",
       "    .dataframe tbody tr th {\n",
       "        vertical-align: top;\n",
       "    }\n",
       "\n",
       "    .dataframe thead th {\n",
       "        text-align: right;\n",
       "    }\n",
       "</style>\n",
       "<table border=\"1\" class=\"dataframe\">\n",
       "  <thead>\n",
       "    <tr style=\"text-align: right;\">\n",
       "      <th></th>\n",
       "      <th>url</th>\n",
       "      <th>result</th>\n",
       "      <th>whois_exist</th>\n",
       "      <th>days_since_creation</th>\n",
       "      <th>days_since_last_update</th>\n",
       "      <th>days_until_expiration</th>\n",
       "      <th>url_length</th>\n",
       "      <th>path_length</th>\n",
       "      <th>hostname_length</th>\n",
       "      <th>fd_length</th>\n",
       "      <th>...</th>\n",
       "      <th>count_www</th>\n",
       "      <th>count_digits</th>\n",
       "      <th>count_letters</th>\n",
       "      <th>count_dir</th>\n",
       "      <th>entropy</th>\n",
       "      <th>num_parameters</th>\n",
       "      <th>num_fragments</th>\n",
       "      <th>num_subdomains</th>\n",
       "      <th>use_of_ip</th>\n",
       "      <th>is_short_url</th>\n",
       "    </tr>\n",
       "  </thead>\n",
       "  <tbody>\n",
       "    <tr>\n",
       "      <th>5</th>\n",
       "      <td>https://www.reddit.com</td>\n",
       "      <td>1</td>\n",
       "      <td>True</td>\n",
       "      <td>5989</td>\n",
       "      <td>541</td>\n",
       "      <td>219</td>\n",
       "      <td>22</td>\n",
       "      <td>0</td>\n",
       "      <td>14</td>\n",
       "      <td>0</td>\n",
       "      <td>...</td>\n",
       "      <td>1</td>\n",
       "      <td>0</td>\n",
       "      <td>17</td>\n",
       "      <td>0</td>\n",
       "      <td>-3.754442</td>\n",
       "      <td>0</td>\n",
       "      <td>0</td>\n",
       "      <td>0</td>\n",
       "      <td>0</td>\n",
       "      <td>1</td>\n",
       "    </tr>\n",
       "    <tr>\n",
       "      <th>27</th>\n",
       "      <td>https://www.netflix.com</td>\n",
       "      <td>1</td>\n",
       "      <td>True</td>\n",
       "      <td>8715</td>\n",
       "      <td>713</td>\n",
       "      <td>49</td>\n",
       "      <td>23</td>\n",
       "      <td>0</td>\n",
       "      <td>15</td>\n",
       "      <td>0</td>\n",
       "      <td>...</td>\n",
       "      <td>1</td>\n",
       "      <td>0</td>\n",
       "      <td>18</td>\n",
       "      <td>0</td>\n",
       "      <td>-3.936180</td>\n",
       "      <td>0</td>\n",
       "      <td>0</td>\n",
       "      <td>0</td>\n",
       "      <td>0</td>\n",
       "      <td>1</td>\n",
       "    </tr>\n",
       "    <tr>\n",
       "      <th>33</th>\n",
       "      <td>https://www.t.co</td>\n",
       "      <td>1</td>\n",
       "      <td>True</td>\n",
       "      <td>4166</td>\n",
       "      <td>148</td>\n",
       "      <td>215</td>\n",
       "      <td>16</td>\n",
       "      <td>0</td>\n",
       "      <td>8</td>\n",
       "      <td>0</td>\n",
       "      <td>...</td>\n",
       "      <td>1</td>\n",
       "      <td>0</td>\n",
       "      <td>11</td>\n",
       "      <td>0</td>\n",
       "      <td>-3.155639</td>\n",
       "      <td>0</td>\n",
       "      <td>0</td>\n",
       "      <td>0</td>\n",
       "      <td>0</td>\n",
       "      <td>1</td>\n",
       "    </tr>\n",
       "    <tr>\n",
       "      <th>43</th>\n",
       "      <td>https://www.microsoft.com</td>\n",
       "      <td>1</td>\n",
       "      <td>True</td>\n",
       "      <td>11100</td>\n",
       "      <td>193</td>\n",
       "      <td>223</td>\n",
       "      <td>25</td>\n",
       "      <td>0</td>\n",
       "      <td>17</td>\n",
       "      <td>0</td>\n",
       "      <td>...</td>\n",
       "      <td>1</td>\n",
       "      <td>0</td>\n",
       "      <td>20</td>\n",
       "      <td>0</td>\n",
       "      <td>-3.673270</td>\n",
       "      <td>0</td>\n",
       "      <td>0</td>\n",
       "      <td>0</td>\n",
       "      <td>0</td>\n",
       "      <td>1</td>\n",
       "    </tr>\n",
       "    <tr>\n",
       "      <th>67</th>\n",
       "      <td>https://www.blogspot.com</td>\n",
       "      <td>1</td>\n",
       "      <td>False</td>\n",
       "      <td>-1</td>\n",
       "      <td>-1</td>\n",
       "      <td>-1</td>\n",
       "      <td>24</td>\n",
       "      <td>0</td>\n",
       "      <td>16</td>\n",
       "      <td>0</td>\n",
       "      <td>...</td>\n",
       "      <td>1</td>\n",
       "      <td>0</td>\n",
       "      <td>19</td>\n",
       "      <td>0</td>\n",
       "      <td>-3.657268</td>\n",
       "      <td>0</td>\n",
       "      <td>0</td>\n",
       "      <td>0</td>\n",
       "      <td>0</td>\n",
       "      <td>1</td>\n",
       "    </tr>\n",
       "    <tr>\n",
       "      <th>...</th>\n",
       "      <td>...</td>\n",
       "      <td>...</td>\n",
       "      <td>...</td>\n",
       "      <td>...</td>\n",
       "      <td>...</td>\n",
       "      <td>...</td>\n",
       "      <td>...</td>\n",
       "      <td>...</td>\n",
       "      <td>...</td>\n",
       "      <td>...</td>\n",
       "      <td>...</td>\n",
       "      <td>...</td>\n",
       "      <td>...</td>\n",
       "      <td>...</td>\n",
       "      <td>...</td>\n",
       "      <td>...</td>\n",
       "      <td>...</td>\n",
       "      <td>...</td>\n",
       "      <td>...</td>\n",
       "      <td>...</td>\n",
       "      <td>...</td>\n",
       "    </tr>\n",
       "    <tr>\n",
       "      <th>450096</th>\n",
       "      <td>http://bit.ly/e5w45f444444fff</td>\n",
       "      <td>0</td>\n",
       "      <td>True</td>\n",
       "      <td>4875</td>\n",
       "      <td>301</td>\n",
       "      <td>237</td>\n",
       "      <td>29</td>\n",
       "      <td>16</td>\n",
       "      <td>6</td>\n",
       "      <td>15</td>\n",
       "      <td>...</td>\n",
       "      <td>0</td>\n",
       "      <td>9</td>\n",
       "      <td>15</td>\n",
       "      <td>1</td>\n",
       "      <td>-3.507593</td>\n",
       "      <td>0</td>\n",
       "      <td>0</td>\n",
       "      <td>1</td>\n",
       "      <td>0</td>\n",
       "      <td>1</td>\n",
       "    </tr>\n",
       "    <tr>\n",
       "      <th>450137</th>\n",
       "      <td>http://gospelchurchofchrist.org/best_update/pr...</td>\n",
       "      <td>0</td>\n",
       "      <td>False</td>\n",
       "      <td>-1</td>\n",
       "      <td>-1</td>\n",
       "      <td>-1</td>\n",
       "      <td>131</td>\n",
       "      <td>32</td>\n",
       "      <td>24</td>\n",
       "      <td>11</td>\n",
       "      <td>...</td>\n",
       "      <td>0</td>\n",
       "      <td>1</td>\n",
       "      <td>111</td>\n",
       "      <td>3</td>\n",
       "      <td>-5.012335</td>\n",
       "      <td>1</td>\n",
       "      <td>0</td>\n",
       "      <td>3</td>\n",
       "      <td>0</td>\n",
       "      <td>1</td>\n",
       "    </tr>\n",
       "    <tr>\n",
       "      <th>450162</th>\n",
       "      <td>http://u.to/vYjNDw,Pattern</td>\n",
       "      <td>0</td>\n",
       "      <td>False</td>\n",
       "      <td>-1</td>\n",
       "      <td>-1</td>\n",
       "      <td>-1</td>\n",
       "      <td>26</td>\n",
       "      <td>15</td>\n",
       "      <td>4</td>\n",
       "      <td>14</td>\n",
       "      <td>...</td>\n",
       "      <td>0</td>\n",
       "      <td>0</td>\n",
       "      <td>20</td>\n",
       "      <td>1</td>\n",
       "      <td>-4.071035</td>\n",
       "      <td>0</td>\n",
       "      <td>0</td>\n",
       "      <td>1</td>\n",
       "      <td>0</td>\n",
       "      <td>1</td>\n",
       "    </tr>\n",
       "    <tr>\n",
       "      <th>450163</th>\n",
       "      <td>https://insidethestorex.com/sd/</td>\n",
       "      <td>0</td>\n",
       "      <td>False</td>\n",
       "      <td>-1</td>\n",
       "      <td>-1</td>\n",
       "      <td>-1</td>\n",
       "      <td>31</td>\n",
       "      <td>4</td>\n",
       "      <td>19</td>\n",
       "      <td>2</td>\n",
       "      <td>...</td>\n",
       "      <td>0</td>\n",
       "      <td>0</td>\n",
       "      <td>25</td>\n",
       "      <td>2</td>\n",
       "      <td>-3.768555</td>\n",
       "      <td>0</td>\n",
       "      <td>0</td>\n",
       "      <td>2</td>\n",
       "      <td>0</td>\n",
       "      <td>1</td>\n",
       "    </tr>\n",
       "    <tr>\n",
       "      <th>450171</th>\n",
       "      <td>http://ecct-it.com/docmmmnn/aptgd/index.php</td>\n",
       "      <td>0</td>\n",
       "      <td>True</td>\n",
       "      <td>4062</td>\n",
       "      <td>0</td>\n",
       "      <td>-45</td>\n",
       "      <td>43</td>\n",
       "      <td>25</td>\n",
       "      <td>11</td>\n",
       "      <td>8</td>\n",
       "      <td>...</td>\n",
       "      <td>0</td>\n",
       "      <td>0</td>\n",
       "      <td>34</td>\n",
       "      <td>3</td>\n",
       "      <td>-3.874426</td>\n",
       "      <td>0</td>\n",
       "      <td>0</td>\n",
       "      <td>3</td>\n",
       "      <td>0</td>\n",
       "      <td>1</td>\n",
       "    </tr>\n",
       "  </tbody>\n",
       "</table>\n",
       "<p>29892 rows × 29 columns</p>\n",
       "</div>"
      ],
      "text/plain": [
       "                                                      url  result  \\\n",
       "5                                  https://www.reddit.com       1   \n",
       "27                                https://www.netflix.com       1   \n",
       "33                                       https://www.t.co       1   \n",
       "43                              https://www.microsoft.com       1   \n",
       "67                               https://www.blogspot.com       1   \n",
       "...                                                   ...     ...   \n",
       "450096                      http://bit.ly/e5w45f444444fff       0   \n",
       "450137  http://gospelchurchofchrist.org/best_update/pr...       0   \n",
       "450162                         http://u.to/vYjNDw,Pattern       0   \n",
       "450163                    https://insidethestorex.com/sd/       0   \n",
       "450171        http://ecct-it.com/docmmmnn/aptgd/index.php       0   \n",
       "\n",
       "        whois_exist  days_since_creation  days_since_last_update  \\\n",
       "5              True                 5989                     541   \n",
       "27             True                 8715                     713   \n",
       "33             True                 4166                     148   \n",
       "43             True                11100                     193   \n",
       "67            False                   -1                      -1   \n",
       "...             ...                  ...                     ...   \n",
       "450096         True                 4875                     301   \n",
       "450137        False                   -1                      -1   \n",
       "450162        False                   -1                      -1   \n",
       "450163        False                   -1                      -1   \n",
       "450171         True                 4062                       0   \n",
       "\n",
       "        days_until_expiration  url_length  path_length  hostname_length  \\\n",
       "5                         219          22            0               14   \n",
       "27                         49          23            0               15   \n",
       "33                        215          16            0                8   \n",
       "43                        223          25            0               17   \n",
       "67                         -1          24            0               16   \n",
       "...                       ...         ...          ...              ...   \n",
       "450096                    237          29           16                6   \n",
       "450137                     -1         131           32               24   \n",
       "450162                     -1          26           15                4   \n",
       "450163                     -1          31            4               19   \n",
       "450171                    -45          43           25               11   \n",
       "\n",
       "        fd_length  ...  count_www  count_digits  count_letters  count_dir  \\\n",
       "5               0  ...          1             0             17          0   \n",
       "27              0  ...          1             0             18          0   \n",
       "33              0  ...          1             0             11          0   \n",
       "43              0  ...          1             0             20          0   \n",
       "67              0  ...          1             0             19          0   \n",
       "...           ...  ...        ...           ...            ...        ...   \n",
       "450096         15  ...          0             9             15          1   \n",
       "450137         11  ...          0             1            111          3   \n",
       "450162         14  ...          0             0             20          1   \n",
       "450163          2  ...          0             0             25          2   \n",
       "450171          8  ...          0             0             34          3   \n",
       "\n",
       "         entropy  num_parameters  num_fragments  num_subdomains  use_of_ip  \\\n",
       "5      -3.754442               0              0               0          0   \n",
       "27     -3.936180               0              0               0          0   \n",
       "33     -3.155639               0              0               0          0   \n",
       "43     -3.673270               0              0               0          0   \n",
       "67     -3.657268               0              0               0          0   \n",
       "...          ...             ...            ...             ...        ...   \n",
       "450096 -3.507593               0              0               1          0   \n",
       "450137 -5.012335               1              0               3          0   \n",
       "450162 -4.071035               0              0               1          0   \n",
       "450163 -3.768555               0              0               2          0   \n",
       "450171 -3.874426               0              0               3          0   \n",
       "\n",
       "        is_short_url  \n",
       "5                  1  \n",
       "27                 1  \n",
       "33                 1  \n",
       "43                 1  \n",
       "67                 1  \n",
       "...              ...  \n",
       "450096             1  \n",
       "450137             1  \n",
       "450162             1  \n",
       "450163             1  \n",
       "450171             1  \n",
       "\n",
       "[29892 rows x 29 columns]"
      ]
     },
     "execution_count": 20,
     "metadata": {},
     "output_type": "execute_result"
    }
   ],
   "source": [
    "df['is_short_url'] = df['url'].apply(lambda i: shortening_service(i))\n",
    "df[df['is_short_url'] == 1]"
   ]
  },
  {
   "cell_type": "code",
   "execution_count": 21,
   "id": "37a1fa4f",
   "metadata": {},
   "outputs": [
    {
     "data": {
      "text/html": [
       "<div>\n",
       "<style scoped>\n",
       "    .dataframe tbody tr th:only-of-type {\n",
       "        vertical-align: middle;\n",
       "    }\n",
       "\n",
       "    .dataframe tbody tr th {\n",
       "        vertical-align: top;\n",
       "    }\n",
       "\n",
       "    .dataframe thead th {\n",
       "        text-align: right;\n",
       "    }\n",
       "</style>\n",
       "<table border=\"1\" class=\"dataframe\">\n",
       "  <thead>\n",
       "    <tr style=\"text-align: right;\">\n",
       "      <th></th>\n",
       "      <th>url</th>\n",
       "      <th>result</th>\n",
       "      <th>whois_exist</th>\n",
       "      <th>days_since_creation</th>\n",
       "      <th>days_since_last_update</th>\n",
       "      <th>days_until_expiration</th>\n",
       "      <th>url_length</th>\n",
       "      <th>path_length</th>\n",
       "      <th>hostname_length</th>\n",
       "      <th>fd_length</th>\n",
       "      <th>...</th>\n",
       "      <th>count_www</th>\n",
       "      <th>count_digits</th>\n",
       "      <th>count_letters</th>\n",
       "      <th>count_dir</th>\n",
       "      <th>entropy</th>\n",
       "      <th>num_parameters</th>\n",
       "      <th>num_fragments</th>\n",
       "      <th>num_subdomains</th>\n",
       "      <th>use_of_ip</th>\n",
       "      <th>is_short_url</th>\n",
       "    </tr>\n",
       "  </thead>\n",
       "  <tbody>\n",
       "    <tr>\n",
       "      <th>0</th>\n",
       "      <td>https://www.google.com</td>\n",
       "      <td>1</td>\n",
       "      <td>True</td>\n",
       "      <td>8772</td>\n",
       "      <td>743</td>\n",
       "      <td>2549</td>\n",
       "      <td>22</td>\n",
       "      <td>0</td>\n",
       "      <td>14</td>\n",
       "      <td>0</td>\n",
       "      <td>...</td>\n",
       "      <td>1</td>\n",
       "      <td>0</td>\n",
       "      <td>17</td>\n",
       "      <td>0</td>\n",
       "      <td>-3.663533</td>\n",
       "      <td>0</td>\n",
       "      <td>0</td>\n",
       "      <td>0</td>\n",
       "      <td>0</td>\n",
       "      <td>0</td>\n",
       "    </tr>\n",
       "    <tr>\n",
       "      <th>1</th>\n",
       "      <td>https://www.youtube.com</td>\n",
       "      <td>1</td>\n",
       "      <td>True</td>\n",
       "      <td>6062</td>\n",
       "      <td>250</td>\n",
       "      <td>146</td>\n",
       "      <td>23</td>\n",
       "      <td>0</td>\n",
       "      <td>15</td>\n",
       "      <td>0</td>\n",
       "      <td>...</td>\n",
       "      <td>1</td>\n",
       "      <td>0</td>\n",
       "      <td>18</td>\n",
       "      <td>0</td>\n",
       "      <td>-3.762267</td>\n",
       "      <td>0</td>\n",
       "      <td>0</td>\n",
       "      <td>0</td>\n",
       "      <td>0</td>\n",
       "      <td>0</td>\n",
       "    </tr>\n",
       "    <tr>\n",
       "      <th>2</th>\n",
       "      <td>https://www.facebook.com</td>\n",
       "      <td>1</td>\n",
       "      <td>True</td>\n",
       "      <td>8942</td>\n",
       "      <td>560</td>\n",
       "      <td>2381</td>\n",
       "      <td>24</td>\n",
       "      <td>0</td>\n",
       "      <td>16</td>\n",
       "      <td>0</td>\n",
       "      <td>...</td>\n",
       "      <td>1</td>\n",
       "      <td>0</td>\n",
       "      <td>19</td>\n",
       "      <td>0</td>\n",
       "      <td>-3.855389</td>\n",
       "      <td>0</td>\n",
       "      <td>0</td>\n",
       "      <td>0</td>\n",
       "      <td>0</td>\n",
       "      <td>0</td>\n",
       "    </tr>\n",
       "    <tr>\n",
       "      <th>3</th>\n",
       "      <td>https://www.baidu.com</td>\n",
       "      <td>1</td>\n",
       "      <td>True</td>\n",
       "      <td>8016</td>\n",
       "      <td>286</td>\n",
       "      <td>1845</td>\n",
       "      <td>21</td>\n",
       "      <td>0</td>\n",
       "      <td>13</td>\n",
       "      <td>0</td>\n",
       "      <td>...</td>\n",
       "      <td>1</td>\n",
       "      <td>0</td>\n",
       "      <td>16</td>\n",
       "      <td>0</td>\n",
       "      <td>-3.880180</td>\n",
       "      <td>0</td>\n",
       "      <td>0</td>\n",
       "      <td>0</td>\n",
       "      <td>0</td>\n",
       "      <td>0</td>\n",
       "    </tr>\n",
       "    <tr>\n",
       "      <th>4</th>\n",
       "      <td>https://www.wikipedia.org</td>\n",
       "      <td>1</td>\n",
       "      <td>True</td>\n",
       "      <td>7557</td>\n",
       "      <td>341</td>\n",
       "      <td>477</td>\n",
       "      <td>25</td>\n",
       "      <td>0</td>\n",
       "      <td>17</td>\n",
       "      <td>0</td>\n",
       "      <td>...</td>\n",
       "      <td>1</td>\n",
       "      <td>0</td>\n",
       "      <td>20</td>\n",
       "      <td>0</td>\n",
       "      <td>-3.813661</td>\n",
       "      <td>0</td>\n",
       "      <td>0</td>\n",
       "      <td>0</td>\n",
       "      <td>0</td>\n",
       "      <td>0</td>\n",
       "    </tr>\n",
       "    <tr>\n",
       "      <th>...</th>\n",
       "      <td>...</td>\n",
       "      <td>...</td>\n",
       "      <td>...</td>\n",
       "      <td>...</td>\n",
       "      <td>...</td>\n",
       "      <td>...</td>\n",
       "      <td>...</td>\n",
       "      <td>...</td>\n",
       "      <td>...</td>\n",
       "      <td>...</td>\n",
       "      <td>...</td>\n",
       "      <td>...</td>\n",
       "      <td>...</td>\n",
       "      <td>...</td>\n",
       "      <td>...</td>\n",
       "      <td>...</td>\n",
       "      <td>...</td>\n",
       "      <td>...</td>\n",
       "      <td>...</td>\n",
       "      <td>...</td>\n",
       "      <td>...</td>\n",
       "    </tr>\n",
       "    <tr>\n",
       "      <th>450170</th>\n",
       "      <td>https://qiumin.xyz/qiuminxy/o95j4uW4nr/5.php</td>\n",
       "      <td>0</td>\n",
       "      <td>True</td>\n",
       "      <td>2226</td>\n",
       "      <td>1385</td>\n",
       "      <td>1426</td>\n",
       "      <td>44</td>\n",
       "      <td>26</td>\n",
       "      <td>10</td>\n",
       "      <td>8</td>\n",
       "      <td>...</td>\n",
       "      <td>0</td>\n",
       "      <td>5</td>\n",
       "      <td>31</td>\n",
       "      <td>3</td>\n",
       "      <td>-4.280470</td>\n",
       "      <td>0</td>\n",
       "      <td>0</td>\n",
       "      <td>3</td>\n",
       "      <td>0</td>\n",
       "      <td>0</td>\n",
       "    </tr>\n",
       "    <tr>\n",
       "      <th>450172</th>\n",
       "      <td>http://faboleena.com/js/infortis/jquery/plugin...</td>\n",
       "      <td>0</td>\n",
       "      <td>False</td>\n",
       "      <td>-1</td>\n",
       "      <td>-1</td>\n",
       "      <td>-1</td>\n",
       "      <td>159</td>\n",
       "      <td>139</td>\n",
       "      <td>13</td>\n",
       "      <td>2</td>\n",
       "      <td>...</td>\n",
       "      <td>0</td>\n",
       "      <td>21</td>\n",
       "      <td>118</td>\n",
       "      <td>12</td>\n",
       "      <td>-4.895229</td>\n",
       "      <td>0</td>\n",
       "      <td>0</td>\n",
       "      <td>12</td>\n",
       "      <td>0</td>\n",
       "      <td>0</td>\n",
       "    </tr>\n",
       "    <tr>\n",
       "      <th>450173</th>\n",
       "      <td>http://faboleena.com/js/infortis/jquery/plugin...</td>\n",
       "      <td>0</td>\n",
       "      <td>False</td>\n",
       "      <td>-1</td>\n",
       "      <td>-1</td>\n",
       "      <td>-1</td>\n",
       "      <td>147</td>\n",
       "      <td>127</td>\n",
       "      <td>13</td>\n",
       "      <td>2</td>\n",
       "      <td>...</td>\n",
       "      <td>0</td>\n",
       "      <td>20</td>\n",
       "      <td>109</td>\n",
       "      <td>12</td>\n",
       "      <td>-4.831358</td>\n",
       "      <td>0</td>\n",
       "      <td>0</td>\n",
       "      <td>12</td>\n",
       "      <td>0</td>\n",
       "      <td>0</td>\n",
       "    </tr>\n",
       "    <tr>\n",
       "      <th>450174</th>\n",
       "      <td>http://atualizapj.com/</td>\n",
       "      <td>0</td>\n",
       "      <td>False</td>\n",
       "      <td>-1</td>\n",
       "      <td>-1</td>\n",
       "      <td>-1</td>\n",
       "      <td>22</td>\n",
       "      <td>1</td>\n",
       "      <td>14</td>\n",
       "      <td>0</td>\n",
       "      <td>...</td>\n",
       "      <td>0</td>\n",
       "      <td>0</td>\n",
       "      <td>17</td>\n",
       "      <td>1</td>\n",
       "      <td>-3.720129</td>\n",
       "      <td>0</td>\n",
       "      <td>0</td>\n",
       "      <td>1</td>\n",
       "      <td>0</td>\n",
       "      <td>0</td>\n",
       "    </tr>\n",
       "    <tr>\n",
       "      <th>450175</th>\n",
       "      <td>http://writeassociate.com/test/Portal/inicio/I...</td>\n",
       "      <td>0</td>\n",
       "      <td>True</td>\n",
       "      <td>5014</td>\n",
       "      <td>264</td>\n",
       "      <td>99</td>\n",
       "      <td>143</td>\n",
       "      <td>118</td>\n",
       "      <td>18</td>\n",
       "      <td>4</td>\n",
       "      <td>...</td>\n",
       "      <td>1</td>\n",
       "      <td>9</td>\n",
       "      <td>118</td>\n",
       "      <td>7</td>\n",
       "      <td>-5.352063</td>\n",
       "      <td>0</td>\n",
       "      <td>0</td>\n",
       "      <td>7</td>\n",
       "      <td>0</td>\n",
       "      <td>0</td>\n",
       "    </tr>\n",
       "  </tbody>\n",
       "</table>\n",
       "<p>420284 rows × 29 columns</p>\n",
       "</div>"
      ],
      "text/plain": [
       "                                                      url  result  \\\n",
       "0                                  https://www.google.com       1   \n",
       "1                                 https://www.youtube.com       1   \n",
       "2                                https://www.facebook.com       1   \n",
       "3                                   https://www.baidu.com       1   \n",
       "4                               https://www.wikipedia.org       1   \n",
       "...                                                   ...     ...   \n",
       "450170       https://qiumin.xyz/qiuminxy/o95j4uW4nr/5.php       0   \n",
       "450172  http://faboleena.com/js/infortis/jquery/plugin...       0   \n",
       "450173  http://faboleena.com/js/infortis/jquery/plugin...       0   \n",
       "450174                             http://atualizapj.com/       0   \n",
       "450175  http://writeassociate.com/test/Portal/inicio/I...       0   \n",
       "\n",
       "        whois_exist  days_since_creation  days_since_last_update  \\\n",
       "0              True                 8772                     743   \n",
       "1              True                 6062                     250   \n",
       "2              True                 8942                     560   \n",
       "3              True                 8016                     286   \n",
       "4              True                 7557                     341   \n",
       "...             ...                  ...                     ...   \n",
       "450170         True                 2226                    1385   \n",
       "450172        False                   -1                      -1   \n",
       "450173        False                   -1                      -1   \n",
       "450174        False                   -1                      -1   \n",
       "450175         True                 5014                     264   \n",
       "\n",
       "        days_until_expiration  url_length  path_length  hostname_length  \\\n",
       "0                        2549          22            0               14   \n",
       "1                         146          23            0               15   \n",
       "2                        2381          24            0               16   \n",
       "3                        1845          21            0               13   \n",
       "4                         477          25            0               17   \n",
       "...                       ...         ...          ...              ...   \n",
       "450170                   1426          44           26               10   \n",
       "450172                     -1         159          139               13   \n",
       "450173                     -1         147          127               13   \n",
       "450174                     -1          22            1               14   \n",
       "450175                     99         143          118               18   \n",
       "\n",
       "        fd_length  ...  count_www  count_digits  count_letters  count_dir  \\\n",
       "0               0  ...          1             0             17          0   \n",
       "1               0  ...          1             0             18          0   \n",
       "2               0  ...          1             0             19          0   \n",
       "3               0  ...          1             0             16          0   \n",
       "4               0  ...          1             0             20          0   \n",
       "...           ...  ...        ...           ...            ...        ...   \n",
       "450170          8  ...          0             5             31          3   \n",
       "450172          2  ...          0            21            118         12   \n",
       "450173          2  ...          0            20            109         12   \n",
       "450174          0  ...          0             0             17          1   \n",
       "450175          4  ...          1             9            118          7   \n",
       "\n",
       "         entropy  num_parameters  num_fragments  num_subdomains  use_of_ip  \\\n",
       "0      -3.663533               0              0               0          0   \n",
       "1      -3.762267               0              0               0          0   \n",
       "2      -3.855389               0              0               0          0   \n",
       "3      -3.880180               0              0               0          0   \n",
       "4      -3.813661               0              0               0          0   \n",
       "...          ...             ...            ...             ...        ...   \n",
       "450170 -4.280470               0              0               3          0   \n",
       "450172 -4.895229               0              0              12          0   \n",
       "450173 -4.831358               0              0              12          0   \n",
       "450174 -3.720129               0              0               1          0   \n",
       "450175 -5.352063               0              0               7          0   \n",
       "\n",
       "        is_short_url  \n",
       "0                  0  \n",
       "1                  0  \n",
       "2                  0  \n",
       "3                  0  \n",
       "4                  0  \n",
       "...              ...  \n",
       "450170             0  \n",
       "450172             0  \n",
       "450173             0  \n",
       "450174             0  \n",
       "450175             0  \n",
       "\n",
       "[420284 rows x 29 columns]"
      ]
     },
     "execution_count": 21,
     "metadata": {},
     "output_type": "execute_result"
    }
   ],
   "source": [
    "df[df['is_short_url'] == 0]"
   ]
  },
  {
   "cell_type": "code",
   "execution_count": 22,
   "id": "7cdb750d",
   "metadata": {},
   "outputs": [
    {
     "data": {
      "text/html": [
       "<div>\n",
       "<style scoped>\n",
       "    .dataframe tbody tr th:only-of-type {\n",
       "        vertical-align: middle;\n",
       "    }\n",
       "\n",
       "    .dataframe tbody tr th {\n",
       "        vertical-align: top;\n",
       "    }\n",
       "\n",
       "    .dataframe thead th {\n",
       "        text-align: right;\n",
       "    }\n",
       "</style>\n",
       "<table border=\"1\" class=\"dataframe\">\n",
       "  <thead>\n",
       "    <tr style=\"text-align: right;\">\n",
       "      <th></th>\n",
       "      <th>url</th>\n",
       "      <th>result</th>\n",
       "      <th>whois_exist</th>\n",
       "      <th>days_since_creation</th>\n",
       "      <th>days_since_last_update</th>\n",
       "      <th>days_until_expiration</th>\n",
       "      <th>url_length</th>\n",
       "      <th>path_length</th>\n",
       "      <th>hostname_length</th>\n",
       "      <th>fd_length</th>\n",
       "      <th>...</th>\n",
       "      <th>count_www</th>\n",
       "      <th>count_digits</th>\n",
       "      <th>count_letters</th>\n",
       "      <th>count_dir</th>\n",
       "      <th>entropy</th>\n",
       "      <th>num_parameters</th>\n",
       "      <th>num_fragments</th>\n",
       "      <th>num_subdomains</th>\n",
       "      <th>use_of_ip</th>\n",
       "      <th>is_short_url</th>\n",
       "    </tr>\n",
       "  </thead>\n",
       "  <tbody>\n",
       "    <tr>\n",
       "      <th>0</th>\n",
       "      <td>https://www.google.com</td>\n",
       "      <td>1</td>\n",
       "      <td>1</td>\n",
       "      <td>8772</td>\n",
       "      <td>743</td>\n",
       "      <td>2549</td>\n",
       "      <td>22</td>\n",
       "      <td>0</td>\n",
       "      <td>14</td>\n",
       "      <td>0</td>\n",
       "      <td>...</td>\n",
       "      <td>1</td>\n",
       "      <td>0</td>\n",
       "      <td>17</td>\n",
       "      <td>0</td>\n",
       "      <td>-3.663533</td>\n",
       "      <td>0</td>\n",
       "      <td>0</td>\n",
       "      <td>0</td>\n",
       "      <td>0</td>\n",
       "      <td>0</td>\n",
       "    </tr>\n",
       "    <tr>\n",
       "      <th>1</th>\n",
       "      <td>https://www.youtube.com</td>\n",
       "      <td>1</td>\n",
       "      <td>1</td>\n",
       "      <td>6062</td>\n",
       "      <td>250</td>\n",
       "      <td>146</td>\n",
       "      <td>23</td>\n",
       "      <td>0</td>\n",
       "      <td>15</td>\n",
       "      <td>0</td>\n",
       "      <td>...</td>\n",
       "      <td>1</td>\n",
       "      <td>0</td>\n",
       "      <td>18</td>\n",
       "      <td>0</td>\n",
       "      <td>-3.762267</td>\n",
       "      <td>0</td>\n",
       "      <td>0</td>\n",
       "      <td>0</td>\n",
       "      <td>0</td>\n",
       "      <td>0</td>\n",
       "    </tr>\n",
       "    <tr>\n",
       "      <th>2</th>\n",
       "      <td>https://www.facebook.com</td>\n",
       "      <td>1</td>\n",
       "      <td>1</td>\n",
       "      <td>8942</td>\n",
       "      <td>560</td>\n",
       "      <td>2381</td>\n",
       "      <td>24</td>\n",
       "      <td>0</td>\n",
       "      <td>16</td>\n",
       "      <td>0</td>\n",
       "      <td>...</td>\n",
       "      <td>1</td>\n",
       "      <td>0</td>\n",
       "      <td>19</td>\n",
       "      <td>0</td>\n",
       "      <td>-3.855389</td>\n",
       "      <td>0</td>\n",
       "      <td>0</td>\n",
       "      <td>0</td>\n",
       "      <td>0</td>\n",
       "      <td>0</td>\n",
       "    </tr>\n",
       "    <tr>\n",
       "      <th>3</th>\n",
       "      <td>https://www.baidu.com</td>\n",
       "      <td>1</td>\n",
       "      <td>1</td>\n",
       "      <td>8016</td>\n",
       "      <td>286</td>\n",
       "      <td>1845</td>\n",
       "      <td>21</td>\n",
       "      <td>0</td>\n",
       "      <td>13</td>\n",
       "      <td>0</td>\n",
       "      <td>...</td>\n",
       "      <td>1</td>\n",
       "      <td>0</td>\n",
       "      <td>16</td>\n",
       "      <td>0</td>\n",
       "      <td>-3.880180</td>\n",
       "      <td>0</td>\n",
       "      <td>0</td>\n",
       "      <td>0</td>\n",
       "      <td>0</td>\n",
       "      <td>0</td>\n",
       "    </tr>\n",
       "    <tr>\n",
       "      <th>4</th>\n",
       "      <td>https://www.wikipedia.org</td>\n",
       "      <td>1</td>\n",
       "      <td>1</td>\n",
       "      <td>7557</td>\n",
       "      <td>341</td>\n",
       "      <td>477</td>\n",
       "      <td>25</td>\n",
       "      <td>0</td>\n",
       "      <td>17</td>\n",
       "      <td>0</td>\n",
       "      <td>...</td>\n",
       "      <td>1</td>\n",
       "      <td>0</td>\n",
       "      <td>20</td>\n",
       "      <td>0</td>\n",
       "      <td>-3.813661</td>\n",
       "      <td>0</td>\n",
       "      <td>0</td>\n",
       "      <td>0</td>\n",
       "      <td>0</td>\n",
       "      <td>0</td>\n",
       "    </tr>\n",
       "  </tbody>\n",
       "</table>\n",
       "<p>5 rows × 29 columns</p>\n",
       "</div>"
      ],
      "text/plain": [
       "                         url  result  whois_exist  days_since_creation  \\\n",
       "0     https://www.google.com       1            1                 8772   \n",
       "1    https://www.youtube.com       1            1                 6062   \n",
       "2   https://www.facebook.com       1            1                 8942   \n",
       "3      https://www.baidu.com       1            1                 8016   \n",
       "4  https://www.wikipedia.org       1            1                 7557   \n",
       "\n",
       "   days_since_last_update  days_until_expiration  url_length  path_length  \\\n",
       "0                     743                   2549          22            0   \n",
       "1                     250                    146          23            0   \n",
       "2                     560                   2381          24            0   \n",
       "3                     286                   1845          21            0   \n",
       "4                     341                    477          25            0   \n",
       "\n",
       "   hostname_length  fd_length  ...  count_www  count_digits  count_letters  \\\n",
       "0               14          0  ...          1             0             17   \n",
       "1               15          0  ...          1             0             18   \n",
       "2               16          0  ...          1             0             19   \n",
       "3               13          0  ...          1             0             16   \n",
       "4               17          0  ...          1             0             20   \n",
       "\n",
       "   count_dir   entropy  num_parameters  num_fragments  num_subdomains  \\\n",
       "0          0 -3.663533               0              0               0   \n",
       "1          0 -3.762267               0              0               0   \n",
       "2          0 -3.855389               0              0               0   \n",
       "3          0 -3.880180               0              0               0   \n",
       "4          0 -3.813661               0              0               0   \n",
       "\n",
       "   use_of_ip  is_short_url  \n",
       "0          0             0  \n",
       "1          0             0  \n",
       "2          0             0  \n",
       "3          0             0  \n",
       "4          0             0  \n",
       "\n",
       "[5 rows x 29 columns]"
      ]
     },
     "execution_count": 22,
     "metadata": {},
     "output_type": "execute_result"
    }
   ],
   "source": [
    "# Clean binary columns\n",
    "df[\"whois_exist\"] = df[\"whois_exist\"].astype(int)\n",
    "df.head()"
   ]
  },
  {
   "cell_type": "code",
   "execution_count": 23,
   "id": "54e14397",
   "metadata": {},
   "outputs": [],
   "source": [
    "# Generate url profanity column\n",
    "from profanity_check import predict, predict_prob\n",
    "\n",
    "def clean_url(url):\n",
    "    url_text=\"\"\n",
    "    try:\n",
    "        domain = get_tld(url, as_object=True)\n",
    "        domain = get_tld(url, as_object=True)\n",
    "        url_parsed = urlparse(url)\n",
    "        url_text= url_parsed.netloc.replace(domain.tld,\" \").replace('www',' ') +\" \"+ url_parsed.path+\" \"+url_parsed.params+\" \"+url_parsed.query+\" \"+url_parsed.fragment\n",
    "        url_text = url_text.translate(str.maketrans({'?':' ','\\\\':' ','.':' ',';':' ','/':' ','\\'':' '}))\n",
    "        url_text.strip(' ')\n",
    "        url_text.lower()\n",
    "    except:\n",
    "        url_text = url_text.translate(str.maketrans({'?':' ','\\\\':' ','.':' ',';':' ','/':' ','\\'':' '}))\n",
    "        url_text.strip(' ')\n",
    "    return url_text\n",
    "\n",
    "df['url_temp'] = df['url'].map(clean_url)\n",
    "df['url_profanity_score'] = predict_prob(df['url_temp'].astype(str).to_numpy())\n",
    "df = df.drop(['url_temp'], axis=1)"
   ]
  },
  {
   "cell_type": "code",
   "execution_count": 24,
   "id": "221e0864",
   "metadata": {},
   "outputs": [
    {
     "data": {
      "text/html": [
       "<div>\n",
       "<style scoped>\n",
       "    .dataframe tbody tr th:only-of-type {\n",
       "        vertical-align: middle;\n",
       "    }\n",
       "\n",
       "    .dataframe tbody tr th {\n",
       "        vertical-align: top;\n",
       "    }\n",
       "\n",
       "    .dataframe thead th {\n",
       "        text-align: right;\n",
       "    }\n",
       "</style>\n",
       "<table border=\"1\" class=\"dataframe\">\n",
       "  <thead>\n",
       "    <tr style=\"text-align: right;\">\n",
       "      <th></th>\n",
       "      <th>url</th>\n",
       "      <th>result</th>\n",
       "      <th>whois_exist</th>\n",
       "      <th>days_since_creation</th>\n",
       "      <th>days_since_last_update</th>\n",
       "      <th>days_until_expiration</th>\n",
       "      <th>url_length</th>\n",
       "      <th>path_length</th>\n",
       "      <th>hostname_length</th>\n",
       "      <th>fd_length</th>\n",
       "      <th>...</th>\n",
       "      <th>count_digits</th>\n",
       "      <th>count_letters</th>\n",
       "      <th>count_dir</th>\n",
       "      <th>entropy</th>\n",
       "      <th>num_parameters</th>\n",
       "      <th>num_fragments</th>\n",
       "      <th>num_subdomains</th>\n",
       "      <th>use_of_ip</th>\n",
       "      <th>is_short_url</th>\n",
       "      <th>url_profanity_score</th>\n",
       "    </tr>\n",
       "  </thead>\n",
       "  <tbody>\n",
       "    <tr>\n",
       "      <th>546</th>\n",
       "      <td>https://www.sex.com</td>\n",
       "      <td>1</td>\n",
       "      <td>1</td>\n",
       "      <td>9470</td>\n",
       "      <td>298</td>\n",
       "      <td>3312</td>\n",
       "      <td>19</td>\n",
       "      <td>0</td>\n",
       "      <td>11</td>\n",
       "      <td>0</td>\n",
       "      <td>...</td>\n",
       "      <td>0</td>\n",
       "      <td>14</td>\n",
       "      <td>0</td>\n",
       "      <td>-3.576618</td>\n",
       "      <td>0</td>\n",
       "      <td>0</td>\n",
       "      <td>0</td>\n",
       "      <td>0</td>\n",
       "      <td>1</td>\n",
       "      <td>0.882535</td>\n",
       "    </tr>\n",
       "    <tr>\n",
       "      <th>1262</th>\n",
       "      <td>https://www.sh.st</td>\n",
       "      <td>1</td>\n",
       "      <td>1</td>\n",
       "      <td>3005</td>\n",
       "      <td>86</td>\n",
       "      <td>281</td>\n",
       "      <td>17</td>\n",
       "      <td>0</td>\n",
       "      <td>9</td>\n",
       "      <td>0</td>\n",
       "      <td>...</td>\n",
       "      <td>0</td>\n",
       "      <td>12</td>\n",
       "      <td>0</td>\n",
       "      <td>-2.895424</td>\n",
       "      <td>0</td>\n",
       "      <td>0</td>\n",
       "      <td>0</td>\n",
       "      <td>0</td>\n",
       "      <td>0</td>\n",
       "      <td>0.796307</td>\n",
       "    </tr>\n",
       "    <tr>\n",
       "      <th>1308</th>\n",
       "      <td>https://www.porn.com</td>\n",
       "      <td>1</td>\n",
       "      <td>1</td>\n",
       "      <td>9530</td>\n",
       "      <td>447</td>\n",
       "      <td>3029</td>\n",
       "      <td>20</td>\n",
       "      <td>0</td>\n",
       "      <td>12</td>\n",
       "      <td>0</td>\n",
       "      <td>...</td>\n",
       "      <td>0</td>\n",
       "      <td>15</td>\n",
       "      <td>0</td>\n",
       "      <td>-3.584184</td>\n",
       "      <td>0</td>\n",
       "      <td>0</td>\n",
       "      <td>0</td>\n",
       "      <td>0</td>\n",
       "      <td>0</td>\n",
       "      <td>0.765102</td>\n",
       "    </tr>\n",
       "    <tr>\n",
       "      <th>1480</th>\n",
       "      <td>https://www.yalla-shoot.com</td>\n",
       "      <td>1</td>\n",
       "      <td>1</td>\n",
       "      <td>2966</td>\n",
       "      <td>1335</td>\n",
       "      <td>1416</td>\n",
       "      <td>27</td>\n",
       "      <td>0</td>\n",
       "      <td>19</td>\n",
       "      <td>0</td>\n",
       "      <td>...</td>\n",
       "      <td>0</td>\n",
       "      <td>21</td>\n",
       "      <td>0</td>\n",
       "      <td>-3.782122</td>\n",
       "      <td>0</td>\n",
       "      <td>0</td>\n",
       "      <td>0</td>\n",
       "      <td>0</td>\n",
       "      <td>1</td>\n",
       "      <td>0.691442</td>\n",
       "    </tr>\n",
       "    <tr>\n",
       "      <th>1913</th>\n",
       "      <td>https://www.fool.com</td>\n",
       "      <td>1</td>\n",
       "      <td>1</td>\n",
       "      <td>9584</td>\n",
       "      <td>109</td>\n",
       "      <td>276</td>\n",
       "      <td>20</td>\n",
       "      <td>0</td>\n",
       "      <td>12</td>\n",
       "      <td>0</td>\n",
       "      <td>...</td>\n",
       "      <td>0</td>\n",
       "      <td>15</td>\n",
       "      <td>0</td>\n",
       "      <td>-3.546439</td>\n",
       "      <td>0</td>\n",
       "      <td>0</td>\n",
       "      <td>0</td>\n",
       "      <td>0</td>\n",
       "      <td>0</td>\n",
       "      <td>0.941832</td>\n",
       "    </tr>\n",
       "  </tbody>\n",
       "</table>\n",
       "<p>5 rows × 30 columns</p>\n",
       "</div>"
      ],
      "text/plain": [
       "                              url  result  whois_exist  days_since_creation  \\\n",
       "546           https://www.sex.com       1            1                 9470   \n",
       "1262            https://www.sh.st       1            1                 3005   \n",
       "1308         https://www.porn.com       1            1                 9530   \n",
       "1480  https://www.yalla-shoot.com       1            1                 2966   \n",
       "1913         https://www.fool.com       1            1                 9584   \n",
       "\n",
       "      days_since_last_update  days_until_expiration  url_length  path_length  \\\n",
       "546                      298                   3312          19            0   \n",
       "1262                      86                    281          17            0   \n",
       "1308                     447                   3029          20            0   \n",
       "1480                    1335                   1416          27            0   \n",
       "1913                     109                    276          20            0   \n",
       "\n",
       "      hostname_length  fd_length  ...  count_digits  count_letters  count_dir  \\\n",
       "546                11          0  ...             0             14          0   \n",
       "1262                9          0  ...             0             12          0   \n",
       "1308               12          0  ...             0             15          0   \n",
       "1480               19          0  ...             0             21          0   \n",
       "1913               12          0  ...             0             15          0   \n",
       "\n",
       "       entropy  num_parameters  num_fragments  num_subdomains  use_of_ip  \\\n",
       "546  -3.576618               0              0               0          0   \n",
       "1262 -2.895424               0              0               0          0   \n",
       "1308 -3.584184               0              0               0          0   \n",
       "1480 -3.782122               0              0               0          0   \n",
       "1913 -3.546439               0              0               0          0   \n",
       "\n",
       "      is_short_url  url_profanity_score  \n",
       "546              1             0.882535  \n",
       "1262             0             0.796307  \n",
       "1308             0             0.765102  \n",
       "1480             1             0.691442  \n",
       "1913             0             0.941832  \n",
       "\n",
       "[5 rows x 30 columns]"
      ]
     },
     "execution_count": 24,
     "metadata": {},
     "output_type": "execute_result"
    }
   ],
   "source": [
    "df[df['url_profanity_score'] > 0.5].head()"
   ]
  },
  {
   "cell_type": "code",
   "execution_count": 25,
   "id": "b0d3165e",
   "metadata": {},
   "outputs": [
    {
     "data": {
      "text/plain": [
       "array([['https://a.net-bz86.stream/claim/ytvt/index-2o-en-azwal-c1-2m.html?region=New%20York&amp;td=www.bluecruisebooking.com&amp;brand=Samsung&amp;model=Galaxy%20S8&amp;cep=TToRcA-H4tzmqUHx1PS1ILyAGNbsnrhwu3h5rknGclsYLc5qvY1EWJfRJ3y3qQbEEcT9vpRj0nhv7Bv01tWDMdCV2R8BPVLY9f-VcKOjB6HKDADURebdefRsoM4kOCsblnWLvjyTQxjZH0xihj6tHZ5ySn4Jm9KAMlufXBQXKUPiGhjuRLQ39OjrmeYjySmGm9nUlvgAY8od67J69tfz-EiYnNcBcsQ0yaP4MsguxKcOaWo6X74cS4FTX3FfnNsgC5ybBfYIbQ3MZH5FPt9cz64Qvqoffze9DXs2kOqEIwPeziz1x3XAGFLNfVfTiFgJUPsSK69E9InRT_jir6W6S6t9Pv2pA2RK-CAbkhVFMDuHYtauXL8S2ZYbRSAG8Uc8lBdTZkJD533NfGLqLuNHheu2QtiRGj4-VoqUccyU5Y8#'],\n",
       "       ['https://go.net-dk88.stream/ta3/2Dw-3Xz/menu-spr-c2-rfc.html?region=Illinois&amp;td=mobileclockin.com&amp;voluumdata=deprecated&amp;eda=deprecated&amp;cep=LTkjy_uivPSfXGf2RWENlNOJ-OXF2iyU4_9-sy9f1n3FUEbsD4wfbGYw7FTJ5kUpI1tCARxb97evzUCnouImRMvkgJCTuKJfHOQv9CxUuz6gNBQjgI--GhBfG79DPUo8CUcD-CQRn49RsO_-hPY6C5QrDRhvbtleI-nD3nex9-1riD2VL_93zdgZgMa5xAaqPVj62FSe8u-ucWC_wLDDf_L0gcg1L4XVlHJxtsWKANGNLH5wL7k7PW6ellvMAOsTjaKuM7F7loH1lGYS2y1HmX2r5cN69kqHk6_JcKPTqJOPjUrMFQjvTkEPHCtX9CgGK-rnTiTt_4hMzGPUnZRc5qL0vChntaMKdLnS32e0Wzfy1Mtmsf0Cz6hJl3N1TvfLHeMIMY0mweX6GvDgZJzliE_fpqeY6RjoJTabjlKDULiso_46A7OlVwhc6yw6Wtp-pZ5XqQfUaB3YorvuHMqkZPImeiXbx3g88FUBQHo4XrYF4A8xnz8yKtFe7-uN8KAx#'],\n",
       "       ['https://go.net-dk88.stream/ta3/2Dw-3Xz/menu-spr-c2-rfc.html?region=Illinois&amp;td=mobileclockin.com&amp;voluumdata=deprecated&amp;eda=deprecated&amp;cep=LTkjy_uivPSfXGf2RWENlNOJ-OXF2iyU4_9-sy9f1n3FUEbsD4wfbGYw7FTJ5kUpI1tCARxb97evzUCnouImRMvkgJCTuKJfHOQv9CxUuz6gNBQjgI--GhBfG79DPUo8CUcD-CQRn49RsO_-hPY6C5QrDRhvbtleI-nD3nex9-1riD2VL_93zdgZgMa5xAaqPVj62FSe8u-ucWC_wLDDf_L0gcg1L4XVlHJxtsWKANGNLH5wL7k7PW6ellvMAOsTjaKuM7F7loH1lGYS2y1HmX2r5cN69kqHk6_JcKPTqJOPjUrMFQjvTkEPHCtX9CgGK-rnTiTt_4hMzGPUnZRc5qL0vChntaMKdLnS32e0Wzfy1Mtmsf0Cz6hJl3N1TvfLHeMIMY0mweX6GvDgZJzliE_fpqeY6RjoJTabjlKDULiso_46A7OlVwhc6yw6Wtp-pZ5XqQfUaB3YorvuHMqkZPImeiXbx3g88FUBQHo4XrYF4A8xnz8yKtFe7-uN8KAx'],\n",
       "       ['http://samchak.com/?ga=uhhbsxXeH/6EMcmFRUBZcNYHV94RtYiSCnLIuAAH932qwW//RqUoFq0X5bveSKSyusC08MwW0KkmGx/aud8MbeUe66RBDVwNUncHE1AiRpX9lZOTErHapQ53jNafImN9lA5CVxm/HSxkSsmMLr/Xfg==&amp;gerf=/YfI1kYWrzosyrFDbJIB4WI4iKeyxenfKNEBXDnjWQ56Ov9D%20ylH6eaLOfFXnOAc&amp;guro=yIQLVEq1a8ybzbBMHf2pJvcteUmO9t/2A2hfJ3Y6vydqh1uzvmO9JWunNvHfcRu12iSFv2Uhmz8uH58x5dl9LAEY/9nhcaIsLXiwY/CghaBeYS4F8sOxXCTfbm1IXJiDYNAT/IHBIeclIDxLFgS4XaQHC8UubWAiYktBGLuZ76xILqX91TV0UsGpCY/kg/76z/%206yuHqjWRAK0kL2qWJP2HArDNBFZtxQ2YE/cwL9QU6aMaqI510K9VUfT6OG2BP6sPAGhM%20p5RW8uOlTrUcw62mmv%20ou%20H9Ao7RDY8bE/LTqT8DRYqIpNcxBxQ7ujspEQ2TRGOkKX2VWizDVNZ9ktUO7PZHnkyACRg2lpTqL/52J99NTcCzQASDPp5I5RqQ8ki2IQSwQT5mfJX9B90CYcfZus7To%20JfSKl/hAYJmfxqkSjipJeEQDNsG/FEDdc0XxdYl5oHFXI3r107yA%20zSC/WN2ESDe9E4JFaG2Sdxtk3w0DdoMKVj3cMAH7VuOpLVTcCxP72uejXAJybPtaVY88RWHKqh6SUK82oA5hW4F%20J9rU2403a/uT0q%20u2oscg1r5jNaUQYCYYTyrhW0TecyiYKu7jUjbvKredOk6XnqhG4ASDSt%20JJQdpf%20%20cjp%20XMoZRTzPWRK7Mv2stfBtqh2bl%202CaG1o8ttDIV0e8U2pTlCH/48oc306meqqk9qSN0QrxtXZiQ4xH/HUmz4mgdDRv5xEAK0ONFRfLneDbj8zytM81BGp9Cc8oOb5f4aRaR2vgxYOk/LA%20yDKNNMeGhieSOaPM0bghR0UaJZNTsbrRZ/g3kOm/yyumrMQCkVh/8U2TWz1GyW26%20UPhTGKJg6/9URlpi%20xQ7CPqTAwAzjIjJ9Y%206bkQBwClG6q8rl/PTi8JLlqzFlpp%20mu9PYHw4Bw233mL0mH4RYrNH5mlXy/BJyA1eryNam6YWNyEyzazfa0c0IRuXbDfP3IZvv5yZzNQBI7ShcnpOp306Ws/fm3Ji4ci072RVzEdPsnHG1/h54gIZQUb217mtANO3Xys2C8utD7YJvPhEIjpaxFuZwijochrAevWA5SNkFdcnh8IGRMsoAYtZp8j2SchRjIAg5LUwOP3HgtuPrnX9oPy8mv3yOrCpcjPPQcTryO21sbk%20Yn2yBS%20/B/1e5yuw3kB%20DaLAN7Tfy0w%20AfAONJQlPTNBZBWWUcp9TV/E/s6B7a18urIgm3eoyIYdrYk/YbjoJpVVIkTB0ZBP2vDtCYy3KZpKtPTpiJxKAgI16CJhGUY&amp;fp=1eKtAWuYjR74TrAMORwDlOvCf%20lvpUL9Vkl5yWVLvLcNeBclF8UvATIP1w7SHkN8GXd2rKHpY161rEq1dNersg==&amp;poru=FYUmd2/dWqycZCXHqbvEQmlfEOVE0yuYzay0NWr5LNcGyA01figYtbontq5cpffJoIr5c076BuH2DXcqNpn4nw==&amp;prvtof=YH9jHQl6hlTQw/Bz0YDSZr89N0%20BGo5Hng4vrt0Obsb6cTEpIU/9ziBwWa6OJVMAB9q8KJZtC4lxFMFnp/cdgL6iiy/ORhi7g/Eqov74JMUi%20WkQ%20HDJDm4bsRaD4JAi0oKBIEzXlE5w6nOWqFbSSE1Kg5Wrnnfq4q%20x0kkyv'],\n",
       "       ['https://url11.mailanyone.net/v1/?m=1gbE1t-0006s6-4s&i=57e1b682&c=QbRqCEZg46f2KAYbGQtSElmzA7hR38K5y9ylnO2jHC0r09ZupzagczKouZ4MDWzqDfTQHq9CwJVbW71zYWol4_oSJSf7sLj4xd3nP4_AtmU6JiQpaJ8QvAmvyBtvSqao4VZ2I7S4b_xspRd2-NT_HwjfOfHpD5oGANG_k4OVtHZ4evEZwPP0a3jIK6pan5FNnN3qsQYj0rLUXcxJbb-CS_zXOVzF2ARsGYh6b3jo0guP1QvgIKaaBEGj9xHqjZ0rA4E0WnBPHIxbfPgz_4LhdWH1Mv2vx4-gnMuOU7PfAVr8YeggccuPcO0YsI3eCmdPE-vGTKDCEagwvLS1Y8DbKF6lGzb6tBVUVLlfa7RZ_T4IrZI1UAkOF0uq25uVYk5g5nZd-uLfy0udBVxD1fY5UOKoZbzO3SD0-7VqHcI_QQ7mBRv4_1SgnH6bRQ-2teO9o9iMlvq4-lbCIzzrmaRXe37nq2FUqpS2Nz_A28TI9bXQXI6e-POx89EYQPPHwKh7']],\n",
       "      dtype=object)"
      ]
     },
     "execution_count": 25,
     "metadata": {},
     "output_type": "execute_result"
    }
   ],
   "source": [
    "# Get rows with large entropy values\n",
    "rows = df.sort_values(by=['entropy'])\n",
    "rows = rows.head()\n",
    "rows[['url']].values"
   ]
  },
  {
   "cell_type": "code",
   "execution_count": 26,
   "id": "93c5afee",
   "metadata": {},
   "outputs": [
    {
     "data": {
      "text/html": [
       "<div>\n",
       "<style scoped>\n",
       "    .dataframe tbody tr th:only-of-type {\n",
       "        vertical-align: middle;\n",
       "    }\n",
       "\n",
       "    .dataframe tbody tr th {\n",
       "        vertical-align: top;\n",
       "    }\n",
       "\n",
       "    .dataframe thead th {\n",
       "        text-align: right;\n",
       "    }\n",
       "</style>\n",
       "<table border=\"1\" class=\"dataframe\">\n",
       "  <thead>\n",
       "    <tr style=\"text-align: right;\">\n",
       "      <th></th>\n",
       "      <th>url</th>\n",
       "      <th>result</th>\n",
       "      <th>whois_exist</th>\n",
       "      <th>days_since_creation</th>\n",
       "      <th>days_since_last_update</th>\n",
       "      <th>days_until_expiration</th>\n",
       "      <th>url_length</th>\n",
       "      <th>path_length</th>\n",
       "      <th>hostname_length</th>\n",
       "      <th>fd_length</th>\n",
       "      <th>...</th>\n",
       "      <th>count_digits</th>\n",
       "      <th>count_letters</th>\n",
       "      <th>count_dir</th>\n",
       "      <th>entropy</th>\n",
       "      <th>num_parameters</th>\n",
       "      <th>num_fragments</th>\n",
       "      <th>num_subdomains</th>\n",
       "      <th>use_of_ip</th>\n",
       "      <th>is_short_url</th>\n",
       "      <th>url_profanity_score</th>\n",
       "    </tr>\n",
       "  </thead>\n",
       "  <tbody>\n",
       "    <tr>\n",
       "      <th>401591</th>\n",
       "      <td>http://methninja.tk/private/Inv.exe???????????...</td>\n",
       "      <td>0</td>\n",
       "      <td>0</td>\n",
       "      <td>-1</td>\n",
       "      <td>-1</td>\n",
       "      <td>-1</td>\n",
       "      <td>201</td>\n",
       "      <td>16</td>\n",
       "      <td>12</td>\n",
       "      <td>7</td>\n",
       "      <td>...</td>\n",
       "      <td>0</td>\n",
       "      <td>28</td>\n",
       "      <td>2</td>\n",
       "      <td>-1.339504</td>\n",
       "      <td>0</td>\n",
       "      <td>0</td>\n",
       "      <td>2</td>\n",
       "      <td>0</td>\n",
       "      <td>0</td>\n",
       "      <td>0.041489</td>\n",
       "    </tr>\n",
       "    <tr>\n",
       "      <th>412911</th>\n",
       "      <td>http://pu-pa.eu/counter/?id=__________________...</td>\n",
       "      <td>0</td>\n",
       "      <td>1</td>\n",
       "      <td>-1</td>\n",
       "      <td>-1</td>\n",
       "      <td>-1</td>\n",
       "      <td>239</td>\n",
       "      <td>9</td>\n",
       "      <td>8</td>\n",
       "      <td>7</td>\n",
       "      <td>...</td>\n",
       "      <td>2</td>\n",
       "      <td>25</td>\n",
       "      <td>2</td>\n",
       "      <td>-1.347390</td>\n",
       "      <td>1</td>\n",
       "      <td>0</td>\n",
       "      <td>2</td>\n",
       "      <td>0</td>\n",
       "      <td>0</td>\n",
       "      <td>0.042168</td>\n",
       "    </tr>\n",
       "    <tr>\n",
       "      <th>412910</th>\n",
       "      <td>http://alathankaraikabaddi.in/counter/?id=____...</td>\n",
       "      <td>0</td>\n",
       "      <td>0</td>\n",
       "      <td>-1</td>\n",
       "      <td>-1</td>\n",
       "      <td>-1</td>\n",
       "      <td>253</td>\n",
       "      <td>9</td>\n",
       "      <td>22</td>\n",
       "      <td>7</td>\n",
       "      <td>...</td>\n",
       "      <td>2</td>\n",
       "      <td>40</td>\n",
       "      <td>2</td>\n",
       "      <td>-1.637041</td>\n",
       "      <td>1</td>\n",
       "      <td>0</td>\n",
       "      <td>2</td>\n",
       "      <td>0</td>\n",
       "      <td>0</td>\n",
       "      <td>0.016345</td>\n",
       "    </tr>\n",
       "    <tr>\n",
       "      <th>449226</th>\n",
       "      <td>http://www.fronkex.is/images/first/contato/Sua...</td>\n",
       "      <td>0</td>\n",
       "      <td>1</td>\n",
       "      <td>8722</td>\n",
       "      <td>-1</td>\n",
       "      <td>43</td>\n",
       "      <td>208</td>\n",
       "      <td>33</td>\n",
       "      <td>14</td>\n",
       "      <td>6</td>\n",
       "      <td>...</td>\n",
       "      <td>0</td>\n",
       "      <td>44</td>\n",
       "      <td>5</td>\n",
       "      <td>-1.974750</td>\n",
       "      <td>0</td>\n",
       "      <td>152</td>\n",
       "      <td>7</td>\n",
       "      <td>0</td>\n",
       "      <td>0</td>\n",
       "      <td>0.063547</td>\n",
       "    </tr>\n",
       "    <tr>\n",
       "      <th>389343</th>\n",
       "      <td>http://?</td>\n",
       "      <td>0</td>\n",
       "      <td>0</td>\n",
       "      <td>-1</td>\n",
       "      <td>-1</td>\n",
       "      <td>-1</td>\n",
       "      <td>8</td>\n",
       "      <td>0</td>\n",
       "      <td>0</td>\n",
       "      <td>0</td>\n",
       "      <td>...</td>\n",
       "      <td>0</td>\n",
       "      <td>4</td>\n",
       "      <td>0</td>\n",
       "      <td>-2.500000</td>\n",
       "      <td>0</td>\n",
       "      <td>0</td>\n",
       "      <td>0</td>\n",
       "      <td>0</td>\n",
       "      <td>0</td>\n",
       "      <td>0.046085</td>\n",
       "    </tr>\n",
       "  </tbody>\n",
       "</table>\n",
       "<p>5 rows × 30 columns</p>\n",
       "</div>"
      ],
      "text/plain": [
       "                                                      url  result  \\\n",
       "401591  http://methninja.tk/private/Inv.exe???????????...       0   \n",
       "412911  http://pu-pa.eu/counter/?id=__________________...       0   \n",
       "412910  http://alathankaraikabaddi.in/counter/?id=____...       0   \n",
       "449226  http://www.fronkex.is/images/first/contato/Sua...       0   \n",
       "389343                                           http://?       0   \n",
       "\n",
       "        whois_exist  days_since_creation  days_since_last_update  \\\n",
       "401591            0                   -1                      -1   \n",
       "412911            1                   -1                      -1   \n",
       "412910            0                   -1                      -1   \n",
       "449226            1                 8722                      -1   \n",
       "389343            0                   -1                      -1   \n",
       "\n",
       "        days_until_expiration  url_length  path_length  hostname_length  \\\n",
       "401591                     -1         201           16               12   \n",
       "412911                     -1         239            9                8   \n",
       "412910                     -1         253            9               22   \n",
       "449226                     43         208           33               14   \n",
       "389343                     -1           8            0                0   \n",
       "\n",
       "        fd_length  ...  count_digits  count_letters  count_dir   entropy  \\\n",
       "401591          7  ...             0             28          2 -1.339504   \n",
       "412911          7  ...             2             25          2 -1.347390   \n",
       "412910          7  ...             2             40          2 -1.637041   \n",
       "449226          6  ...             0             44          5 -1.974750   \n",
       "389343          0  ...             0              4          0 -2.500000   \n",
       "\n",
       "        num_parameters  num_fragments  num_subdomains  use_of_ip  \\\n",
       "401591               0              0               2          0   \n",
       "412911               1              0               2          0   \n",
       "412910               1              0               2          0   \n",
       "449226               0            152               7          0   \n",
       "389343               0              0               0          0   \n",
       "\n",
       "        is_short_url  url_profanity_score  \n",
       "401591             0             0.041489  \n",
       "412911             0             0.042168  \n",
       "412910             0             0.016345  \n",
       "449226             0             0.063547  \n",
       "389343             0             0.046085  \n",
       "\n",
       "[5 rows x 30 columns]"
      ]
     },
     "execution_count": 26,
     "metadata": {},
     "output_type": "execute_result"
    }
   ],
   "source": [
    "rows = df.sort_values(by=['entropy'], ascending=False)\n",
    "rows.head()"
   ]
  },
  {
   "cell_type": "code",
   "execution_count": 57,
   "id": "e7da7b07",
   "metadata": {},
   "outputs": [
    {
     "data": {
      "text/plain": [
       "array([['http://methninja.tk/private/Inv.exe??????????????????????????????????????????????????????????????????????????????????????????????????????????????????????????????????????????????????????????????????????'],\n",
       "       ['http://pu-pa.eu/counter/?id=________________________________________________________________________________________________________________________________________________________________________________________________________&amp;rnd=01'],\n",
       "       ['http://alathankaraikabaddi.in/counter/?id=________________________________________________________________________________________________________________________________________________________________________________________________________&amp;rnd=21'],\n",
       "       ...,\n",
       "       ['https://go.net-dk88.stream/ta3/2Dw-3Xz/menu-spr-c2-rfc.html?region=Illinois&amp;td=mobileclockin.com&amp;voluumdata=deprecated&amp;eda=deprecated&amp;cep=LTkjy_uivPSfXGf2RWENlNOJ-OXF2iyU4_9-sy9f1n3FUEbsD4wfbGYw7FTJ5kUpI1tCARxb97evzUCnouImRMvkgJCTuKJfHOQv9CxUuz6gNBQjgI--GhBfG79DPUo8CUcD-CQRn49RsO_-hPY6C5QrDRhvbtleI-nD3nex9-1riD2VL_93zdgZgMa5xAaqPVj62FSe8u-ucWC_wLDDf_L0gcg1L4XVlHJxtsWKANGNLH5wL7k7PW6ellvMAOsTjaKuM7F7loH1lGYS2y1HmX2r5cN69kqHk6_JcKPTqJOPjUrMFQjvTkEPHCtX9CgGK-rnTiTt_4hMzGPUnZRc5qL0vChntaMKdLnS32e0Wzfy1Mtmsf0Cz6hJl3N1TvfLHeMIMY0mweX6GvDgZJzliE_fpqeY6RjoJTabjlKDULiso_46A7OlVwhc6yw6Wtp-pZ5XqQfUaB3YorvuHMqkZPImeiXbx3g88FUBQHo4XrYF4A8xnz8yKtFe7-uN8KAx'],\n",
       "       ['https://go.net-dk88.stream/ta3/2Dw-3Xz/menu-spr-c2-rfc.html?region=Illinois&amp;td=mobileclockin.com&amp;voluumdata=deprecated&amp;eda=deprecated&amp;cep=LTkjy_uivPSfXGf2RWENlNOJ-OXF2iyU4_9-sy9f1n3FUEbsD4wfbGYw7FTJ5kUpI1tCARxb97evzUCnouImRMvkgJCTuKJfHOQv9CxUuz6gNBQjgI--GhBfG79DPUo8CUcD-CQRn49RsO_-hPY6C5QrDRhvbtleI-nD3nex9-1riD2VL_93zdgZgMa5xAaqPVj62FSe8u-ucWC_wLDDf_L0gcg1L4XVlHJxtsWKANGNLH5wL7k7PW6ellvMAOsTjaKuM7F7loH1lGYS2y1HmX2r5cN69kqHk6_JcKPTqJOPjUrMFQjvTkEPHCtX9CgGK-rnTiTt_4hMzGPUnZRc5qL0vChntaMKdLnS32e0Wzfy1Mtmsf0Cz6hJl3N1TvfLHeMIMY0mweX6GvDgZJzliE_fpqeY6RjoJTabjlKDULiso_46A7OlVwhc6yw6Wtp-pZ5XqQfUaB3YorvuHMqkZPImeiXbx3g88FUBQHo4XrYF4A8xnz8yKtFe7-uN8KAx#'],\n",
       "       ['https://a.net-bz86.stream/claim/ytvt/index-2o-en-azwal-c1-2m.html?region=New%20York&amp;td=www.bluecruisebooking.com&amp;brand=Samsung&amp;model=Galaxy%20S8&amp;cep=TToRcA-H4tzmqUHx1PS1ILyAGNbsnrhwu3h5rknGclsYLc5qvY1EWJfRJ3y3qQbEEcT9vpRj0nhv7Bv01tWDMdCV2R8BPVLY9f-VcKOjB6HKDADURebdefRsoM4kOCsblnWLvjyTQxjZH0xihj6tHZ5ySn4Jm9KAMlufXBQXKUPiGhjuRLQ39OjrmeYjySmGm9nUlvgAY8od67J69tfz-EiYnNcBcsQ0yaP4MsguxKcOaWo6X74cS4FTX3FfnNsgC5ybBfYIbQ3MZH5FPt9cz64Qvqoffze9DXs2kOqEIwPeziz1x3XAGFLNfVfTiFgJUPsSK69E9InRT_jir6W6S6t9Pv2pA2RK-CAbkhVFMDuHYtauXL8S2ZYbRSAG8Uc8lBdTZkJD533NfGLqLuNHheu2QtiRGj4-VoqUccyU5Y8#']],\n",
       "      dtype=object)"
      ]
     },
     "execution_count": 57,
     "metadata": {},
     "output_type": "execute_result"
    }
   ],
   "source": [
    "rows[['url']].values"
   ]
  },
  {
   "cell_type": "code",
   "execution_count": 50,
   "id": "dd033529",
   "metadata": {},
   "outputs": [
    {
     "data": {
      "text/html": [
       "<div>\n",
       "<style scoped>\n",
       "    .dataframe tbody tr th:only-of-type {\n",
       "        vertical-align: middle;\n",
       "    }\n",
       "\n",
       "    .dataframe tbody tr th {\n",
       "        vertical-align: top;\n",
       "    }\n",
       "\n",
       "    .dataframe thead th {\n",
       "        text-align: right;\n",
       "    }\n",
       "</style>\n",
       "<table border=\"1\" class=\"dataframe\">\n",
       "  <thead>\n",
       "    <tr style=\"text-align: right;\">\n",
       "      <th></th>\n",
       "      <th>url</th>\n",
       "      <th>result</th>\n",
       "      <th>whois_exist</th>\n",
       "      <th>days_since_creation</th>\n",
       "      <th>days_since_last_update</th>\n",
       "      <th>days_until_expiration</th>\n",
       "      <th>url_length</th>\n",
       "      <th>path_length</th>\n",
       "      <th>hostname_length</th>\n",
       "      <th>fd_length</th>\n",
       "      <th>tld</th>\n",
       "      <th>tld_length</th>\n",
       "      <th>count_of_-</th>\n",
       "      <th>count_@</th>\n",
       "      <th>count_?</th>\n",
       "      <th>count_%</th>\n",
       "      <th>count_.</th>\n",
       "      <th>count_=</th>\n",
       "      <th>count_https</th>\n",
       "      <th>count_www</th>\n",
       "      <th>count_digits</th>\n",
       "      <th>count_letters</th>\n",
       "      <th>count_dir</th>\n",
       "      <th>entropy</th>\n",
       "      <th>num_parameters</th>\n",
       "      <th>num_fragments</th>\n",
       "      <th>num_subdomains</th>\n",
       "      <th>use_of_ip</th>\n",
       "      <th>is_short_url</th>\n",
       "      <th>url_profanity_score</th>\n",
       "    </tr>\n",
       "  </thead>\n",
       "  <tbody>\n",
       "    <tr>\n",
       "      <th>347931</th>\n",
       "      <td>http://www.reported-account-unblocking.com/hel...</td>\n",
       "      <td>0</td>\n",
       "      <td>0</td>\n",
       "      <td>-1</td>\n",
       "      <td>-1</td>\n",
       "      <td>-1</td>\n",
       "      <td>180</td>\n",
       "      <td>34</td>\n",
       "      <td>35</td>\n",
       "      <td>7</td>\n",
       "      <td>206.0</td>\n",
       "      <td>3</td>\n",
       "      <td>3</td>\n",
       "      <td>0</td>\n",
       "      <td>1</td>\n",
       "      <td>0</td>\n",
       "      <td>4</td>\n",
       "      <td>3</td>\n",
       "      <td>0</td>\n",
       "      <td>1</td>\n",
       "      <td>29</td>\n",
       "      <td>125</td>\n",
       "      <td>3</td>\n",
       "      <td>-5.402057</td>\n",
       "      <td>2</td>\n",
       "      <td>1</td>\n",
       "      <td>3</td>\n",
       "      <td>0</td>\n",
       "      <td>0</td>\n",
       "      <td>0.029040</td>\n",
       "    </tr>\n",
       "    <tr>\n",
       "      <th>347932</th>\n",
       "      <td>http://www.reported-account-unblocking.com/hel...</td>\n",
       "      <td>0</td>\n",
       "      <td>0</td>\n",
       "      <td>-1</td>\n",
       "      <td>-1</td>\n",
       "      <td>-1</td>\n",
       "      <td>176</td>\n",
       "      <td>30</td>\n",
       "      <td>35</td>\n",
       "      <td>7</td>\n",
       "      <td>206.0</td>\n",
       "      <td>3</td>\n",
       "      <td>3</td>\n",
       "      <td>0</td>\n",
       "      <td>1</td>\n",
       "      <td>0</td>\n",
       "      <td>4</td>\n",
       "      <td>3</td>\n",
       "      <td>0</td>\n",
       "      <td>1</td>\n",
       "      <td>29</td>\n",
       "      <td>122</td>\n",
       "      <td>3</td>\n",
       "      <td>-5.421144</td>\n",
       "      <td>2</td>\n",
       "      <td>1</td>\n",
       "      <td>3</td>\n",
       "      <td>0</td>\n",
       "      <td>0</td>\n",
       "      <td>0.034059</td>\n",
       "    </tr>\n",
       "    <tr>\n",
       "      <th>354245</th>\n",
       "      <td>http://japanesenarwal.com/wp/ozor/ii.php?rand=...</td>\n",
       "      <td>0</td>\n",
       "      <td>1</td>\n",
       "      <td>1867</td>\n",
       "      <td>0</td>\n",
       "      <td>-42</td>\n",
       "      <td>240</td>\n",
       "      <td>15</td>\n",
       "      <td>18</td>\n",
       "      <td>2</td>\n",
       "      <td>206.0</td>\n",
       "      <td>3</td>\n",
       "      <td>0</td>\n",
       "      <td>0</td>\n",
       "      <td>2</td>\n",
       "      <td>0</td>\n",
       "      <td>14</td>\n",
       "      <td>9</td>\n",
       "      <td>0</td>\n",
       "      <td>0</td>\n",
       "      <td>74</td>\n",
       "      <td>122</td>\n",
       "      <td>3</td>\n",
       "      <td>-4.966575</td>\n",
       "      <td>12</td>\n",
       "      <td>1</td>\n",
       "      <td>3</td>\n",
       "      <td>0</td>\n",
       "      <td>0</td>\n",
       "      <td>0.037943</td>\n",
       "    </tr>\n",
       "    <tr>\n",
       "      <th>354844</th>\n",
       "      <td>http://doucovanie.najlepsiucitel.sk/wp-include...</td>\n",
       "      <td>0</td>\n",
       "      <td>0</td>\n",
       "      <td>-1</td>\n",
       "      <td>-1</td>\n",
       "      <td>-1</td>\n",
       "      <td>333</td>\n",
       "      <td>50</td>\n",
       "      <td>28</td>\n",
       "      <td>11</td>\n",
       "      <td>925.0</td>\n",
       "      <td>2</td>\n",
       "      <td>2</td>\n",
       "      <td>0</td>\n",
       "      <td>2</td>\n",
       "      <td>0</td>\n",
       "      <td>15</td>\n",
       "      <td>9</td>\n",
       "      <td>0</td>\n",
       "      <td>0</td>\n",
       "      <td>74</td>\n",
       "      <td>198</td>\n",
       "      <td>5</td>\n",
       "      <td>-5.060148</td>\n",
       "      <td>12</td>\n",
       "      <td>1</td>\n",
       "      <td>5</td>\n",
       "      <td>0</td>\n",
       "      <td>0</td>\n",
       "      <td>0.021876</td>\n",
       "    </tr>\n",
       "    <tr>\n",
       "      <th>355278</th>\n",
       "      <td>http://deli-info.pl/hall/passage@/season/cmd-l...</td>\n",
       "      <td>0</td>\n",
       "      <td>0</td>\n",
       "      <td>-1</td>\n",
       "      <td>-1</td>\n",
       "      <td>-1</td>\n",
       "      <td>305</td>\n",
       "      <td>93</td>\n",
       "      <td>12</td>\n",
       "      <td>4</td>\n",
       "      <td>827.0</td>\n",
       "      <td>2</td>\n",
       "      <td>2</td>\n",
       "      <td>1</td>\n",
       "      <td>2</td>\n",
       "      <td>0</td>\n",
       "      <td>14</td>\n",
       "      <td>9</td>\n",
       "      <td>0</td>\n",
       "      <td>0</td>\n",
       "      <td>101</td>\n",
       "      <td>156</td>\n",
       "      <td>5</td>\n",
       "      <td>-5.117262</td>\n",
       "      <td>11</td>\n",
       "      <td>1</td>\n",
       "      <td>5</td>\n",
       "      <td>0</td>\n",
       "      <td>0</td>\n",
       "      <td>0.024322</td>\n",
       "    </tr>\n",
       "  </tbody>\n",
       "</table>\n",
       "</div>"
      ],
      "text/plain": [
       "                                                      url  result  \\\n",
       "347931  http://www.reported-account-unblocking.com/hel...       0   \n",
       "347932  http://www.reported-account-unblocking.com/hel...       0   \n",
       "354245  http://japanesenarwal.com/wp/ozor/ii.php?rand=...       0   \n",
       "354844  http://doucovanie.najlepsiucitel.sk/wp-include...       0   \n",
       "355278  http://deli-info.pl/hall/passage@/season/cmd-l...       0   \n",
       "\n",
       "        whois_exist  days_since_creation  days_since_last_update  \\\n",
       "347931            0                   -1                      -1   \n",
       "347932            0                   -1                      -1   \n",
       "354245            1                 1867                       0   \n",
       "354844            0                   -1                      -1   \n",
       "355278            0                   -1                      -1   \n",
       "\n",
       "        days_until_expiration  url_length  path_length  hostname_length  \\\n",
       "347931                     -1         180           34               35   \n",
       "347932                     -1         176           30               35   \n",
       "354245                    -42         240           15               18   \n",
       "354844                     -1         333           50               28   \n",
       "355278                     -1         305           93               12   \n",
       "\n",
       "        fd_length    tld  tld_length  count_of_-  count_@  count_?  count_%  \\\n",
       "347931          7  206.0           3           3        0        1        0   \n",
       "347932          7  206.0           3           3        0        1        0   \n",
       "354245          2  206.0           3           0        0        2        0   \n",
       "354844         11  925.0           2           2        0        2        0   \n",
       "355278          4  827.0           2           2        1        2        0   \n",
       "\n",
       "        count_.  count_=  count_https  count_www  count_digits  count_letters  \\\n",
       "347931        4        3            0          1            29            125   \n",
       "347932        4        3            0          1            29            122   \n",
       "354245       14        9            0          0            74            122   \n",
       "354844       15        9            0          0            74            198   \n",
       "355278       14        9            0          0           101            156   \n",
       "\n",
       "        count_dir   entropy  num_parameters  num_fragments  num_subdomains  \\\n",
       "347931          3 -5.402057               2              1               3   \n",
       "347932          3 -5.421144               2              1               3   \n",
       "354245          3 -4.966575              12              1               3   \n",
       "354844          5 -5.060148              12              1               5   \n",
       "355278          5 -5.117262              11              1               5   \n",
       "\n",
       "        use_of_ip  is_short_url  url_profanity_score  \n",
       "347931          0             0             0.029040  \n",
       "347932          0             0             0.034059  \n",
       "354245          0             0             0.037943  \n",
       "354844          0             0             0.021876  \n",
       "355278          0             0             0.024322  "
      ]
     },
     "execution_count": 50,
     "metadata": {},
     "output_type": "execute_result"
    }
   ],
   "source": [
    "# Get rows with parameters and fragments\n",
    "rows = df[(df['num_parameters']>0) & (df['num_fragments']>0)]\n",
    "rows = rows.head()\n",
    "rows.head()"
   ]
  },
  {
   "cell_type": "code",
   "execution_count": 51,
   "id": "0a2063f7",
   "metadata": {},
   "outputs": [
    {
     "data": {
      "text/plain": [
       "array([['http://www.reported-account-unblocking.com/help-fb/fb.mobile/error_card.html?wo9SpDzhykZCx2HXhwi8IgYRqlqdqot&amp;expires=5183999&amp;signed_key=14750ef6ccc9d69c326c97bf81a1ac34#_=_'],\n",
       "       ['http://www.reported-account-unblocking.com/help-fb/fb.mobile/answer.html?wo9SpDzhykZCx2HXhwi8IgYRqlqdqot&amp;expires=5183999&amp;signed_key=14750ef6ccc9d69c326c97bf81a1ac34#_=_'],\n",
       "       ['http://japanesenarwal.com/wp/ozor/ii.php?rand=13InboxLightaspxn.1774256418&fid.4.1252899642&fid=1&fav.1&rand.13InboxLight.aspxn.1774256418&fid.1252899642&fid.1&fav.1&email=&.rand=13InboxLight.aspx?n=1774256418&fid=4#n=1252899642&fid=1&fav=1'],\n",
       "       ['http://doucovanie.najlepsiucitel.sk/wp-includes/theme-compat/bookmark/bookmark/ii.php?rand=13InboxLightaspxn.1774256418&amp;fid.4.1252899642&amp;fid=1&amp;fav.1&amp;rand.13InboxLight.aspxn.1774256418&amp;fid.1252899642&amp;fid.1&amp;fav.1&amp;email=&amp;.rand=13InboxLight.aspx?n=1774256418&amp;fid=4#n=1252899642&amp;fid=1&amp;fav=1'],\n",
       "       ['http://deli-info.pl/hall/passage@/season/cmd-login=e175e0395a5fcceb980485ac37f043f1/q19nrus6bouzhzl45dk3srf0.php?rand=13InboxLightaspxn.1774256418&fid.4.1252899642&fid=1&fav.1&rand.13InboxLight.aspxn.1774256418&fid.1252899642&fid.1&fav.1&.rand=13InboxLight.aspx?n=1774256418&fid=4#n=1252899642&fid=1&fav=1']],\n",
       "      dtype=object)"
      ]
     },
     "execution_count": 51,
     "metadata": {},
     "output_type": "execute_result"
    }
   ],
   "source": [
    "rows[['url']].values"
   ]
  },
  {
   "cell_type": "code",
   "execution_count": 40,
   "id": "939e94f8",
   "metadata": {},
   "outputs": [
    {
     "data": {
      "text/html": [
       "<div>\n",
       "<style scoped>\n",
       "    .dataframe tbody tr th:only-of-type {\n",
       "        vertical-align: middle;\n",
       "    }\n",
       "\n",
       "    .dataframe tbody tr th {\n",
       "        vertical-align: top;\n",
       "    }\n",
       "\n",
       "    .dataframe thead th {\n",
       "        text-align: right;\n",
       "    }\n",
       "</style>\n",
       "<table border=\"1\" class=\"dataframe\">\n",
       "  <thead>\n",
       "    <tr style=\"text-align: right;\">\n",
       "      <th></th>\n",
       "      <th>url</th>\n",
       "      <th>result</th>\n",
       "      <th>whois_exist</th>\n",
       "      <th>days_since_creation</th>\n",
       "      <th>days_since_last_update</th>\n",
       "      <th>days_until_expiration</th>\n",
       "      <th>url_length</th>\n",
       "      <th>path_length</th>\n",
       "      <th>hostname_length</th>\n",
       "      <th>fd_length</th>\n",
       "      <th>tld</th>\n",
       "      <th>tld_length</th>\n",
       "      <th>count_of_-</th>\n",
       "      <th>count_@</th>\n",
       "      <th>count_?</th>\n",
       "      <th>count_%</th>\n",
       "      <th>count_.</th>\n",
       "      <th>count_=</th>\n",
       "      <th>count_https</th>\n",
       "      <th>count_www</th>\n",
       "      <th>count_digits</th>\n",
       "      <th>count_letters</th>\n",
       "      <th>count_dir</th>\n",
       "      <th>entropy</th>\n",
       "      <th>num_parameters</th>\n",
       "      <th>num_fragments</th>\n",
       "      <th>num_subdomains</th>\n",
       "      <th>use_of_ip</th>\n",
       "      <th>is_short_url</th>\n",
       "      <th>url_profanity_score</th>\n",
       "    </tr>\n",
       "  </thead>\n",
       "  <tbody>\n",
       "    <tr>\n",
       "      <th>2503</th>\n",
       "      <td>https://www.april-inv.com/insightful-venus-ter...</td>\n",
       "      <td>1</td>\n",
       "      <td>0</td>\n",
       "      <td>-1</td>\n",
       "      <td>-1</td>\n",
       "      <td>-1</td>\n",
       "      <td>61</td>\n",
       "      <td>36</td>\n",
       "      <td>17</td>\n",
       "      <td>34</td>\n",
       "      <td>206.0</td>\n",
       "      <td>3</td>\n",
       "      <td>5</td>\n",
       "      <td>0</td>\n",
       "      <td>0</td>\n",
       "      <td>0</td>\n",
       "      <td>2</td>\n",
       "      <td>0</td>\n",
       "      <td>1</td>\n",
       "      <td>1</td>\n",
       "      <td>0</td>\n",
       "      <td>49</td>\n",
       "      <td>2</td>\n",
       "      <td>-4.336338</td>\n",
       "      <td>0</td>\n",
       "      <td>0</td>\n",
       "      <td>2</td>\n",
       "      <td>0</td>\n",
       "      <td>0</td>\n",
       "      <td>0.016952</td>\n",
       "    </tr>\n",
       "    <tr>\n",
       "      <th>2506</th>\n",
       "      <td>https://www.aprilsbeachvolleyballblog.typepad....</td>\n",
       "      <td>1</td>\n",
       "      <td>1</td>\n",
       "      <td>6749</td>\n",
       "      <td>55</td>\n",
       "      <td>2016</td>\n",
       "      <td>207</td>\n",
       "      <td>158</td>\n",
       "      <td>41</td>\n",
       "      <td>25</td>\n",
       "      <td>206.0</td>\n",
       "      <td>3</td>\n",
       "      <td>16</td>\n",
       "      <td>0</td>\n",
       "      <td>0</td>\n",
       "      <td>0</td>\n",
       "      <td>4</td>\n",
       "      <td>0</td>\n",
       "      <td>1</td>\n",
       "      <td>1</td>\n",
       "      <td>0</td>\n",
       "      <td>180</td>\n",
       "      <td>2</td>\n",
       "      <td>-4.622225</td>\n",
       "      <td>0</td>\n",
       "      <td>0</td>\n",
       "      <td>2</td>\n",
       "      <td>0</td>\n",
       "      <td>0</td>\n",
       "      <td>0.019158</td>\n",
       "    </tr>\n",
       "    <tr>\n",
       "      <th>2507</th>\n",
       "      <td>https://www.aprilsbeachvolleyballblog.typepad....</td>\n",
       "      <td>1</td>\n",
       "      <td>1</td>\n",
       "      <td>6749</td>\n",
       "      <td>55</td>\n",
       "      <td>2016</td>\n",
       "      <td>154</td>\n",
       "      <td>105</td>\n",
       "      <td>41</td>\n",
       "      <td>25</td>\n",
       "      <td>206.0</td>\n",
       "      <td>3</td>\n",
       "      <td>9</td>\n",
       "      <td>0</td>\n",
       "      <td>0</td>\n",
       "      <td>0</td>\n",
       "      <td>4</td>\n",
       "      <td>0</td>\n",
       "      <td>1</td>\n",
       "      <td>1</td>\n",
       "      <td>0</td>\n",
       "      <td>134</td>\n",
       "      <td>2</td>\n",
       "      <td>-4.408330</td>\n",
       "      <td>0</td>\n",
       "      <td>0</td>\n",
       "      <td>2</td>\n",
       "      <td>0</td>\n",
       "      <td>0</td>\n",
       "      <td>0.006705</td>\n",
       "    </tr>\n",
       "    <tr>\n",
       "      <th>2508</th>\n",
       "      <td>https://www.aprilsims.wordpress.com/2010/02/11...</td>\n",
       "      <td>1</td>\n",
       "      <td>1</td>\n",
       "      <td>7872</td>\n",
       "      <td>598</td>\n",
       "      <td>162</td>\n",
       "      <td>87</td>\n",
       "      <td>52</td>\n",
       "      <td>27</td>\n",
       "      <td>4</td>\n",
       "      <td>206.0</td>\n",
       "      <td>3</td>\n",
       "      <td>6</td>\n",
       "      <td>0</td>\n",
       "      <td>0</td>\n",
       "      <td>0</td>\n",
       "      <td>3</td>\n",
       "      <td>0</td>\n",
       "      <td>1</td>\n",
       "      <td>1</td>\n",
       "      <td>8</td>\n",
       "      <td>62</td>\n",
       "      <td>5</td>\n",
       "      <td>-4.513684</td>\n",
       "      <td>0</td>\n",
       "      <td>0</td>\n",
       "      <td>5</td>\n",
       "      <td>0</td>\n",
       "      <td>0</td>\n",
       "      <td>0.054807</td>\n",
       "    </tr>\n",
       "    <tr>\n",
       "      <th>2511</th>\n",
       "      <td>https://www.apsblog.burtongroup.com/2009/01/so...</td>\n",
       "      <td>1</td>\n",
       "      <td>1</td>\n",
       "      <td>8279</td>\n",
       "      <td>613</td>\n",
       "      <td>121</td>\n",
       "      <td>79</td>\n",
       "      <td>44</td>\n",
       "      <td>27</td>\n",
       "      <td>4</td>\n",
       "      <td>206.0</td>\n",
       "      <td>3</td>\n",
       "      <td>5</td>\n",
       "      <td>0</td>\n",
       "      <td>0</td>\n",
       "      <td>0</td>\n",
       "      <td>4</td>\n",
       "      <td>0</td>\n",
       "      <td>1</td>\n",
       "      <td>1</td>\n",
       "      <td>6</td>\n",
       "      <td>58</td>\n",
       "      <td>3</td>\n",
       "      <td>-4.588299</td>\n",
       "      <td>0</td>\n",
       "      <td>0</td>\n",
       "      <td>3</td>\n",
       "      <td>0</td>\n",
       "      <td>0</td>\n",
       "      <td>0.054515</td>\n",
       "    </tr>\n",
       "  </tbody>\n",
       "</table>\n",
       "</div>"
      ],
      "text/plain": [
       "                                                    url  result  whois_exist  \\\n",
       "2503  https://www.april-inv.com/insightful-venus-ter...       1            0   \n",
       "2506  https://www.aprilsbeachvolleyballblog.typepad....       1            1   \n",
       "2507  https://www.aprilsbeachvolleyballblog.typepad....       1            1   \n",
       "2508  https://www.aprilsims.wordpress.com/2010/02/11...       1            1   \n",
       "2511  https://www.apsblog.burtongroup.com/2009/01/so...       1            1   \n",
       "\n",
       "      days_since_creation  days_since_last_update  days_until_expiration  \\\n",
       "2503                   -1                      -1                     -1   \n",
       "2506                 6749                      55                   2016   \n",
       "2507                 6749                      55                   2016   \n",
       "2508                 7872                     598                    162   \n",
       "2511                 8279                     613                    121   \n",
       "\n",
       "      url_length  path_length  hostname_length  fd_length    tld  tld_length  \\\n",
       "2503          61           36               17         34  206.0           3   \n",
       "2506         207          158               41         25  206.0           3   \n",
       "2507         154          105               41         25  206.0           3   \n",
       "2508          87           52               27          4  206.0           3   \n",
       "2511          79           44               27          4  206.0           3   \n",
       "\n",
       "      count_of_-  count_@  count_?  count_%  count_.  count_=  count_https  \\\n",
       "2503           5        0        0        0        2        0            1   \n",
       "2506          16        0        0        0        4        0            1   \n",
       "2507           9        0        0        0        4        0            1   \n",
       "2508           6        0        0        0        3        0            1   \n",
       "2511           5        0        0        0        4        0            1   \n",
       "\n",
       "      count_www  count_digits  count_letters  count_dir   entropy  \\\n",
       "2503          1             0             49          2 -4.336338   \n",
       "2506          1             0            180          2 -4.622225   \n",
       "2507          1             0            134          2 -4.408330   \n",
       "2508          1             8             62          5 -4.513684   \n",
       "2511          1             6             58          3 -4.588299   \n",
       "\n",
       "      num_parameters  num_fragments  num_subdomains  use_of_ip  is_short_url  \\\n",
       "2503               0              0               2          0             0   \n",
       "2506               0              0               2          0             0   \n",
       "2507               0              0               2          0             0   \n",
       "2508               0              0               5          0             0   \n",
       "2511               0              0               3          0             0   \n",
       "\n",
       "      url_profanity_score  \n",
       "2503             0.016952  \n",
       "2506             0.019158  \n",
       "2507             0.006705  \n",
       "2508             0.054807  \n",
       "2511             0.054515  "
      ]
     },
     "execution_count": 40,
     "metadata": {},
     "output_type": "execute_result"
    }
   ],
   "source": [
    "# Get rows with long url, path, hostname, fd, subdomains\n",
    "pd.set_option('max_columns', None)\n",
    "rows = df[(df['path_length'] > 0) & (df['hostname_length'] > 0) & (df['fd_length'] > 0) & (df['num_subdomains'] > 0) ].head()\n",
    "rows.head()"
   ]
  },
  {
   "cell_type": "code",
   "execution_count": 41,
   "id": "cc896c72",
   "metadata": {},
   "outputs": [
    {
     "data": {
      "text/plain": [
       "array([['https://www.april-inv.com/insightful-venus-terzo-is-catholic/'],\n",
       "       ['https://www.aprilsbeachvolleyballblog.typepad.com/beijing_olympic_volleybal/Misty-May-Treanor-USA-Beach-Volleyball-Olympian-Coaching-and-Training-Indoor-Volleyball-Skills-On-Sportskool-Volleyball-Videos.html'],\n",
       "       ['https://www.aprilsbeachvolleyballblog.typepad.com/beijing_olympic_volleybal/nbc-sports-beijing-summer-olympics-volleyball-and-beach-volleyball-videos.html'],\n",
       "       ['https://www.aprilsims.wordpress.com/2010/02/11/from-ghetto-to-greatness-by-kevin-brown/'],\n",
       "       ['https://www.apsblog.burtongroup.com/2009/01/soa-is-dead-long-live-services.html']],\n",
       "      dtype=object)"
      ]
     },
     "execution_count": 41,
     "metadata": {},
     "output_type": "execute_result"
    }
   ],
   "source": [
    "rows[['url']].values"
   ]
  },
  {
   "cell_type": "code",
   "execution_count": 100,
   "id": "aa196b1c",
   "metadata": {},
   "outputs": [
    {
     "data": {
      "text/plain": [
       "url                        object\n",
       "result                      int32\n",
       "whois_exist                 int32\n",
       "days_since_creation         int64\n",
       "days_since_last_update      int64\n",
       "days_until_expiration       int64\n",
       "url_length                  int64\n",
       "path_length                 int64\n",
       "hostname_length             int64\n",
       "fd_length                   int64\n",
       "tld                       float64\n",
       "tld_length                  int64\n",
       "count_of_-                  int64\n",
       "count_@                     int64\n",
       "count_?                     int64\n",
       "count_%                     int64\n",
       "count_.                     int64\n",
       "count_=                     int64\n",
       "count_https                 int64\n",
       "count_www                   int64\n",
       "count_digits                int64\n",
       "count_letters               int64\n",
       "count_dir                   int64\n",
       "entropy                   float64\n",
       "num_parameters              int64\n",
       "num_fragments               int64\n",
       "num_subdomains              int64\n",
       "use_of_ip                   int64\n",
       "is_short_url                int64\n",
       "url_profanity_score       float64\n",
       "dtype: object"
      ]
     },
     "execution_count": 100,
     "metadata": {},
     "output_type": "execute_result"
    }
   ],
   "source": [
    "df.dtypes"
   ]
  },
  {
   "cell_type": "code",
   "execution_count": 59,
   "id": "73a395dc",
   "metadata": {},
   "outputs": [],
   "source": [
    "# Save cleaned df\n",
    "df.to_csv('dataset2_cleaned.csv')"
   ]
  },
  {
   "cell_type": "markdown",
   "id": "d13b5e25",
   "metadata": {},
   "source": [
    "### Train-test split\n",
    "Check to see the counts and to see if we have a class imbalance problem"
   ]
  },
  {
   "cell_type": "code",
   "execution_count": 27,
   "id": "40457acb",
   "metadata": {},
   "outputs": [
    {
     "name": "stdout",
     "output_type": "stream",
     "text": [
      "Benign samples: 104438 Percentage: 0.23199370912709696\n",
      "Malicious samples: 345738 Percentage: 0.7680062908729031\n"
     ]
    }
   ],
   "source": [
    "num_benign = len(df[df['result'] == 0])\n",
    "num_evil = len(df[df['result'] == 1])\n",
    "print('Benign samples:', num_benign, 'Percentage:', num_benign/len(df) )\n",
    "print('Malicious samples:', num_evil, 'Percentage:', num_evil/len(df) )"
   ]
  },
  {
   "cell_type": "code",
   "execution_count": 61,
   "id": "0d52c334",
   "metadata": {},
   "outputs": [
    {
     "data": {
      "text/plain": [
       "Index(['url', 'result', 'whois_exist', 'days_since_creation',\n",
       "       'days_since_last_update', 'days_until_expiration', 'url_length',\n",
       "       'path_length', 'hostname_length', 'fd_length', 'tld', 'tld_length',\n",
       "       'count_of_-', 'count_@', 'count_?', 'count_%', 'count_.', 'count_=',\n",
       "       'count_https', 'count_www', 'count_digits', 'count_letters',\n",
       "       'count_dir', 'entropy', 'num_parameters', 'num_fragments',\n",
       "       'num_subdomains', 'use_of_ip', 'is_short_url', 'url_profanity_score'],\n",
       "      dtype='object')"
      ]
     },
     "execution_count": 61,
     "metadata": {},
     "output_type": "execute_result"
    }
   ],
   "source": [
    "df.columns"
   ]
  },
  {
   "cell_type": "code",
   "execution_count": 70,
   "id": "caff26ad",
   "metadata": {},
   "outputs": [
    {
     "data": {
      "text/plain": [
       "url                        object\n",
       "result                      int32\n",
       "whois_exist                 int32\n",
       "days_since_creation         int64\n",
       "days_since_last_update      int64\n",
       "days_until_expiration       int64\n",
       "url_length                  int64\n",
       "path_length                 int64\n",
       "hostname_length             int64\n",
       "fd_length                   int64\n",
       "tld                       float64\n",
       "tld_length                  int64\n",
       "count_of_-                  int64\n",
       "count_@                     int64\n",
       "count_?                     int64\n",
       "count_%                     int64\n",
       "count_.                     int64\n",
       "count_=                     int64\n",
       "count_https                 int64\n",
       "count_www                   int64\n",
       "count_digits                int64\n",
       "count_letters               int64\n",
       "count_dir                   int64\n",
       "entropy                   float64\n",
       "num_parameters              int64\n",
       "num_fragments               int64\n",
       "num_subdomains              int64\n",
       "use_of_ip                   int64\n",
       "is_short_url                int64\n",
       "url_profanity_score       float64\n",
       "dtype: object"
      ]
     },
     "execution_count": 70,
     "metadata": {},
     "output_type": "execute_result"
    }
   ],
   "source": [
    "df.dtypes"
   ]
  },
  {
   "cell_type": "code",
   "execution_count": 28,
   "id": "a2f04eed",
   "metadata": {},
   "outputs": [],
   "source": [
    "# Extract x and y columns\n",
    "\n",
    "\n",
    "#Independent Variables\n",
    "x = df[['whois_exist', 'days_since_creation',\n",
    "       'days_since_last_update', 'days_until_expiration', 'url_length',\n",
    "       'path_length', 'hostname_length', 'fd_length', 'tld', 'tld_length',\n",
    "       'count_of_-', 'count_@', 'count_?', 'count_%', 'count_.', 'count_=',\n",
    "       'count_https', 'count_www', 'count_digits', 'count_letters',\n",
    "       'count_dir', 'entropy', 'num_parameters', 'num_fragments',\n",
    "       'num_subdomains', 'use_of_ip', 'is_short_url', 'url_profanity_score']]\n",
    "\n",
    "#Dependent Variable\n",
    "y = df['result']"
   ]
  },
  {
   "cell_type": "code",
   "execution_count": 104,
   "id": "e0fee1eb",
   "metadata": {},
   "outputs": [
    {
     "data": {
      "text/plain": [
       "'\\nfrom imblearn.over_sampling import SMOTE\\nx_sample, y_sample = SMOTE().fit_resample(x, y.values.ravel())\\n\\nx_sample = pd.DataFrame(x_sample)\\ny_sample = pd.DataFrame(y_sample)\\n\\n# checking the sizes of the sample data\\nprint(\"Size of x-sample :\", x_sample.shape)\\nprint(\"Size of y-sample :\", y_sample.shape)'"
      ]
     },
     "execution_count": 104,
     "metadata": {},
     "output_type": "execute_result"
    }
   ],
   "source": [
    "'''\n",
    "from imblearn.over_sampling import SMOTE\n",
    "x_sample, y_sample = SMOTE().fit_resample(x, y.values.ravel())\n",
    "\n",
    "x_sample = pd.DataFrame(x_sample)\n",
    "y_sample = pd.DataFrame(y_sample)\n",
    "\n",
    "# checking the sizes of the sample data\n",
    "print(\"Size of x-sample :\", x_sample.shape)\n",
    "print(\"Size of y-sample :\", y_sample.shape)'''"
   ]
  },
  {
   "cell_type": "code",
   "execution_count": 105,
   "id": "34579bcf",
   "metadata": {},
   "outputs": [],
   "source": [
    "#(y_sample.value_counts())"
   ]
  },
  {
   "cell_type": "code",
   "execution_count": 106,
   "id": "7c3adfc9",
   "metadata": {},
   "outputs": [],
   "source": [
    "# After resampling, split is 50-50\n",
    "# NTS: Try first without SMOTE resampling"
   ]
  },
  {
   "cell_type": "code",
   "execution_count": 29,
   "id": "055393f8",
   "metadata": {},
   "outputs": [
    {
     "name": "stdout",
     "output_type": "stream",
     "text": [
      "Shape of x_train:  (360140, 28)\n",
      "Shape of x_valid:  (90036, 28)\n",
      "Shape of y_train:  (360140,)\n",
      "Shape of y_valid:  (90036,)\n"
     ]
    }
   ],
   "source": [
    "#Train test split\n",
    "from sklearn.model_selection import train_test_split\n",
    "\n",
    "x_train, x_test, y_train, y_test = train_test_split(x, y, test_size = 0.2, random_state = 1234)\n",
    "print(\"Shape of x_train: \", x_train.shape)\n",
    "print(\"Shape of x_valid: \", x_test.shape)\n",
    "print(\"Shape of y_train: \", y_train.shape)\n",
    "print(\"Shape of y_valid: \", y_test.shape)"
   ]
  },
  {
   "cell_type": "markdown",
   "id": "a3049600",
   "metadata": {},
   "source": [
    "### Train the different models\n",
    "\n",
    "## Decision tree model"
   ]
  },
  {
   "cell_type": "code",
   "execution_count": 31,
   "id": "3e921734",
   "metadata": {},
   "outputs": [
    {
     "data": {
      "text/plain": [
       "GridSearchCV(cv=5, estimator=DecisionTreeClassifier(random_state=42),\n",
       "             param_grid=[{'criterion': ['gini', 'entropy'],\n",
       "                          'splitter': ['best', 'random']}])"
      ]
     },
     "execution_count": 31,
     "metadata": {},
     "output_type": "execute_result"
    }
   ],
   "source": [
    "# train decision tree classifier\n",
    "from sklearn.tree import DecisionTreeClassifier\n",
    "from sklearn.model_selection import GridSearchCV\n",
    "\n",
    "param_grid=[{\"criterion\":[\"gini\", \"entropy\"],\n",
    "             \"splitter\":[\"best\", \"random\"]}]\n",
    "decision_tree_grid=GridSearchCV(estimator=DecisionTreeClassifier(random_state=42),param_grid=param_grid,cv=5)\n",
    "decision_tree_grid.fit(x_train,y_train)"
   ]
  },
  {
   "cell_type": "code",
   "execution_count": 32,
   "id": "f0392823",
   "metadata": {},
   "outputs": [
    {
     "name": "stdout",
     "output_type": "stream",
     "text": [
      "Decision tree test accuracy:  0.9963459060820117\n"
     ]
    }
   ],
   "source": [
    "print('Decision tree test accuracy: ', decision_tree_grid.score(x_test,y_test))"
   ]
  },
  {
   "cell_type": "markdown",
   "id": "2f90993a",
   "metadata": {},
   "source": [
    "## Gradient boosting model"
   ]
  },
  {
   "cell_type": "code",
   "execution_count": 68,
   "id": "ae9c728c",
   "metadata": {},
   "outputs": [
    {
     "name": "stderr",
     "output_type": "stream",
     "text": [
      "C:\\Users\\hatzi\\anaconda3\\envs\\tf-gpu\\lib\\site-packages\\xgboost\\sklearn.py:888: UserWarning: The use of label encoder in XGBClassifier is deprecated and will be removed in a future release. To remove this warning, do the following: 1) Pass option use_label_encoder=False when constructing XGBClassifier object; and 2) Encode your labels (y) as integers starting with 0, i.e. 0, 1, 2, ..., [num_class - 1].\n",
      "  warnings.warn(label_encoder_deprecation_msg, UserWarning)\n"
     ]
    },
    {
     "name": "stdout",
     "output_type": "stream",
     "text": [
      "[18:54:47] WARNING: ..\\src\\learner.cc:1061: Starting in XGBoost 1.3.0, the default evaluation metric used with the objective 'binary:logistic' was changed from 'error' to 'logloss'. Explicitly set eval_metric if you'd like to restore the old behavior.\n"
     ]
    },
    {
     "name": "stderr",
     "output_type": "stream",
     "text": [
      "C:\\Users\\hatzi\\anaconda3\\envs\\tf-gpu\\lib\\site-packages\\xgboost\\sklearn.py:888: UserWarning: The use of label encoder in XGBClassifier is deprecated and will be removed in a future release. To remove this warning, do the following: 1) Pass option use_label_encoder=False when constructing XGBClassifier object; and 2) Encode your labels (y) as integers starting with 0, i.e. 0, 1, 2, ..., [num_class - 1].\n",
      "  warnings.warn(label_encoder_deprecation_msg, UserWarning)\n"
     ]
    },
    {
     "name": "stdout",
     "output_type": "stream",
     "text": [
      "[18:54:53] WARNING: ..\\src\\learner.cc:1061: Starting in XGBoost 1.3.0, the default evaluation metric used with the objective 'binary:logistic' was changed from 'error' to 'logloss'. Explicitly set eval_metric if you'd like to restore the old behavior.\n"
     ]
    },
    {
     "name": "stderr",
     "output_type": "stream",
     "text": [
      "C:\\Users\\hatzi\\anaconda3\\envs\\tf-gpu\\lib\\site-packages\\xgboost\\sklearn.py:888: UserWarning: The use of label encoder in XGBClassifier is deprecated and will be removed in a future release. To remove this warning, do the following: 1) Pass option use_label_encoder=False when constructing XGBClassifier object; and 2) Encode your labels (y) as integers starting with 0, i.e. 0, 1, 2, ..., [num_class - 1].\n",
      "  warnings.warn(label_encoder_deprecation_msg, UserWarning)\n"
     ]
    },
    {
     "name": "stdout",
     "output_type": "stream",
     "text": [
      "[18:54:59] WARNING: ..\\src\\learner.cc:1061: Starting in XGBoost 1.3.0, the default evaluation metric used with the objective 'binary:logistic' was changed from 'error' to 'logloss'. Explicitly set eval_metric if you'd like to restore the old behavior.\n"
     ]
    },
    {
     "name": "stderr",
     "output_type": "stream",
     "text": [
      "C:\\Users\\hatzi\\anaconda3\\envs\\tf-gpu\\lib\\site-packages\\xgboost\\sklearn.py:888: UserWarning: The use of label encoder in XGBClassifier is deprecated and will be removed in a future release. To remove this warning, do the following: 1) Pass option use_label_encoder=False when constructing XGBClassifier object; and 2) Encode your labels (y) as integers starting with 0, i.e. 0, 1, 2, ..., [num_class - 1].\n",
      "  warnings.warn(label_encoder_deprecation_msg, UserWarning)\n"
     ]
    },
    {
     "name": "stdout",
     "output_type": "stream",
     "text": [
      "[18:55:06] WARNING: ..\\src\\learner.cc:1061: Starting in XGBoost 1.3.0, the default evaluation metric used with the objective 'binary:logistic' was changed from 'error' to 'logloss'. Explicitly set eval_metric if you'd like to restore the old behavior.\n"
     ]
    },
    {
     "name": "stderr",
     "output_type": "stream",
     "text": [
      "C:\\Users\\hatzi\\anaconda3\\envs\\tf-gpu\\lib\\site-packages\\xgboost\\sklearn.py:888: UserWarning: The use of label encoder in XGBClassifier is deprecated and will be removed in a future release. To remove this warning, do the following: 1) Pass option use_label_encoder=False when constructing XGBClassifier object; and 2) Encode your labels (y) as integers starting with 0, i.e. 0, 1, 2, ..., [num_class - 1].\n",
      "  warnings.warn(label_encoder_deprecation_msg, UserWarning)\n"
     ]
    },
    {
     "name": "stdout",
     "output_type": "stream",
     "text": [
      "[18:55:12] WARNING: ..\\src\\learner.cc:1061: Starting in XGBoost 1.3.0, the default evaluation metric used with the objective 'binary:logistic' was changed from 'error' to 'logloss'. Explicitly set eval_metric if you'd like to restore the old behavior.\n"
     ]
    },
    {
     "name": "stderr",
     "output_type": "stream",
     "text": [
      "C:\\Users\\hatzi\\anaconda3\\envs\\tf-gpu\\lib\\site-packages\\xgboost\\sklearn.py:888: UserWarning: The use of label encoder in XGBClassifier is deprecated and will be removed in a future release. To remove this warning, do the following: 1) Pass option use_label_encoder=False when constructing XGBClassifier object; and 2) Encode your labels (y) as integers starting with 0, i.e. 0, 1, 2, ..., [num_class - 1].\n",
      "  warnings.warn(label_encoder_deprecation_msg, UserWarning)\n"
     ]
    },
    {
     "name": "stdout",
     "output_type": "stream",
     "text": [
      "[18:55:20] WARNING: ..\\src\\learner.cc:1061: Starting in XGBoost 1.3.0, the default evaluation metric used with the objective 'binary:logistic' was changed from 'error' to 'logloss'. Explicitly set eval_metric if you'd like to restore the old behavior.\n"
     ]
    },
    {
     "name": "stderr",
     "output_type": "stream",
     "text": [
      "C:\\Users\\hatzi\\anaconda3\\envs\\tf-gpu\\lib\\site-packages\\xgboost\\sklearn.py:888: UserWarning: The use of label encoder in XGBClassifier is deprecated and will be removed in a future release. To remove this warning, do the following: 1) Pass option use_label_encoder=False when constructing XGBClassifier object; and 2) Encode your labels (y) as integers starting with 0, i.e. 0, 1, 2, ..., [num_class - 1].\n",
      "  warnings.warn(label_encoder_deprecation_msg, UserWarning)\n"
     ]
    },
    {
     "name": "stdout",
     "output_type": "stream",
     "text": [
      "[18:55:25] WARNING: ..\\src\\learner.cc:1061: Starting in XGBoost 1.3.0, the default evaluation metric used with the objective 'binary:logistic' was changed from 'error' to 'logloss'. Explicitly set eval_metric if you'd like to restore the old behavior.\n"
     ]
    },
    {
     "name": "stderr",
     "output_type": "stream",
     "text": [
      "C:\\Users\\hatzi\\anaconda3\\envs\\tf-gpu\\lib\\site-packages\\xgboost\\sklearn.py:888: UserWarning: The use of label encoder in XGBClassifier is deprecated and will be removed in a future release. To remove this warning, do the following: 1) Pass option use_label_encoder=False when constructing XGBClassifier object; and 2) Encode your labels (y) as integers starting with 0, i.e. 0, 1, 2, ..., [num_class - 1].\n",
      "  warnings.warn(label_encoder_deprecation_msg, UserWarning)\n"
     ]
    },
    {
     "name": "stdout",
     "output_type": "stream",
     "text": [
      "[18:55:30] WARNING: ..\\src\\learner.cc:1061: Starting in XGBoost 1.3.0, the default evaluation metric used with the objective 'binary:logistic' was changed from 'error' to 'logloss'. Explicitly set eval_metric if you'd like to restore the old behavior.\n"
     ]
    },
    {
     "name": "stderr",
     "output_type": "stream",
     "text": [
      "C:\\Users\\hatzi\\anaconda3\\envs\\tf-gpu\\lib\\site-packages\\xgboost\\sklearn.py:888: UserWarning: The use of label encoder in XGBClassifier is deprecated and will be removed in a future release. To remove this warning, do the following: 1) Pass option use_label_encoder=False when constructing XGBClassifier object; and 2) Encode your labels (y) as integers starting with 0, i.e. 0, 1, 2, ..., [num_class - 1].\n",
      "  warnings.warn(label_encoder_deprecation_msg, UserWarning)\n"
     ]
    },
    {
     "name": "stdout",
     "output_type": "stream",
     "text": [
      "[18:55:36] WARNING: ..\\src\\learner.cc:1061: Starting in XGBoost 1.3.0, the default evaluation metric used with the objective 'binary:logistic' was changed from 'error' to 'logloss'. Explicitly set eval_metric if you'd like to restore the old behavior.\n"
     ]
    },
    {
     "name": "stderr",
     "output_type": "stream",
     "text": [
      "C:\\Users\\hatzi\\anaconda3\\envs\\tf-gpu\\lib\\site-packages\\xgboost\\sklearn.py:888: UserWarning: The use of label encoder in XGBClassifier is deprecated and will be removed in a future release. To remove this warning, do the following: 1) Pass option use_label_encoder=False when constructing XGBClassifier object; and 2) Encode your labels (y) as integers starting with 0, i.e. 0, 1, 2, ..., [num_class - 1].\n",
      "  warnings.warn(label_encoder_deprecation_msg, UserWarning)\n"
     ]
    },
    {
     "name": "stdout",
     "output_type": "stream",
     "text": [
      "[18:55:41] WARNING: ..\\src\\learner.cc:1061: Starting in XGBoost 1.3.0, the default evaluation metric used with the objective 'binary:logistic' was changed from 'error' to 'logloss'. Explicitly set eval_metric if you'd like to restore the old behavior.\n"
     ]
    },
    {
     "name": "stderr",
     "output_type": "stream",
     "text": [
      "C:\\Users\\hatzi\\anaconda3\\envs\\tf-gpu\\lib\\site-packages\\xgboost\\sklearn.py:888: UserWarning: The use of label encoder in XGBClassifier is deprecated and will be removed in a future release. To remove this warning, do the following: 1) Pass option use_label_encoder=False when constructing XGBClassifier object; and 2) Encode your labels (y) as integers starting with 0, i.e. 0, 1, 2, ..., [num_class - 1].\n",
      "  warnings.warn(label_encoder_deprecation_msg, UserWarning)\n"
     ]
    },
    {
     "name": "stdout",
     "output_type": "stream",
     "text": [
      "[18:55:46] WARNING: ..\\src\\learner.cc:1061: Starting in XGBoost 1.3.0, the default evaluation metric used with the objective 'binary:logistic' was changed from 'error' to 'logloss'. Explicitly set eval_metric if you'd like to restore the old behavior.\n"
     ]
    },
    {
     "name": "stderr",
     "output_type": "stream",
     "text": [
      "C:\\Users\\hatzi\\anaconda3\\envs\\tf-gpu\\lib\\site-packages\\xgboost\\sklearn.py:888: UserWarning: The use of label encoder in XGBClassifier is deprecated and will be removed in a future release. To remove this warning, do the following: 1) Pass option use_label_encoder=False when constructing XGBClassifier object; and 2) Encode your labels (y) as integers starting with 0, i.e. 0, 1, 2, ..., [num_class - 1].\n",
      "  warnings.warn(label_encoder_deprecation_msg, UserWarning)\n"
     ]
    },
    {
     "name": "stdout",
     "output_type": "stream",
     "text": [
      "[18:55:53] WARNING: ..\\src\\learner.cc:1061: Starting in XGBoost 1.3.0, the default evaluation metric used with the objective 'binary:logistic' was changed from 'error' to 'logloss'. Explicitly set eval_metric if you'd like to restore the old behavior.\n"
     ]
    },
    {
     "name": "stderr",
     "output_type": "stream",
     "text": [
      "C:\\Users\\hatzi\\anaconda3\\envs\\tf-gpu\\lib\\site-packages\\xgboost\\sklearn.py:888: UserWarning: The use of label encoder in XGBClassifier is deprecated and will be removed in a future release. To remove this warning, do the following: 1) Pass option use_label_encoder=False when constructing XGBClassifier object; and 2) Encode your labels (y) as integers starting with 0, i.e. 0, 1, 2, ..., [num_class - 1].\n",
      "  warnings.warn(label_encoder_deprecation_msg, UserWarning)\n"
     ]
    },
    {
     "name": "stdout",
     "output_type": "stream",
     "text": [
      "[18:56:01] WARNING: ..\\src\\learner.cc:1061: Starting in XGBoost 1.3.0, the default evaluation metric used with the objective 'binary:logistic' was changed from 'error' to 'logloss'. Explicitly set eval_metric if you'd like to restore the old behavior.\n"
     ]
    },
    {
     "name": "stderr",
     "output_type": "stream",
     "text": [
      "C:\\Users\\hatzi\\anaconda3\\envs\\tf-gpu\\lib\\site-packages\\xgboost\\sklearn.py:888: UserWarning: The use of label encoder in XGBClassifier is deprecated and will be removed in a future release. To remove this warning, do the following: 1) Pass option use_label_encoder=False when constructing XGBClassifier object; and 2) Encode your labels (y) as integers starting with 0, i.e. 0, 1, 2, ..., [num_class - 1].\n",
      "  warnings.warn(label_encoder_deprecation_msg, UserWarning)\n"
     ]
    },
    {
     "name": "stdout",
     "output_type": "stream",
     "text": [
      "[18:56:08] WARNING: ..\\src\\learner.cc:1061: Starting in XGBoost 1.3.0, the default evaluation metric used with the objective 'binary:logistic' was changed from 'error' to 'logloss'. Explicitly set eval_metric if you'd like to restore the old behavior.\n"
     ]
    },
    {
     "name": "stderr",
     "output_type": "stream",
     "text": [
      "C:\\Users\\hatzi\\anaconda3\\envs\\tf-gpu\\lib\\site-packages\\xgboost\\sklearn.py:888: UserWarning: The use of label encoder in XGBClassifier is deprecated and will be removed in a future release. To remove this warning, do the following: 1) Pass option use_label_encoder=False when constructing XGBClassifier object; and 2) Encode your labels (y) as integers starting with 0, i.e. 0, 1, 2, ..., [num_class - 1].\n",
      "  warnings.warn(label_encoder_deprecation_msg, UserWarning)\n"
     ]
    },
    {
     "name": "stdout",
     "output_type": "stream",
     "text": [
      "[18:56:15] WARNING: ..\\src\\learner.cc:1061: Starting in XGBoost 1.3.0, the default evaluation metric used with the objective 'binary:logistic' was changed from 'error' to 'logloss'. Explicitly set eval_metric if you'd like to restore the old behavior.\n"
     ]
    },
    {
     "name": "stderr",
     "output_type": "stream",
     "text": [
      "C:\\Users\\hatzi\\anaconda3\\envs\\tf-gpu\\lib\\site-packages\\xgboost\\sklearn.py:888: UserWarning: The use of label encoder in XGBClassifier is deprecated and will be removed in a future release. To remove this warning, do the following: 1) Pass option use_label_encoder=False when constructing XGBClassifier object; and 2) Encode your labels (y) as integers starting with 0, i.e. 0, 1, 2, ..., [num_class - 1].\n",
      "  warnings.warn(label_encoder_deprecation_msg, UserWarning)\n"
     ]
    },
    {
     "name": "stdout",
     "output_type": "stream",
     "text": [
      "[18:56:22] WARNING: ..\\src\\learner.cc:1061: Starting in XGBoost 1.3.0, the default evaluation metric used with the objective 'binary:logistic' was changed from 'error' to 'logloss'. Explicitly set eval_metric if you'd like to restore the old behavior.\n"
     ]
    },
    {
     "name": "stderr",
     "output_type": "stream",
     "text": [
      "C:\\Users\\hatzi\\anaconda3\\envs\\tf-gpu\\lib\\site-packages\\xgboost\\sklearn.py:888: UserWarning: The use of label encoder in XGBClassifier is deprecated and will be removed in a future release. To remove this warning, do the following: 1) Pass option use_label_encoder=False when constructing XGBClassifier object; and 2) Encode your labels (y) as integers starting with 0, i.e. 0, 1, 2, ..., [num_class - 1].\n",
      "  warnings.warn(label_encoder_deprecation_msg, UserWarning)\n"
     ]
    },
    {
     "name": "stdout",
     "output_type": "stream",
     "text": [
      "[18:56:27] WARNING: ..\\src\\learner.cc:1061: Starting in XGBoost 1.3.0, the default evaluation metric used with the objective 'binary:logistic' was changed from 'error' to 'logloss'. Explicitly set eval_metric if you'd like to restore the old behavior.\n"
     ]
    },
    {
     "name": "stderr",
     "output_type": "stream",
     "text": [
      "C:\\Users\\hatzi\\anaconda3\\envs\\tf-gpu\\lib\\site-packages\\xgboost\\sklearn.py:888: UserWarning: The use of label encoder in XGBClassifier is deprecated and will be removed in a future release. To remove this warning, do the following: 1) Pass option use_label_encoder=False when constructing XGBClassifier object; and 2) Encode your labels (y) as integers starting with 0, i.e. 0, 1, 2, ..., [num_class - 1].\n",
      "  warnings.warn(label_encoder_deprecation_msg, UserWarning)\n"
     ]
    },
    {
     "name": "stdout",
     "output_type": "stream",
     "text": [
      "[18:56:33] WARNING: ..\\src\\learner.cc:1061: Starting in XGBoost 1.3.0, the default evaluation metric used with the objective 'binary:logistic' was changed from 'error' to 'logloss'. Explicitly set eval_metric if you'd like to restore the old behavior.\n"
     ]
    },
    {
     "name": "stderr",
     "output_type": "stream",
     "text": [
      "C:\\Users\\hatzi\\anaconda3\\envs\\tf-gpu\\lib\\site-packages\\xgboost\\sklearn.py:888: UserWarning: The use of label encoder in XGBClassifier is deprecated and will be removed in a future release. To remove this warning, do the following: 1) Pass option use_label_encoder=False when constructing XGBClassifier object; and 2) Encode your labels (y) as integers starting with 0, i.e. 0, 1, 2, ..., [num_class - 1].\n",
      "  warnings.warn(label_encoder_deprecation_msg, UserWarning)\n"
     ]
    },
    {
     "name": "stdout",
     "output_type": "stream",
     "text": [
      "[18:56:38] WARNING: ..\\src\\learner.cc:1061: Starting in XGBoost 1.3.0, the default evaluation metric used with the objective 'binary:logistic' was changed from 'error' to 'logloss'. Explicitly set eval_metric if you'd like to restore the old behavior.\n"
     ]
    },
    {
     "name": "stderr",
     "output_type": "stream",
     "text": [
      "C:\\Users\\hatzi\\anaconda3\\envs\\tf-gpu\\lib\\site-packages\\xgboost\\sklearn.py:888: UserWarning: The use of label encoder in XGBClassifier is deprecated and will be removed in a future release. To remove this warning, do the following: 1) Pass option use_label_encoder=False when constructing XGBClassifier object; and 2) Encode your labels (y) as integers starting with 0, i.e. 0, 1, 2, ..., [num_class - 1].\n",
      "  warnings.warn(label_encoder_deprecation_msg, UserWarning)\n"
     ]
    },
    {
     "name": "stdout",
     "output_type": "stream",
     "text": [
      "[18:56:44] WARNING: ..\\src\\learner.cc:1061: Starting in XGBoost 1.3.0, the default evaluation metric used with the objective 'binary:logistic' was changed from 'error' to 'logloss'. Explicitly set eval_metric if you'd like to restore the old behavior.\n"
     ]
    },
    {
     "name": "stderr",
     "output_type": "stream",
     "text": [
      "C:\\Users\\hatzi\\anaconda3\\envs\\tf-gpu\\lib\\site-packages\\xgboost\\sklearn.py:888: UserWarning: The use of label encoder in XGBClassifier is deprecated and will be removed in a future release. To remove this warning, do the following: 1) Pass option use_label_encoder=False when constructing XGBClassifier object; and 2) Encode your labels (y) as integers starting with 0, i.e. 0, 1, 2, ..., [num_class - 1].\n",
      "  warnings.warn(label_encoder_deprecation_msg, UserWarning)\n"
     ]
    },
    {
     "name": "stdout",
     "output_type": "stream",
     "text": [
      "[18:56:50] WARNING: ..\\src\\learner.cc:1061: Starting in XGBoost 1.3.0, the default evaluation metric used with the objective 'binary:logistic' was changed from 'error' to 'logloss'. Explicitly set eval_metric if you'd like to restore the old behavior.\n"
     ]
    },
    {
     "name": "stderr",
     "output_type": "stream",
     "text": [
      "C:\\Users\\hatzi\\anaconda3\\envs\\tf-gpu\\lib\\site-packages\\xgboost\\sklearn.py:888: UserWarning: The use of label encoder in XGBClassifier is deprecated and will be removed in a future release. To remove this warning, do the following: 1) Pass option use_label_encoder=False when constructing XGBClassifier object; and 2) Encode your labels (y) as integers starting with 0, i.e. 0, 1, 2, ..., [num_class - 1].\n",
      "  warnings.warn(label_encoder_deprecation_msg, UserWarning)\n"
     ]
    },
    {
     "name": "stdout",
     "output_type": "stream",
     "text": [
      "[18:57:00] WARNING: ..\\src\\learner.cc:1061: Starting in XGBoost 1.3.0, the default evaluation metric used with the objective 'binary:logistic' was changed from 'error' to 'logloss'. Explicitly set eval_metric if you'd like to restore the old behavior.\n"
     ]
    },
    {
     "name": "stderr",
     "output_type": "stream",
     "text": [
      "C:\\Users\\hatzi\\anaconda3\\envs\\tf-gpu\\lib\\site-packages\\xgboost\\sklearn.py:888: UserWarning: The use of label encoder in XGBClassifier is deprecated and will be removed in a future release. To remove this warning, do the following: 1) Pass option use_label_encoder=False when constructing XGBClassifier object; and 2) Encode your labels (y) as integers starting with 0, i.e. 0, 1, 2, ..., [num_class - 1].\n",
      "  warnings.warn(label_encoder_deprecation_msg, UserWarning)\n"
     ]
    },
    {
     "name": "stdout",
     "output_type": "stream",
     "text": [
      "[18:57:10] WARNING: ..\\src\\learner.cc:1061: Starting in XGBoost 1.3.0, the default evaluation metric used with the objective 'binary:logistic' was changed from 'error' to 'logloss'. Explicitly set eval_metric if you'd like to restore the old behavior.\n"
     ]
    },
    {
     "name": "stderr",
     "output_type": "stream",
     "text": [
      "C:\\Users\\hatzi\\anaconda3\\envs\\tf-gpu\\lib\\site-packages\\xgboost\\sklearn.py:888: UserWarning: The use of label encoder in XGBClassifier is deprecated and will be removed in a future release. To remove this warning, do the following: 1) Pass option use_label_encoder=False when constructing XGBClassifier object; and 2) Encode your labels (y) as integers starting with 0, i.e. 0, 1, 2, ..., [num_class - 1].\n",
      "  warnings.warn(label_encoder_deprecation_msg, UserWarning)\n"
     ]
    },
    {
     "name": "stdout",
     "output_type": "stream",
     "text": [
      "[18:57:21] WARNING: ..\\src\\learner.cc:1061: Starting in XGBoost 1.3.0, the default evaluation metric used with the objective 'binary:logistic' was changed from 'error' to 'logloss'. Explicitly set eval_metric if you'd like to restore the old behavior.\n"
     ]
    },
    {
     "name": "stderr",
     "output_type": "stream",
     "text": [
      "C:\\Users\\hatzi\\anaconda3\\envs\\tf-gpu\\lib\\site-packages\\xgboost\\sklearn.py:888: UserWarning: The use of label encoder in XGBClassifier is deprecated and will be removed in a future release. To remove this warning, do the following: 1) Pass option use_label_encoder=False when constructing XGBClassifier object; and 2) Encode your labels (y) as integers starting with 0, i.e. 0, 1, 2, ..., [num_class - 1].\n",
      "  warnings.warn(label_encoder_deprecation_msg, UserWarning)\n"
     ]
    },
    {
     "name": "stdout",
     "output_type": "stream",
     "text": [
      "[18:57:34] WARNING: ..\\src\\learner.cc:1061: Starting in XGBoost 1.3.0, the default evaluation metric used with the objective 'binary:logistic' was changed from 'error' to 'logloss'. Explicitly set eval_metric if you'd like to restore the old behavior.\n"
     ]
    },
    {
     "name": "stderr",
     "output_type": "stream",
     "text": [
      "C:\\Users\\hatzi\\anaconda3\\envs\\tf-gpu\\lib\\site-packages\\xgboost\\sklearn.py:888: UserWarning: The use of label encoder in XGBClassifier is deprecated and will be removed in a future release. To remove this warning, do the following: 1) Pass option use_label_encoder=False when constructing XGBClassifier object; and 2) Encode your labels (y) as integers starting with 0, i.e. 0, 1, 2, ..., [num_class - 1].\n",
      "  warnings.warn(label_encoder_deprecation_msg, UserWarning)\n"
     ]
    },
    {
     "name": "stdout",
     "output_type": "stream",
     "text": [
      "[18:57:48] WARNING: ..\\src\\learner.cc:1061: Starting in XGBoost 1.3.0, the default evaluation metric used with the objective 'binary:logistic' was changed from 'error' to 'logloss'. Explicitly set eval_metric if you'd like to restore the old behavior.\n"
     ]
    },
    {
     "name": "stderr",
     "output_type": "stream",
     "text": [
      "C:\\Users\\hatzi\\anaconda3\\envs\\tf-gpu\\lib\\site-packages\\xgboost\\sklearn.py:888: UserWarning: The use of label encoder in XGBClassifier is deprecated and will be removed in a future release. To remove this warning, do the following: 1) Pass option use_label_encoder=False when constructing XGBClassifier object; and 2) Encode your labels (y) as integers starting with 0, i.e. 0, 1, 2, ..., [num_class - 1].\n",
      "  warnings.warn(label_encoder_deprecation_msg, UserWarning)\n"
     ]
    },
    {
     "name": "stdout",
     "output_type": "stream",
     "text": [
      "[18:57:59] WARNING: ..\\src\\learner.cc:1061: Starting in XGBoost 1.3.0, the default evaluation metric used with the objective 'binary:logistic' was changed from 'error' to 'logloss'. Explicitly set eval_metric if you'd like to restore the old behavior.\n"
     ]
    },
    {
     "name": "stderr",
     "output_type": "stream",
     "text": [
      "C:\\Users\\hatzi\\anaconda3\\envs\\tf-gpu\\lib\\site-packages\\xgboost\\sklearn.py:888: UserWarning: The use of label encoder in XGBClassifier is deprecated and will be removed in a future release. To remove this warning, do the following: 1) Pass option use_label_encoder=False when constructing XGBClassifier object; and 2) Encode your labels (y) as integers starting with 0, i.e. 0, 1, 2, ..., [num_class - 1].\n",
      "  warnings.warn(label_encoder_deprecation_msg, UserWarning)\n"
     ]
    },
    {
     "name": "stdout",
     "output_type": "stream",
     "text": [
      "[18:58:11] WARNING: ..\\src\\learner.cc:1061: Starting in XGBoost 1.3.0, the default evaluation metric used with the objective 'binary:logistic' was changed from 'error' to 'logloss'. Explicitly set eval_metric if you'd like to restore the old behavior.\n"
     ]
    },
    {
     "name": "stderr",
     "output_type": "stream",
     "text": [
      "C:\\Users\\hatzi\\anaconda3\\envs\\tf-gpu\\lib\\site-packages\\xgboost\\sklearn.py:888: UserWarning: The use of label encoder in XGBClassifier is deprecated and will be removed in a future release. To remove this warning, do the following: 1) Pass option use_label_encoder=False when constructing XGBClassifier object; and 2) Encode your labels (y) as integers starting with 0, i.e. 0, 1, 2, ..., [num_class - 1].\n",
      "  warnings.warn(label_encoder_deprecation_msg, UserWarning)\n"
     ]
    },
    {
     "name": "stdout",
     "output_type": "stream",
     "text": [
      "[18:58:24] WARNING: ..\\src\\learner.cc:1061: Starting in XGBoost 1.3.0, the default evaluation metric used with the objective 'binary:logistic' was changed from 'error' to 'logloss'. Explicitly set eval_metric if you'd like to restore the old behavior.\n"
     ]
    },
    {
     "name": "stderr",
     "output_type": "stream",
     "text": [
      "C:\\Users\\hatzi\\anaconda3\\envs\\tf-gpu\\lib\\site-packages\\xgboost\\sklearn.py:888: UserWarning: The use of label encoder in XGBClassifier is deprecated and will be removed in a future release. To remove this warning, do the following: 1) Pass option use_label_encoder=False when constructing XGBClassifier object; and 2) Encode your labels (y) as integers starting with 0, i.e. 0, 1, 2, ..., [num_class - 1].\n",
      "  warnings.warn(label_encoder_deprecation_msg, UserWarning)\n"
     ]
    },
    {
     "name": "stdout",
     "output_type": "stream",
     "text": [
      "[18:58:37] WARNING: ..\\src\\learner.cc:1061: Starting in XGBoost 1.3.0, the default evaluation metric used with the objective 'binary:logistic' was changed from 'error' to 'logloss'. Explicitly set eval_metric if you'd like to restore the old behavior.\n"
     ]
    },
    {
     "name": "stderr",
     "output_type": "stream",
     "text": [
      "C:\\Users\\hatzi\\anaconda3\\envs\\tf-gpu\\lib\\site-packages\\xgboost\\sklearn.py:888: UserWarning: The use of label encoder in XGBClassifier is deprecated and will be removed in a future release. To remove this warning, do the following: 1) Pass option use_label_encoder=False when constructing XGBClassifier object; and 2) Encode your labels (y) as integers starting with 0, i.e. 0, 1, 2, ..., [num_class - 1].\n",
      "  warnings.warn(label_encoder_deprecation_msg, UserWarning)\n"
     ]
    },
    {
     "name": "stdout",
     "output_type": "stream",
     "text": [
      "[18:58:50] WARNING: ..\\src\\learner.cc:1061: Starting in XGBoost 1.3.0, the default evaluation metric used with the objective 'binary:logistic' was changed from 'error' to 'logloss'. Explicitly set eval_metric if you'd like to restore the old behavior.\n"
     ]
    },
    {
     "name": "stderr",
     "output_type": "stream",
     "text": [
      "C:\\Users\\hatzi\\anaconda3\\envs\\tf-gpu\\lib\\site-packages\\xgboost\\sklearn.py:888: UserWarning: The use of label encoder in XGBClassifier is deprecated and will be removed in a future release. To remove this warning, do the following: 1) Pass option use_label_encoder=False when constructing XGBClassifier object; and 2) Encode your labels (y) as integers starting with 0, i.e. 0, 1, 2, ..., [num_class - 1].\n",
      "  warnings.warn(label_encoder_deprecation_msg, UserWarning)\n"
     ]
    },
    {
     "name": "stdout",
     "output_type": "stream",
     "text": [
      "[18:59:04] WARNING: ..\\src\\learner.cc:1061: Starting in XGBoost 1.3.0, the default evaluation metric used with the objective 'binary:logistic' was changed from 'error' to 'logloss'. Explicitly set eval_metric if you'd like to restore the old behavior.\n"
     ]
    },
    {
     "name": "stderr",
     "output_type": "stream",
     "text": [
      "C:\\Users\\hatzi\\anaconda3\\envs\\tf-gpu\\lib\\site-packages\\xgboost\\sklearn.py:888: UserWarning: The use of label encoder in XGBClassifier is deprecated and will be removed in a future release. To remove this warning, do the following: 1) Pass option use_label_encoder=False when constructing XGBClassifier object; and 2) Encode your labels (y) as integers starting with 0, i.e. 0, 1, 2, ..., [num_class - 1].\n",
      "  warnings.warn(label_encoder_deprecation_msg, UserWarning)\n"
     ]
    },
    {
     "name": "stdout",
     "output_type": "stream",
     "text": [
      "[18:59:16] WARNING: ..\\src\\learner.cc:1061: Starting in XGBoost 1.3.0, the default evaluation metric used with the objective 'binary:logistic' was changed from 'error' to 'logloss'. Explicitly set eval_metric if you'd like to restore the old behavior.\n"
     ]
    },
    {
     "name": "stderr",
     "output_type": "stream",
     "text": [
      "C:\\Users\\hatzi\\anaconda3\\envs\\tf-gpu\\lib\\site-packages\\xgboost\\sklearn.py:888: UserWarning: The use of label encoder in XGBClassifier is deprecated and will be removed in a future release. To remove this warning, do the following: 1) Pass option use_label_encoder=False when constructing XGBClassifier object; and 2) Encode your labels (y) as integers starting with 0, i.e. 0, 1, 2, ..., [num_class - 1].\n",
      "  warnings.warn(label_encoder_deprecation_msg, UserWarning)\n"
     ]
    },
    {
     "name": "stdout",
     "output_type": "stream",
     "text": [
      "[18:59:27] WARNING: ..\\src\\learner.cc:1061: Starting in XGBoost 1.3.0, the default evaluation metric used with the objective 'binary:logistic' was changed from 'error' to 'logloss'. Explicitly set eval_metric if you'd like to restore the old behavior.\n"
     ]
    },
    {
     "name": "stderr",
     "output_type": "stream",
     "text": [
      "C:\\Users\\hatzi\\anaconda3\\envs\\tf-gpu\\lib\\site-packages\\xgboost\\sklearn.py:888: UserWarning: The use of label encoder in XGBClassifier is deprecated and will be removed in a future release. To remove this warning, do the following: 1) Pass option use_label_encoder=False when constructing XGBClassifier object; and 2) Encode your labels (y) as integers starting with 0, i.e. 0, 1, 2, ..., [num_class - 1].\n",
      "  warnings.warn(label_encoder_deprecation_msg, UserWarning)\n"
     ]
    },
    {
     "name": "stdout",
     "output_type": "stream",
     "text": [
      "[18:59:38] WARNING: ..\\src\\learner.cc:1061: Starting in XGBoost 1.3.0, the default evaluation metric used with the objective 'binary:logistic' was changed from 'error' to 'logloss'. Explicitly set eval_metric if you'd like to restore the old behavior.\n"
     ]
    },
    {
     "name": "stderr",
     "output_type": "stream",
     "text": [
      "C:\\Users\\hatzi\\anaconda3\\envs\\tf-gpu\\lib\\site-packages\\xgboost\\sklearn.py:888: UserWarning: The use of label encoder in XGBClassifier is deprecated and will be removed in a future release. To remove this warning, do the following: 1) Pass option use_label_encoder=False when constructing XGBClassifier object; and 2) Encode your labels (y) as integers starting with 0, i.e. 0, 1, 2, ..., [num_class - 1].\n",
      "  warnings.warn(label_encoder_deprecation_msg, UserWarning)\n"
     ]
    },
    {
     "name": "stdout",
     "output_type": "stream",
     "text": [
      "[18:59:48] WARNING: ..\\src\\learner.cc:1061: Starting in XGBoost 1.3.0, the default evaluation metric used with the objective 'binary:logistic' was changed from 'error' to 'logloss'. Explicitly set eval_metric if you'd like to restore the old behavior.\n"
     ]
    },
    {
     "name": "stderr",
     "output_type": "stream",
     "text": [
      "C:\\Users\\hatzi\\anaconda3\\envs\\tf-gpu\\lib\\site-packages\\xgboost\\sklearn.py:888: UserWarning: The use of label encoder in XGBClassifier is deprecated and will be removed in a future release. To remove this warning, do the following: 1) Pass option use_label_encoder=False when constructing XGBClassifier object; and 2) Encode your labels (y) as integers starting with 0, i.e. 0, 1, 2, ..., [num_class - 1].\n",
      "  warnings.warn(label_encoder_deprecation_msg, UserWarning)\n"
     ]
    },
    {
     "name": "stdout",
     "output_type": "stream",
     "text": [
      "[18:59:57] WARNING: ..\\src\\learner.cc:1061: Starting in XGBoost 1.3.0, the default evaluation metric used with the objective 'binary:logistic' was changed from 'error' to 'logloss'. Explicitly set eval_metric if you'd like to restore the old behavior.\n"
     ]
    },
    {
     "name": "stderr",
     "output_type": "stream",
     "text": [
      "C:\\Users\\hatzi\\anaconda3\\envs\\tf-gpu\\lib\\site-packages\\xgboost\\sklearn.py:888: UserWarning: The use of label encoder in XGBClassifier is deprecated and will be removed in a future release. To remove this warning, do the following: 1) Pass option use_label_encoder=False when constructing XGBClassifier object; and 2) Encode your labels (y) as integers starting with 0, i.e. 0, 1, 2, ..., [num_class - 1].\n",
      "  warnings.warn(label_encoder_deprecation_msg, UserWarning)\n"
     ]
    },
    {
     "name": "stdout",
     "output_type": "stream",
     "text": [
      "[19:00:06] WARNING: ..\\src\\learner.cc:1061: Starting in XGBoost 1.3.0, the default evaluation metric used with the objective 'binary:logistic' was changed from 'error' to 'logloss'. Explicitly set eval_metric if you'd like to restore the old behavior.\n"
     ]
    },
    {
     "name": "stderr",
     "output_type": "stream",
     "text": [
      "C:\\Users\\hatzi\\anaconda3\\envs\\tf-gpu\\lib\\site-packages\\xgboost\\sklearn.py:888: UserWarning: The use of label encoder in XGBClassifier is deprecated and will be removed in a future release. To remove this warning, do the following: 1) Pass option use_label_encoder=False when constructing XGBClassifier object; and 2) Encode your labels (y) as integers starting with 0, i.e. 0, 1, 2, ..., [num_class - 1].\n",
      "  warnings.warn(label_encoder_deprecation_msg, UserWarning)\n"
     ]
    },
    {
     "name": "stdout",
     "output_type": "stream",
     "text": [
      "[19:00:14] WARNING: ..\\src\\learner.cc:1061: Starting in XGBoost 1.3.0, the default evaluation metric used with the objective 'binary:logistic' was changed from 'error' to 'logloss'. Explicitly set eval_metric if you'd like to restore the old behavior.\n"
     ]
    },
    {
     "name": "stderr",
     "output_type": "stream",
     "text": [
      "C:\\Users\\hatzi\\anaconda3\\envs\\tf-gpu\\lib\\site-packages\\xgboost\\sklearn.py:888: UserWarning: The use of label encoder in XGBClassifier is deprecated and will be removed in a future release. To remove this warning, do the following: 1) Pass option use_label_encoder=False when constructing XGBClassifier object; and 2) Encode your labels (y) as integers starting with 0, i.e. 0, 1, 2, ..., [num_class - 1].\n",
      "  warnings.warn(label_encoder_deprecation_msg, UserWarning)\n"
     ]
    },
    {
     "name": "stdout",
     "output_type": "stream",
     "text": [
      "[19:00:24] WARNING: ..\\src\\learner.cc:1061: Starting in XGBoost 1.3.0, the default evaluation metric used with the objective 'binary:logistic' was changed from 'error' to 'logloss'. Explicitly set eval_metric if you'd like to restore the old behavior.\n"
     ]
    },
    {
     "name": "stderr",
     "output_type": "stream",
     "text": [
      "C:\\Users\\hatzi\\anaconda3\\envs\\tf-gpu\\lib\\site-packages\\xgboost\\sklearn.py:888: UserWarning: The use of label encoder in XGBClassifier is deprecated and will be removed in a future release. To remove this warning, do the following: 1) Pass option use_label_encoder=False when constructing XGBClassifier object; and 2) Encode your labels (y) as integers starting with 0, i.e. 0, 1, 2, ..., [num_class - 1].\n",
      "  warnings.warn(label_encoder_deprecation_msg, UserWarning)\n"
     ]
    },
    {
     "name": "stdout",
     "output_type": "stream",
     "text": [
      "[19:00:33] WARNING: ..\\src\\learner.cc:1061: Starting in XGBoost 1.3.0, the default evaluation metric used with the objective 'binary:logistic' was changed from 'error' to 'logloss'. Explicitly set eval_metric if you'd like to restore the old behavior.\n"
     ]
    },
    {
     "name": "stderr",
     "output_type": "stream",
     "text": [
      "C:\\Users\\hatzi\\anaconda3\\envs\\tf-gpu\\lib\\site-packages\\xgboost\\sklearn.py:888: UserWarning: The use of label encoder in XGBClassifier is deprecated and will be removed in a future release. To remove this warning, do the following: 1) Pass option use_label_encoder=False when constructing XGBClassifier object; and 2) Encode your labels (y) as integers starting with 0, i.e. 0, 1, 2, ..., [num_class - 1].\n",
      "  warnings.warn(label_encoder_deprecation_msg, UserWarning)\n"
     ]
    },
    {
     "name": "stdout",
     "output_type": "stream",
     "text": [
      "[19:00:41] WARNING: ..\\src\\learner.cc:1061: Starting in XGBoost 1.3.0, the default evaluation metric used with the objective 'binary:logistic' was changed from 'error' to 'logloss'. Explicitly set eval_metric if you'd like to restore the old behavior.\n"
     ]
    },
    {
     "name": "stderr",
     "output_type": "stream",
     "text": [
      "C:\\Users\\hatzi\\anaconda3\\envs\\tf-gpu\\lib\\site-packages\\xgboost\\sklearn.py:888: UserWarning: The use of label encoder in XGBClassifier is deprecated and will be removed in a future release. To remove this warning, do the following: 1) Pass option use_label_encoder=False when constructing XGBClassifier object; and 2) Encode your labels (y) as integers starting with 0, i.e. 0, 1, 2, ..., [num_class - 1].\n",
      "  warnings.warn(label_encoder_deprecation_msg, UserWarning)\n"
     ]
    },
    {
     "name": "stdout",
     "output_type": "stream",
     "text": [
      "[19:00:48] WARNING: ..\\src\\learner.cc:1061: Starting in XGBoost 1.3.0, the default evaluation metric used with the objective 'binary:logistic' was changed from 'error' to 'logloss'. Explicitly set eval_metric if you'd like to restore the old behavior.\n"
     ]
    },
    {
     "name": "stderr",
     "output_type": "stream",
     "text": [
      "C:\\Users\\hatzi\\anaconda3\\envs\\tf-gpu\\lib\\site-packages\\xgboost\\sklearn.py:888: UserWarning: The use of label encoder in XGBClassifier is deprecated and will be removed in a future release. To remove this warning, do the following: 1) Pass option use_label_encoder=False when constructing XGBClassifier object; and 2) Encode your labels (y) as integers starting with 0, i.e. 0, 1, 2, ..., [num_class - 1].\n",
      "  warnings.warn(label_encoder_deprecation_msg, UserWarning)\n"
     ]
    },
    {
     "name": "stdout",
     "output_type": "stream",
     "text": [
      "[19:00:56] WARNING: ..\\src\\learner.cc:1061: Starting in XGBoost 1.3.0, the default evaluation metric used with the objective 'binary:logistic' was changed from 'error' to 'logloss'. Explicitly set eval_metric if you'd like to restore the old behavior.\n"
     ]
    },
    {
     "name": "stderr",
     "output_type": "stream",
     "text": [
      "C:\\Users\\hatzi\\anaconda3\\envs\\tf-gpu\\lib\\site-packages\\xgboost\\sklearn.py:888: UserWarning: The use of label encoder in XGBClassifier is deprecated and will be removed in a future release. To remove this warning, do the following: 1) Pass option use_label_encoder=False when constructing XGBClassifier object; and 2) Encode your labels (y) as integers starting with 0, i.e. 0, 1, 2, ..., [num_class - 1].\n",
      "  warnings.warn(label_encoder_deprecation_msg, UserWarning)\n"
     ]
    },
    {
     "name": "stdout",
     "output_type": "stream",
     "text": [
      "[19:01:03] WARNING: ..\\src\\learner.cc:1061: Starting in XGBoost 1.3.0, the default evaluation metric used with the objective 'binary:logistic' was changed from 'error' to 'logloss'. Explicitly set eval_metric if you'd like to restore the old behavior.\n"
     ]
    },
    {
     "name": "stderr",
     "output_type": "stream",
     "text": [
      "C:\\Users\\hatzi\\anaconda3\\envs\\tf-gpu\\lib\\site-packages\\xgboost\\sklearn.py:888: UserWarning: The use of label encoder in XGBClassifier is deprecated and will be removed in a future release. To remove this warning, do the following: 1) Pass option use_label_encoder=False when constructing XGBClassifier object; and 2) Encode your labels (y) as integers starting with 0, i.e. 0, 1, 2, ..., [num_class - 1].\n",
      "  warnings.warn(label_encoder_deprecation_msg, UserWarning)\n"
     ]
    },
    {
     "name": "stdout",
     "output_type": "stream",
     "text": [
      "[19:01:10] WARNING: ..\\src\\learner.cc:1061: Starting in XGBoost 1.3.0, the default evaluation metric used with the objective 'binary:logistic' was changed from 'error' to 'logloss'. Explicitly set eval_metric if you'd like to restore the old behavior.\n"
     ]
    },
    {
     "name": "stderr",
     "output_type": "stream",
     "text": [
      "C:\\Users\\hatzi\\anaconda3\\envs\\tf-gpu\\lib\\site-packages\\xgboost\\sklearn.py:888: UserWarning: The use of label encoder in XGBClassifier is deprecated and will be removed in a future release. To remove this warning, do the following: 1) Pass option use_label_encoder=False when constructing XGBClassifier object; and 2) Encode your labels (y) as integers starting with 0, i.e. 0, 1, 2, ..., [num_class - 1].\n",
      "  warnings.warn(label_encoder_deprecation_msg, UserWarning)\n"
     ]
    },
    {
     "name": "stdout",
     "output_type": "stream",
     "text": [
      "[19:01:16] WARNING: ..\\src\\learner.cc:1061: Starting in XGBoost 1.3.0, the default evaluation metric used with the objective 'binary:logistic' was changed from 'error' to 'logloss'. Explicitly set eval_metric if you'd like to restore the old behavior.\n"
     ]
    },
    {
     "name": "stderr",
     "output_type": "stream",
     "text": [
      "C:\\Users\\hatzi\\anaconda3\\envs\\tf-gpu\\lib\\site-packages\\xgboost\\sklearn.py:888: UserWarning: The use of label encoder in XGBClassifier is deprecated and will be removed in a future release. To remove this warning, do the following: 1) Pass option use_label_encoder=False when constructing XGBClassifier object; and 2) Encode your labels (y) as integers starting with 0, i.e. 0, 1, 2, ..., [num_class - 1].\n",
      "  warnings.warn(label_encoder_deprecation_msg, UserWarning)\n"
     ]
    },
    {
     "name": "stdout",
     "output_type": "stream",
     "text": [
      "[19:01:23] WARNING: ..\\src\\learner.cc:1061: Starting in XGBoost 1.3.0, the default evaluation metric used with the objective 'binary:logistic' was changed from 'error' to 'logloss'. Explicitly set eval_metric if you'd like to restore the old behavior.\n"
     ]
    },
    {
     "name": "stderr",
     "output_type": "stream",
     "text": [
      "C:\\Users\\hatzi\\anaconda3\\envs\\tf-gpu\\lib\\site-packages\\xgboost\\sklearn.py:888: UserWarning: The use of label encoder in XGBClassifier is deprecated and will be removed in a future release. To remove this warning, do the following: 1) Pass option use_label_encoder=False when constructing XGBClassifier object; and 2) Encode your labels (y) as integers starting with 0, i.e. 0, 1, 2, ..., [num_class - 1].\n",
      "  warnings.warn(label_encoder_deprecation_msg, UserWarning)\n"
     ]
    },
    {
     "name": "stdout",
     "output_type": "stream",
     "text": [
      "[19:01:29] WARNING: ..\\src\\learner.cc:1061: Starting in XGBoost 1.3.0, the default evaluation metric used with the objective 'binary:logistic' was changed from 'error' to 'logloss'. Explicitly set eval_metric if you'd like to restore the old behavior.\n"
     ]
    },
    {
     "name": "stderr",
     "output_type": "stream",
     "text": [
      "C:\\Users\\hatzi\\anaconda3\\envs\\tf-gpu\\lib\\site-packages\\xgboost\\sklearn.py:888: UserWarning: The use of label encoder in XGBClassifier is deprecated and will be removed in a future release. To remove this warning, do the following: 1) Pass option use_label_encoder=False when constructing XGBClassifier object; and 2) Encode your labels (y) as integers starting with 0, i.e. 0, 1, 2, ..., [num_class - 1].\n",
      "  warnings.warn(label_encoder_deprecation_msg, UserWarning)\n"
     ]
    },
    {
     "name": "stdout",
     "output_type": "stream",
     "text": [
      "[19:01:35] WARNING: ..\\src\\learner.cc:1061: Starting in XGBoost 1.3.0, the default evaluation metric used with the objective 'binary:logistic' was changed from 'error' to 'logloss'. Explicitly set eval_metric if you'd like to restore the old behavior.\n"
     ]
    },
    {
     "name": "stderr",
     "output_type": "stream",
     "text": [
      "C:\\Users\\hatzi\\anaconda3\\envs\\tf-gpu\\lib\\site-packages\\xgboost\\sklearn.py:888: UserWarning: The use of label encoder in XGBClassifier is deprecated and will be removed in a future release. To remove this warning, do the following: 1) Pass option use_label_encoder=False when constructing XGBClassifier object; and 2) Encode your labels (y) as integers starting with 0, i.e. 0, 1, 2, ..., [num_class - 1].\n",
      "  warnings.warn(label_encoder_deprecation_msg, UserWarning)\n"
     ]
    },
    {
     "name": "stdout",
     "output_type": "stream",
     "text": [
      "[19:01:41] WARNING: ..\\src\\learner.cc:1061: Starting in XGBoost 1.3.0, the default evaluation metric used with the objective 'binary:logistic' was changed from 'error' to 'logloss'. Explicitly set eval_metric if you'd like to restore the old behavior.\n"
     ]
    },
    {
     "name": "stderr",
     "output_type": "stream",
     "text": [
      "C:\\Users\\hatzi\\anaconda3\\envs\\tf-gpu\\lib\\site-packages\\xgboost\\sklearn.py:888: UserWarning: The use of label encoder in XGBClassifier is deprecated and will be removed in a future release. To remove this warning, do the following: 1) Pass option use_label_encoder=False when constructing XGBClassifier object; and 2) Encode your labels (y) as integers starting with 0, i.e. 0, 1, 2, ..., [num_class - 1].\n",
      "  warnings.warn(label_encoder_deprecation_msg, UserWarning)\n"
     ]
    },
    {
     "name": "stdout",
     "output_type": "stream",
     "text": [
      "[19:01:49] WARNING: ..\\src\\learner.cc:1061: Starting in XGBoost 1.3.0, the default evaluation metric used with the objective 'binary:logistic' was changed from 'error' to 'logloss'. Explicitly set eval_metric if you'd like to restore the old behavior.\n"
     ]
    },
    {
     "name": "stderr",
     "output_type": "stream",
     "text": [
      "C:\\Users\\hatzi\\anaconda3\\envs\\tf-gpu\\lib\\site-packages\\xgboost\\sklearn.py:888: UserWarning: The use of label encoder in XGBClassifier is deprecated and will be removed in a future release. To remove this warning, do the following: 1) Pass option use_label_encoder=False when constructing XGBClassifier object; and 2) Encode your labels (y) as integers starting with 0, i.e. 0, 1, 2, ..., [num_class - 1].\n",
      "  warnings.warn(label_encoder_deprecation_msg, UserWarning)\n"
     ]
    },
    {
     "name": "stdout",
     "output_type": "stream",
     "text": [
      "[19:01:56] WARNING: ..\\src\\learner.cc:1061: Starting in XGBoost 1.3.0, the default evaluation metric used with the objective 'binary:logistic' was changed from 'error' to 'logloss'. Explicitly set eval_metric if you'd like to restore the old behavior.\n"
     ]
    },
    {
     "name": "stderr",
     "output_type": "stream",
     "text": [
      "C:\\Users\\hatzi\\anaconda3\\envs\\tf-gpu\\lib\\site-packages\\xgboost\\sklearn.py:888: UserWarning: The use of label encoder in XGBClassifier is deprecated and will be removed in a future release. To remove this warning, do the following: 1) Pass option use_label_encoder=False when constructing XGBClassifier object; and 2) Encode your labels (y) as integers starting with 0, i.e. 0, 1, 2, ..., [num_class - 1].\n",
      "  warnings.warn(label_encoder_deprecation_msg, UserWarning)\n"
     ]
    },
    {
     "name": "stdout",
     "output_type": "stream",
     "text": [
      "[19:02:04] WARNING: ..\\src\\learner.cc:1061: Starting in XGBoost 1.3.0, the default evaluation metric used with the objective 'binary:logistic' was changed from 'error' to 'logloss'. Explicitly set eval_metric if you'd like to restore the old behavior.\n"
     ]
    },
    {
     "name": "stderr",
     "output_type": "stream",
     "text": [
      "C:\\Users\\hatzi\\anaconda3\\envs\\tf-gpu\\lib\\site-packages\\xgboost\\sklearn.py:888: UserWarning: The use of label encoder in XGBClassifier is deprecated and will be removed in a future release. To remove this warning, do the following: 1) Pass option use_label_encoder=False when constructing XGBClassifier object; and 2) Encode your labels (y) as integers starting with 0, i.e. 0, 1, 2, ..., [num_class - 1].\n",
      "  warnings.warn(label_encoder_deprecation_msg, UserWarning)\n"
     ]
    },
    {
     "name": "stdout",
     "output_type": "stream",
     "text": [
      "[19:02:12] WARNING: ..\\src\\learner.cc:1061: Starting in XGBoost 1.3.0, the default evaluation metric used with the objective 'binary:logistic' was changed from 'error' to 'logloss'. Explicitly set eval_metric if you'd like to restore the old behavior.\n"
     ]
    },
    {
     "name": "stderr",
     "output_type": "stream",
     "text": [
      "C:\\Users\\hatzi\\anaconda3\\envs\\tf-gpu\\lib\\site-packages\\xgboost\\sklearn.py:888: UserWarning: The use of label encoder in XGBClassifier is deprecated and will be removed in a future release. To remove this warning, do the following: 1) Pass option use_label_encoder=False when constructing XGBClassifier object; and 2) Encode your labels (y) as integers starting with 0, i.e. 0, 1, 2, ..., [num_class - 1].\n",
      "  warnings.warn(label_encoder_deprecation_msg, UserWarning)\n"
     ]
    },
    {
     "name": "stdout",
     "output_type": "stream",
     "text": [
      "[19:02:21] WARNING: ..\\src\\learner.cc:1061: Starting in XGBoost 1.3.0, the default evaluation metric used with the objective 'binary:logistic' was changed from 'error' to 'logloss'. Explicitly set eval_metric if you'd like to restore the old behavior.\n"
     ]
    },
    {
     "name": "stderr",
     "output_type": "stream",
     "text": [
      "C:\\Users\\hatzi\\anaconda3\\envs\\tf-gpu\\lib\\site-packages\\xgboost\\sklearn.py:888: UserWarning: The use of label encoder in XGBClassifier is deprecated and will be removed in a future release. To remove this warning, do the following: 1) Pass option use_label_encoder=False when constructing XGBClassifier object; and 2) Encode your labels (y) as integers starting with 0, i.e. 0, 1, 2, ..., [num_class - 1].\n",
      "  warnings.warn(label_encoder_deprecation_msg, UserWarning)\n"
     ]
    },
    {
     "name": "stdout",
     "output_type": "stream",
     "text": [
      "[19:02:28] WARNING: ..\\src\\learner.cc:1061: Starting in XGBoost 1.3.0, the default evaluation metric used with the objective 'binary:logistic' was changed from 'error' to 'logloss'. Explicitly set eval_metric if you'd like to restore the old behavior.\n"
     ]
    },
    {
     "name": "stderr",
     "output_type": "stream",
     "text": [
      "C:\\Users\\hatzi\\anaconda3\\envs\\tf-gpu\\lib\\site-packages\\xgboost\\sklearn.py:888: UserWarning: The use of label encoder in XGBClassifier is deprecated and will be removed in a future release. To remove this warning, do the following: 1) Pass option use_label_encoder=False when constructing XGBClassifier object; and 2) Encode your labels (y) as integers starting with 0, i.e. 0, 1, 2, ..., [num_class - 1].\n",
      "  warnings.warn(label_encoder_deprecation_msg, UserWarning)\n"
     ]
    },
    {
     "name": "stdout",
     "output_type": "stream",
     "text": [
      "[19:02:35] WARNING: ..\\src\\learner.cc:1061: Starting in XGBoost 1.3.0, the default evaluation metric used with the objective 'binary:logistic' was changed from 'error' to 'logloss'. Explicitly set eval_metric if you'd like to restore the old behavior.\n"
     ]
    },
    {
     "name": "stderr",
     "output_type": "stream",
     "text": [
      "C:\\Users\\hatzi\\anaconda3\\envs\\tf-gpu\\lib\\site-packages\\xgboost\\sklearn.py:888: UserWarning: The use of label encoder in XGBClassifier is deprecated and will be removed in a future release. To remove this warning, do the following: 1) Pass option use_label_encoder=False when constructing XGBClassifier object; and 2) Encode your labels (y) as integers starting with 0, i.e. 0, 1, 2, ..., [num_class - 1].\n",
      "  warnings.warn(label_encoder_deprecation_msg, UserWarning)\n"
     ]
    },
    {
     "name": "stdout",
     "output_type": "stream",
     "text": [
      "[19:02:42] WARNING: ..\\src\\learner.cc:1061: Starting in XGBoost 1.3.0, the default evaluation metric used with the objective 'binary:logistic' was changed from 'error' to 'logloss'. Explicitly set eval_metric if you'd like to restore the old behavior.\n"
     ]
    },
    {
     "name": "stderr",
     "output_type": "stream",
     "text": [
      "C:\\Users\\hatzi\\anaconda3\\envs\\tf-gpu\\lib\\site-packages\\xgboost\\sklearn.py:888: UserWarning: The use of label encoder in XGBClassifier is deprecated and will be removed in a future release. To remove this warning, do the following: 1) Pass option use_label_encoder=False when constructing XGBClassifier object; and 2) Encode your labels (y) as integers starting with 0, i.e. 0, 1, 2, ..., [num_class - 1].\n",
      "  warnings.warn(label_encoder_deprecation_msg, UserWarning)\n"
     ]
    },
    {
     "name": "stdout",
     "output_type": "stream",
     "text": [
      "[19:02:49] WARNING: ..\\src\\learner.cc:1061: Starting in XGBoost 1.3.0, the default evaluation metric used with the objective 'binary:logistic' was changed from 'error' to 'logloss'. Explicitly set eval_metric if you'd like to restore the old behavior.\n"
     ]
    },
    {
     "name": "stderr",
     "output_type": "stream",
     "text": [
      "C:\\Users\\hatzi\\anaconda3\\envs\\tf-gpu\\lib\\site-packages\\xgboost\\sklearn.py:888: UserWarning: The use of label encoder in XGBClassifier is deprecated and will be removed in a future release. To remove this warning, do the following: 1) Pass option use_label_encoder=False when constructing XGBClassifier object; and 2) Encode your labels (y) as integers starting with 0, i.e. 0, 1, 2, ..., [num_class - 1].\n",
      "  warnings.warn(label_encoder_deprecation_msg, UserWarning)\n"
     ]
    },
    {
     "name": "stdout",
     "output_type": "stream",
     "text": [
      "[19:02:56] WARNING: ..\\src\\learner.cc:1061: Starting in XGBoost 1.3.0, the default evaluation metric used with the objective 'binary:logistic' was changed from 'error' to 'logloss'. Explicitly set eval_metric if you'd like to restore the old behavior.\n"
     ]
    },
    {
     "name": "stderr",
     "output_type": "stream",
     "text": [
      "C:\\Users\\hatzi\\anaconda3\\envs\\tf-gpu\\lib\\site-packages\\xgboost\\sklearn.py:888: UserWarning: The use of label encoder in XGBClassifier is deprecated and will be removed in a future release. To remove this warning, do the following: 1) Pass option use_label_encoder=False when constructing XGBClassifier object; and 2) Encode your labels (y) as integers starting with 0, i.e. 0, 1, 2, ..., [num_class - 1].\n",
      "  warnings.warn(label_encoder_deprecation_msg, UserWarning)\n"
     ]
    },
    {
     "name": "stdout",
     "output_type": "stream",
     "text": [
      "[19:03:10] WARNING: ..\\src\\learner.cc:1061: Starting in XGBoost 1.3.0, the default evaluation metric used with the objective 'binary:logistic' was changed from 'error' to 'logloss'. Explicitly set eval_metric if you'd like to restore the old behavior.\n"
     ]
    },
    {
     "name": "stderr",
     "output_type": "stream",
     "text": [
      "C:\\Users\\hatzi\\anaconda3\\envs\\tf-gpu\\lib\\site-packages\\xgboost\\sklearn.py:888: UserWarning: The use of label encoder in XGBClassifier is deprecated and will be removed in a future release. To remove this warning, do the following: 1) Pass option use_label_encoder=False when constructing XGBClassifier object; and 2) Encode your labels (y) as integers starting with 0, i.e. 0, 1, 2, ..., [num_class - 1].\n",
      "  warnings.warn(label_encoder_deprecation_msg, UserWarning)\n"
     ]
    },
    {
     "name": "stdout",
     "output_type": "stream",
     "text": [
      "[19:03:25] WARNING: ..\\src\\learner.cc:1061: Starting in XGBoost 1.3.0, the default evaluation metric used with the objective 'binary:logistic' was changed from 'error' to 'logloss'. Explicitly set eval_metric if you'd like to restore the old behavior.\n"
     ]
    },
    {
     "name": "stderr",
     "output_type": "stream",
     "text": [
      "C:\\Users\\hatzi\\anaconda3\\envs\\tf-gpu\\lib\\site-packages\\xgboost\\sklearn.py:888: UserWarning: The use of label encoder in XGBClassifier is deprecated and will be removed in a future release. To remove this warning, do the following: 1) Pass option use_label_encoder=False when constructing XGBClassifier object; and 2) Encode your labels (y) as integers starting with 0, i.e. 0, 1, 2, ..., [num_class - 1].\n",
      "  warnings.warn(label_encoder_deprecation_msg, UserWarning)\n"
     ]
    },
    {
     "name": "stdout",
     "output_type": "stream",
     "text": [
      "[19:03:41] WARNING: ..\\src\\learner.cc:1061: Starting in XGBoost 1.3.0, the default evaluation metric used with the objective 'binary:logistic' was changed from 'error' to 'logloss'. Explicitly set eval_metric if you'd like to restore the old behavior.\n"
     ]
    },
    {
     "name": "stderr",
     "output_type": "stream",
     "text": [
      "C:\\Users\\hatzi\\anaconda3\\envs\\tf-gpu\\lib\\site-packages\\xgboost\\sklearn.py:888: UserWarning: The use of label encoder in XGBClassifier is deprecated and will be removed in a future release. To remove this warning, do the following: 1) Pass option use_label_encoder=False when constructing XGBClassifier object; and 2) Encode your labels (y) as integers starting with 0, i.e. 0, 1, 2, ..., [num_class - 1].\n",
      "  warnings.warn(label_encoder_deprecation_msg, UserWarning)\n"
     ]
    },
    {
     "name": "stdout",
     "output_type": "stream",
     "text": [
      "[19:03:58] WARNING: ..\\src\\learner.cc:1061: Starting in XGBoost 1.3.0, the default evaluation metric used with the objective 'binary:logistic' was changed from 'error' to 'logloss'. Explicitly set eval_metric if you'd like to restore the old behavior.\n"
     ]
    },
    {
     "name": "stderr",
     "output_type": "stream",
     "text": [
      "C:\\Users\\hatzi\\anaconda3\\envs\\tf-gpu\\lib\\site-packages\\xgboost\\sklearn.py:888: UserWarning: The use of label encoder in XGBClassifier is deprecated and will be removed in a future release. To remove this warning, do the following: 1) Pass option use_label_encoder=False when constructing XGBClassifier object; and 2) Encode your labels (y) as integers starting with 0, i.e. 0, 1, 2, ..., [num_class - 1].\n",
      "  warnings.warn(label_encoder_deprecation_msg, UserWarning)\n"
     ]
    },
    {
     "name": "stdout",
     "output_type": "stream",
     "text": [
      "[19:04:15] WARNING: ..\\src\\learner.cc:1061: Starting in XGBoost 1.3.0, the default evaluation metric used with the objective 'binary:logistic' was changed from 'error' to 'logloss'. Explicitly set eval_metric if you'd like to restore the old behavior.\n"
     ]
    },
    {
     "name": "stderr",
     "output_type": "stream",
     "text": [
      "C:\\Users\\hatzi\\anaconda3\\envs\\tf-gpu\\lib\\site-packages\\xgboost\\sklearn.py:888: UserWarning: The use of label encoder in XGBClassifier is deprecated and will be removed in a future release. To remove this warning, do the following: 1) Pass option use_label_encoder=False when constructing XGBClassifier object; and 2) Encode your labels (y) as integers starting with 0, i.e. 0, 1, 2, ..., [num_class - 1].\n",
      "  warnings.warn(label_encoder_deprecation_msg, UserWarning)\n"
     ]
    },
    {
     "name": "stdout",
     "output_type": "stream",
     "text": [
      "[19:04:29] WARNING: ..\\src\\learner.cc:1061: Starting in XGBoost 1.3.0, the default evaluation metric used with the objective 'binary:logistic' was changed from 'error' to 'logloss'. Explicitly set eval_metric if you'd like to restore the old behavior.\n"
     ]
    },
    {
     "name": "stderr",
     "output_type": "stream",
     "text": [
      "C:\\Users\\hatzi\\anaconda3\\envs\\tf-gpu\\lib\\site-packages\\xgboost\\sklearn.py:888: UserWarning: The use of label encoder in XGBClassifier is deprecated and will be removed in a future release. To remove this warning, do the following: 1) Pass option use_label_encoder=False when constructing XGBClassifier object; and 2) Encode your labels (y) as integers starting with 0, i.e. 0, 1, 2, ..., [num_class - 1].\n",
      "  warnings.warn(label_encoder_deprecation_msg, UserWarning)\n"
     ]
    },
    {
     "name": "stdout",
     "output_type": "stream",
     "text": [
      "[19:04:45] WARNING: ..\\src\\learner.cc:1061: Starting in XGBoost 1.3.0, the default evaluation metric used with the objective 'binary:logistic' was changed from 'error' to 'logloss'. Explicitly set eval_metric if you'd like to restore the old behavior.\n"
     ]
    },
    {
     "name": "stderr",
     "output_type": "stream",
     "text": [
      "C:\\Users\\hatzi\\anaconda3\\envs\\tf-gpu\\lib\\site-packages\\xgboost\\sklearn.py:888: UserWarning: The use of label encoder in XGBClassifier is deprecated and will be removed in a future release. To remove this warning, do the following: 1) Pass option use_label_encoder=False when constructing XGBClassifier object; and 2) Encode your labels (y) as integers starting with 0, i.e. 0, 1, 2, ..., [num_class - 1].\n",
      "  warnings.warn(label_encoder_deprecation_msg, UserWarning)\n"
     ]
    },
    {
     "name": "stdout",
     "output_type": "stream",
     "text": [
      "[19:05:04] WARNING: ..\\src\\learner.cc:1061: Starting in XGBoost 1.3.0, the default evaluation metric used with the objective 'binary:logistic' was changed from 'error' to 'logloss'. Explicitly set eval_metric if you'd like to restore the old behavior.\n"
     ]
    },
    {
     "name": "stderr",
     "output_type": "stream",
     "text": [
      "C:\\Users\\hatzi\\anaconda3\\envs\\tf-gpu\\lib\\site-packages\\xgboost\\sklearn.py:888: UserWarning: The use of label encoder in XGBClassifier is deprecated and will be removed in a future release. To remove this warning, do the following: 1) Pass option use_label_encoder=False when constructing XGBClassifier object; and 2) Encode your labels (y) as integers starting with 0, i.e. 0, 1, 2, ..., [num_class - 1].\n",
      "  warnings.warn(label_encoder_deprecation_msg, UserWarning)\n"
     ]
    },
    {
     "name": "stdout",
     "output_type": "stream",
     "text": [
      "[19:05:18] WARNING: ..\\src\\learner.cc:1061: Starting in XGBoost 1.3.0, the default evaluation metric used with the objective 'binary:logistic' was changed from 'error' to 'logloss'. Explicitly set eval_metric if you'd like to restore the old behavior.\n"
     ]
    },
    {
     "name": "stderr",
     "output_type": "stream",
     "text": [
      "C:\\Users\\hatzi\\anaconda3\\envs\\tf-gpu\\lib\\site-packages\\xgboost\\sklearn.py:888: UserWarning: The use of label encoder in XGBClassifier is deprecated and will be removed in a future release. To remove this warning, do the following: 1) Pass option use_label_encoder=False when constructing XGBClassifier object; and 2) Encode your labels (y) as integers starting with 0, i.e. 0, 1, 2, ..., [num_class - 1].\n",
      "  warnings.warn(label_encoder_deprecation_msg, UserWarning)\n"
     ]
    },
    {
     "name": "stdout",
     "output_type": "stream",
     "text": [
      "[19:05:31] WARNING: ..\\src\\learner.cc:1061: Starting in XGBoost 1.3.0, the default evaluation metric used with the objective 'binary:logistic' was changed from 'error' to 'logloss'. Explicitly set eval_metric if you'd like to restore the old behavior.\n"
     ]
    },
    {
     "name": "stderr",
     "output_type": "stream",
     "text": [
      "C:\\Users\\hatzi\\anaconda3\\envs\\tf-gpu\\lib\\site-packages\\xgboost\\sklearn.py:888: UserWarning: The use of label encoder in XGBClassifier is deprecated and will be removed in a future release. To remove this warning, do the following: 1) Pass option use_label_encoder=False when constructing XGBClassifier object; and 2) Encode your labels (y) as integers starting with 0, i.e. 0, 1, 2, ..., [num_class - 1].\n",
      "  warnings.warn(label_encoder_deprecation_msg, UserWarning)\n"
     ]
    },
    {
     "name": "stdout",
     "output_type": "stream",
     "text": [
      "[19:05:44] WARNING: ..\\src\\learner.cc:1061: Starting in XGBoost 1.3.0, the default evaluation metric used with the objective 'binary:logistic' was changed from 'error' to 'logloss'. Explicitly set eval_metric if you'd like to restore the old behavior.\n"
     ]
    },
    {
     "name": "stderr",
     "output_type": "stream",
     "text": [
      "C:\\Users\\hatzi\\anaconda3\\envs\\tf-gpu\\lib\\site-packages\\xgboost\\sklearn.py:888: UserWarning: The use of label encoder in XGBClassifier is deprecated and will be removed in a future release. To remove this warning, do the following: 1) Pass option use_label_encoder=False when constructing XGBClassifier object; and 2) Encode your labels (y) as integers starting with 0, i.e. 0, 1, 2, ..., [num_class - 1].\n",
      "  warnings.warn(label_encoder_deprecation_msg, UserWarning)\n"
     ]
    },
    {
     "name": "stdout",
     "output_type": "stream",
     "text": [
      "[19:05:55] WARNING: ..\\src\\learner.cc:1061: Starting in XGBoost 1.3.0, the default evaluation metric used with the objective 'binary:logistic' was changed from 'error' to 'logloss'. Explicitly set eval_metric if you'd like to restore the old behavior.\n"
     ]
    },
    {
     "name": "stderr",
     "output_type": "stream",
     "text": [
      "C:\\Users\\hatzi\\anaconda3\\envs\\tf-gpu\\lib\\site-packages\\xgboost\\sklearn.py:888: UserWarning: The use of label encoder in XGBClassifier is deprecated and will be removed in a future release. To remove this warning, do the following: 1) Pass option use_label_encoder=False when constructing XGBClassifier object; and 2) Encode your labels (y) as integers starting with 0, i.e. 0, 1, 2, ..., [num_class - 1].\n",
      "  warnings.warn(label_encoder_deprecation_msg, UserWarning)\n"
     ]
    },
    {
     "name": "stdout",
     "output_type": "stream",
     "text": [
      "[19:06:06] WARNING: ..\\src\\learner.cc:1061: Starting in XGBoost 1.3.0, the default evaluation metric used with the objective 'binary:logistic' was changed from 'error' to 'logloss'. Explicitly set eval_metric if you'd like to restore the old behavior.\n"
     ]
    },
    {
     "name": "stderr",
     "output_type": "stream",
     "text": [
      "C:\\Users\\hatzi\\anaconda3\\envs\\tf-gpu\\lib\\site-packages\\xgboost\\sklearn.py:888: UserWarning: The use of label encoder in XGBClassifier is deprecated and will be removed in a future release. To remove this warning, do the following: 1) Pass option use_label_encoder=False when constructing XGBClassifier object; and 2) Encode your labels (y) as integers starting with 0, i.e. 0, 1, 2, ..., [num_class - 1].\n",
      "  warnings.warn(label_encoder_deprecation_msg, UserWarning)\n"
     ]
    },
    {
     "name": "stdout",
     "output_type": "stream",
     "text": [
      "[19:06:16] WARNING: ..\\src\\learner.cc:1061: Starting in XGBoost 1.3.0, the default evaluation metric used with the objective 'binary:logistic' was changed from 'error' to 'logloss'. Explicitly set eval_metric if you'd like to restore the old behavior.\n"
     ]
    },
    {
     "name": "stderr",
     "output_type": "stream",
     "text": [
      "C:\\Users\\hatzi\\anaconda3\\envs\\tf-gpu\\lib\\site-packages\\xgboost\\sklearn.py:888: UserWarning: The use of label encoder in XGBClassifier is deprecated and will be removed in a future release. To remove this warning, do the following: 1) Pass option use_label_encoder=False when constructing XGBClassifier object; and 2) Encode your labels (y) as integers starting with 0, i.e. 0, 1, 2, ..., [num_class - 1].\n",
      "  warnings.warn(label_encoder_deprecation_msg, UserWarning)\n"
     ]
    },
    {
     "name": "stdout",
     "output_type": "stream",
     "text": [
      "[19:06:27] WARNING: ..\\src\\learner.cc:1061: Starting in XGBoost 1.3.0, the default evaluation metric used with the objective 'binary:logistic' was changed from 'error' to 'logloss'. Explicitly set eval_metric if you'd like to restore the old behavior.\n"
     ]
    },
    {
     "name": "stderr",
     "output_type": "stream",
     "text": [
      "C:\\Users\\hatzi\\anaconda3\\envs\\tf-gpu\\lib\\site-packages\\xgboost\\sklearn.py:888: UserWarning: The use of label encoder in XGBClassifier is deprecated and will be removed in a future release. To remove this warning, do the following: 1) Pass option use_label_encoder=False when constructing XGBClassifier object; and 2) Encode your labels (y) as integers starting with 0, i.e. 0, 1, 2, ..., [num_class - 1].\n",
      "  warnings.warn(label_encoder_deprecation_msg, UserWarning)\n"
     ]
    },
    {
     "name": "stdout",
     "output_type": "stream",
     "text": [
      "[19:06:35] WARNING: ..\\src\\learner.cc:1061: Starting in XGBoost 1.3.0, the default evaluation metric used with the objective 'binary:logistic' was changed from 'error' to 'logloss'. Explicitly set eval_metric if you'd like to restore the old behavior.\n"
     ]
    },
    {
     "name": "stderr",
     "output_type": "stream",
     "text": [
      "C:\\Users\\hatzi\\anaconda3\\envs\\tf-gpu\\lib\\site-packages\\xgboost\\sklearn.py:888: UserWarning: The use of label encoder in XGBClassifier is deprecated and will be removed in a future release. To remove this warning, do the following: 1) Pass option use_label_encoder=False when constructing XGBClassifier object; and 2) Encode your labels (y) as integers starting with 0, i.e. 0, 1, 2, ..., [num_class - 1].\n",
      "  warnings.warn(label_encoder_deprecation_msg, UserWarning)\n"
     ]
    },
    {
     "name": "stdout",
     "output_type": "stream",
     "text": [
      "[19:06:44] WARNING: ..\\src\\learner.cc:1061: Starting in XGBoost 1.3.0, the default evaluation metric used with the objective 'binary:logistic' was changed from 'error' to 'logloss'. Explicitly set eval_metric if you'd like to restore the old behavior.\n"
     ]
    },
    {
     "name": "stderr",
     "output_type": "stream",
     "text": [
      "C:\\Users\\hatzi\\anaconda3\\envs\\tf-gpu\\lib\\site-packages\\xgboost\\sklearn.py:888: UserWarning: The use of label encoder in XGBClassifier is deprecated and will be removed in a future release. To remove this warning, do the following: 1) Pass option use_label_encoder=False when constructing XGBClassifier object; and 2) Encode your labels (y) as integers starting with 0, i.e. 0, 1, 2, ..., [num_class - 1].\n",
      "  warnings.warn(label_encoder_deprecation_msg, UserWarning)\n"
     ]
    },
    {
     "name": "stdout",
     "output_type": "stream",
     "text": [
      "[19:08:05] WARNING: ..\\src\\learner.cc:1061: Starting in XGBoost 1.3.0, the default evaluation metric used with the objective 'binary:logistic' was changed from 'error' to 'logloss'. Explicitly set eval_metric if you'd like to restore the old behavior.\n"
     ]
    },
    {
     "name": "stderr",
     "output_type": "stream",
     "text": [
      "C:\\Users\\hatzi\\anaconda3\\envs\\tf-gpu\\lib\\site-packages\\xgboost\\sklearn.py:888: UserWarning: The use of label encoder in XGBClassifier is deprecated and will be removed in a future release. To remove this warning, do the following: 1) Pass option use_label_encoder=False when constructing XGBClassifier object; and 2) Encode your labels (y) as integers starting with 0, i.e. 0, 1, 2, ..., [num_class - 1].\n",
      "  warnings.warn(label_encoder_deprecation_msg, UserWarning)\n"
     ]
    },
    {
     "name": "stdout",
     "output_type": "stream",
     "text": [
      "[19:09:36] WARNING: ..\\src\\learner.cc:1061: Starting in XGBoost 1.3.0, the default evaluation metric used with the objective 'binary:logistic' was changed from 'error' to 'logloss'. Explicitly set eval_metric if you'd like to restore the old behavior.\n"
     ]
    },
    {
     "name": "stderr",
     "output_type": "stream",
     "text": [
      "C:\\Users\\hatzi\\anaconda3\\envs\\tf-gpu\\lib\\site-packages\\xgboost\\sklearn.py:888: UserWarning: The use of label encoder in XGBClassifier is deprecated and will be removed in a future release. To remove this warning, do the following: 1) Pass option use_label_encoder=False when constructing XGBClassifier object; and 2) Encode your labels (y) as integers starting with 0, i.e. 0, 1, 2, ..., [num_class - 1].\n",
      "  warnings.warn(label_encoder_deprecation_msg, UserWarning)\n"
     ]
    },
    {
     "name": "stdout",
     "output_type": "stream",
     "text": [
      "[19:11:05] WARNING: ..\\src\\learner.cc:1061: Starting in XGBoost 1.3.0, the default evaluation metric used with the objective 'binary:logistic' was changed from 'error' to 'logloss'. Explicitly set eval_metric if you'd like to restore the old behavior.\n"
     ]
    },
    {
     "data": {
      "text/plain": [
       "GridSearchCV(cv=5,\n",
       "             estimator=XGBClassifier(base_score=None, booster=None,\n",
       "                                     colsample_bylevel=None,\n",
       "                                     colsample_bynode=None,\n",
       "                                     colsample_bytree=None, gamma=None,\n",
       "                                     gpu_id=None, importance_type='gain',\n",
       "                                     interaction_constraints=None,\n",
       "                                     learning_rate=None, max_delta_step=None,\n",
       "                                     max_depth=None, min_child_weight=None,\n",
       "                                     missing=nan, monotone_constraints=None,\n",
       "                                     n_estimators=100, n_jobs=None,\n",
       "                                     num_parallel_tree=None, random_state=None,\n",
       "                                     reg_alpha=None, reg_lambda=None,\n",
       "                                     scale_pos_weight=None, subsample=None,\n",
       "                                     tree_method=None, validate_parameters=None,\n",
       "                                     verbosity=None),\n",
       "             param_grid={'gamma': [0.5, 5], 'max_depth': [3, 5],\n",
       "                         'min_child_weight': [1, 10], 'subsample': [0.6, 1.0]})"
      ]
     },
     "execution_count": 68,
     "metadata": {},
     "output_type": "execute_result"
    }
   ],
   "source": [
    "xgb_model = XGBClassifier()\n",
    "params = {\n",
    "        'min_child_weight': [1, 10],\n",
    "        'gamma': [0.5, 5],\n",
    "        'subsample': [0.6, 1.0],\n",
    "        'max_depth': [3, 5]\n",
    "        }\n",
    "xgb_grid = GridSearchCV(estimator=xgb_model, param_grid=params, cv=5)\n",
    "xgb_grid.fit(x_train,y_train)"
   ]
  },
  {
   "cell_type": "code",
   "execution_count": 72,
   "id": "68ecaf04",
   "metadata": {},
   "outputs": [
    {
     "name": "stdout",
     "output_type": "stream",
     "text": [
      "Gradient boosting classifier best params:  {'gamma': 0.5, 'max_depth': 5, 'min_child_weight': 1, 'subsample': 1.0}\n",
      "Gradient boosting accuracy:  0.997834199653472\n"
     ]
    }
   ],
   "source": [
    "print('Gradient boosting classifier best params: ', xgb_grid.best_params_)\n",
    "print('Gradient boosting accuracy: ', xgb_grid.score(x_test, y_test))"
   ]
  },
  {
   "cell_type": "code",
   "execution_count": 73,
   "id": "f8b7a1a1",
   "metadata": {},
   "outputs": [
    {
     "data": {
      "text/plain": [
       "<AxesSubplot:title={'center':'Feature importance'}, xlabel='F score', ylabel='Features'>"
      ]
     },
     "execution_count": 73,
     "metadata": {},
     "output_type": "execute_result"
    },
    {
     "data": {
      "image/png": "[encoded data removed]",
      "text/plain": [
       "<Figure size 432x288 with 1 Axes>"
      ]
     },
     "metadata": {
      "needs_background": "light"
     },
     "output_type": "display_data"
    }
   ],
   "source": [
    "xgb_model = xgb_grid.best_estimator_\n",
    "from xgboost import plot_importance\n",
    "plot_importance(xgb_model, importance_type='gain')"
   ]
  },
  {
   "cell_type": "code",
   "execution_count": 74,
   "id": "fcddba3b",
   "metadata": {},
   "outputs": [
    {
     "data": {
      "text/plain": [
       "{'count_https': 15168.752417959991,\n",
       " 'count_www': 698.9651765888768,\n",
       " 'path_length': 12.870793986063065,\n",
       " 'days_since_creation': 24.826699685861634,\n",
       " 'entropy': 9.06032049570542,\n",
       " 'count_digits': 19.99135015715191,\n",
       " 'url_length': 13.922949118195126,\n",
       " 'count_?': 45.555395822499996,\n",
       " 'days_since_last_update': 7.168482299,\n",
       " 'num_subdomains': 19.160942482482145,\n",
       " 'tld': 12.319423717108435,\n",
       " 'count_.': 23.35229379556521,\n",
       " 'hostname_length': 8.824870479960005,\n",
       " 'tld_length': 16.70477417317073,\n",
       " 'count_%': 7.378272097285712,\n",
       " 'url_profanity_score': 7.535768056151513,\n",
       " 'days_until_expiration': 9.632271465699999,\n",
       " 'count_dir': 26.56188751348333,\n",
       " 'count_letters': 8.11696333275,\n",
       " 'fd_length': 6.992766639047056,\n",
       " 'num_parameters': 6.463832979,\n",
       " 'count_=': 19.92602150147059,\n",
       " 'count_of_-': 11.757395929416667,\n",
       " 'whois_exist': 21.130585666,\n",
       " 'count_@': 10.120502968,\n",
       " 'is_short_url': 11.988806246}"
      ]
     },
     "execution_count": 74,
     "metadata": {},
     "output_type": "execute_result"
    }
   ],
   "source": [
    "f = 'gain'\n",
    "xgb_model.get_booster().get_score(importance_type= f)"
   ]
  },
  {
   "cell_type": "code",
   "execution_count": 119,
   "id": "826d715e",
   "metadata": {},
   "outputs": [
    {
     "data": {
      "text/plain": [
       "{'whois_exist': 3.1181365405625,\n",
       " 'fd_length': 3.969750615510741,\n",
       " 'num_parameters': 4.470240821941176,\n",
       " 'entropy': 4.689474455392799,\n",
       " 'days_since_last_update': 5.006483307911362,\n",
       " 'days_until_expiration': 5.265390386136476,\n",
       " 'url_profanity_score': 5.473237135330317,\n",
       " 'count_letters': 5.669058474313635,\n",
       " 'hostname_length': 7.355512544270007,\n",
       " 'url_length': 7.426265616444731,\n",
       " 'is_short_url': 7.52292618188889,\n",
       " 'count_of_-': 7.543250872427084,\n",
       " 'count_%': 7.562563770285715,\n",
       " 'count_@': 7.9855959281111115,\n",
       " 'path_length': 9.163467952803728,\n",
       " 'tld': 9.518903725337967,\n",
       " 'tld_length': 10.269452639970142,\n",
       " 'count_.': 11.360459637856014,\n",
       " 'count_=': 13.081700346206897,\n",
       " 'count_digits': 13.40867798701085,\n",
       " 'days_since_creation': 15.076387856876956,\n",
       " 'num_subdomains': 16.766740303967573,\n",
       " 'count_dir': 17.68555073971764,\n",
       " 'count_?': 29.254000137545457,\n",
       " 'count_www': 539.8578018397859,\n",
       " 'count_https': 14146.759647900164}"
      ]
     },
     "execution_count": 119,
     "metadata": {},
     "output_type": "execute_result"
    }
   ],
   "source": [
    "# Print ordered feature importance from least to most important\n",
    "feature_gain_metrics = xgb_model.get_booster().get_score(importance_type= f)\n",
    "dict(sorted(feature_gain_metrics.items(), key=lambda item: item[1]))"
   ]
  },
  {
   "cell_type": "code",
   "execution_count": 66,
   "id": "662ca73f",
   "metadata": {},
   "outputs": [],
   "source": [
    "from sklearn.ensemble import RandomForestClassifier\n",
    "from sklearn.metrics import confusion_matrix,classification_report,accuracy_score\n",
    "from xgboost.sklearn import XGBClassifier\n",
    "from sklearn.linear_model import LogisticRegression\n",
    "from sklearn.model_selection import KFold\n",
    "from sklearn.model_selection import cross_val_score\n",
    "from sklearn.model_selection import GridSearchCV"
   ]
  },
  {
   "cell_type": "code",
   "execution_count": 109,
   "id": "7816ba76",
   "metadata": {},
   "outputs": [
    {
     "data": {
      "text/plain": [
       "'\\nkfold = KFold(n_splits=10)\\nmodel = XGBClassifier()\\nresults = cross_val_score(model, x_train, y_train, cv=kfold)\\nprint(\"Accuracy: %.2f%% (%.2f%%)\" % (results.mean()*100, results.std()*100))\\n'"
      ]
     },
     "execution_count": 109,
     "metadata": {},
     "output_type": "execute_result"
    }
   ],
   "source": [
    "# XGBoost classifier with kfold CV\n",
    "'''\n",
    "kfold = KFold(n_splits=10)\n",
    "model = XGBClassifier()\n",
    "results = cross_val_score(model, x_train, y_train, cv=kfold)\n",
    "print(\"Accuracy: %.2f%% (%.2f%%)\" % (results.mean()*100, results.std()*100))\n",
    "'''"
   ]
  },
  {
   "cell_type": "code",
   "execution_count": 110,
   "id": "fc547e25",
   "metadata": {},
   "outputs": [
    {
     "name": "stderr",
     "output_type": "stream",
     "text": [
      "C:\\Users\\hatzi\\anaconda3\\envs\\tf-gpu\\lib\\site-packages\\xgboost\\sklearn.py:888: UserWarning: The use of label encoder in XGBClassifier is deprecated and will be removed in a future release. To remove this warning, do the following: 1) Pass option use_label_encoder=False when constructing XGBClassifier object; and 2) Encode your labels (y) as integers starting with 0, i.e. 0, 1, 2, ..., [num_class - 1].\n",
      "  warnings.warn(label_encoder_deprecation_msg, UserWarning)\n"
     ]
    },
    {
     "name": "stdout",
     "output_type": "stream",
     "text": [
      "[23:25:58] WARNING: ..\\src\\learner.cc:1061: Starting in XGBoost 1.3.0, the default evaluation metric used with the objective 'binary:logistic' was changed from 'error' to 'logloss'. Explicitly set eval_metric if you'd like to restore the old behavior.\n"
     ]
    },
    {
     "data": {
      "text/plain": [
       "0.9979008396641343"
      ]
     },
     "execution_count": 110,
     "metadata": {},
     "output_type": "execute_result"
    }
   ],
   "source": [
    "# XGBoost Classifier\n",
    "xgb_model = XGBClassifier()\n",
    "xgb_model.fit(x_train,y_train)\n",
    "xg_predictions = xgb_model.predict(x_test)\n",
    "accuracy_score(y_test, xg_predictions)"
   ]
  },
  {
   "cell_type": "code",
   "execution_count": 111,
   "id": "5f2cc2cd",
   "metadata": {},
   "outputs": [
    {
     "data": {
      "text/html": [
       "<div>\n",
       "<style scoped>\n",
       "    .dataframe tbody tr th:only-of-type {\n",
       "        vertical-align: middle;\n",
       "    }\n",
       "\n",
       "    .dataframe tbody tr th {\n",
       "        vertical-align: top;\n",
       "    }\n",
       "\n",
       "    .dataframe thead th {\n",
       "        text-align: right;\n",
       "    }\n",
       "</style>\n",
       "<table border=\"1\" class=\"dataframe\">\n",
       "  <thead>\n",
       "    <tr style=\"text-align: right;\">\n",
       "      <th></th>\n",
       "      <th>Predicted 0</th>\n",
       "      <th>Predicted 1</th>\n",
       "    </tr>\n",
       "  </thead>\n",
       "  <tbody>\n",
       "    <tr>\n",
       "      <th>Actual 0</th>\n",
       "      <td>20637</td>\n",
       "      <td>143</td>\n",
       "    </tr>\n",
       "    <tr>\n",
       "      <th>Actual 1</th>\n",
       "      <td>46</td>\n",
       "      <td>69210</td>\n",
       "    </tr>\n",
       "  </tbody>\n",
       "</table>\n",
       "</div>"
      ],
      "text/plain": [
       "          Predicted 0  Predicted 1\n",
       "Actual 0        20637          143\n",
       "Actual 1           46        69210"
      ]
     },
     "execution_count": 111,
     "metadata": {},
     "output_type": "execute_result"
    }
   ],
   "source": [
    "cm = pd.DataFrame(confusion_matrix(y_test,xg_predictions))\n",
    "cm.columns = ['Predicted 0', 'Predicted 1']\n",
    "cm = cm.rename(index = {0:'Actual 0',1:'Actual 1'})\n",
    "cm"
   ]
  },
  {
   "cell_type": "markdown",
   "id": "48267253",
   "metadata": {},
   "source": [
    "## Random forest model"
   ]
  },
  {
   "cell_type": "code",
   "execution_count": 112,
   "id": "bc50c4ef",
   "metadata": {},
   "outputs": [
    {
     "data": {
      "text/plain": [
       "0.9977231329690346"
      ]
     },
     "execution_count": 112,
     "metadata": {},
     "output_type": "execute_result"
    }
   ],
   "source": [
    "#Random Forest\n",
    "rfc = RandomForestClassifier()\n",
    "rfc.fit(x_train, y_train)\n",
    "\n",
    "rfc_predictions = rfc.predict(x_test)\n",
    "accuracy_score(y_test, rfc_predictions)"
   ]
  },
  {
   "cell_type": "code",
   "execution_count": 113,
   "id": "5d0ee78f",
   "metadata": {},
   "outputs": [
    {
     "data": {
      "text/html": [
       "<div>\n",
       "<style scoped>\n",
       "    .dataframe tbody tr th:only-of-type {\n",
       "        vertical-align: middle;\n",
       "    }\n",
       "\n",
       "    .dataframe tbody tr th {\n",
       "        vertical-align: top;\n",
       "    }\n",
       "\n",
       "    .dataframe thead th {\n",
       "        text-align: right;\n",
       "    }\n",
       "</style>\n",
       "<table border=\"1\" class=\"dataframe\">\n",
       "  <thead>\n",
       "    <tr style=\"text-align: right;\">\n",
       "      <th></th>\n",
       "      <th>Predicted 0</th>\n",
       "      <th>Predicted 1</th>\n",
       "    </tr>\n",
       "  </thead>\n",
       "  <tbody>\n",
       "    <tr>\n",
       "      <th>Actual 0</th>\n",
       "      <td>20624</td>\n",
       "      <td>156</td>\n",
       "    </tr>\n",
       "    <tr>\n",
       "      <th>Actual 1</th>\n",
       "      <td>49</td>\n",
       "      <td>69207</td>\n",
       "    </tr>\n",
       "  </tbody>\n",
       "</table>\n",
       "</div>"
      ],
      "text/plain": [
       "          Predicted 0  Predicted 1\n",
       "Actual 0        20624          156\n",
       "Actual 1           49        69207"
      ]
     },
     "execution_count": 113,
     "metadata": {},
     "output_type": "execute_result"
    }
   ],
   "source": [
    "cm = pd.DataFrame(confusion_matrix(y_test,rfc_predictions))\n",
    "cm.columns = ['Predicted 0', 'Predicted 1']\n",
    "cm = cm.rename(index = {0:'Actual 0',1:'Actual 1'})\n",
    "cm"
   ]
  },
  {
   "cell_type": "markdown",
   "id": "c4a6b667",
   "metadata": {},
   "source": [
    "## Logistic regression model"
   ]
  },
  {
   "cell_type": "code",
   "execution_count": 114,
   "id": "43582f69",
   "metadata": {},
   "outputs": [
    {
     "name": "stderr",
     "output_type": "stream",
     "text": [
      "C:\\Users\\hatzi\\anaconda3\\envs\\tf-gpu\\lib\\site-packages\\sklearn\\linear_model\\_logistic.py:763: ConvergenceWarning: lbfgs failed to converge (status=1):\n",
      "STOP: TOTAL NO. of ITERATIONS REACHED LIMIT.\n",
      "\n",
      "Increase the number of iterations (max_iter) or scale the data as shown in:\n",
      "    https://scikit-learn.org/stable/modules/preprocessing.html\n",
      "Please also refer to the documentation for alternative solver options:\n",
      "    https://scikit-learn.org/stable/modules/linear_model.html#logistic-regression\n",
      "  n_iter_i = _check_optimize_result(\n"
     ]
    },
    {
     "data": {
      "text/plain": [
       "0.8662757119374472"
      ]
     },
     "execution_count": 114,
     "metadata": {},
     "output_type": "execute_result"
    }
   ],
   "source": [
    "#Logistic Regression\n",
    "log_model = LogisticRegression()\n",
    "log_model.fit(x_train,y_train)\n",
    "\n",
    "log_predictions = log_model.predict(x_test)\n",
    "accuracy_score(y_test,log_predictions)"
   ]
  },
  {
   "cell_type": "code",
   "execution_count": 115,
   "id": "e1199ca5",
   "metadata": {},
   "outputs": [
    {
     "data": {
      "text/html": [
       "<div>\n",
       "<style scoped>\n",
       "    .dataframe tbody tr th:only-of-type {\n",
       "        vertical-align: middle;\n",
       "    }\n",
       "\n",
       "    .dataframe tbody tr th {\n",
       "        vertical-align: top;\n",
       "    }\n",
       "\n",
       "    .dataframe thead th {\n",
       "        text-align: right;\n",
       "    }\n",
       "</style>\n",
       "<table border=\"1\" class=\"dataframe\">\n",
       "  <thead>\n",
       "    <tr style=\"text-align: right;\">\n",
       "      <th></th>\n",
       "      <th>Predicted 0</th>\n",
       "      <th>Predicted 1</th>\n",
       "    </tr>\n",
       "  </thead>\n",
       "  <tbody>\n",
       "    <tr>\n",
       "      <th>Actual 0</th>\n",
       "      <td>13147</td>\n",
       "      <td>7633</td>\n",
       "    </tr>\n",
       "    <tr>\n",
       "      <th>Actual 1</th>\n",
       "      <td>4407</td>\n",
       "      <td>64849</td>\n",
       "    </tr>\n",
       "  </tbody>\n",
       "</table>\n",
       "</div>"
      ],
      "text/plain": [
       "          Predicted 0  Predicted 1\n",
       "Actual 0        13147         7633\n",
       "Actual 1         4407        64849"
      ]
     },
     "execution_count": 115,
     "metadata": {},
     "output_type": "execute_result"
    }
   ],
   "source": [
    "cm_df = pd.DataFrame(confusion_matrix(y_test,log_predictions))\n",
    "cm_df.columns = ['Predicted 0', 'Predicted 1']\n",
    "cm_df = cm_df.rename(index = {0:'Actual 0',1:'Actual 1'})\n",
    "cm_df"
   ]
  },
  {
   "cell_type": "code",
   "execution_count": 116,
   "id": "d7989258",
   "metadata": {},
   "outputs": [
    {
     "data": {
      "text/html": [
       "<div>\n",
       "<style scoped>\n",
       "    .dataframe tbody tr th:only-of-type {\n",
       "        vertical-align: middle;\n",
       "    }\n",
       "\n",
       "    .dataframe tbody tr th {\n",
       "        vertical-align: top;\n",
       "    }\n",
       "\n",
       "    .dataframe thead th {\n",
       "        text-align: right;\n",
       "    }\n",
       "</style>\n",
       "<table border=\"1\" class=\"dataframe\">\n",
       "  <thead>\n",
       "    <tr style=\"text-align: right;\">\n",
       "      <th></th>\n",
       "      <th>Model</th>\n",
       "      <th>Accuracy Score</th>\n",
       "    </tr>\n",
       "  </thead>\n",
       "  <tbody>\n",
       "    <tr>\n",
       "      <th>0</th>\n",
       "      <td>XGBClassifier</td>\n",
       "      <td>99.790084</td>\n",
       "    </tr>\n",
       "    <tr>\n",
       "      <th>1</th>\n",
       "      <td>Random Forest</td>\n",
       "      <td>99.772313</td>\n",
       "    </tr>\n",
       "    <tr>\n",
       "      <th>2</th>\n",
       "      <td>Logistic Regression</td>\n",
       "      <td>86.627571</td>\n",
       "    </tr>\n",
       "  </tbody>\n",
       "</table>\n",
       "</div>"
      ],
      "text/plain": [
       "                 Model  Accuracy Score\n",
       "0        XGBClassifier       99.790084\n",
       "1        Random Forest       99.772313\n",
       "2  Logistic Regression       86.627571"
      ]
     },
     "execution_count": 116,
     "metadata": {},
     "output_type": "execute_result"
    }
   ],
   "source": [
    "#Overall Accuracy table\n",
    "import numpy as np\n",
    "model = np.array(['XGBClassifier', 'Random Forest', 'Logistic Regression'])\n",
    "scr = np.array([accuracy_score(y_test,xg_predictions)*100, accuracy_score(y_test, rfc_predictions)*100, accuracy_score(y_test,log_predictions)*100])\n",
    "tbl = pd.DataFrame({\"Model\": model,\"Accuracy Score\": scr})\n",
    "tbl"
   ]
  },
  {
   "cell_type": "markdown",
   "id": "fe50205a",
   "metadata": {},
   "source": [
    "### Save model"
   ]
  },
  {
   "cell_type": "code",
   "execution_count": 120,
   "id": "6f8c39ad",
   "metadata": {},
   "outputs": [],
   "source": [
    "import pickle\n",
    "pickle.dump(xgb_model, open(\"xgb_model.pickle\", \"wb\"))"
   ]
  },
  {
   "cell_type": "code",
   "execution_count": 121,
   "id": "aa40d1f3",
   "metadata": {},
   "outputs": [],
   "source": [
    "# Load back model\n",
    "loaded_model = pickle.load(open(\"xgb_model.pickle\", \"rb\"))"
   ]
  },
  {
   "cell_type": "code",
   "execution_count": 122,
   "id": "2b78964a",
   "metadata": {},
   "outputs": [
    {
     "data": {
      "text/html": [
       "<div>\n",
       "<style scoped>\n",
       "    .dataframe tbody tr th:only-of-type {\n",
       "        vertical-align: middle;\n",
       "    }\n",
       "\n",
       "    .dataframe tbody tr th {\n",
       "        vertical-align: top;\n",
       "    }\n",
       "\n",
       "    .dataframe thead th {\n",
       "        text-align: right;\n",
       "    }\n",
       "</style>\n",
       "<table border=\"1\" class=\"dataframe\">\n",
       "  <thead>\n",
       "    <tr style=\"text-align: right;\">\n",
       "      <th></th>\n",
       "      <th>whois_exist</th>\n",
       "      <th>days_since_creation</th>\n",
       "      <th>days_since_last_update</th>\n",
       "      <th>days_until_expiration</th>\n",
       "      <th>url_length</th>\n",
       "      <th>path_length</th>\n",
       "      <th>hostname_length</th>\n",
       "      <th>fd_length</th>\n",
       "      <th>tld</th>\n",
       "      <th>tld_length</th>\n",
       "      <th>count_of_-</th>\n",
       "      <th>count_@</th>\n",
       "      <th>count_?</th>\n",
       "      <th>count_%</th>\n",
       "      <th>count_.</th>\n",
       "      <th>count_=</th>\n",
       "      <th>count_https</th>\n",
       "      <th>count_www</th>\n",
       "      <th>count_digits</th>\n",
       "      <th>count_letters</th>\n",
       "      <th>count_dir</th>\n",
       "      <th>entropy</th>\n",
       "      <th>num_parameters</th>\n",
       "      <th>num_fragments</th>\n",
       "      <th>num_subdomains</th>\n",
       "      <th>use_of_ip</th>\n",
       "      <th>is_short_url</th>\n",
       "      <th>url_profanity_score</th>\n",
       "    </tr>\n",
       "  </thead>\n",
       "  <tbody>\n",
       "    <tr>\n",
       "      <th>0</th>\n",
       "      <td>1</td>\n",
       "      <td>8772</td>\n",
       "      <td>743</td>\n",
       "      <td>2549</td>\n",
       "      <td>22</td>\n",
       "      <td>0</td>\n",
       "      <td>14</td>\n",
       "      <td>0</td>\n",
       "      <td>206.0</td>\n",
       "      <td>3</td>\n",
       "      <td>0</td>\n",
       "      <td>0</td>\n",
       "      <td>0</td>\n",
       "      <td>0</td>\n",
       "      <td>2</td>\n",
       "      <td>0</td>\n",
       "      <td>1</td>\n",
       "      <td>1</td>\n",
       "      <td>0</td>\n",
       "      <td>17</td>\n",
       "      <td>0</td>\n",
       "      <td>-3.663533</td>\n",
       "      <td>0</td>\n",
       "      <td>0</td>\n",
       "      <td>0</td>\n",
       "      <td>0</td>\n",
       "      <td>0</td>\n",
       "      <td>0.075126</td>\n",
       "    </tr>\n",
       "    <tr>\n",
       "      <th>1</th>\n",
       "      <td>1</td>\n",
       "      <td>6062</td>\n",
       "      <td>250</td>\n",
       "      <td>146</td>\n",
       "      <td>23</td>\n",
       "      <td>0</td>\n",
       "      <td>15</td>\n",
       "      <td>0</td>\n",
       "      <td>206.0</td>\n",
       "      <td>3</td>\n",
       "      <td>0</td>\n",
       "      <td>0</td>\n",
       "      <td>0</td>\n",
       "      <td>0</td>\n",
       "      <td>2</td>\n",
       "      <td>0</td>\n",
       "      <td>1</td>\n",
       "      <td>1</td>\n",
       "      <td>0</td>\n",
       "      <td>18</td>\n",
       "      <td>0</td>\n",
       "      <td>-3.762267</td>\n",
       "      <td>0</td>\n",
       "      <td>0</td>\n",
       "      <td>0</td>\n",
       "      <td>0</td>\n",
       "      <td>0</td>\n",
       "      <td>0.039493</td>\n",
       "    </tr>\n",
       "    <tr>\n",
       "      <th>2</th>\n",
       "      <td>1</td>\n",
       "      <td>8942</td>\n",
       "      <td>560</td>\n",
       "      <td>2381</td>\n",
       "      <td>24</td>\n",
       "      <td>0</td>\n",
       "      <td>16</td>\n",
       "      <td>0</td>\n",
       "      <td>206.0</td>\n",
       "      <td>3</td>\n",
       "      <td>0</td>\n",
       "      <td>0</td>\n",
       "      <td>0</td>\n",
       "      <td>0</td>\n",
       "      <td>2</td>\n",
       "      <td>0</td>\n",
       "      <td>1</td>\n",
       "      <td>1</td>\n",
       "      <td>0</td>\n",
       "      <td>19</td>\n",
       "      <td>0</td>\n",
       "      <td>-3.855389</td>\n",
       "      <td>0</td>\n",
       "      <td>0</td>\n",
       "      <td>0</td>\n",
       "      <td>0</td>\n",
       "      <td>0</td>\n",
       "      <td>0.050906</td>\n",
       "    </tr>\n",
       "    <tr>\n",
       "      <th>3</th>\n",
       "      <td>1</td>\n",
       "      <td>8016</td>\n",
       "      <td>286</td>\n",
       "      <td>1845</td>\n",
       "      <td>21</td>\n",
       "      <td>0</td>\n",
       "      <td>13</td>\n",
       "      <td>0</td>\n",
       "      <td>206.0</td>\n",
       "      <td>3</td>\n",
       "      <td>0</td>\n",
       "      <td>0</td>\n",
       "      <td>0</td>\n",
       "      <td>0</td>\n",
       "      <td>2</td>\n",
       "      <td>0</td>\n",
       "      <td>1</td>\n",
       "      <td>1</td>\n",
       "      <td>0</td>\n",
       "      <td>16</td>\n",
       "      <td>0</td>\n",
       "      <td>-3.880180</td>\n",
       "      <td>0</td>\n",
       "      <td>0</td>\n",
       "      <td>0</td>\n",
       "      <td>0</td>\n",
       "      <td>0</td>\n",
       "      <td>0.046085</td>\n",
       "    </tr>\n",
       "    <tr>\n",
       "      <th>4</th>\n",
       "      <td>1</td>\n",
       "      <td>7557</td>\n",
       "      <td>341</td>\n",
       "      <td>477</td>\n",
       "      <td>25</td>\n",
       "      <td>0</td>\n",
       "      <td>17</td>\n",
       "      <td>0</td>\n",
       "      <td>770.0</td>\n",
       "      <td>3</td>\n",
       "      <td>0</td>\n",
       "      <td>0</td>\n",
       "      <td>0</td>\n",
       "      <td>0</td>\n",
       "      <td>2</td>\n",
       "      <td>0</td>\n",
       "      <td>1</td>\n",
       "      <td>1</td>\n",
       "      <td>0</td>\n",
       "      <td>20</td>\n",
       "      <td>0</td>\n",
       "      <td>-3.813661</td>\n",
       "      <td>0</td>\n",
       "      <td>0</td>\n",
       "      <td>0</td>\n",
       "      <td>0</td>\n",
       "      <td>0</td>\n",
       "      <td>0.096249</td>\n",
       "    </tr>\n",
       "  </tbody>\n",
       "</table>\n",
       "</div>"
      ],
      "text/plain": [
       "   whois_exist  days_since_creation  days_since_last_update  \\\n",
       "0            1                 8772                     743   \n",
       "1            1                 6062                     250   \n",
       "2            1                 8942                     560   \n",
       "3            1                 8016                     286   \n",
       "4            1                 7557                     341   \n",
       "\n",
       "   days_until_expiration  url_length  path_length  hostname_length  fd_length  \\\n",
       "0                   2549          22            0               14          0   \n",
       "1                    146          23            0               15          0   \n",
       "2                   2381          24            0               16          0   \n",
       "3                   1845          21            0               13          0   \n",
       "4                    477          25            0               17          0   \n",
       "\n",
       "     tld  tld_length  count_of_-  count_@  count_?  count_%  count_.  count_=  \\\n",
       "0  206.0           3           0        0        0        0        2        0   \n",
       "1  206.0           3           0        0        0        0        2        0   \n",
       "2  206.0           3           0        0        0        0        2        0   \n",
       "3  206.0           3           0        0        0        0        2        0   \n",
       "4  770.0           3           0        0        0        0        2        0   \n",
       "\n",
       "   count_https  count_www  count_digits  count_letters  count_dir   entropy  \\\n",
       "0            1          1             0             17          0 -3.663533   \n",
       "1            1          1             0             18          0 -3.762267   \n",
       "2            1          1             0             19          0 -3.855389   \n",
       "3            1          1             0             16          0 -3.880180   \n",
       "4            1          1             0             20          0 -3.813661   \n",
       "\n",
       "   num_parameters  num_fragments  num_subdomains  use_of_ip  is_short_url  \\\n",
       "0               0              0               0          0             0   \n",
       "1               0              0               0          0             0   \n",
       "2               0              0               0          0             0   \n",
       "3               0              0               0          0             0   \n",
       "4               0              0               0          0             0   \n",
       "\n",
       "   url_profanity_score  \n",
       "0             0.075126  \n",
       "1             0.039493  \n",
       "2             0.050906  \n",
       "3             0.046085  \n",
       "4             0.096249  "
      ]
     },
     "execution_count": 122,
     "metadata": {},
     "output_type": "execute_result"
    }
   ],
   "source": [
    "x.head()"
   ]
  },
  {
   "cell_type": "code",
   "execution_count": 123,
   "id": "4c9e3bbe",
   "metadata": {},
   "outputs": [],
   "source": [
    "# Do a test prediction\n",
    "y_pred = loaded_model.predict(x.head())"
   ]
  },
  {
   "cell_type": "code",
   "execution_count": 124,
   "id": "314768de",
   "metadata": {},
   "outputs": [
    {
     "data": {
      "text/plain": [
       "array([1, 1, 1, 1, 1])"
      ]
     },
     "execution_count": 124,
     "metadata": {},
     "output_type": "execute_result"
    }
   ],
   "source": [
    "y_pred"
   ]
  },
  {
   "cell_type": "code",
   "execution_count": 125,
   "id": "a693e0b5",
   "metadata": {},
   "outputs": [
    {
     "data": {
      "text/html": [
       "<div>\n",
       "<style scoped>\n",
       "    .dataframe tbody tr th:only-of-type {\n",
       "        vertical-align: middle;\n",
       "    }\n",
       "\n",
       "    .dataframe tbody tr th {\n",
       "        vertical-align: top;\n",
       "    }\n",
       "\n",
       "    .dataframe thead th {\n",
       "        text-align: right;\n",
       "    }\n",
       "</style>\n",
       "<table border=\"1\" class=\"dataframe\">\n",
       "  <thead>\n",
       "    <tr style=\"text-align: right;\">\n",
       "      <th></th>\n",
       "      <th>url</th>\n",
       "      <th>result</th>\n",
       "      <th>whois_exist</th>\n",
       "      <th>days_since_creation</th>\n",
       "      <th>days_since_last_update</th>\n",
       "      <th>days_until_expiration</th>\n",
       "      <th>url_length</th>\n",
       "      <th>path_length</th>\n",
       "      <th>hostname_length</th>\n",
       "      <th>fd_length</th>\n",
       "      <th>tld</th>\n",
       "      <th>tld_length</th>\n",
       "      <th>count_of_-</th>\n",
       "      <th>count_@</th>\n",
       "      <th>count_?</th>\n",
       "      <th>count_%</th>\n",
       "      <th>count_.</th>\n",
       "      <th>count_=</th>\n",
       "      <th>count_https</th>\n",
       "      <th>count_www</th>\n",
       "      <th>count_digits</th>\n",
       "      <th>count_letters</th>\n",
       "      <th>count_dir</th>\n",
       "      <th>entropy</th>\n",
       "      <th>num_parameters</th>\n",
       "      <th>num_fragments</th>\n",
       "      <th>num_subdomains</th>\n",
       "      <th>use_of_ip</th>\n",
       "      <th>is_short_url</th>\n",
       "      <th>url_profanity_score</th>\n",
       "    </tr>\n",
       "  </thead>\n",
       "  <tbody>\n",
       "    <tr>\n",
       "      <th>0</th>\n",
       "      <td>https://www.google.com</td>\n",
       "      <td>1</td>\n",
       "      <td>1</td>\n",
       "      <td>8772</td>\n",
       "      <td>743</td>\n",
       "      <td>2549</td>\n",
       "      <td>22</td>\n",
       "      <td>0</td>\n",
       "      <td>14</td>\n",
       "      <td>0</td>\n",
       "      <td>206.0</td>\n",
       "      <td>3</td>\n",
       "      <td>0</td>\n",
       "      <td>0</td>\n",
       "      <td>0</td>\n",
       "      <td>0</td>\n",
       "      <td>2</td>\n",
       "      <td>0</td>\n",
       "      <td>1</td>\n",
       "      <td>1</td>\n",
       "      <td>0</td>\n",
       "      <td>17</td>\n",
       "      <td>0</td>\n",
       "      <td>-3.663533</td>\n",
       "      <td>0</td>\n",
       "      <td>0</td>\n",
       "      <td>0</td>\n",
       "      <td>0</td>\n",
       "      <td>0</td>\n",
       "      <td>0.075126</td>\n",
       "    </tr>\n",
       "    <tr>\n",
       "      <th>1</th>\n",
       "      <td>https://www.youtube.com</td>\n",
       "      <td>1</td>\n",
       "      <td>1</td>\n",
       "      <td>6062</td>\n",
       "      <td>250</td>\n",
       "      <td>146</td>\n",
       "      <td>23</td>\n",
       "      <td>0</td>\n",
       "      <td>15</td>\n",
       "      <td>0</td>\n",
       "      <td>206.0</td>\n",
       "      <td>3</td>\n",
       "      <td>0</td>\n",
       "      <td>0</td>\n",
       "      <td>0</td>\n",
       "      <td>0</td>\n",
       "      <td>2</td>\n",
       "      <td>0</td>\n",
       "      <td>1</td>\n",
       "      <td>1</td>\n",
       "      <td>0</td>\n",
       "      <td>18</td>\n",
       "      <td>0</td>\n",
       "      <td>-3.762267</td>\n",
       "      <td>0</td>\n",
       "      <td>0</td>\n",
       "      <td>0</td>\n",
       "      <td>0</td>\n",
       "      <td>0</td>\n",
       "      <td>0.039493</td>\n",
       "    </tr>\n",
       "    <tr>\n",
       "      <th>2</th>\n",
       "      <td>https://www.facebook.com</td>\n",
       "      <td>1</td>\n",
       "      <td>1</td>\n",
       "      <td>8942</td>\n",
       "      <td>560</td>\n",
       "      <td>2381</td>\n",
       "      <td>24</td>\n",
       "      <td>0</td>\n",
       "      <td>16</td>\n",
       "      <td>0</td>\n",
       "      <td>206.0</td>\n",
       "      <td>3</td>\n",
       "      <td>0</td>\n",
       "      <td>0</td>\n",
       "      <td>0</td>\n",
       "      <td>0</td>\n",
       "      <td>2</td>\n",
       "      <td>0</td>\n",
       "      <td>1</td>\n",
       "      <td>1</td>\n",
       "      <td>0</td>\n",
       "      <td>19</td>\n",
       "      <td>0</td>\n",
       "      <td>-3.855389</td>\n",
       "      <td>0</td>\n",
       "      <td>0</td>\n",
       "      <td>0</td>\n",
       "      <td>0</td>\n",
       "      <td>0</td>\n",
       "      <td>0.050906</td>\n",
       "    </tr>\n",
       "    <tr>\n",
       "      <th>3</th>\n",
       "      <td>https://www.baidu.com</td>\n",
       "      <td>1</td>\n",
       "      <td>1</td>\n",
       "      <td>8016</td>\n",
       "      <td>286</td>\n",
       "      <td>1845</td>\n",
       "      <td>21</td>\n",
       "      <td>0</td>\n",
       "      <td>13</td>\n",
       "      <td>0</td>\n",
       "      <td>206.0</td>\n",
       "      <td>3</td>\n",
       "      <td>0</td>\n",
       "      <td>0</td>\n",
       "      <td>0</td>\n",
       "      <td>0</td>\n",
       "      <td>2</td>\n",
       "      <td>0</td>\n",
       "      <td>1</td>\n",
       "      <td>1</td>\n",
       "      <td>0</td>\n",
       "      <td>16</td>\n",
       "      <td>0</td>\n",
       "      <td>-3.880180</td>\n",
       "      <td>0</td>\n",
       "      <td>0</td>\n",
       "      <td>0</td>\n",
       "      <td>0</td>\n",
       "      <td>0</td>\n",
       "      <td>0.046085</td>\n",
       "    </tr>\n",
       "    <tr>\n",
       "      <th>4</th>\n",
       "      <td>https://www.wikipedia.org</td>\n",
       "      <td>1</td>\n",
       "      <td>1</td>\n",
       "      <td>7557</td>\n",
       "      <td>341</td>\n",
       "      <td>477</td>\n",
       "      <td>25</td>\n",
       "      <td>0</td>\n",
       "      <td>17</td>\n",
       "      <td>0</td>\n",
       "      <td>770.0</td>\n",
       "      <td>3</td>\n",
       "      <td>0</td>\n",
       "      <td>0</td>\n",
       "      <td>0</td>\n",
       "      <td>0</td>\n",
       "      <td>2</td>\n",
       "      <td>0</td>\n",
       "      <td>1</td>\n",
       "      <td>1</td>\n",
       "      <td>0</td>\n",
       "      <td>20</td>\n",
       "      <td>0</td>\n",
       "      <td>-3.813661</td>\n",
       "      <td>0</td>\n",
       "      <td>0</td>\n",
       "      <td>0</td>\n",
       "      <td>0</td>\n",
       "      <td>0</td>\n",
       "      <td>0.096249</td>\n",
       "    </tr>\n",
       "  </tbody>\n",
       "</table>\n",
       "</div>"
      ],
      "text/plain": [
       "                         url  result  whois_exist  days_since_creation  \\\n",
       "0     https://www.google.com       1            1                 8772   \n",
       "1    https://www.youtube.com       1            1                 6062   \n",
       "2   https://www.facebook.com       1            1                 8942   \n",
       "3      https://www.baidu.com       1            1                 8016   \n",
       "4  https://www.wikipedia.org       1            1                 7557   \n",
       "\n",
       "   days_since_last_update  days_until_expiration  url_length  path_length  \\\n",
       "0                     743                   2549          22            0   \n",
       "1                     250                    146          23            0   \n",
       "2                     560                   2381          24            0   \n",
       "3                     286                   1845          21            0   \n",
       "4                     341                    477          25            0   \n",
       "\n",
       "   hostname_length  fd_length    tld  tld_length  count_of_-  count_@  \\\n",
       "0               14          0  206.0           3           0        0   \n",
       "1               15          0  206.0           3           0        0   \n",
       "2               16          0  206.0           3           0        0   \n",
       "3               13          0  206.0           3           0        0   \n",
       "4               17          0  770.0           3           0        0   \n",
       "\n",
       "   count_?  count_%  count_.  count_=  count_https  count_www  count_digits  \\\n",
       "0        0        0        2        0            1          1             0   \n",
       "1        0        0        2        0            1          1             0   \n",
       "2        0        0        2        0            1          1             0   \n",
       "3        0        0        2        0            1          1             0   \n",
       "4        0        0        2        0            1          1             0   \n",
       "\n",
       "   count_letters  count_dir   entropy  num_parameters  num_fragments  \\\n",
       "0             17          0 -3.663533               0              0   \n",
       "1             18          0 -3.762267               0              0   \n",
       "2             19          0 -3.855389               0              0   \n",
       "3             16          0 -3.880180               0              0   \n",
       "4             20          0 -3.813661               0              0   \n",
       "\n",
       "   num_subdomains  use_of_ip  is_short_url  url_profanity_score  \n",
       "0               0          0             0             0.075126  \n",
       "1               0          0             0             0.039493  \n",
       "2               0          0             0             0.050906  \n",
       "3               0          0             0             0.046085  \n",
       "4               0          0             0             0.096249  "
      ]
     },
     "execution_count": 125,
     "metadata": {},
     "output_type": "execute_result"
    }
   ],
   "source": [
    "pd.set_option(\"display.max_columns\", None)\n",
    "df[df['result'] == 1].head()"
   ]
  },
  {
   "cell_type": "code",
   "execution_count": 126,
   "id": "0528ed24",
   "metadata": {},
   "outputs": [
    {
     "data": {
      "text/html": [
       "<div>\n",
       "<style scoped>\n",
       "    .dataframe tbody tr th:only-of-type {\n",
       "        vertical-align: middle;\n",
       "    }\n",
       "\n",
       "    .dataframe tbody tr th {\n",
       "        vertical-align: top;\n",
       "    }\n",
       "\n",
       "    .dataframe thead th {\n",
       "        text-align: right;\n",
       "    }\n",
       "</style>\n",
       "<table border=\"1\" class=\"dataframe\">\n",
       "  <thead>\n",
       "    <tr style=\"text-align: right;\">\n",
       "      <th></th>\n",
       "      <th>whois_exist</th>\n",
       "      <th>days_since_creation</th>\n",
       "      <th>days_since_last_update</th>\n",
       "      <th>days_until_expiration</th>\n",
       "      <th>url_length</th>\n",
       "      <th>path_length</th>\n",
       "      <th>hostname_length</th>\n",
       "      <th>fd_length</th>\n",
       "      <th>tld</th>\n",
       "      <th>tld_length</th>\n",
       "      <th>count_of_-</th>\n",
       "      <th>count_@</th>\n",
       "      <th>count_?</th>\n",
       "      <th>count_%</th>\n",
       "      <th>count_.</th>\n",
       "      <th>count_=</th>\n",
       "      <th>count_https</th>\n",
       "      <th>count_www</th>\n",
       "      <th>count_digits</th>\n",
       "      <th>count_letters</th>\n",
       "      <th>count_dir</th>\n",
       "      <th>entropy</th>\n",
       "      <th>num_parameters</th>\n",
       "      <th>num_fragments</th>\n",
       "      <th>num_subdomains</th>\n",
       "      <th>use_of_ip</th>\n",
       "      <th>is_short_url</th>\n",
       "      <th>url_profanity_score</th>\n",
       "    </tr>\n",
       "  </thead>\n",
       "  <tbody>\n",
       "    <tr>\n",
       "      <th>0</th>\n",
       "      <td>1</td>\n",
       "      <td>421</td>\n",
       "      <td>14</td>\n",
       "      <td>81</td>\n",
       "      <td>32</td>\n",
       "      <td>0</td>\n",
       "      <td>25</td>\n",
       "      <td>1</td>\n",
       "      <td>759.0</td>\n",
       "      <td>6</td>\n",
       "      <td>0</td>\n",
       "      <td>0</td>\n",
       "      <td>0</td>\n",
       "      <td>0</td>\n",
       "      <td>1</td>\n",
       "      <td>0</td>\n",
       "      <td>0</td>\n",
       "      <td>0</td>\n",
       "      <td>0</td>\n",
       "      <td>28</td>\n",
       "      <td>2</td>\n",
       "      <td>-3.8662</td>\n",
       "      <td>0</td>\n",
       "      <td>0</td>\n",
       "      <td>0</td>\n",
       "      <td>0</td>\n",
       "      <td>0</td>\n",
       "      <td>0.4</td>\n",
       "    </tr>\n",
       "  </tbody>\n",
       "</table>\n",
       "</div>"
      ],
      "text/plain": [
       "   whois_exist  days_since_creation  days_since_last_update  \\\n",
       "0            1                  421                      14   \n",
       "\n",
       "   days_until_expiration  url_length  path_length  hostname_length  fd_length  \\\n",
       "0                     81          32            0               25          1   \n",
       "\n",
       "     tld  tld_length  count_of_-  count_@  count_?  count_%  count_.  count_=  \\\n",
       "0  759.0           6           0        0        0        0        1        0   \n",
       "\n",
       "   count_https  count_www  count_digits  count_letters  count_dir  entropy  \\\n",
       "0            0          0             0             28          2  -3.8662   \n",
       "\n",
       "   num_parameters  num_fragments  num_subdomains  use_of_ip  is_short_url  \\\n",
       "0               0              0               0          0             0   \n",
       "\n",
       "   url_profanity_score  \n",
       "0                  0.4  "
      ]
     },
     "execution_count": 126,
     "metadata": {},
     "output_type": "execute_result"
    }
   ],
   "source": [
    "# Do a test prediction on a single row for a malicious website\n",
    "values = {\n",
    "    'whois_exist': [1], 'days_since_creation': [421], 'days_since_last_update': [14], 'days_until_expiration': [81], \n",
    "    'url_length': [32], \n",
    "    'path_length': [0], 'hostname_length': [25], 'fd_length': [1], 'tld': [759.0], 'tld_length': [6], \n",
    "    'count_of_-': [0], 'count_@': [0], 'count_?': [0], 'count_%': [0],'count_.': [1],'count_=': [0],\n",
    "    'count_https': [0],'count_www': [0],'count_digits': [0],'count_letters': [28],'count_dir': [2],\n",
    "    'entropy': [-3.8662],'num_parameters': [0],'num_fragments': [0],'num_subdomains': [0],'use_of_ip': [0],\n",
    "    'is_short_url': [0], 'url_profanity_score': [0.4]\n",
    "}\n",
    "test_data = pd.DataFrame.from_dict(values)\n",
    "test_data"
   ]
  },
  {
   "cell_type": "code",
   "execution_count": 127,
   "id": "dd4f5216",
   "metadata": {},
   "outputs": [
    {
     "data": {
      "text/plain": [
       "array([0])"
      ]
     },
     "execution_count": 127,
     "metadata": {},
     "output_type": "execute_result"
    }
   ],
   "source": [
    "loaded_model.predict(test_data)"
   ]
  },
  {
   "cell_type": "code",
   "execution_count": 128,
   "id": "fddecf86",
   "metadata": {},
   "outputs": [
    {
     "data": {
      "text/plain": [
       "array([[9.9955988e-01, 4.4012014e-04]], dtype=float32)"
      ]
     },
     "execution_count": 128,
     "metadata": {},
     "output_type": "execute_result"
    }
   ],
   "source": [
    "loaded_model.predict_proba(test_data)"
   ]
  },
  {
   "cell_type": "code",
   "execution_count": 136,
   "id": "2c460105",
   "metadata": {},
   "outputs": [
    {
     "data": {
      "text/plain": [
       "array([[9.9997467e-01, 2.5332165e-05],\n",
       "       [9.9998516e-01, 1.4834421e-05],\n",
       "       [9.9999577e-01, 4.2602414e-06],\n",
       "       [9.9884653e-01, 1.1534535e-03],\n",
       "       [9.9999690e-01, 3.1126895e-06]], dtype=float32)"
      ]
     },
     "execution_count": 136,
     "metadata": {},
     "output_type": "execute_result"
    }
   ],
   "source": [
    "# Predict for examples where is malicious. Should be 0\n",
    "df_malicious = df[df['result'] == 0].head()\n",
    "malicious_rows = df_malicious[['whois_exist', 'days_since_creation',\n",
    "       'days_since_last_update', 'days_until_expiration', 'url_length',\n",
    "       'path_length', 'hostname_length', 'fd_length', 'tld', 'tld_length',\n",
    "       'count_of_-', 'count_@', 'count_?', 'count_%', 'count_.', 'count_=',\n",
    "       'count_https', 'count_www', 'count_digits', 'count_letters',\n",
    "       'count_dir', 'entropy', 'num_parameters', 'num_fragments',\n",
    "       'num_subdomains', 'use_of_ip', 'is_short_url', 'url_profanity_score']]\n",
    "loaded_model.predict_proba(malicious_rows)"
   ]
  },
  {
   "cell_type": "code",
   "execution_count": 137,
   "id": "6c547204",
   "metadata": {},
   "outputs": [
    {
     "data": {
      "text/plain": [
       "array([0, 0, 0, 0, 0])"
      ]
     },
     "execution_count": 137,
     "metadata": {},
     "output_type": "execute_result"
    }
   ],
   "source": [
    "loaded_model.predict(malicious_rows)"
   ]
  },
  {
   "cell_type": "code",
   "execution_count": 140,
   "id": "aab95147",
   "metadata": {},
   "outputs": [
    {
     "data": {
      "text/plain": [
       "array([1, 1, 1, 1, 1])"
      ]
     },
     "execution_count": 140,
     "metadata": {},
     "output_type": "execute_result"
    }
   ],
   "source": [
    "# Predict for examples where is benign. Should be 1\n",
    "df_benign = df[df['result'] == 1].head()\n",
    "benign_rows = df_benign[['whois_exist', 'days_since_creation',\n",
    "       'days_since_last_update', 'days_until_expiration', 'url_length',\n",
    "       'path_length', 'hostname_length', 'fd_length', 'tld', 'tld_length',\n",
    "       'count_of_-', 'count_@', 'count_?', 'count_%', 'count_.', 'count_=',\n",
    "       'count_https', 'count_www', 'count_digits', 'count_letters',\n",
    "       'count_dir', 'entropy', 'num_parameters', 'num_fragments',\n",
    "       'num_subdomains', 'use_of_ip', 'is_short_url', 'url_profanity_score']]\n",
    "loaded_model.predict(benign_rows)"
   ]
  },
  {
   "cell_type": "markdown",
   "id": "ccc16e92",
   "metadata": {},
   "source": [
    "### Export ordinal encoders"
   ]
  },
  {
   "cell_type": "code",
   "execution_count": 131,
   "id": "807025a2",
   "metadata": {},
   "outputs": [
    {
     "data": {
      "text/plain": [
       "OrdinalEncoder()"
      ]
     },
     "execution_count": 131,
     "metadata": {},
     "output_type": "execute_result"
    }
   ],
   "source": [
    "enc"
   ]
  },
  {
   "cell_type": "code",
   "execution_count": 132,
   "id": "c3afdb33",
   "metadata": {},
   "outputs": [
    {
     "data": {
      "text/plain": [
       "sklearn.preprocessing._encoders.OrdinalEncoder"
      ]
     },
     "execution_count": 132,
     "metadata": {},
     "output_type": "execute_result"
    }
   ],
   "source": [
    "type(enc)"
   ]
  },
  {
   "cell_type": "code",
   "execution_count": 133,
   "id": "3ef1f255",
   "metadata": {},
   "outputs": [],
   "source": [
    "pickle.dump(enc, open(\"xgb_model_enc_tld.pkl\", \"wb\"))"
   ]
  },
  {
   "cell_type": "code",
   "execution_count": 134,
   "id": "9e524da4",
   "metadata": {},
   "outputs": [
    {
     "data": {
      "text/plain": [
       "sklearn.preprocessing._encoders.OrdinalEncoder"
      ]
     },
     "execution_count": 134,
     "metadata": {},
     "output_type": "execute_result"
    }
   ],
   "source": [
    "# Load back encoder and test it\n",
    "loaded_enc = pickle.load(open(\"xgb_model_enc_tld.pkl\", \"rb\"))\n",
    "type(loaded_enc)"
   ]
  },
  {
   "cell_type": "code",
   "execution_count": 135,
   "id": "f574f9b7",
   "metadata": {},
   "outputs": [
    {
     "name": "stdout",
     "output_type": "stream",
     "text": [
      "Value does not exist in encoding\n",
      "[[1063]]\n"
     ]
    }
   ],
   "source": [
    "website = 'abc'\n",
    "vals = np.array([website])\n",
    "try: \n",
    "    encoded_val = loaded_enc.transform(vals.reshape(-1,1))\n",
    "except ValueError: \n",
    "    print('Value does not exist in encoding')\n",
    "    value = len(loaded_enc.categories_[0]) + 1\n",
    "    encoded_val = np.array([[value]])\n",
    "print(encoded_val)"
   ]
  }
 ],
 "metadata": {
  "kernelspec": {
   "display_name": "Python 3 (ipykernel)",
   "language": "python",
   "name": "python3"
  },
  "language_info": {
   "codemirror_mode": {
    "name": "ipython",
    "version": 3
   },
   "file_extension": ".py",
   "mimetype": "text/x-python",
   "name": "python",
   "nbconvert_exporter": "python",
   "pygments_lexer": "ipython3",
   "version": "3.9.7"
  }
 },
 "nbformat": 4,
 "nbformat_minor": 5
}
