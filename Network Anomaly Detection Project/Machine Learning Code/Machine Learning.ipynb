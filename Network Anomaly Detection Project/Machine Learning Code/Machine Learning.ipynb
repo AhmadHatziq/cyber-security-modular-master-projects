{
 "cells": [
  {
   "cell_type": "code",
   "execution_count": 1,
   "id": "6a322a73",
   "metadata": {},
   "outputs": [],
   "source": [
    "import os \n",
    "import numpy as np\n",
    "import pandas as pd \n",
    "import matplotlib.pyplot as plt\n",
    "\n",
    "os.chdir(r'C:\\Users\\hatzi\\Documents\\SUTD\\Security Tools Projects\\STL1 - Network Anomaly Detection\\network_data\\Cleaned')"
   ]
  },
  {
   "cell_type": "code",
   "execution_count": 2,
   "id": "f37680ef",
   "metadata": {},
   "outputs": [
    {
     "data": {
      "text/plain": [
       "Index(['src_port', 'dst_port', 'protocol', 'flow_duration', 'flow_byts_s',\n",
       "       'flow_pkts_s', 'fwd_pkts_s', 'bwd_pkts_s', 'tot_fwd_pkts',\n",
       "       'tot_bwd_pkts', 'totlen_fwd_pkts', 'totlen_bwd_pkts', 'fwd_pkt_len_max',\n",
       "       'fwd_pkt_len_min', 'fwd_pkt_len_mean', 'fwd_pkt_len_std',\n",
       "       'bwd_pkt_len_max', 'bwd_pkt_len_min', 'bwd_pkt_len_mean',\n",
       "       'bwd_pkt_len_std', 'pkt_len_max', 'pkt_len_min', 'pkt_len_mean',\n",
       "       'pkt_len_std', 'pkt_len_var', 'fwd_header_len', 'bwd_header_len',\n",
       "       'fwd_seg_size_min', 'fwd_act_data_pkts', 'flow_iat_mean',\n",
       "       'flow_iat_max', 'flow_iat_min', 'flow_iat_std', 'fwd_iat_tot',\n",
       "       'fwd_iat_max', 'fwd_iat_min', 'fwd_iat_mean', 'fwd_iat_std',\n",
       "       'bwd_iat_tot', 'bwd_iat_max', 'bwd_iat_min', 'bwd_iat_mean',\n",
       "       'bwd_iat_std', 'fin_flag_cnt', 'down_up_ratio', 'pkt_size_avg',\n",
       "       'init_fwd_win_byts', 'init_bwd_win_byts', 'active_max', 'active_min',\n",
       "       'active_mean', 'active_std', 'idle_max', 'idle_min', 'idle_mean',\n",
       "       'idle_std', 'fwd_byts_b_avg', 'fwd_pkts_b_avg', 'bwd_byts_b_avg',\n",
       "       'bwd_pkts_b_avg', 'fwd_blk_rate_avg', 'bwd_blk_rate_avg',\n",
       "       'fwd_seg_size_avg', 'bwd_seg_size_avg', 'subflow_fwd_pkts',\n",
       "       'subflow_bwd_pkts', 'subflow_fwd_byts', 'subflow_bwd_byts', 'class'],\n",
       "      dtype='object')"
      ]
     },
     "execution_count": 2,
     "metadata": {},
     "output_type": "execute_result"
    }
   ],
   "source": [
    "# Import network csv\n",
    "network_df = pd.read_csv('network_data_binary.csv')\n",
    "\n",
    "network_df.columns"
   ]
  },
  {
   "cell_type": "code",
   "execution_count": 3,
   "id": "5206529a",
   "metadata": {},
   "outputs": [
    {
     "name": "stdout",
     "output_type": "stream",
     "text": [
      "Number of columns: 69\n",
      "Number of rows: 32982\n"
     ]
    }
   ],
   "source": [
    "print('Number of columns:',len(network_df.columns))\n",
    "print('Number of rows:', len(network_df))"
   ]
  },
  {
   "cell_type": "code",
   "execution_count": 4,
   "id": "0eeaea9f",
   "metadata": {},
   "outputs": [
    {
     "data": {
      "text/plain": [
       "<AxesSubplot:ylabel='None'>"
      ]
     },
     "execution_count": 4,
     "metadata": {},
     "output_type": "execute_result"
    },
    {
     "data": {
      "image/png": "[encoded data removed]",
      "text/plain": [
       "<Figure size 432x288 with 1 Axes>"
      ]
     },
     "metadata": {},
     "output_type": "display_data"
    }
   ],
   "source": [
    "# Get pie chart of xAttack values\n",
    "network_df.groupby('class').size().plot(kind='pie', autopct ='%.2f')"
   ]
  },
  {
   "cell_type": "code",
   "execution_count": 5,
   "id": "c564951a",
   "metadata": {},
   "outputs": [
    {
     "data": {
      "text/plain": [
       "src_port              int64\n",
       "dst_port              int64\n",
       "protocol              int64\n",
       "flow_duration       float64\n",
       "flow_byts_s         float64\n",
       "                     ...   \n",
       "subflow_fwd_pkts      int64\n",
       "subflow_bwd_pkts      int64\n",
       "subflow_fwd_byts      int64\n",
       "subflow_bwd_byts      int64\n",
       "class                 int64\n",
       "Length: 69, dtype: object"
      ]
     },
     "execution_count": 5,
     "metadata": {},
     "output_type": "execute_result"
    }
   ],
   "source": [
    "network_df.dtypes"
   ]
  },
  {
   "cell_type": "code",
   "execution_count": 6,
   "id": "848e0b12",
   "metadata": {},
   "outputs": [
    {
     "data": {
      "text/plain": [
       "{'pkt_len_std': -0.32263868601684864,\n",
       " 'pkt_len_max': -0.2897455124423252,\n",
       " 'pkt_len_mean': -0.27936938623134255,\n",
       " 'pkt_size_avg': -0.27936938623134255,\n",
       " 'down_up_ratio': -0.26883379848144634,\n",
       " 'src_port': -0.2545194445290085,\n",
       " 'bwd_pkt_len_max': -0.2514403565382804,\n",
       " 'bwd_pkt_len_std': -0.243061230223011,\n",
       " 'dst_port': -0.23092211829123346,\n",
       " 'fwd_pkt_len_std': -0.22680602951215428,\n",
       " 'fwd_pkt_len_max': -0.22469961418472859,\n",
       " 'init_fwd_win_byts': -0.20189855972786008,\n",
       " 'pkt_len_var': -0.1443102780320429,\n",
       " 'bwd_pkt_len_mean': -0.1376689302421016,\n",
       " 'bwd_seg_size_avg': -0.1376689302421016,\n",
       " 'protocol': -0.13422283033309873,\n",
       " 'fwd_pkt_len_mean': -0.12158683298348018,\n",
       " 'fwd_seg_size_avg': -0.12158683298348018,\n",
       " 'bwd_byts_b_avg': -0.1187192541273043,\n",
       " 'bwd_pkts_b_avg': -0.11548767042050337,\n",
       " 'flow_byts_s': -0.08310662719339539,\n",
       " 'bwd_blk_rate_avg': -0.06539767521890232,\n",
       " 'fwd_blk_rate_avg': -0.057407589155886236,\n",
       " 'totlen_bwd_pkts': -0.051405938332608994,\n",
       " 'subflow_bwd_byts': -0.051405938332608994,\n",
       " 'fwd_pkt_len_min': -0.0458055121820306,\n",
       " 'totlen_fwd_pkts': -0.0412265574430015,\n",
       " 'subflow_fwd_byts': -0.0412265574430015,\n",
       " 'fwd_byts_b_avg': -0.04072263508062372,\n",
       " 'active_mean': -0.03471650706784113,\n",
       " 'active_min': -0.032448435503757596,\n",
       " 'active_max': -0.026561456578319258,\n",
       " 'active_std': -0.02621520849675639,\n",
       " 'flow_iat_min': -0.025886994373436237,\n",
       " 'fwd_iat_min': -0.025181402389597436,\n",
       " 'tot_bwd_pkts': -0.020396892512911016,\n",
       " 'subflow_bwd_pkts': -0.020396892512911016,\n",
       " 'bwd_header_len': -0.020375274036387513,\n",
       " 'fwd_header_len': -0.01665772630993338,\n",
       " 'idle_min': -0.013039512566894822,\n",
       " 'fwd_act_data_pkts': -0.011490693796387456,\n",
       " 'tot_fwd_pkts': -0.0030836184892936887,\n",
       " 'subflow_fwd_pkts': -0.0030836184892936887,\n",
       " 'fwd_pkts_s': -0.001621070073937447,\n",
       " 'fwd_pkts_b_avg': 0.004483820974652921,\n",
       " 'flow_pkts_s': 0.00567306014835564,\n",
       " 'bwd_iat_min': 0.007022258258453043,\n",
       " 'pkt_len_min': 0.008748781167982259,\n",
       " 'bwd_pkts_s': 0.022674477497338138,\n",
       " 'init_bwd_win_byts': 0.030559649267828407,\n",
       " 'flow_iat_mean': 0.06039472807730528,\n",
       " 'fwd_iat_tot': 0.08710877603416012,\n",
       " 'flow_duration': 0.08713293493502536,\n",
       " 'fwd_iat_mean': 0.11549231488755159,\n",
       " 'fwd_seg_size_min': 0.1342228303330908,\n",
       " 'fin_flag_cnt': 0.1470916107431552,\n",
       " 'idle_mean': 0.17182497843513922,\n",
       " 'flow_iat_max': 0.19756855212437557,\n",
       " 'fwd_iat_max': 0.19760462974907025,\n",
       " 'bwd_iat_tot': 0.19775114311715872,\n",
       " 'flow_iat_std': 0.2014371129838075,\n",
       " 'idle_max': 0.20171080443610706,\n",
       " 'idle_std': 0.21320994228661078,\n",
       " 'fwd_iat_std': 0.2137434306416197,\n",
       " 'bwd_iat_max': 0.23849773934665267,\n",
       " 'bwd_iat_std': 0.25376449014344,\n",
       " 'bwd_iat_mean': 0.2563403608569421,\n",
       " 'bwd_pkt_len_min': 0.3176089055229781,\n",
       " 'class': 1.0}"
      ]
     },
     "execution_count": 6,
     "metadata": {},
     "output_type": "execute_result"
    }
   ],
   "source": [
    "# See correlations of variables\n",
    "correlations = network_df.corr()\n",
    "corr = {}\n",
    "for index, row in (correlations[['class']]).iterrows():\n",
    "    correlation_with_class = row['class']\n",
    "    corr[index] = correlation_with_class\n",
    "    \n",
    "corr = {k: v for k, v in sorted(corr.items(), key=lambda item: item[1])}\n",
    "corr"
   ]
  },
  {
   "cell_type": "markdown",
   "id": "4ab1dfe8",
   "metadata": {},
   "source": [
    "## Split into train-test set"
   ]
  },
  {
   "cell_type": "code",
   "execution_count": 7,
   "id": "ded697db",
   "metadata": {},
   "outputs": [
    {
     "name": "stdout",
     "output_type": "stream",
     "text": [
      "Train set size: 22097\n",
      "Test set size: 10885\n"
     ]
    }
   ],
   "source": [
    "from sklearn.model_selection import train_test_split, GridSearchCV\n",
    "\n",
    "X = network_df.loc[:, network_df.columns != 'class']\n",
    "y = network_df[['class']]\n",
    "X_train, X_test, y_train, y_test = train_test_split(X, y, test_size=0.33, random_state=42)\n",
    "print('Train set size:', len(X_train))\n",
    "print('Test set size:', len(y_test))"
   ]
  },
  {
   "cell_type": "markdown",
   "id": "b83e7844",
   "metadata": {},
   "source": [
    "## Decision Tree Model"
   ]
  },
  {
   "cell_type": "code",
   "execution_count": 8,
   "id": "a9096047",
   "metadata": {},
   "outputs": [
    {
     "data": {
      "text/plain": [
       "GridSearchCV(cv=5, estimator=DecisionTreeClassifier(random_state=42),\n",
       "             param_grid=[{'criterion': ['gini', 'entropy'],\n",
       "                          'splitter': ['best', 'random']}])"
      ]
     },
     "execution_count": 8,
     "metadata": {},
     "output_type": "execute_result"
    }
   ],
   "source": [
    "from sklearn.tree import DecisionTreeClassifier\n",
    "from sklearn import tree\n",
    "\n",
    "param_grid=[{\"criterion\":[\"gini\", \"entropy\"],\n",
    "             \"splitter\":[\"best\", \"random\"]}]\n",
    "decision_tree_grid=GridSearchCV(estimator=DecisionTreeClassifier(random_state=42), param_grid=param_grid, cv=5)\n",
    "decision_tree_grid.fit(X_train,y_train)"
   ]
  },
  {
   "cell_type": "code",
   "execution_count": 9,
   "id": "c70a50df",
   "metadata": {},
   "outputs": [
    {
     "name": "stdout",
     "output_type": "stream",
     "text": [
      "Decision tree best params:  {'criterion': 'entropy', 'splitter': 'random'}\n",
      "Decision tree test accuracy:  0.9612310519062931\n"
     ]
    }
   ],
   "source": [
    "print('Decision tree best params: ', decision_tree_grid.best_params_)\n",
    "print('Decision tree test accuracy: ', decision_tree_grid.score(X_test,y_test))"
   ]
  },
  {
   "cell_type": "code",
   "execution_count": null,
   "id": "cde566a9",
   "metadata": {},
   "outputs": [],
   "source": [
    "fig = plt.figure(figsize=(25,20))\n",
    "_ = tree.plot_tree(decision_tree_grid.best_estimator_, \n",
    "                   feature_names=X_train.columns,  \n",
    "                   class_names=['0', '1'],\n",
    "                   filled=True)"
   ]
  },
  {
   "cell_type": "code",
   "execution_count": 16,
   "id": "bbdeabba",
   "metadata": {},
   "outputs": [
    {
     "name": "stdout",
     "output_type": "stream",
     "text": [
      "|--- feature_63 <= 844.31\n",
      "|   |--- feature_44 <= 1.17\n",
      "|   |   |--- feature_52 <= 1799798.88\n",
      "|   |   |   |--- feature_15 <= 281.01\n",
      "|   |   |   |   |--- feature_44 <= 0.92\n",
      "|   |   |   |   |   |--- feature_27 <= 13.70\n",
      "|   |   |   |   |   |   |--- feature_43 <= 0.84\n",
      "|   |   |   |   |   |   |   |--- feature_13 <= 198.34\n",
      "|   |   |   |   |   |   |   |   |--- feature_20 <= 147.95\n",
      "|   |   |   |   |   |   |   |   |   |--- feature_57 <= 170.49\n",
      "|   |   |   |   |   |   |   |   |   |   |--- feature_22 <= 68.37\n",
      "|   |   |   |   |   |   |   |   |   |   |   |--- class: 0\n",
      "|   |   |   |   |   |   |   |   |   |   |--- feature_22 >  68.37\n",
      "|   |   |   |   |   |   |   |   |   |   |   |--- truncated branch of depth 30\n",
      "|   |   |   |   |   |   |   |   |   |--- feature_57 >  170.49\n",
      "|   |   |   |   |   |   |   |   |   |   |--- class: 1\n",
      "|   |   |   |   |   |   |   |   |--- feature_20 >  147.95\n",
      "|   |   |   |   |   |   |   |   |   |--- feature_64 <= 1.34\n",
      "|   |   |   |   |   |   |   |   |   |   |--- feature_0 <= 62519.31\n",
      "|   |   |   |   |   |   |   |   |   |   |   |--- truncated branch of depth 2\n",
      "|   |   |   |   |   |   |   |   |   |   |--- feature_0 >  62519.31\n",
      "|   |   |   |   |   |   |   |   |   |   |   |--- class: 1\n",
      "|   |   |   |   |   |   |   |   |   |--- feature_64 >  1.34\n",
      "|   |   |   |   |   |   |   |   |   |   |--- class: 0\n",
      "|   |   |   |   |   |   |   |--- feature_13 >  198.34\n",
      "|   |   |   |   |   |   |   |   |--- feature_32 <= 132199.07\n",
      "|   |   |   |   |   |   |   |   |   |--- feature_1 <= 4611.22\n",
      "|   |   |   |   |   |   |   |   |   |   |--- feature_45 <= 562.65\n",
      "|   |   |   |   |   |   |   |   |   |   |   |--- truncated branch of depth 24\n",
      "|   |   |   |   |   |   |   |   |   |   |--- feature_45 >  562.65\n",
      "|   |   |   |   |   |   |   |   |   |   |   |--- class: 0\n",
      "|   |   |   |   |   |   |   |   |   |--- feature_1 >  4611.22\n",
      "|   |   |   |   |   |   |   |   |   |   |--- class: 0\n",
      "|   |   |   |   |   |   |   |   |--- feature_32 >  132199.07\n",
      "|   |   |   |   |   |   |   |   |   |--- class: 1\n",
      "|   |   |   |   |   |   |--- feature_43 >  0.84\n",
      "|   |   |   |   |   |   |   |--- feature_1 <= 9019.19\n",
      "|   |   |   |   |   |   |   |   |--- feature_21 <= 124.87\n",
      "|   |   |   |   |   |   |   |   |   |--- feature_0 <= 25552.26\n",
      "|   |   |   |   |   |   |   |   |   |   |--- feature_3 <= 14477332.09\n",
      "|   |   |   |   |   |   |   |   |   |   |   |--- truncated branch of depth 4\n",
      "|   |   |   |   |   |   |   |   |   |   |--- feature_3 >  14477332.09\n",
      "|   |   |   |   |   |   |   |   |   |   |   |--- truncated branch of depth 2\n",
      "|   |   |   |   |   |   |   |   |   |--- feature_0 >  25552.26\n",
      "|   |   |   |   |   |   |   |   |   |   |--- class: 1\n",
      "|   |   |   |   |   |   |   |   |--- feature_21 >  124.87\n",
      "|   |   |   |   |   |   |   |   |   |--- feature_21 <= 464.73\n",
      "|   |   |   |   |   |   |   |   |   |   |--- feature_30 <= 150344.71\n",
      "|   |   |   |   |   |   |   |   |   |   |   |--- truncated branch of depth 20\n",
      "|   |   |   |   |   |   |   |   |   |   |--- feature_30 >  150344.71\n",
      "|   |   |   |   |   |   |   |   |   |   |   |--- truncated branch of depth 18\n",
      "|   |   |   |   |   |   |   |   |   |--- feature_21 >  464.73\n",
      "|   |   |   |   |   |   |   |   |   |   |--- class: 1\n",
      "|   |   |   |   |   |   |   |--- feature_1 >  9019.19\n",
      "|   |   |   |   |   |   |   |   |--- class: 1\n",
      "|   |   |   |   |   |--- feature_27 >  13.70\n",
      "|   |   |   |   |   |   |--- feature_56 <= 6.75\n",
      "|   |   |   |   |   |   |   |--- feature_21 <= 57.78\n",
      "|   |   |   |   |   |   |   |   |--- feature_46 <= 31667.83\n",
      "|   |   |   |   |   |   |   |   |   |--- class: 1\n",
      "|   |   |   |   |   |   |   |   |--- feature_46 >  31667.83\n",
      "|   |   |   |   |   |   |   |   |   |--- feature_36 <= 139539.97\n",
      "|   |   |   |   |   |   |   |   |   |   |--- feature_55 <= 593.05\n",
      "|   |   |   |   |   |   |   |   |   |   |   |--- truncated branch of depth 5\n",
      "|   |   |   |   |   |   |   |   |   |   |--- feature_55 >  593.05\n",
      "|   |   |   |   |   |   |   |   |   |   |   |--- class: 1\n",
      "|   |   |   |   |   |   |   |   |   |--- feature_36 >  139539.97\n",
      "|   |   |   |   |   |   |   |   |   |   |--- class: 1\n",
      "|   |   |   |   |   |   |   |--- feature_21 >  57.78\n",
      "|   |   |   |   |   |   |   |   |--- feature_10 <= 13263.28\n",
      "|   |   |   |   |   |   |   |   |   |--- class: 1\n",
      "|   |   |   |   |   |   |   |   |--- feature_10 >  13263.28\n",
      "|   |   |   |   |   |   |   |   |   |--- class: 0\n",
      "|   |   |   |   |   |   |--- feature_56 >  6.75\n",
      "|   |   |   |   |   |   |   |--- feature_17 <= 63.08\n",
      "|   |   |   |   |   |   |   |   |--- class: 0\n",
      "|   |   |   |   |   |   |   |--- feature_17 >  63.08\n",
      "|   |   |   |   |   |   |   |   |--- class: 1\n",
      "|   |   |   |   |--- feature_44 >  0.92\n",
      "|   |   |   |   |   |--- feature_45 <= 271.80\n",
      "|   |   |   |   |   |   |--- feature_24 <= 168947.97\n",
      "|   |   |   |   |   |   |   |--- feature_15 <= 236.22\n",
      "|   |   |   |   |   |   |   |   |--- feature_1 <= 37241.43\n",
      "|   |   |   |   |   |   |   |   |   |--- feature_14 <= 123.51\n",
      "|   |   |   |   |   |   |   |   |   |   |--- feature_2 <= 7.64\n",
      "|   |   |   |   |   |   |   |   |   |   |   |--- truncated branch of depth 25\n",
      "|   |   |   |   |   |   |   |   |   |   |--- feature_2 >  7.64\n",
      "|   |   |   |   |   |   |   |   |   |   |   |--- truncated branch of depth 11\n",
      "|   |   |   |   |   |   |   |   |   |--- feature_14 >  123.51\n",
      "|   |   |   |   |   |   |   |   |   |   |--- feature_24 <= 125484.32\n",
      "|   |   |   |   |   |   |   |   |   |   |   |--- truncated branch of depth 24\n",
      "|   |   |   |   |   |   |   |   |   |   |--- feature_24 >  125484.32\n",
      "|   |   |   |   |   |   |   |   |   |   |   |--- truncated branch of depth 2\n",
      "|   |   |   |   |   |   |   |   |--- feature_1 >  37241.43\n",
      "|   |   |   |   |   |   |   |   |   |--- feature_9 <= 2.98\n",
      "|   |   |   |   |   |   |   |   |   |   |--- class: 1\n",
      "|   |   |   |   |   |   |   |   |   |--- feature_9 >  2.98\n",
      "|   |   |   |   |   |   |   |   |   |   |--- class: 0\n",
      "|   |   |   |   |   |   |   |--- feature_15 >  236.22\n",
      "|   |   |   |   |   |   |   |   |--- class: 0\n",
      "|   |   |   |   |   |   |--- feature_24 >  168947.97\n",
      "|   |   |   |   |   |   |   |--- feature_28 <= 5.41\n",
      "|   |   |   |   |   |   |   |   |--- class: 0\n",
      "|   |   |   |   |   |   |   |--- feature_28 >  5.41\n",
      "|   |   |   |   |   |   |   |   |--- feature_37 <= 4032688.39\n",
      "|   |   |   |   |   |   |   |   |   |--- feature_41 <= 838398.49\n",
      "|   |   |   |   |   |   |   |   |   |   |--- class: 1\n",
      "|   |   |   |   |   |   |   |   |   |--- feature_41 >  838398.49\n",
      "|   |   |   |   |   |   |   |   |   |   |--- class: 0\n",
      "|   |   |   |   |   |   |   |   |--- feature_37 >  4032688.39\n",
      "|   |   |   |   |   |   |   |   |   |--- class: 1\n",
      "|   |   |   |   |   |--- feature_45 >  271.80\n",
      "|   |   |   |   |   |   |--- feature_63 <= 648.32\n",
      "|   |   |   |   |   |   |   |--- feature_23 <= 699.64\n",
      "|   |   |   |   |   |   |   |   |--- feature_62 <= 152.29\n",
      "|   |   |   |   |   |   |   |   |   |--- feature_17 <= 60.99\n",
      "|   |   |   |   |   |   |   |   |   |   |--- feature_67 <= 3708.60\n",
      "|   |   |   |   |   |   |   |   |   |   |   |--- class: 0\n",
      "|   |   |   |   |   |   |   |   |   |   |--- feature_67 >  3708.60\n",
      "|   |   |   |   |   |   |   |   |   |   |   |--- class: 1\n",
      "|   |   |   |   |   |   |   |   |   |--- feature_17 >  60.99\n",
      "|   |   |   |   |   |   |   |   |   |   |--- class: 1\n",
      "|   |   |   |   |   |   |   |   |--- feature_62 >  152.29\n",
      "|   |   |   |   |   |   |   |   |   |--- class: 1\n",
      "|   |   |   |   |   |   |   |--- feature_23 >  699.64\n",
      "|   |   |   |   |   |   |   |   |--- feature_12 <= 576.62\n",
      "|   |   |   |   |   |   |   |   |   |--- feature_7 <= 3267.90\n",
      "|   |   |   |   |   |   |   |   |   |   |--- feature_7 <= 2724.84\n",
      "|   |   |   |   |   |   |   |   |   |   |   |--- truncated branch of depth 18\n",
      "|   |   |   |   |   |   |   |   |   |   |--- feature_7 >  2724.84\n",
      "|   |   |   |   |   |   |   |   |   |   |   |--- class: 0\n",
      "|   |   |   |   |   |   |   |   |   |--- feature_7 >  3267.90\n",
      "|   |   |   |   |   |   |   |   |   |   |--- class: 0\n",
      "|   |   |   |   |   |   |   |   |--- feature_12 >  576.62\n",
      "|   |   |   |   |   |   |   |   |   |--- class: 0\n",
      "|   |   |   |   |   |   |--- feature_63 >  648.32\n",
      "|   |   |   |   |   |   |   |--- class: 0\n",
      "|   |   |   |--- feature_15 >  281.01\n",
      "|   |   |   |   |--- feature_44 <= 0.92\n",
      "|   |   |   |   |   |--- feature_46 <= 34029.98\n",
      "|   |   |   |   |   |   |--- class: 1\n",
      "|   |   |   |   |   |--- feature_46 >  34029.98\n",
      "|   |   |   |   |   |   |--- class: 0\n",
      "|   |   |   |   |--- feature_44 >  0.92\n",
      "|   |   |   |   |   |--- feature_21 <= 62.82\n",
      "|   |   |   |   |   |   |--- class: 0\n",
      "|   |   |   |   |   |--- feature_21 >  62.82\n",
      "|   |   |   |   |   |   |--- class: 1\n",
      "|   |   |--- feature_52 >  1799798.88\n",
      "|   |   |   |--- feature_17 <= 7.43\n",
      "|   |   |   |   |--- feature_0 <= 58375.95\n",
      "|   |   |   |   |   |--- feature_53 <= 2797689.00\n",
      "|   |   |   |   |   |   |--- feature_53 <= 1545883.45\n",
      "|   |   |   |   |   |   |   |--- feature_34 <= 3153420.27\n",
      "|   |   |   |   |   |   |   |   |--- feature_33 <= 3017725.86\n",
      "|   |   |   |   |   |   |   |   |   |--- class: 0\n",
      "|   |   |   |   |   |   |   |   |--- feature_33 >  3017725.86\n",
      "|   |   |   |   |   |   |   |   |   |--- class: 1\n",
      "|   |   |   |   |   |   |   |--- feature_34 >  3153420.27\n",
      "|   |   |   |   |   |   |   |   |--- feature_1 <= 13465.73\n",
      "|   |   |   |   |   |   |   |   |   |--- feature_55 <= 4102828.70\n",
      "|   |   |   |   |   |   |   |   |   |   |--- feature_29 <= 3519209.95\n",
      "|   |   |   |   |   |   |   |   |   |   |   |--- class: 0\n",
      "|   |   |   |   |   |   |   |   |   |   |--- feature_29 >  3519209.95\n",
      "|   |   |   |   |   |   |   |   |   |   |   |--- truncated branch of depth 2\n",
      "|   |   |   |   |   |   |   |   |   |--- feature_55 >  4102828.70\n",
      "|   |   |   |   |   |   |   |   |   |   |--- feature_34 <= 15462316.70\n",
      "|   |   |   |   |   |   |   |   |   |   |   |--- class: 0\n",
      "|   |   |   |   |   |   |   |   |   |   |--- feature_34 >  15462316.70\n",
      "|   |   |   |   |   |   |   |   |   |   |   |--- truncated branch of depth 15\n",
      "|   |   |   |   |   |   |   |   |--- feature_1 >  13465.73\n",
      "|   |   |   |   |   |   |   |   |   |--- class: 1\n",
      "|   |   |   |   |   |   |--- feature_53 >  1545883.45\n",
      "|   |   |   |   |   |   |   |--- class: 0\n",
      "|   |   |   |   |   |--- feature_53 >  2797689.00\n",
      "|   |   |   |   |   |   |--- class: 1\n",
      "|   |   |   |   |--- feature_0 >  58375.95\n",
      "|   |   |   |   |   |--- class: 0\n",
      "|   |   |   |--- feature_17 >  7.43\n",
      "|   |   |   |   |--- feature_44 <= 0.90\n",
      "|   |   |   |   |   |--- feature_50 <= 3229023.21\n",
      "|   |   |   |   |   |   |--- class: 1\n",
      "|   |   |   |   |   |--- feature_50 >  3229023.21\n",
      "|   |   |   |   |   |   |--- feature_36 <= 2694860.80\n",
      "|   |   |   |   |   |   |   |--- feature_33 <= 9064884.53\n",
      "|   |   |   |   |   |   |   |   |--- class: 1\n",
      "|   |   |   |   |   |   |   |--- feature_33 >  9064884.53\n",
      "|   |   |   |   |   |   |   |   |--- class: 0\n",
      "|   |   |   |   |   |   |--- feature_36 >  2694860.80\n",
      "|   |   |   |   |   |   |   |--- class: 1\n",
      "|   |   |   |   |--- feature_44 >  0.90\n",
      "|   |   |   |   |   |--- feature_19 <= 1312.90\n",
      "|   |   |   |   |   |   |--- feature_23 <= 334.75\n",
      "|   |   |   |   |   |   |   |--- class: 1\n",
      "|   |   |   |   |   |   |--- feature_23 >  334.75\n",
      "|   |   |   |   |   |   |   |--- feature_20 <= 4796.20\n",
      "|   |   |   |   |   |   |   |   |--- feature_24 <= 174972.02\n",
      "|   |   |   |   |   |   |   |   |   |--- feature_14 <= 119.41\n",
      "|   |   |   |   |   |   |   |   |   |   |--- class: 1\n",
      "|   |   |   |   |   |   |   |   |   |--- feature_14 >  119.41\n",
      "|   |   |   |   |   |   |   |   |   |   |--- feature_19 <= 446.31\n",
      "|   |   |   |   |   |   |   |   |   |   |   |--- class: 0\n",
      "|   |   |   |   |   |   |   |   |   |   |--- feature_19 >  446.31\n",
      "|   |   |   |   |   |   |   |   |   |   |   |--- truncated branch of depth 2\n",
      "|   |   |   |   |   |   |   |   |--- feature_24 >  174972.02\n",
      "|   |   |   |   |   |   |   |   |   |--- feature_23 <= 568.72\n",
      "|   |   |   |   |   |   |   |   |   |   |--- class: 1\n",
      "|   |   |   |   |   |   |   |   |   |--- feature_23 >  568.72\n",
      "|   |   |   |   |   |   |   |   |   |   |--- feature_11 <= 5906.39\n",
      "|   |   |   |   |   |   |   |   |   |   |   |--- class: 1\n",
      "|   |   |   |   |   |   |   |   |   |   |--- feature_11 >  5906.39\n",
      "|   |   |   |   |   |   |   |   |   |   |   |--- truncated branch of depth 3\n",
      "|   |   |   |   |   |   |   |--- feature_20 >  4796.20\n",
      "|   |   |   |   |   |   |   |   |--- class: 0\n",
      "|   |   |   |   |   |--- feature_19 >  1312.90\n",
      "|   |   |   |   |   |   |--- class: 0\n",
      "|   |--- feature_44 >  1.17\n",
      "|   |   |--- feature_65 <= 13.44\n",
      "|   |   |   |--- feature_46 <= 50225.44\n",
      "|   |   |   |   |--- class: 1\n",
      "|   |   |   |--- feature_46 >  50225.44\n",
      "|   |   |   |   |--- feature_0 <= 53550.19\n",
      "|   |   |   |   |   |--- class: 0\n",
      "|   |   |   |   |--- feature_0 >  53550.19\n",
      "|   |   |   |   |   |--- feature_0 <= 57063.08\n",
      "|   |   |   |   |   |   |--- feature_63 <= 288.12\n",
      "|   |   |   |   |   |   |   |--- class: 0\n",
      "|   |   |   |   |   |   |--- feature_63 >  288.12\n",
      "|   |   |   |   |   |   |   |--- class: 1\n",
      "|   |   |   |   |   |--- feature_0 >  57063.08\n",
      "|   |   |   |   |   |   |--- feature_0 <= 64547.98\n",
      "|   |   |   |   |   |   |   |--- feature_0 <= 61068.11\n",
      "|   |   |   |   |   |   |   |   |--- feature_0 <= 59897.89\n",
      "|   |   |   |   |   |   |   |   |   |--- class: 0\n",
      "|   |   |   |   |   |   |   |   |--- feature_0 >  59897.89\n",
      "|   |   |   |   |   |   |   |   |   |--- feature_0 <= 60272.44\n",
      "|   |   |   |   |   |   |   |   |   |   |--- class: 1\n",
      "|   |   |   |   |   |   |   |   |   |--- feature_0 >  60272.44\n",
      "|   |   |   |   |   |   |   |   |   |   |--- class: 0\n",
      "|   |   |   |   |   |   |   |--- feature_0 >  61068.11\n",
      "|   |   |   |   |   |   |   |   |--- feature_0 <= 63238.76\n",
      "|   |   |   |   |   |   |   |   |   |--- class: 0\n",
      "|   |   |   |   |   |   |   |   |--- feature_0 >  63238.76\n",
      "|   |   |   |   |   |   |   |   |   |--- feature_0 <= 64148.40\n",
      "|   |   |   |   |   |   |   |   |   |   |--- feature_0 <= 63947.66\n",
      "|   |   |   |   |   |   |   |   |   |   |   |--- truncated branch of depth 2\n",
      "|   |   |   |   |   |   |   |   |   |   |--- feature_0 >  63947.66\n",
      "|   |   |   |   |   |   |   |   |   |   |   |--- class: 1\n",
      "|   |   |   |   |   |   |   |   |   |--- feature_0 >  64148.40\n",
      "|   |   |   |   |   |   |   |   |   |   |--- class: 1\n",
      "|   |   |   |   |   |   |--- feature_0 >  64547.98\n",
      "|   |   |   |   |   |   |   |--- class: 0\n",
      "|   |   |--- feature_65 >  13.44\n",
      "|   |   |   |--- feature_4 <= 94317.84\n",
      "|   |   |   |   |--- feature_62 <= 95.10\n",
      "|   |   |   |   |   |--- feature_15 <= 30.87\n",
      "|   |   |   |   |   |   |--- feature_12 <= 146.24\n",
      "|   |   |   |   |   |   |   |--- class: 0\n",
      "|   |   |   |   |   |   |--- feature_12 >  146.24\n",
      "|   |   |   |   |   |   |   |--- class: 1\n",
      "|   |   |   |   |   |--- feature_15 >  30.87\n",
      "|   |   |   |   |   |   |--- feature_0 <= 59046.64\n",
      "|   |   |   |   |   |   |   |--- class: 0\n",
      "|   |   |   |   |   |   |--- feature_0 >  59046.64\n",
      "|   |   |   |   |   |   |   |--- feature_0 <= 63935.69\n",
      "|   |   |   |   |   |   |   |   |--- class: 0\n",
      "|   |   |   |   |   |   |   |--- feature_0 >  63935.69\n",
      "|   |   |   |   |   |   |   |   |--- feature_0 <= 64371.84\n",
      "|   |   |   |   |   |   |   |   |   |--- feature_30 <= 40576.54\n",
      "|   |   |   |   |   |   |   |   |   |   |--- class: 0\n",
      "|   |   |   |   |   |   |   |   |   |--- feature_30 >  40576.54\n",
      "|   |   |   |   |   |   |   |   |   |   |--- class: 1\n",
      "|   |   |   |   |   |   |   |   |--- feature_0 >  64371.84\n",
      "|   |   |   |   |   |   |   |   |   |--- class: 0\n",
      "|   |   |   |   |--- feature_62 >  95.10\n",
      "|   |   |   |   |   |--- feature_23 <= 114.22\n",
      "|   |   |   |   |   |   |--- feature_0 <= 55928.80\n",
      "|   |   |   |   |   |   |   |--- class: 0\n",
      "|   |   |   |   |   |   |--- feature_0 >  55928.80\n",
      "|   |   |   |   |   |   |   |--- feature_40 <= 93.02\n",
      "|   |   |   |   |   |   |   |   |--- feature_0 <= 56767.54\n",
      "|   |   |   |   |   |   |   |   |   |--- class: 0\n",
      "|   |   |   |   |   |   |   |   |--- feature_0 >  56767.54\n",
      "|   |   |   |   |   |   |   |   |   |--- feature_32 <= 7809.05\n",
      "|   |   |   |   |   |   |   |   |   |   |--- feature_66 <= 1151.03\n",
      "|   |   |   |   |   |   |   |   |   |   |   |--- class: 0\n",
      "|   |   |   |   |   |   |   |   |   |   |--- feature_66 >  1151.03\n",
      "|   |   |   |   |   |   |   |   |   |   |   |--- truncated branch of depth 7\n",
      "|   |   |   |   |   |   |   |   |   |--- feature_32 >  7809.05\n",
      "|   |   |   |   |   |   |   |   |   |   |--- feature_33 <= 47187.58\n",
      "|   |   |   |   |   |   |   |   |   |   |   |--- class: 0\n",
      "|   |   |   |   |   |   |   |   |   |   |--- feature_33 >  47187.58\n",
      "|   |   |   |   |   |   |   |   |   |   |   |--- class: 1\n",
      "|   |   |   |   |   |   |   |--- feature_40 >  93.02\n",
      "|   |   |   |   |   |   |   |   |--- feature_30 <= 41195.57\n",
      "|   |   |   |   |   |   |   |   |   |--- feature_0 <= 64545.97\n",
      "|   |   |   |   |   |   |   |   |   |   |--- class: 1\n",
      "|   |   |   |   |   |   |   |   |   |--- feature_0 >  64545.97\n",
      "|   |   |   |   |   |   |   |   |   |   |--- class: 0\n",
      "|   |   |   |   |   |   |   |   |--- feature_30 >  41195.57\n",
      "|   |   |   |   |   |   |   |   |   |--- class: 0\n",
      "|   |   |   |   |   |--- feature_23 >  114.22\n",
      "|   |   |   |   |   |   |--- feature_0 <= 50660.37\n",
      "|   |   |   |   |   |   |   |--- class: 0\n",
      "|   |   |   |   |   |   |--- feature_0 >  50660.37\n",
      "|   |   |   |   |   |   |   |--- feature_0 <= 61511.32\n",
      "|   |   |   |   |   |   |   |   |--- feature_0 <= 59711.42\n",
      "|   |   |   |   |   |   |   |   |   |--- class: 0\n",
      "|   |   |   |   |   |   |   |   |--- feature_0 >  59711.42\n",
      "|   |   |   |   |   |   |   |   |   |--- feature_34 <= 39944.39\n",
      "|   |   |   |   |   |   |   |   |   |   |--- class: 1\n",
      "|   |   |   |   |   |   |   |   |   |--- feature_34 >  39944.39\n",
      "|   |   |   |   |   |   |   |   |   |   |--- class: 0\n",
      "|   |   |   |   |   |   |   |--- feature_0 >  61511.32\n",
      "|   |   |   |   |   |   |   |   |--- feature_0 <= 62516.22\n",
      "|   |   |   |   |   |   |   |   |   |--- class: 0\n",
      "|   |   |   |   |   |   |   |   |--- feature_0 >  62516.22\n",
      "|   |   |   |   |   |   |   |   |   |--- feature_0 <= 64406.28\n",
      "|   |   |   |   |   |   |   |   |   |   |--- feature_33 <= 43327.86\n",
      "|   |   |   |   |   |   |   |   |   |   |   |--- truncated branch of depth 3\n",
      "|   |   |   |   |   |   |   |   |   |   |--- feature_33 >  43327.86\n",
      "|   |   |   |   |   |   |   |   |   |   |   |--- truncated branch of depth 7\n",
      "|   |   |   |   |   |   |   |   |   |--- feature_0 >  64406.28\n",
      "|   |   |   |   |   |   |   |   |   |   |--- class: 0\n",
      "|   |   |   |--- feature_4 >  94317.84\n",
      "|   |   |   |   |--- feature_0 <= 64147.29\n",
      "|   |   |   |   |   |--- feature_0 <= 63843.30\n",
      "|   |   |   |   |   |   |--- feature_29 <= 1557.41\n",
      "|   |   |   |   |   |   |   |--- class: 1\n",
      "|   |   |   |   |   |   |--- feature_29 >  1557.41\n",
      "|   |   |   |   |   |   |   |--- feature_0 <= 59004.49\n",
      "|   |   |   |   |   |   |   |   |--- class: 0\n",
      "|   |   |   |   |   |   |   |--- feature_0 >  59004.49\n",
      "|   |   |   |   |   |   |   |   |--- feature_14 <= 1459.31\n",
      "|   |   |   |   |   |   |   |   |   |--- feature_0 <= 60656.06\n",
      "|   |   |   |   |   |   |   |   |   |   |--- feature_0 <= 59586.31\n",
      "|   |   |   |   |   |   |   |   |   |   |   |--- class: 0\n",
      "|   |   |   |   |   |   |   |   |   |   |--- feature_0 >  59586.31\n",
      "|   |   |   |   |   |   |   |   |   |   |   |--- truncated branch of depth 2\n",
      "|   |   |   |   |   |   |   |   |   |--- feature_0 >  60656.06\n",
      "|   |   |   |   |   |   |   |   |   |   |--- class: 0\n",
      "|   |   |   |   |   |   |   |   |--- feature_14 >  1459.31\n",
      "|   |   |   |   |   |   |   |   |   |--- class: 1\n",
      "|   |   |   |   |   |--- feature_0 >  63843.30\n",
      "|   |   |   |   |   |   |--- class: 1\n",
      "|   |   |   |   |--- feature_0 >  64147.29\n",
      "|   |   |   |   |   |--- feature_0 <= 64526.54\n",
      "|   |   |   |   |   |   |--- feature_45 <= 408.70\n",
      "|   |   |   |   |   |   |   |--- feature_15 <= 1657.59\n",
      "|   |   |   |   |   |   |   |   |--- feature_24 <= 1089520.03\n",
      "|   |   |   |   |   |   |   |   |   |--- feature_4 <= 96648.57\n",
      "|   |   |   |   |   |   |   |   |   |   |--- feature_33 <= 46812.03\n",
      "|   |   |   |   |   |   |   |   |   |   |   |--- class: 1\n",
      "|   |   |   |   |   |   |   |   |   |   |--- feature_33 >  46812.03\n",
      "|   |   |   |   |   |   |   |   |   |   |   |--- class: 0\n",
      "|   |   |   |   |   |   |   |   |   |--- feature_4 >  96648.57\n",
      "|   |   |   |   |   |   |   |   |   |   |--- class: 1\n",
      "|   |   |   |   |   |   |   |   |--- feature_24 >  1089520.03\n",
      "|   |   |   |   |   |   |   |   |   |--- class: 0\n",
      "|   |   |   |   |   |   |   |--- feature_15 >  1657.59\n",
      "|   |   |   |   |   |   |   |   |--- class: 1\n",
      "|   |   |   |   |   |   |--- feature_45 >  408.70\n",
      "|   |   |   |   |   |   |   |--- feature_0 <= 64282.82\n",
      "|   |   |   |   |   |   |   |   |--- class: 1\n",
      "|   |   |   |   |   |   |   |--- feature_0 >  64282.82\n",
      "|   |   |   |   |   |   |   |   |--- class: 0\n",
      "|   |   |   |   |   |--- feature_0 >  64526.54\n",
      "|   |   |   |   |   |   |--- class: 0\n",
      "|--- feature_63 >  844.31\n",
      "|   |--- feature_21 <= 61.76\n",
      "|   |   |--- feature_33 <= 14335438.66\n",
      "|   |   |   |--- feature_34 <= 5122871.61\n",
      "|   |   |   |   |--- class: 0\n",
      "|   |   |   |--- feature_34 >  5122871.61\n",
      "|   |   |   |   |--- feature_45 <= 517.49\n",
      "|   |   |   |   |   |--- class: 0\n",
      "|   |   |   |   |--- feature_45 >  517.49\n",
      "|   |   |   |   |   |--- class: 1\n",
      "|   |   |--- feature_33 >  14335438.66\n",
      "|   |   |   |--- feature_32 <= 2396033.27\n",
      "|   |   |   |   |--- class: 1\n",
      "|   |   |   |--- feature_32 >  2396033.27\n",
      "|   |   |   |   |--- feature_44 <= 0.95\n",
      "|   |   |   |   |   |--- class: 0\n",
      "|   |   |   |   |--- feature_44 >  0.95\n",
      "|   |   |   |   |   |--- class: 1\n",
      "|   |--- feature_21 >  61.76\n",
      "|   |   |--- class: 1\n",
      "\n"
     ]
    }
   ],
   "source": [
    "# View decision tree visualization\n",
    "from sklearn import tree\n",
    "text_representation = tree.export_text(decision_tree_grid.best_estimator_)\n",
    "print(text_representation)"
   ]
  },
  {
   "cell_type": "markdown",
   "id": "9aaf549a",
   "metadata": {},
   "source": [
    "## Multi Layer Perceptron Model"
   ]
  },
  {
   "cell_type": "code",
   "execution_count": 11,
   "id": "61b20c79",
   "metadata": {},
   "outputs": [
    {
     "data": {
      "text/plain": [
       "GridSearchCV(cv=5,\n",
       "             estimator=Pipeline(steps=[('scaler', None),\n",
       "                                       ('estimator', MLPClassifier())]),\n",
       "             param_grid=[{'estimator': [MLPClassifier(alpha=0.005,\n",
       "                                                      hidden_layer_sizes=(500,\n",
       "                                                                          400,\n",
       "                                                                          300,\n",
       "                                                                          200,\n",
       "                                                                          100),\n",
       "                                                      learning_rate_init=0.0001,\n",
       "                                                      max_iter=300,\n",
       "                                                      random_state=42)],\n",
       "                          'estimator__activation': ['relu'],\n",
       "                          'estimator__alpha': [0.005],\n",
       "                          'estimator__early_stopping': [False],\n",
       "                          'estimator__hidden_layer_sizes': [(500, 400, 300, 200,\n",
       "                                                             100)],\n",
       "                          'estimator__learning_rate_init': [0.0001],\n",
       "                          'estimator__max_iter': [300],\n",
       "                          'estimator__solver': ['adam'],\n",
       "                          'scaler': [StandardScaler()]}])"
      ]
     },
     "execution_count": 11,
     "metadata": {},
     "output_type": "execute_result"
    }
   ],
   "source": [
    "from sklearn.neural_network import MLPClassifier\n",
    "from sklearn.preprocessing import StandardScaler\n",
    "from sklearn.pipeline import Pipeline\n",
    "\n",
    "GRID = [\n",
    "    {'scaler': [StandardScaler()],\n",
    "     'estimator': [MLPClassifier(random_state=42)],\n",
    "     'estimator__solver': ['adam', 'sgd'],\n",
    "     'estimator__learning_rate_init': [0.0001, 0.001],\n",
    "     'estimator__max_iter': [300],\n",
    "     'estimator__hidden_layer_sizes': [(500, 400, 300, 200, 100), (200, 200, 200, 200, 200)],\n",
    "     'estimator__activation': ['relu', 'tanh'],\n",
    "     'estimator__alpha': [0.005, 0.001],\n",
    "     'estimator__early_stopping': [False, True]\n",
    "     }\n",
    "]\n",
    "PIPELINE = Pipeline([('scaler', None), ('estimator', MLPClassifier())])\n",
    "\n",
    "grid_search_mlp = GridSearchCV(estimator=PIPELINE, param_grid=GRID, cv=5)\n",
    "                        \n",
    "grid_search_mlp.fit(X_train, y_train.values.ravel())"
   ]
  },
  {
   "cell_type": "code",
   "execution_count": 13,
   "id": "9684c8cb",
   "metadata": {},
   "outputs": [
    {
     "name": "stdout",
     "output_type": "stream",
     "text": [
      "MLP test accuracy:  0.9649977032613689\n"
     ]
    }
   ],
   "source": [
    "print('MLP test accuracy: ', grid_search_mlp.score(X_test,y_test))"
   ]
  },
  {
   "cell_type": "markdown",
   "id": "7311d335",
   "metadata": {},
   "source": [
    "## Support Vector Machine Model"
   ]
  },
  {
   "cell_type": "code",
   "execution_count": 9,
   "id": "530bf783",
   "metadata": {},
   "outputs": [
    {
     "data": {
      "text/plain": [
       "GridSearchCV(cv=5, estimator=SVC(), param_grid=[{'kernel': ['poly']}])"
      ]
     },
     "execution_count": 9,
     "metadata": {},
     "output_type": "execute_result"
    }
   ],
   "source": [
    "from sklearn.svm import SVC\n",
    "from sklearn.model_selection import cross_val_score\n",
    "\n",
    "param_grid=[{\"kernel\":[\"poly\", \"rbf\", \"sigmoid\", \"linear\"] }]\n",
    "            \n",
    "cv_svc = GridSearchCV(estimator = SVC(), param_grid = param_grid, cv = 5)\n",
    "cv_svc.fit(X_train, y_train.values.ravel())"
   ]
  },
  {
   "cell_type": "code",
   "execution_count": 10,
   "id": "4b427e9f",
   "metadata": {},
   "outputs": [
    {
     "name": "stdout",
     "output_type": "stream",
     "text": [
      "SVM best params:  {'kernel': 'poly'}\n",
      "SVM test accuracy:  0.7581074873679375\n"
     ]
    }
   ],
   "source": [
    "print('SVM best params: ', cv_svc.best_params_)\n",
    "print('SVM test accuracy: ', cv_svc.score(X_test,y_test))"
   ]
  },
  {
   "cell_type": "markdown",
   "id": "a34d154c",
   "metadata": {},
   "source": [
    "## Naive Bayes Model"
   ]
  },
  {
   "cell_type": "code",
   "execution_count": 11,
   "id": "8029b275",
   "metadata": {},
   "outputs": [
    {
     "data": {
      "text/plain": [
       "GaussianNB()"
      ]
     },
     "execution_count": 11,
     "metadata": {},
     "output_type": "execute_result"
    }
   ],
   "source": [
    "from sklearn.naive_bayes import GaussianNB\n",
    "\n",
    "nb_classifier = GaussianNB()\n",
    "nb_classifier.fit(X_train, y_train.values.ravel())"
   ]
  },
  {
   "cell_type": "code",
   "execution_count": 14,
   "id": "c9891e65",
   "metadata": {},
   "outputs": [
    {
     "name": "stdout",
     "output_type": "stream",
     "text": [
      "NB test accuracy:  0.8102893890675241\n"
     ]
    }
   ],
   "source": [
    "print('NB test accuracy: ', nb_classifier.score(X_test,y_test))"
   ]
  },
  {
   "cell_type": "markdown",
   "id": "85c35f56",
   "metadata": {},
   "source": [
    "## Save best model"
   ]
  },
  {
   "cell_type": "code",
   "execution_count": 10,
   "id": "31256e7f",
   "metadata": {},
   "outputs": [],
   "source": [
    "import pickle\n",
    "pickle.dump(decision_tree_grid, open(\"decision_tree.pickle\", \"wb\"))"
   ]
  }
 ],
 "metadata": {
  "kernelspec": {
   "display_name": "Python 3 (ipykernel)",
   "language": "python",
   "name": "python3"
  },
  "language_info": {
   "codemirror_mode": {
    "name": "ipython",
    "version": 3
   },
   "file_extension": ".py",
   "mimetype": "text/x-python",
   "name": "python",
   "nbconvert_exporter": "python",
   "pygments_lexer": "ipython3",
   "version": "3.9.7"
  }
 },
 "nbformat": 4,
 "nbformat_minor": 5
}
