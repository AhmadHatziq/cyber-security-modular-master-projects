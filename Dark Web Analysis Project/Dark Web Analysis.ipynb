{
 "cells": [
  {
   "cell_type": "code",
   "execution_count": 1,
   "id": "7321281b",
   "metadata": {},
   "outputs": [],
   "source": [
    "import os\n",
    "import numpy as np \n",
    "import pandas as pd\n",
    "import matplotlib.pyplot as plt"
   ]
  },
  {
   "cell_type": "markdown",
   "id": "86246e01",
   "metadata": {},
   "source": [
    "## Read in Kilos dataset"
   ]
  },
  {
   "cell_type": "code",
   "execution_count": 2,
   "id": "1ec77959",
   "metadata": {},
   "outputs": [
    {
     "data": {
      "text/html": [
       "<div>\n",
       "<style scoped>\n",
       "    .dataframe tbody tr th:only-of-type {\n",
       "        vertical-align: middle;\n",
       "    }\n",
       "\n",
       "    .dataframe tbody tr th {\n",
       "        vertical-align: top;\n",
       "    }\n",
       "\n",
       "    .dataframe thead th {\n",
       "        text-align: right;\n",
       "    }\n",
       "</style>\n",
       "<table border=\"1\" class=\"dataframe\">\n",
       "  <thead>\n",
       "    <tr style=\"text-align: right;\">\n",
       "      <th></th>\n",
       "      <th>site</th>\n",
       "      <th>vendor</th>\n",
       "      <th>timestamp</th>\n",
       "      <th>score</th>\n",
       "      <th>value_btc</th>\n",
       "    </tr>\n",
       "  </thead>\n",
       "  <tbody>\n",
       "    <tr>\n",
       "      <th>0</th>\n",
       "      <td>Samsara</td>\n",
       "      <td>Doubleup</td>\n",
       "      <td>1970-01-01</td>\n",
       "      <td>1.0</td>\n",
       "      <td>0.00022</td>\n",
       "    </tr>\n",
       "    <tr>\n",
       "      <th>1</th>\n",
       "      <td>Samsara</td>\n",
       "      <td>SocialPharma</td>\n",
       "      <td>1970-01-01</td>\n",
       "      <td>1.0</td>\n",
       "      <td>0.00492</td>\n",
       "    </tr>\n",
       "    <tr>\n",
       "      <th>2</th>\n",
       "      <td>Samsara</td>\n",
       "      <td>REAL-monoko</td>\n",
       "      <td>1970-01-01</td>\n",
       "      <td>1.0</td>\n",
       "      <td>0.00381</td>\n",
       "    </tr>\n",
       "    <tr>\n",
       "      <th>3</th>\n",
       "      <td>Samsara</td>\n",
       "      <td>druggiebearsofficial</td>\n",
       "      <td>1970-01-01</td>\n",
       "      <td>1.0</td>\n",
       "      <td>0.03159</td>\n",
       "    </tr>\n",
       "    <tr>\n",
       "      <th>4</th>\n",
       "      <td>Samsara</td>\n",
       "      <td>DrunkDragon</td>\n",
       "      <td>1970-01-01</td>\n",
       "      <td>1.0</td>\n",
       "      <td>0.00011</td>\n",
       "    </tr>\n",
       "  </tbody>\n",
       "</table>\n",
       "</div>"
      ],
      "text/plain": [
       "      site                vendor  timestamp  score  value_btc\n",
       "0  Samsara              Doubleup 1970-01-01    1.0    0.00022\n",
       "1  Samsara          SocialPharma 1970-01-01    1.0    0.00492\n",
       "2  Samsara           REAL-monoko 1970-01-01    1.0    0.00381\n",
       "3  Samsara  druggiebearsofficial 1970-01-01    1.0    0.03159\n",
       "4  Samsara           DrunkDragon 1970-01-01    1.0    0.00011"
      ]
     },
     "execution_count": 2,
     "metadata": {},
     "output_type": "execute_result"
    }
   ],
   "source": [
    "os.chdir(r'C:\\Users\\hatzi\\Documents\\SUTD\\Security Tools Projects\\STL2 - Dark Web Scrape\\datasets')\n",
    "columns = ['site', 'vendor', 'timestamp', 'score', 'value_btc']\n",
    "kilos_df = pd.read_csv('Darkweb data scrape.csv', usecols=columns)\n",
    "kilos_df['timestamp'] = pd.to_numeric(kilos_df['timestamp'])\n",
    "kilos_df['timestamp'] = pd.to_datetime(kilos_df['timestamp'],unit='s')\n",
    "kilos_df.head()"
   ]
  },
  {
   "cell_type": "markdown",
   "id": "8d2dde61",
   "metadata": {},
   "source": [
    "## Read in Agora dataset"
   ]
  },
  {
   "cell_type": "code",
   "execution_count": 3,
   "id": "a51179ca",
   "metadata": {},
   "outputs": [
    {
     "name": "stdout",
     "output_type": "stream",
     "text": [
      "Agora DF Length 109676\n"
     ]
    },
    {
     "data": {
      "text/html": [
       "<div>\n",
       "<style scoped>\n",
       "    .dataframe tbody tr th:only-of-type {\n",
       "        vertical-align: middle;\n",
       "    }\n",
       "\n",
       "    .dataframe tbody tr th {\n",
       "        vertical-align: top;\n",
       "    }\n",
       "\n",
       "    .dataframe thead th {\n",
       "        text-align: right;\n",
       "    }\n",
       "</style>\n",
       "<table border=\"1\" class=\"dataframe\">\n",
       "  <thead>\n",
       "    <tr style=\"text-align: right;\">\n",
       "      <th></th>\n",
       "      <th>Vendor</th>\n",
       "      <th>Category</th>\n",
       "      <th>Item</th>\n",
       "      <th>ItemDescription</th>\n",
       "      <th>Price_BTC</th>\n",
       "      <th>Origin</th>\n",
       "      <th>Destination</th>\n",
       "      <th>Rating</th>\n",
       "      <th>Remarks</th>\n",
       "    </tr>\n",
       "  </thead>\n",
       "  <tbody>\n",
       "    <tr>\n",
       "      <th>0</th>\n",
       "      <td>CheapPayTV</td>\n",
       "      <td>Services/Hacking</td>\n",
       "      <td>12 Month HuluPlus gift Code</td>\n",
       "      <td>12-Month HuluPlus Codes for $25. They are wort...</td>\n",
       "      <td>0.050270</td>\n",
       "      <td>Torland</td>\n",
       "      <td>NaN</td>\n",
       "      <td>4.96/5</td>\n",
       "      <td>NaN</td>\n",
       "    </tr>\n",
       "    <tr>\n",
       "      <th>1</th>\n",
       "      <td>CheapPayTV</td>\n",
       "      <td>Services/Hacking</td>\n",
       "      <td>Pay TV Sky UK  Sky Germany HD TV  and much mor...</td>\n",
       "      <td>Hi we offer a World Wide CCcam  Service for En...</td>\n",
       "      <td>0.152420</td>\n",
       "      <td>Torland</td>\n",
       "      <td>NaN</td>\n",
       "      <td>4.96/5</td>\n",
       "      <td>NaN</td>\n",
       "    </tr>\n",
       "    <tr>\n",
       "      <th>2</th>\n",
       "      <td>KryptykOG</td>\n",
       "      <td>Services/Hacking</td>\n",
       "      <td>OFFICIAL Account Creator Extreme 4.2</td>\n",
       "      <td>Tagged Submission Fix Bebo Submission Fix Adju...</td>\n",
       "      <td>0.007000</td>\n",
       "      <td>Torland</td>\n",
       "      <td>NaN</td>\n",
       "      <td>4.93/5</td>\n",
       "      <td>NaN</td>\n",
       "    </tr>\n",
       "    <tr>\n",
       "      <th>3</th>\n",
       "      <td>cyberzen</td>\n",
       "      <td>Services/Hacking</td>\n",
       "      <td>VPN &gt; TOR &gt; SOCK TUTORIAL</td>\n",
       "      <td>How to setup a VPN &gt; TOR &gt; SOCK super safe enc...</td>\n",
       "      <td>0.019017</td>\n",
       "      <td>NaN</td>\n",
       "      <td>NaN</td>\n",
       "      <td>4.89/5</td>\n",
       "      <td>NaN</td>\n",
       "    </tr>\n",
       "    <tr>\n",
       "      <th>4</th>\n",
       "      <td>businessdude</td>\n",
       "      <td>Services/Hacking</td>\n",
       "      <td>Facebook hacking guide</td>\n",
       "      <td>.  This guide will teach you how to hack Faceb...</td>\n",
       "      <td>0.062018</td>\n",
       "      <td>Torland</td>\n",
       "      <td>NaN</td>\n",
       "      <td>4.88/5</td>\n",
       "      <td>NaN</td>\n",
       "    </tr>\n",
       "  </tbody>\n",
       "</table>\n",
       "</div>"
      ],
      "text/plain": [
       "         Vendor          Category  \\\n",
       "0    CheapPayTV  Services/Hacking   \n",
       "1    CheapPayTV  Services/Hacking   \n",
       "2     KryptykOG  Services/Hacking   \n",
       "3      cyberzen  Services/Hacking   \n",
       "4  businessdude  Services/Hacking   \n",
       "\n",
       "                                                Item  \\\n",
       "0                        12 Month HuluPlus gift Code   \n",
       "1  Pay TV Sky UK  Sky Germany HD TV  and much mor...   \n",
       "2               OFFICIAL Account Creator Extreme 4.2   \n",
       "3                          VPN > TOR > SOCK TUTORIAL   \n",
       "4                             Facebook hacking guide   \n",
       "\n",
       "                                     ItemDescription  Price_BTC   Origin  \\\n",
       "0  12-Month HuluPlus Codes for $25. They are wort...   0.050270  Torland   \n",
       "1  Hi we offer a World Wide CCcam  Service for En...   0.152420  Torland   \n",
       "2  Tagged Submission Fix Bebo Submission Fix Adju...   0.007000  Torland   \n",
       "3  How to setup a VPN > TOR > SOCK super safe enc...   0.019017      NaN   \n",
       "4  .  This guide will teach you how to hack Faceb...   0.062018  Torland   \n",
       "\n",
       "  Destination  Rating Remarks  \n",
       "0         NaN  4.96/5     NaN  \n",
       "1         NaN  4.96/5     NaN  \n",
       "2         NaN  4.93/5     NaN  \n",
       "3         NaN  4.89/5     NaN  \n",
       "4         NaN  4.88/5     NaN  "
      ]
     },
     "execution_count": 3,
     "metadata": {},
     "output_type": "execute_result"
    }
   ],
   "source": [
    "agora_df = pd.read_csv('Agora/Agora.csv',  encoding=\"latin1\")\n",
    "agora_df.columns = [x.replace(\" \", \"\") for x in agora_df.columns]\n",
    "\n",
    "# Clean Price column\n",
    "temp = agora_df[\"Price\"].str.split(\" \", n = 1, expand = True)\n",
    "agora_df[\"Price\"]= temp[0]\n",
    "agora_df = agora_df.rename(columns={\"Price\": \"Price_BTC\"})\n",
    "agora_df = agora_df[pd.to_numeric(agora_df['Price_BTC'], errors='coerce').notnull()]\n",
    "agora_df['Price_BTC'] = pd.to_numeric(agora_df['Price_BTC'], errors='coerce')\n",
    "print('Agora DF Length', len(agora_df))\n",
    "agora_df.head()"
   ]
  },
  {
   "cell_type": "markdown",
   "id": "6f68dc81",
   "metadata": {},
   "source": [
    "## Augmenting Kilos dataset\n",
    "\n",
    "### Join Kilos and Agora datasets based on vendor column"
   ]
  },
  {
   "cell_type": "code",
   "execution_count": 4,
   "id": "ecce82d5",
   "metadata": {},
   "outputs": [
    {
     "data": {
      "text/html": [
       "<div>\n",
       "<style scoped>\n",
       "    .dataframe tbody tr th:only-of-type {\n",
       "        vertical-align: middle;\n",
       "    }\n",
       "\n",
       "    .dataframe tbody tr th {\n",
       "        vertical-align: top;\n",
       "    }\n",
       "\n",
       "    .dataframe thead th {\n",
       "        text-align: right;\n",
       "    }\n",
       "</style>\n",
       "<table border=\"1\" class=\"dataframe\">\n",
       "  <thead>\n",
       "    <tr style=\"text-align: right;\">\n",
       "      <th></th>\n",
       "      <th>Vendor</th>\n",
       "      <th>Category</th>\n",
       "      <th>count</th>\n",
       "    </tr>\n",
       "  </thead>\n",
       "  <tbody>\n",
       "    <tr>\n",
       "      <th>0</th>\n",
       "      <td>#NAME?</td>\n",
       "      <td>Drugs/Ecstasy/MDA</td>\n",
       "      <td>5</td>\n",
       "    </tr>\n",
       "    <tr>\n",
       "      <th>1</th>\n",
       "      <td>-BIGG-BALLs-</td>\n",
       "      <td>Counterfeits/Money</td>\n",
       "      <td>3</td>\n",
       "    </tr>\n",
       "    <tr>\n",
       "      <th>2</th>\n",
       "      <td>-BIGG-BALLs-</td>\n",
       "      <td>Drugs/Dissociatives/GHB</td>\n",
       "      <td>5</td>\n",
       "    </tr>\n",
       "    <tr>\n",
       "      <th>3</th>\n",
       "      <td>-BIGG-BALLs-</td>\n",
       "      <td>Drugs/Prescription</td>\n",
       "      <td>1</td>\n",
       "    </tr>\n",
       "    <tr>\n",
       "      <th>4</th>\n",
       "      <td>-Euphoria-</td>\n",
       "      <td>Drugs/Ecstasy/Pills</td>\n",
       "      <td>13</td>\n",
       "    </tr>\n",
       "    <tr>\n",
       "      <th>...</th>\n",
       "      <td>...</td>\n",
       "      <td>...</td>\n",
       "      <td>...</td>\n",
       "    </tr>\n",
       "    <tr>\n",
       "      <th>11608</th>\n",
       "      <td>~sweetpuff~</td>\n",
       "      <td>Drugs/Opioids/Other</td>\n",
       "      <td>2</td>\n",
       "    </tr>\n",
       "    <tr>\n",
       "      <th>11609</th>\n",
       "      <td>~sweetpuff~</td>\n",
       "      <td>Drugs/Prescription</td>\n",
       "      <td>2</td>\n",
       "    </tr>\n",
       "    <tr>\n",
       "      <th>11610</th>\n",
       "      <td>~sweetpuff~</td>\n",
       "      <td>Drugs/Psychedelics/Mescaline</td>\n",
       "      <td>3</td>\n",
       "    </tr>\n",
       "    <tr>\n",
       "      <th>11611</th>\n",
       "      <td>~sweetpuff~</td>\n",
       "      <td>Drugs/Psychedelics/Mushrooms</td>\n",
       "      <td>6</td>\n",
       "    </tr>\n",
       "    <tr>\n",
       "      <th>11612</th>\n",
       "      <td>~sweetpuff~</td>\n",
       "      <td>Drugs/Stimulants/Meth</td>\n",
       "      <td>1</td>\n",
       "    </tr>\n",
       "  </tbody>\n",
       "</table>\n",
       "<p>11613 rows × 3 columns</p>\n",
       "</div>"
      ],
      "text/plain": [
       "             Vendor                      Category  count\n",
       "0            #NAME?             Drugs/Ecstasy/MDA      5\n",
       "1      -BIGG-BALLs-            Counterfeits/Money      3\n",
       "2      -BIGG-BALLs-       Drugs/Dissociatives/GHB      5\n",
       "3      -BIGG-BALLs-            Drugs/Prescription      1\n",
       "4        -Euphoria-           Drugs/Ecstasy/Pills     13\n",
       "...             ...                           ...    ...\n",
       "11608   ~sweetpuff~           Drugs/Opioids/Other      2\n",
       "11609   ~sweetpuff~            Drugs/Prescription      2\n",
       "11610   ~sweetpuff~  Drugs/Psychedelics/Mescaline      3\n",
       "11611   ~sweetpuff~  Drugs/Psychedelics/Mushrooms      6\n",
       "11612   ~sweetpuff~         Drugs/Stimulants/Meth      1\n",
       "\n",
       "[11613 rows x 3 columns]"
      ]
     },
     "execution_count": 4,
     "metadata": {},
     "output_type": "execute_result"
    }
   ],
   "source": [
    "# Get unique vendor-category counts from agora df\n",
    "# vendor_cat = agora_df.groupby(['Vendor','Category']).size().reset_index().rename(columns={0:'count'}).sort_values([\"count\"], ascending = False)\n",
    "vendor_cat = agora_df.groupby(['Vendor','Category']).size().reset_index().rename(columns={0:'count'})\n",
    "vendor_cat"
   ]
  },
  {
   "cell_type": "code",
   "execution_count": 5,
   "id": "0bfd9ffb",
   "metadata": {},
   "outputs": [
    {
     "data": {
      "text/html": [
       "<div>\n",
       "<style scoped>\n",
       "    .dataframe tbody tr th:only-of-type {\n",
       "        vertical-align: middle;\n",
       "    }\n",
       "\n",
       "    .dataframe tbody tr th {\n",
       "        vertical-align: top;\n",
       "    }\n",
       "\n",
       "    .dataframe thead th {\n",
       "        text-align: right;\n",
       "    }\n",
       "</style>\n",
       "<table border=\"1\" class=\"dataframe\">\n",
       "  <thead>\n",
       "    <tr style=\"text-align: right;\">\n",
       "      <th></th>\n",
       "      <th>site</th>\n",
       "      <th>vendor</th>\n",
       "      <th>timestamp</th>\n",
       "      <th>score</th>\n",
       "      <th>value_btc</th>\n",
       "      <th>category</th>\n",
       "      <th>sub_category_one</th>\n",
       "      <th>sub_category_two</th>\n",
       "    </tr>\n",
       "  </thead>\n",
       "  <tbody>\n",
       "    <tr>\n",
       "      <th>36</th>\n",
       "      <td>Samsara</td>\n",
       "      <td>instrument</td>\n",
       "      <td>1970-01-01</td>\n",
       "      <td>1.0</td>\n",
       "      <td>0.00623</td>\n",
       "      <td>Drugs</td>\n",
       "      <td>Psychedelics</td>\n",
       "      <td>LSD</td>\n",
       "    </tr>\n",
       "    <tr>\n",
       "      <th>37</th>\n",
       "      <td>Samsara</td>\n",
       "      <td>instrument</td>\n",
       "      <td>1970-01-01</td>\n",
       "      <td>1.0</td>\n",
       "      <td>0.00623</td>\n",
       "      <td>Drugs</td>\n",
       "      <td>Ecstasy</td>\n",
       "      <td>MDMA</td>\n",
       "    </tr>\n",
       "    <tr>\n",
       "      <th>38</th>\n",
       "      <td>Samsara</td>\n",
       "      <td>instrument</td>\n",
       "      <td>1970-01-01</td>\n",
       "      <td>1.0</td>\n",
       "      <td>0.00623</td>\n",
       "      <td>Drugs</td>\n",
       "      <td>Ecstasy</td>\n",
       "      <td>MDA</td>\n",
       "    </tr>\n",
       "    <tr>\n",
       "      <th>39</th>\n",
       "      <td>Samsara</td>\n",
       "      <td>instrument</td>\n",
       "      <td>1970-01-01</td>\n",
       "      <td>1.0</td>\n",
       "      <td>0.00623</td>\n",
       "      <td>Drugs</td>\n",
       "      <td>Stimulants</td>\n",
       "      <td>Meth</td>\n",
       "    </tr>\n",
       "    <tr>\n",
       "      <th>40</th>\n",
       "      <td>Samsara</td>\n",
       "      <td>instrument</td>\n",
       "      <td>1970-01-01</td>\n",
       "      <td>1.0</td>\n",
       "      <td>0.00623</td>\n",
       "      <td>Drugs</td>\n",
       "      <td>Ecstasy</td>\n",
       "      <td>Pills</td>\n",
       "    </tr>\n",
       "  </tbody>\n",
       "</table>\n",
       "</div>"
      ],
      "text/plain": [
       "       site      vendor  timestamp  score  value_btc category  \\\n",
       "36  Samsara  instrument 1970-01-01    1.0    0.00623    Drugs   \n",
       "37  Samsara  instrument 1970-01-01    1.0    0.00623    Drugs   \n",
       "38  Samsara  instrument 1970-01-01    1.0    0.00623    Drugs   \n",
       "39  Samsara  instrument 1970-01-01    1.0    0.00623    Drugs   \n",
       "40  Samsara  instrument 1970-01-01    1.0    0.00623    Drugs   \n",
       "\n",
       "   sub_category_one sub_category_two  \n",
       "36     Psychedelics              LSD  \n",
       "37          Ecstasy             MDMA  \n",
       "38          Ecstasy              MDA  \n",
       "39       Stimulants             Meth  \n",
       "40          Ecstasy            Pills  "
      ]
     },
     "execution_count": 5,
     "metadata": {},
     "output_type": "execute_result"
    }
   ],
   "source": [
    "# Get unique vendor-category counts from agora df\n",
    "vendor_cat = agora_df.groupby(['Vendor','Category']).size().reset_index().rename(columns={0:'count'})\n",
    "vendor_cat = agora_df.groupby(['Vendor','Category']).size().reset_index().rename(columns={0:'count'}).sort_values([\"count\"], ascending = False)\n",
    "\n",
    "# Filter for categories that are valid ie have a '/' inside\n",
    "valid_vendor_cats = vendor_cat[vendor_cat['Category'].str.contains(\"/\")].copy()\n",
    "\n",
    "# Change vendors to lowercase\n",
    "valid_vendor_cats['Vendor'] = valid_vendor_cats['Vendor'].str.lower()\n",
    "kilos_df['vendor'] = kilos_df['vendor'].str.lower()\n",
    "\n",
    "# Do a left join\n",
    "joined_df = kilos_df.merge(valid_vendor_cats, left_on='vendor', right_on='Vendor', how='left', \n",
    "                          indicator = True)\n",
    "joined_df = joined_df[joined_df['_merge'] == 'both']\n",
    "joined_df = joined_df[['site', 'vendor', 'timestamp', 'score', 'value_btc', 'Category']].copy()\n",
    "\n",
    "# Clean the category column\n",
    "joined_df['category'], joined_df['sub_category_one'], joined_df['sub_category_two'] = '', '', ''\n",
    "for index, row in joined_df.iterrows():\n",
    "    string_cat = row['Category']\n",
    "    \n",
    "    # Clean category. Obtain primary category and sub category one\n",
    "    category = string_cat\n",
    "    subcategory_one = ''\n",
    "    if '/' in string_cat:\n",
    "        category = string_cat.split('/')[0]\n",
    "        subcategory_one = string_cat.split('/')[1]\n",
    "        \n",
    "    # Check for sub category two\n",
    "    subcategory_two = ''\n",
    "    if string_cat.count('/') > 1: \n",
    "        subcategory_two = string_cat.split('/')[2]\n",
    "    \n",
    "    # Store the values\n",
    "    joined_df.at[index, 'category'] = category\n",
    "    joined_df.at[index, 'sub_category_one'] = subcategory_one\n",
    "    joined_df.at[index, 'sub_category_two'] = subcategory_two\n",
    "\n",
    "# Drop old Category column\n",
    "joined_df = joined_df.drop(['Category'], axis=1)\n",
    "    \n",
    "joined_df.head()"
   ]
  },
  {
   "cell_type": "code",
   "execution_count": 54,
   "id": "fa59fb10",
   "metadata": {},
   "outputs": [],
   "source": [
    "joined_df.to_csv('category_sub_category.csv', index = False)"
   ]
  },
  {
   "cell_type": "code",
   "execution_count": 6,
   "id": "5590e879",
   "metadata": {},
   "outputs": [],
   "source": [
    "# Change dataframe name\n",
    "kilos_category_df = joined_df.copy()"
   ]
  },
  {
   "cell_type": "markdown",
   "id": "330d2ddb",
   "metadata": {},
   "source": [
    "## Get popular categories\n",
    "\n",
    "### Top Vendors for Drugs"
   ]
  },
  {
   "cell_type": "code",
   "execution_count": 7,
   "id": "ccd121cf",
   "metadata": {},
   "outputs": [
    {
     "data": {
      "text/plain": [
       "Drugs                 87.663512\n",
       "Services               3.897951\n",
       "Information            3.894439\n",
       "Tobacco                1.676821\n",
       "Forgeries              0.986779\n",
       "Counterfeits           0.953418\n",
       "Drug paraphernalia     0.790125\n",
       "Weapons                0.136955\n",
       "Name: category, dtype: float64"
      ]
     },
     "execution_count": 7,
     "metadata": {},
     "output_type": "execute_result"
    }
   ],
   "source": [
    "# Combine Info, Data and Information columns\n",
    "kilos_category_df.loc[kilos_category_df.category == \"Info\", \"category\"] = \"Information\"\n",
    "kilos_category_df.loc[kilos_category_df.category == \"Data\", \"category\"] = \"Information\"\n",
    "\n",
    "# Get percentages of each main category\n",
    "kilos_category_df['category'].value_counts(normalize=True) * 100"
   ]
  },
  {
   "cell_type": "code",
   "execution_count": 8,
   "id": "be806f63",
   "metadata": {},
   "outputs": [
    {
     "data": {
      "text/plain": [
       "quicklick           20.315661\n",
       "uknextday           10.485309\n",
       "dreamweaver          7.426843\n",
       "angelina             6.749855\n",
       "grandwizardslair     4.790995\n",
       "boomers              4.374387\n",
       "instrument           3.785527\n",
       "nextgeneration       3.755483\n",
       "calicannabisclub     3.074489\n",
       "vitaminstore         2.571755\n",
       "Name: vendor, dtype: float64"
      ]
     },
     "execution_count": 8,
     "metadata": {},
     "output_type": "execute_result"
    }
   ],
   "source": [
    "# Get top vendors for drugs\n",
    "drug_df = kilos_category_df[kilos_category_df['category'] == 'Drugs'].copy()\n",
    "(drug_df['vendor'].value_counts(normalize=True) * 100).head(10)"
   ]
  },
  {
   "cell_type": "markdown",
   "id": "81d55ca6",
   "metadata": {},
   "source": [
    "## Top Vendors across other Categories"
   ]
  },
  {
   "cell_type": "code",
   "execution_count": 9,
   "id": "c056041a",
   "metadata": {},
   "outputs": [
    {
     "data": {
      "text/html": [
       "<div>\n",
       "<style scoped>\n",
       "    .dataframe tbody tr th:only-of-type {\n",
       "        vertical-align: middle;\n",
       "    }\n",
       "\n",
       "    .dataframe tbody tr th {\n",
       "        vertical-align: top;\n",
       "    }\n",
       "\n",
       "    .dataframe thead th {\n",
       "        text-align: right;\n",
       "    }\n",
       "</style>\n",
       "<table border=\"1\" class=\"dataframe\">\n",
       "  <thead>\n",
       "    <tr style=\"text-align: right;\">\n",
       "      <th></th>\n",
       "      <th>Drugs</th>\n",
       "      <th>Drug paraphernalia</th>\n",
       "      <th>Services</th>\n",
       "      <th>Forgeries</th>\n",
       "      <th>Information</th>\n",
       "      <th>Tobacco</th>\n",
       "      <th>Counterfeits</th>\n",
       "      <th>Weapons</th>\n",
       "    </tr>\n",
       "  </thead>\n",
       "  <tbody>\n",
       "    <tr>\n",
       "      <th>0</th>\n",
       "      <td>quicklick</td>\n",
       "      <td>joeybagadonuts</td>\n",
       "      <td>sexyhomer</td>\n",
       "      <td>namedeclined</td>\n",
       "      <td>dionysos</td>\n",
       "      <td>maling47</td>\n",
       "      <td>sexyhomer</td>\n",
       "      <td>dionysos</td>\n",
       "    </tr>\n",
       "    <tr>\n",
       "      <th>1</th>\n",
       "      <td>uknextday</td>\n",
       "      <td>namedeclined</td>\n",
       "      <td>joeybagadonuts</td>\n",
       "      <td>lindalovelace</td>\n",
       "      <td>namedeclined</td>\n",
       "      <td>NaN</td>\n",
       "      <td>dionysos</td>\n",
       "      <td>NaN</td>\n",
       "    </tr>\n",
       "    <tr>\n",
       "      <th>2</th>\n",
       "      <td>dreamweaver</td>\n",
       "      <td>dionysos</td>\n",
       "      <td>namedeclined</td>\n",
       "      <td>arctic</td>\n",
       "      <td>sexyhomer</td>\n",
       "      <td>NaN</td>\n",
       "      <td>hackyboy</td>\n",
       "      <td>NaN</td>\n",
       "    </tr>\n",
       "    <tr>\n",
       "      <th>3</th>\n",
       "      <td>angelina</td>\n",
       "      <td>NaN</td>\n",
       "      <td>hackyboy</td>\n",
       "      <td>medsguru</td>\n",
       "      <td>ukpharma</td>\n",
       "      <td>NaN</td>\n",
       "      <td>moggymoo</td>\n",
       "      <td>NaN</td>\n",
       "    </tr>\n",
       "    <tr>\n",
       "      <th>4</th>\n",
       "      <td>grandwizardslair</td>\n",
       "      <td>NaN</td>\n",
       "      <td>biocanna</td>\n",
       "      <td>kingscan</td>\n",
       "      <td>hackyboy</td>\n",
       "      <td>NaN</td>\n",
       "      <td>NaN</td>\n",
       "      <td>NaN</td>\n",
       "    </tr>\n",
       "    <tr>\n",
       "      <th>5</th>\n",
       "      <td>boomers</td>\n",
       "      <td>NaN</td>\n",
       "      <td>weednation</td>\n",
       "      <td>threekings</td>\n",
       "      <td>colombiaconnection</td>\n",
       "      <td>NaN</td>\n",
       "      <td>NaN</td>\n",
       "      <td>NaN</td>\n",
       "    </tr>\n",
       "    <tr>\n",
       "      <th>6</th>\n",
       "      <td>instrument</td>\n",
       "      <td>NaN</td>\n",
       "      <td>shponglestarship</td>\n",
       "      <td>NaN</td>\n",
       "      <td>etimbuk</td>\n",
       "      <td>NaN</td>\n",
       "      <td>NaN</td>\n",
       "      <td>NaN</td>\n",
       "    </tr>\n",
       "    <tr>\n",
       "      <th>7</th>\n",
       "      <td>nextgeneration</td>\n",
       "      <td>NaN</td>\n",
       "      <td>etimbuk</td>\n",
       "      <td>NaN</td>\n",
       "      <td>goingpostal</td>\n",
       "      <td>NaN</td>\n",
       "      <td>NaN</td>\n",
       "      <td>NaN</td>\n",
       "    </tr>\n",
       "    <tr>\n",
       "      <th>8</th>\n",
       "      <td>calicannabisclub</td>\n",
       "      <td>NaN</td>\n",
       "      <td>medsguru</td>\n",
       "      <td>NaN</td>\n",
       "      <td>medsguru</td>\n",
       "      <td>NaN</td>\n",
       "      <td>NaN</td>\n",
       "      <td>NaN</td>\n",
       "    </tr>\n",
       "    <tr>\n",
       "      <th>9</th>\n",
       "      <td>vitaminstore</td>\n",
       "      <td>NaN</td>\n",
       "      <td>dutchmagic</td>\n",
       "      <td>NaN</td>\n",
       "      <td>NaN</td>\n",
       "      <td>NaN</td>\n",
       "      <td>NaN</td>\n",
       "      <td>NaN</td>\n",
       "    </tr>\n",
       "  </tbody>\n",
       "</table>\n",
       "</div>"
      ],
      "text/plain": [
       "              Drugs Drug paraphernalia          Services      Forgeries  \\\n",
       "0         quicklick     joeybagadonuts         sexyhomer   namedeclined   \n",
       "1         uknextday       namedeclined    joeybagadonuts  lindalovelace   \n",
       "2       dreamweaver           dionysos      namedeclined         arctic   \n",
       "3          angelina                NaN          hackyboy       medsguru   \n",
       "4  grandwizardslair                NaN          biocanna       kingscan   \n",
       "5           boomers                NaN        weednation     threekings   \n",
       "6        instrument                NaN  shponglestarship            NaN   \n",
       "7    nextgeneration                NaN           etimbuk            NaN   \n",
       "8  calicannabisclub                NaN          medsguru            NaN   \n",
       "9      vitaminstore                NaN        dutchmagic            NaN   \n",
       "\n",
       "          Information   Tobacco Counterfeits   Weapons  \n",
       "0            dionysos  maling47    sexyhomer  dionysos  \n",
       "1        namedeclined       NaN     dionysos       NaN  \n",
       "2           sexyhomer       NaN     hackyboy       NaN  \n",
       "3            ukpharma       NaN     moggymoo       NaN  \n",
       "4            hackyboy       NaN          NaN       NaN  \n",
       "5  colombiaconnection       NaN          NaN       NaN  \n",
       "6             etimbuk       NaN          NaN       NaN  \n",
       "7         goingpostal       NaN          NaN       NaN  \n",
       "8            medsguru       NaN          NaN       NaN  \n",
       "9                 NaN       NaN          NaN       NaN  "
      ]
     },
     "execution_count": 9,
     "metadata": {},
     "output_type": "execute_result"
    }
   ],
   "source": [
    "# Get top 10 vendors for each category \n",
    "top_vendors_overall = {}\n",
    "for category in kilos_category_df.category.unique(): \n",
    "    sub_df = kilos_category_df[kilos_category_df['category'] == category]\n",
    "    top_ten_vendors = sub_df['vendor'].value_counts(normalize = True).head(10)\n",
    "    top_ten_vendors = top_ten_vendors.index.values\n",
    "    top_vendors_overall[category] = top_ten_vendors\n",
    "pd.DataFrame(dict([ (k, pd.Series(v)) for k,v in top_vendors_overall.items() ]))"
   ]
  },
  {
   "cell_type": "markdown",
   "id": "f93ca471",
   "metadata": {},
   "source": [
    "## Sales over Time (Overall)"
   ]
  },
  {
   "cell_type": "code",
   "execution_count": 10,
   "id": "649b2fc5",
   "metadata": {},
   "outputs": [
    {
     "name": "stdout",
     "output_type": "stream",
     "text": [
      "Length before time filtering: 56953\n",
      "Length after time filtering 54604\n"
     ]
    }
   ],
   "source": [
    "# Extract rows which have a valid time\n",
    "time_df = kilos_category_df[kilos_category_df['timestamp'] > '1970-01-01'].copy()\n",
    "print('Length before time filtering:', len(kilos_category_df))\n",
    "print('Length after time filtering', len(time_df))"
   ]
  },
  {
   "cell_type": "code",
   "execution_count": 11,
   "id": "0c4a3d2c",
   "metadata": {},
   "outputs": [
    {
     "data": {
      "text/plain": [
       "<AxesSubplot:xlabel='timestamp,timestamp'>"
      ]
     },
     "execution_count": 11,
     "metadata": {},
     "output_type": "execute_result"
    },
    {
     "data": {
      "image/png": "[encoded data removed]",
      "text/plain": [
       "<Figure size 432x288 with 1 Axes>"
      ]
     },
     "metadata": {
      "needs_background": "light"
     },
     "output_type": "display_data"
    }
   ],
   "source": [
    "time_df = kilos_df[['timestamp', 'site']]\n",
    "time_df = time_df.rename(columns={\"site\": \"counts\"})\n",
    "time_df['counts'].groupby([time_df[\"timestamp\"].dt.year, time_df[\"timestamp\"].dt.month]).count().plot(kind=\"bar\")"
   ]
  },
  {
   "cell_type": "markdown",
   "id": "a517ee4e",
   "metadata": {},
   "source": [
    "## Sales over Time (for each category)"
   ]
  },
  {
   "cell_type": "code",
   "execution_count": 12,
   "id": "6c07b377",
   "metadata": {},
   "outputs": [],
   "source": [
    "def print_category(category):\n",
    "    # Extract data relating to category\n",
    "    time_df = kilos_category_df[kilos_category_df['timestamp'] > '1970-01-01'].copy()\n",
    "    time_df = time_df[['timestamp', 'site', 'category']]\n",
    "    time_df = time_df.rename(columns={\"site\": \"counts\"})\n",
    "    category_df = time_df[time_df['category'] == category].copy()\n",
    "    category_df = category_df.drop(['category'], axis=1)\n",
    "    \n",
    "    # Print graph of counts vs time\n",
    "    fig = plt.figure()\n",
    "    ax1 = category_df['counts'].groupby([time_df[\"timestamp\"].dt.year, time_df[\"timestamp\"].dt.month]).count().plot(kind=\"bar\")\n",
    "    ax1.title.set_text('Plot of {} vs time'.format(category))"
   ]
  },
  {
   "cell_type": "code",
   "execution_count": 13,
   "id": "0b8f4ff5",
   "metadata": {},
   "outputs": [
    {
     "data": {
      "image/png": "[encoded data removed]",
      "text/plain": [
       "<Figure size 432x288 with 1 Axes>"
      ]
     },
     "metadata": {
      "needs_background": "light"
     },
     "output_type": "display_data"
    }
   ],
   "source": [
    "print_category('Drugs')"
   ]
  },
  {
   "cell_type": "code",
   "execution_count": 14,
   "id": "8794cf5c",
   "metadata": {},
   "outputs": [
    {
     "data": {
      "image/png": "[encoded data removed]",
      "text/plain": [
       "<Figure size 432x288 with 1 Axes>"
      ]
     },
     "metadata": {
      "needs_background": "light"
     },
     "output_type": "display_data"
    }
   ],
   "source": [
    "print_category('Drug paraphernalia')"
   ]
  },
  {
   "cell_type": "code",
   "execution_count": 15,
   "id": "73a13657",
   "metadata": {},
   "outputs": [
    {
     "data": {
      "image/png": "[encoded data removed]",
      "text/plain": [
       "<Figure size 432x288 with 1 Axes>"
      ]
     },
     "metadata": {
      "needs_background": "light"
     },
     "output_type": "display_data"
    }
   ],
   "source": [
    "print_category('Services')"
   ]
  },
  {
   "cell_type": "code",
   "execution_count": 16,
   "id": "e73485f3",
   "metadata": {},
   "outputs": [
    {
     "data": {
      "image/png": "[encoded data removed]",
      "text/plain": [
       "<Figure size 432x288 with 1 Axes>"
      ]
     },
     "metadata": {
      "needs_background": "light"
     },
     "output_type": "display_data"
    }
   ],
   "source": [
    "print_category('Information')"
   ]
  },
  {
   "cell_type": "code",
   "execution_count": 17,
   "id": "32d9551f",
   "metadata": {},
   "outputs": [
    {
     "data": {
      "image/png": "[encoded data removed]",
      "text/plain": [
       "<Figure size 432x288 with 1 Axes>"
      ]
     },
     "metadata": {
      "needs_background": "light"
     },
     "output_type": "display_data"
    }
   ],
   "source": [
    "print_category('Forgeries')"
   ]
  },
  {
   "cell_type": "code",
   "execution_count": 18,
   "id": "86bb3226",
   "metadata": {},
   "outputs": [
    {
     "data": {
      "image/png": "[encoded data removed]",
      "text/plain": [
       "<Figure size 432x288 with 1 Axes>"
      ]
     },
     "metadata": {
      "needs_background": "light"
     },
     "output_type": "display_data"
    }
   ],
   "source": [
    "print_category('Tobacco')"
   ]
  },
  {
   "cell_type": "code",
   "execution_count": 19,
   "id": "358ad161",
   "metadata": {},
   "outputs": [
    {
     "data": {
      "image/png": "[encoded data removed]",
      "text/plain": [
       "<Figure size 432x288 with 1 Axes>"
      ]
     },
     "metadata": {
      "needs_background": "light"
     },
     "output_type": "display_data"
    }
   ],
   "source": [
    "print_category('Counterfeits')"
   ]
  },
  {
   "cell_type": "code",
   "execution_count": 20,
   "id": "7ff927df",
   "metadata": {},
   "outputs": [
    {
     "data": {
      "image/png": "[encoded data removed]",
      "text/plain": [
       "<Figure size 432x288 with 1 Axes>"
      ]
     },
     "metadata": {
      "needs_background": "light"
     },
     "output_type": "display_data"
    }
   ],
   "source": [
    "print_category('Weapons')"
   ]
  },
  {
   "cell_type": "markdown",
   "id": "6d9231be",
   "metadata": {},
   "source": [
    "## Sales over Time (for each Site)"
   ]
  },
  {
   "cell_type": "code",
   "execution_count": 21,
   "id": "6d0d6a84",
   "metadata": {},
   "outputs": [],
   "source": [
    "# Read in original dataset\n",
    "columns = ['site', 'vendor', 'timestamp', 'score', 'value_btc']\n",
    "original_df = pd.read_csv('Darkweb data scrape.csv', usecols=columns)\n",
    "original_df['timestamp'] = pd.to_numeric(original_df['timestamp'])\n",
    "original_df['timestamp'] = pd.to_datetime(original_df['timestamp'],unit='s')"
   ]
  },
  {
   "cell_type": "code",
   "execution_count": 22,
   "id": "80c9aef7",
   "metadata": {},
   "outputs": [],
   "source": [
    "def print_time_site(site):\n",
    "    site_df = original_df[original_df['site'] == site].copy()\n",
    "    time_df = site_df.copy()\n",
    "    time_df = time_df[['timestamp', 'site']]\n",
    "    time_df = time_df.rename(columns={\"site\": \"counts\"})\n",
    "    plotting_df = time_df.copy()\n",
    "    \n",
    "    fig = plt.figure()\n",
    "    ax1 = plotting_df['counts'].groupby([plotting_df[\"timestamp\"].dt.year, plotting_df[\"timestamp\"].dt.month]).count().plot(kind=\"bar\")\n",
    "    ax1.title.set_text('Timeplot of {}'.format(site))"
   ]
  },
  {
   "cell_type": "code",
   "execution_count": 23,
   "id": "3813fc24",
   "metadata": {},
   "outputs": [
    {
     "data": {
      "image/png": "[encoded data removed]",
      "text/plain": [
       "<Figure size 432x288 with 1 Axes>"
      ]
     },
     "metadata": {
      "needs_background": "light"
     },
     "output_type": "display_data"
    }
   ],
   "source": [
    "print_time_site('Apollon')"
   ]
  },
  {
   "cell_type": "code",
   "execution_count": 24,
   "id": "4a597d0c",
   "metadata": {},
   "outputs": [
    {
     "data": {
      "image/png": "[encoded data removed]",
      "text/plain": [
       "<Figure size 432x288 with 1 Axes>"
      ]
     },
     "metadata": {
      "needs_background": "light"
     },
     "output_type": "display_data"
    }
   ],
   "source": [
    "print_time_site('CannaHome')"
   ]
  },
  {
   "cell_type": "code",
   "execution_count": 25,
   "id": "fa8b40cd",
   "metadata": {},
   "outputs": [
    {
     "data": {
      "image/png": "[encoded data removed]",
      "text/plain": [
       "<Figure size 432x288 with 1 Axes>"
      ]
     },
     "metadata": {
      "needs_background": "light"
     },
     "output_type": "display_data"
    }
   ],
   "source": [
    "print_time_site('Cannazon')"
   ]
  },
  {
   "cell_type": "code",
   "execution_count": 26,
   "id": "6e0dfe3b",
   "metadata": {},
   "outputs": [
    {
     "data": {
      "image/png": "[encoded data removed]",
      "text/plain": [
       "<Figure size 432x288 with 1 Axes>"
      ]
     },
     "metadata": {
      "needs_background": "light"
     },
     "output_type": "display_data"
    }
   ],
   "source": [
    "print_time_site('Cryptonia')"
   ]
  },
  {
   "cell_type": "code",
   "execution_count": 27,
   "id": "7f2b2f87",
   "metadata": {},
   "outputs": [
    {
     "data": {
      "image/png": "[encoded data removed]",
      "text/plain": [
       "<Figure size 432x288 with 1 Axes>"
      ]
     },
     "metadata": {
      "needs_background": "light"
     },
     "output_type": "display_data"
    }
   ],
   "source": [
    "print_time_site('Empire')"
   ]
  },
  {
   "cell_type": "code",
   "execution_count": 28,
   "id": "f466a3e0",
   "metadata": {},
   "outputs": [
    {
     "data": {
      "image/png": "[encoded data removed]",
      "text/plain": [
       "<Figure size 432x288 with 1 Axes>"
      ]
     },
     "metadata": {
      "needs_background": "light"
     },
     "output_type": "display_data"
    }
   ],
   "source": [
    "print_time_site('Samsara')"
   ]
  },
  {
   "cell_type": "markdown",
   "id": "f9624b07",
   "metadata": {},
   "source": [
    "## Popular markets (by Category)"
   ]
  },
  {
   "cell_type": "code",
   "execution_count": 29,
   "id": "d9040e4a",
   "metadata": {},
   "outputs": [],
   "source": [
    "def get_market_popularity_for_category(category): \n",
    "    \n",
    "    # Print percentage counts\n",
    "    category_df = kilos_category_df.copy()\n",
    "    category_df = category_df[category_df['category'] == category]\n",
    "    value_counts = category_df['site'].value_counts(normalize=True) * 100\n",
    "    print('% counts for {}'.format(category))\n",
    "    print(value_counts, '\\n')\n",
    "    \n",
    "    # Print pie chart\n",
    "    fig = plt.figure()\n",
    "    ax1 = category_df.groupby('site').size().plot(kind='pie', autopct ='%.1f')\n",
    "    ax1.title.set_text('Popularity of sites for {}'.format(category))"
   ]
  },
  {
   "cell_type": "code",
   "execution_count": 30,
   "id": "b029ddc5",
   "metadata": {},
   "outputs": [
    {
     "name": "stdout",
     "output_type": "stream",
     "text": [
      "% counts for Drugs\n",
      "Cannazon     34.640575\n",
      "Empire       27.628337\n",
      "Cryptonia    16.886655\n",
      "Apollon      10.659563\n",
      "CannaHome     5.760410\n",
      "Samsara       4.424460\n",
      "Name: site, dtype: float64 \n",
      "\n"
     ]
    },
    {
     "data": {
      "image/png": "[encoded data removed]",
      "text/plain": [
       "<Figure size 432x288 with 1 Axes>"
      ]
     },
     "metadata": {},
     "output_type": "display_data"
    }
   ],
   "source": [
    "get_market_popularity_for_category('Drugs')"
   ]
  },
  {
   "cell_type": "code",
   "execution_count": 31,
   "id": "864bf703",
   "metadata": {},
   "outputs": [
    {
     "name": "stdout",
     "output_type": "stream",
     "text": [
      "% counts for Drug paraphernalia\n",
      "Empire       44.888889\n",
      "CannaHome    26.666667\n",
      "Samsara      15.555556\n",
      "Apollon      11.111111\n",
      "Cryptonia     1.777778\n",
      "Name: site, dtype: float64 \n",
      "\n"
     ]
    },
    {
     "data": {
      "image/png": "[encoded data removed]",
      "text/plain": [
       "<Figure size 432x288 with 1 Axes>"
      ]
     },
     "metadata": {},
     "output_type": "display_data"
    }
   ],
   "source": [
    "get_market_popularity_for_category('Drug paraphernalia')"
   ]
  },
  {
   "cell_type": "code",
   "execution_count": 32,
   "id": "5fb0d91b",
   "metadata": {},
   "outputs": [
    {
     "name": "stdout",
     "output_type": "stream",
     "text": [
      "% counts for Services\n",
      "Empire       72.432432\n",
      "Apollon      10.810811\n",
      "CannaHome    10.135135\n",
      "Cryptonia     3.288288\n",
      "Samsara       3.153153\n",
      "Cannazon      0.180180\n",
      "Name: site, dtype: float64 \n",
      "\n"
     ]
    },
    {
     "data": {
      "image/png": "[encoded data removed]",
      "text/plain": [
       "<Figure size 432x288 with 1 Axes>"
      ]
     },
     "metadata": {},
     "output_type": "display_data"
    }
   ],
   "source": [
    "get_market_popularity_for_category('Services')"
   ]
  },
  {
   "cell_type": "code",
   "execution_count": 33,
   "id": "a54f2eb4",
   "metadata": {},
   "outputs": [
    {
     "name": "stdout",
     "output_type": "stream",
     "text": [
      "% counts for Information\n",
      "Empire       54.508566\n",
      "Apollon      37.060415\n",
      "Cryptonia     8.431019\n",
      "Name: site, dtype: float64 \n",
      "\n"
     ]
    },
    {
     "data": {
      "image/png": "[encoded data removed]",
      "text/plain": [
       "<Figure size 432x288 with 1 Axes>"
      ]
     },
     "metadata": {},
     "output_type": "display_data"
    }
   ],
   "source": [
    "get_market_popularity_for_category('Information')"
   ]
  },
  {
   "cell_type": "code",
   "execution_count": 34,
   "id": "879079c8",
   "metadata": {},
   "outputs": [
    {
     "name": "stdout",
     "output_type": "stream",
     "text": [
      "% counts for Forgeries\n",
      "Empire       71.886121\n",
      "Cryptonia    20.284698\n",
      "Apollon       7.829181\n",
      "Name: site, dtype: float64 \n",
      "\n"
     ]
    },
    {
     "data": {
      "image/png": "[encoded data removed]",
      "text/plain": [
       "<Figure size 432x288 with 1 Axes>"
      ]
     },
     "metadata": {},
     "output_type": "display_data"
    }
   ],
   "source": [
    "get_market_popularity_for_category('Forgeries')"
   ]
  },
  {
   "cell_type": "code",
   "execution_count": 35,
   "id": "73fd3043",
   "metadata": {},
   "outputs": [
    {
     "name": "stdout",
     "output_type": "stream",
     "text": [
      "% counts for Tobacco\n",
      "Cannazon    100.0\n",
      "Name: site, dtype: float64 \n",
      "\n"
     ]
    },
    {
     "data": {
      "image/png": "[encoded data removed]",
      "text/plain": [
       "<Figure size 432x288 with 1 Axes>"
      ]
     },
     "metadata": {},
     "output_type": "display_data"
    }
   ],
   "source": [
    "get_market_popularity_for_category('Tobacco')"
   ]
  },
  {
   "cell_type": "code",
   "execution_count": 36,
   "id": "442ed7d8",
   "metadata": {},
   "outputs": [
    {
     "name": "stdout",
     "output_type": "stream",
     "text": [
      "% counts for Weapons\n",
      "Apollon      79.487179\n",
      "Cryptonia    20.512821\n",
      "Name: site, dtype: float64 \n",
      "\n"
     ]
    },
    {
     "data": {
      "image/png": "[encoded data removed]",
      "text/plain": [
       "<Figure size 432x288 with 1 Axes>"
      ]
     },
     "metadata": {},
     "output_type": "display_data"
    }
   ],
   "source": [
    "get_market_popularity_for_category('Weapons')"
   ]
  },
  {
   "cell_type": "code",
   "execution_count": 37,
   "id": "ed59ad82",
   "metadata": {},
   "outputs": [
    {
     "name": "stdout",
     "output_type": "stream",
     "text": [
      "% counts for Counterfeits\n",
      "Empire       74.401473\n",
      "Apollon      22.283610\n",
      "Cryptonia     2.946593\n",
      "Cannazon      0.368324\n",
      "Name: site, dtype: float64 \n",
      "\n"
     ]
    },
    {
     "data": {
      "image/png": "[encoded data removed]",
      "text/plain": [
       "<Figure size 432x288 with 1 Axes>"
      ]
     },
     "metadata": {},
     "output_type": "display_data"
    }
   ],
   "source": [
    "get_market_popularity_for_category('Counterfeits')"
   ]
  },
  {
   "cell_type": "markdown",
   "id": "765829ba",
   "metadata": {},
   "source": [
    "## Vendor Lifetimes"
   ]
  },
  {
   "cell_type": "code",
   "execution_count": 38,
   "id": "7d07f5f5",
   "metadata": {},
   "outputs": [
    {
     "data": {
      "text/plain": [
       "225414"
      ]
     },
     "execution_count": 38,
     "metadata": {},
     "output_type": "execute_result"
    }
   ],
   "source": [
    "# Read in original dataset\n",
    "columns = ['site', 'vendor', 'timestamp', 'score', 'value_btc']\n",
    "original_df = pd.read_csv('Darkweb data scrape.csv', usecols=columns)\n",
    "original_df['timestamp'] = pd.to_numeric(original_df['timestamp'])\n",
    "original_df['timestamp'] = pd.to_datetime(original_df['timestamp'],unit='s')\n",
    "\n",
    "# Exclude rows that have incorrect timestamps\n",
    "original_df = original_df[original_df['timestamp'] > '1970-01-01'].copy()\n",
    "len(original_df)"
   ]
  },
  {
   "cell_type": "code",
   "execution_count": 39,
   "id": "c6681017",
   "metadata": {},
   "outputs": [
    {
     "data": {
      "text/html": [
       "<div>\n",
       "<style scoped>\n",
       "    .dataframe tbody tr th:only-of-type {\n",
       "        vertical-align: middle;\n",
       "    }\n",
       "\n",
       "    .dataframe tbody tr th {\n",
       "        vertical-align: top;\n",
       "    }\n",
       "\n",
       "    .dataframe thead th {\n",
       "        text-align: right;\n",
       "    }\n",
       "</style>\n",
       "<table border=\"1\" class=\"dataframe\">\n",
       "  <thead>\n",
       "    <tr style=\"text-align: right;\">\n",
       "      <th></th>\n",
       "      <th>vendor</th>\n",
       "      <th>timespan</th>\n",
       "    </tr>\n",
       "  </thead>\n",
       "  <tbody>\n",
       "    <tr>\n",
       "      <th>1</th>\n",
       "      <td>DrunkDragon</td>\n",
       "      <td>675 days 09:18:00</td>\n",
       "    </tr>\n",
       "    <tr>\n",
       "      <th>0</th>\n",
       "      <td>ofgrey</td>\n",
       "      <td>670 days 00:20:00</td>\n",
       "    </tr>\n",
       "    <tr>\n",
       "      <th>3</th>\n",
       "      <td>Goldoratt</td>\n",
       "      <td>649 days 06:13:00</td>\n",
       "    </tr>\n",
       "    <tr>\n",
       "      <th>5</th>\n",
       "      <td>MoneyMule</td>\n",
       "      <td>637 days 13:06:00</td>\n",
       "    </tr>\n",
       "    <tr>\n",
       "      <th>4</th>\n",
       "      <td>rvaska</td>\n",
       "      <td>623 days 12:06:00</td>\n",
       "    </tr>\n",
       "    <tr>\n",
       "      <th>6</th>\n",
       "      <td>HeinekenExpress</td>\n",
       "      <td>616 days 13:32:00</td>\n",
       "    </tr>\n",
       "    <tr>\n",
       "      <th>9</th>\n",
       "      <td>tvman</td>\n",
       "      <td>605 days 04:26:00</td>\n",
       "    </tr>\n",
       "    <tr>\n",
       "      <th>2</th>\n",
       "      <td>namedeclined</td>\n",
       "      <td>603 days 07:43:00</td>\n",
       "    </tr>\n",
       "    <tr>\n",
       "      <th>10</th>\n",
       "      <td>sixandeight</td>\n",
       "      <td>600 days 09:00:00</td>\n",
       "    </tr>\n",
       "    <tr>\n",
       "      <th>11</th>\n",
       "      <td>jimmy2018</td>\n",
       "      <td>597 days 00:15:00</td>\n",
       "    </tr>\n",
       "  </tbody>\n",
       "</table>\n",
       "</div>"
      ],
      "text/plain": [
       "             vendor          timespan\n",
       "1       DrunkDragon 675 days 09:18:00\n",
       "0            ofgrey 670 days 00:20:00\n",
       "3         Goldoratt 649 days 06:13:00\n",
       "5         MoneyMule 637 days 13:06:00\n",
       "4            rvaska 623 days 12:06:00\n",
       "6   HeinekenExpress 616 days 13:32:00\n",
       "9             tvman 605 days 04:26:00\n",
       "2      namedeclined 603 days 07:43:00\n",
       "10      sixandeight 600 days 09:00:00\n",
       "11        jimmy2018 597 days 00:15:00"
      ]
     },
     "execution_count": 39,
     "metadata": {},
     "output_type": "execute_result"
    }
   ],
   "source": [
    "# Get list of vendors\n",
    "vendor_list = original_df['vendor'].unique()\n",
    "vendor_timespans = []\n",
    "\n",
    "for vendor in vendor_list:\n",
    "    vendor_df = original_df[original_df['vendor'] == vendor]\n",
    "    vendor_start = vendor_df['timestamp'].min()\n",
    "    vendor_latest = vendor_df['timestamp'].max()\n",
    "    timespan = vendor_latest - vendor_start\n",
    "    vendor_timespans.append(timespan)\n",
    "    \n",
    "timespan_df = pd.DataFrame({\n",
    "    'vendor': vendor_list, \n",
    "    'timespan': vendor_timespans\n",
    "})\n",
    "\n",
    "timespan_df = timespan_df.sort_values(by=['timespan'], ascending = False)\n",
    "timespan_df.head(10)"
   ]
  },
  {
   "cell_type": "code",
   "execution_count": 40,
   "id": "e4da86a3",
   "metadata": {},
   "outputs": [
    {
     "data": {
      "text/html": [
       "<div>\n",
       "<style scoped>\n",
       "    .dataframe tbody tr th:only-of-type {\n",
       "        vertical-align: middle;\n",
       "    }\n",
       "\n",
       "    .dataframe tbody tr th {\n",
       "        vertical-align: top;\n",
       "    }\n",
       "\n",
       "    .dataframe thead th {\n",
       "        text-align: right;\n",
       "    }\n",
       "</style>\n",
       "<table border=\"1\" class=\"dataframe\">\n",
       "  <thead>\n",
       "    <tr style=\"text-align: right;\">\n",
       "      <th></th>\n",
       "      <th>vendor</th>\n",
       "      <th>average_rating</th>\n",
       "      <th>median_rating</th>\n",
       "    </tr>\n",
       "  </thead>\n",
       "  <tbody>\n",
       "    <tr>\n",
       "      <th>1</th>\n",
       "      <td>DrunkDragon</td>\n",
       "      <td>0.520179</td>\n",
       "      <td>1.0</td>\n",
       "    </tr>\n",
       "    <tr>\n",
       "      <th>0</th>\n",
       "      <td>ofgrey</td>\n",
       "      <td>0.875000</td>\n",
       "      <td>1.0</td>\n",
       "    </tr>\n",
       "    <tr>\n",
       "      <th>3</th>\n",
       "      <td>Goldoratt</td>\n",
       "      <td>0.537755</td>\n",
       "      <td>1.0</td>\n",
       "    </tr>\n",
       "    <tr>\n",
       "      <th>5</th>\n",
       "      <td>MoneyMule</td>\n",
       "      <td>0.811554</td>\n",
       "      <td>1.0</td>\n",
       "    </tr>\n",
       "    <tr>\n",
       "      <th>4</th>\n",
       "      <td>rvaska</td>\n",
       "      <td>0.597345</td>\n",
       "      <td>1.0</td>\n",
       "    </tr>\n",
       "    <tr>\n",
       "      <th>6</th>\n",
       "      <td>HeinekenExpress</td>\n",
       "      <td>0.337818</td>\n",
       "      <td>1.0</td>\n",
       "    </tr>\n",
       "    <tr>\n",
       "      <th>9</th>\n",
       "      <td>tvman</td>\n",
       "      <td>0.758818</td>\n",
       "      <td>1.0</td>\n",
       "    </tr>\n",
       "    <tr>\n",
       "      <th>2</th>\n",
       "      <td>namedeclined</td>\n",
       "      <td>0.925743</td>\n",
       "      <td>1.0</td>\n",
       "    </tr>\n",
       "    <tr>\n",
       "      <th>10</th>\n",
       "      <td>sixandeight</td>\n",
       "      <td>0.829046</td>\n",
       "      <td>1.0</td>\n",
       "    </tr>\n",
       "    <tr>\n",
       "      <th>11</th>\n",
       "      <td>jimmy2018</td>\n",
       "      <td>0.923913</td>\n",
       "      <td>1.0</td>\n",
       "    </tr>\n",
       "  </tbody>\n",
       "</table>\n",
       "</div>"
      ],
      "text/plain": [
       "             vendor  average_rating  median_rating\n",
       "1       DrunkDragon        0.520179            1.0\n",
       "0            ofgrey        0.875000            1.0\n",
       "3         Goldoratt        0.537755            1.0\n",
       "5         MoneyMule        0.811554            1.0\n",
       "4            rvaska        0.597345            1.0\n",
       "6   HeinekenExpress        0.337818            1.0\n",
       "9             tvman        0.758818            1.0\n",
       "2      namedeclined        0.925743            1.0\n",
       "10      sixandeight        0.829046            1.0\n",
       "11        jimmy2018        0.923913            1.0"
      ]
     },
     "execution_count": 40,
     "metadata": {},
     "output_type": "execute_result"
    }
   ],
   "source": [
    "## Get ratings for the top 10 vendors that last long\n",
    "vendors = timespan_df.head(10).vendor\n",
    "\n",
    "average_ratings, median_ratings = [],[]\n",
    "for vendor in vendors: \n",
    "    vendor_df = original_df[original_df['vendor'] == vendor]\n",
    "    average_rating = vendor_df['score'].mean()\n",
    "    median_rating = vendor_df['score'].median()\n",
    "    var_rating = vendor_df['score'].var()\n",
    "    \n",
    "    average_ratings.append(average_rating)\n",
    "    median_ratings.append(median_rating)\n",
    "   \n",
    "    \n",
    "vendor_rating_df = pd.DataFrame({\n",
    "    'vendor': vendors, \n",
    "    'average_rating': average_ratings, \n",
    "    'median_rating': median_ratings \n",
    "})\n",
    "vendor_rating_df.head(10)"
   ]
  },
  {
   "cell_type": "code",
   "execution_count": 41,
   "id": "e2a3c103",
   "metadata": {},
   "outputs": [
    {
     "data": {
      "text/html": [
       "<div>\n",
       "<style scoped>\n",
       "    .dataframe tbody tr th:only-of-type {\n",
       "        vertical-align: middle;\n",
       "    }\n",
       "\n",
       "    .dataframe tbody tr th {\n",
       "        vertical-align: top;\n",
       "    }\n",
       "\n",
       "    .dataframe thead th {\n",
       "        text-align: right;\n",
       "    }\n",
       "</style>\n",
       "<table border=\"1\" class=\"dataframe\">\n",
       "  <thead>\n",
       "    <tr style=\"text-align: right;\">\n",
       "      <th></th>\n",
       "      <th>timespan</th>\n",
       "      <th>average_rating</th>\n",
       "      <th>median_rating</th>\n",
       "    </tr>\n",
       "  </thead>\n",
       "  <tbody>\n",
       "    <tr>\n",
       "      <th>timespan</th>\n",
       "      <td>1.000000</td>\n",
       "      <td>-0.493012</td>\n",
       "      <td>0.034303</td>\n",
       "    </tr>\n",
       "    <tr>\n",
       "      <th>average_rating</th>\n",
       "      <td>-0.493012</td>\n",
       "      <td>1.000000</td>\n",
       "      <td>0.166549</td>\n",
       "    </tr>\n",
       "    <tr>\n",
       "      <th>median_rating</th>\n",
       "      <td>0.034303</td>\n",
       "      <td>0.166549</td>\n",
       "      <td>1.000000</td>\n",
       "    </tr>\n",
       "  </tbody>\n",
       "</table>\n",
       "</div>"
      ],
      "text/plain": [
       "                timespan  average_rating  median_rating\n",
       "timespan        1.000000       -0.493012       0.034303\n",
       "average_rating -0.493012        1.000000       0.166549\n",
       "median_rating   0.034303        0.166549       1.000000"
      ]
     },
     "execution_count": 41,
     "metadata": {},
     "output_type": "execute_result"
    }
   ],
   "source": [
    "# See if there is a correlation between vendor timespan and ratings\n",
    "timespan_df['average_rating'], timespan_df['median_rating'] = '', ''\n",
    "\n",
    "for index, row in timespan_df.iterrows(): \n",
    "    current_vendor = row['vendor']\n",
    "    \n",
    "    # Extract average and median ratings\n",
    "    vendor_df = original_df[original_df['vendor'] == current_vendor]\n",
    "    average_rating = vendor_df['score'].mean()\n",
    "    median_rating = vendor_df['score'].median()\n",
    "    \n",
    "    # Store values\n",
    "    timespan_df.loc[index, 'average_rating'] = average_rating\n",
    "    timespan_df.loc[index, 'median_rating'] = median_rating\n",
    "    \n",
    "timespan_df = timespan_df.astype({'average_rating': 'int32', \n",
    "                                  'median_rating': 'int32'})\n",
    "\n",
    "# Convert time delta to seconds\n",
    "timespan_df['timespan'] = timespan_df['timespan'] / np.timedelta64(1, 's')\n",
    "\n",
    "timespan_df.corr()"
   ]
  },
  {
   "cell_type": "markdown",
   "id": "ff1ed338",
   "metadata": {},
   "source": [
    "## Vendor that earns most money"
   ]
  },
  {
   "cell_type": "code",
   "execution_count": 42,
   "id": "2825802e",
   "metadata": {},
   "outputs": [
    {
     "data": {
      "text/html": [
       "<div>\n",
       "<style scoped>\n",
       "    .dataframe tbody tr th:only-of-type {\n",
       "        vertical-align: middle;\n",
       "    }\n",
       "\n",
       "    .dataframe tbody tr th {\n",
       "        vertical-align: top;\n",
       "    }\n",
       "\n",
       "    .dataframe thead th {\n",
       "        text-align: right;\n",
       "    }\n",
       "</style>\n",
       "<table border=\"1\" class=\"dataframe\">\n",
       "  <thead>\n",
       "    <tr style=\"text-align: right;\">\n",
       "      <th></th>\n",
       "      <th>vendor</th>\n",
       "      <th>total_btc_earnings</th>\n",
       "    </tr>\n",
       "  </thead>\n",
       "  <tbody>\n",
       "    <tr>\n",
       "      <th>436</th>\n",
       "      <td>CaliTerps</td>\n",
       "      <td>2088.068601</td>\n",
       "    </tr>\n",
       "    <tr>\n",
       "      <th>365</th>\n",
       "      <td>Insta</td>\n",
       "      <td>384.991341</td>\n",
       "    </tr>\n",
       "    <tr>\n",
       "      <th>190</th>\n",
       "      <td>GreenSupreme</td>\n",
       "      <td>325.015451</td>\n",
       "    </tr>\n",
       "    <tr>\n",
       "      <th>434</th>\n",
       "      <td>MexicanConnection</td>\n",
       "      <td>303.519171</td>\n",
       "    </tr>\n",
       "    <tr>\n",
       "      <th>423</th>\n",
       "      <td>cabackdoormedical</td>\n",
       "      <td>172.616300</td>\n",
       "    </tr>\n",
       "    <tr>\n",
       "      <th>880</th>\n",
       "      <td>NancyBotwin2019</td>\n",
       "      <td>156.940364</td>\n",
       "    </tr>\n",
       "    <tr>\n",
       "      <th>652</th>\n",
       "      <td>iROCKice</td>\n",
       "      <td>149.513500</td>\n",
       "    </tr>\n",
       "    <tr>\n",
       "      <th>331</th>\n",
       "      <td>VanillaSurf</td>\n",
       "      <td>131.068990</td>\n",
       "    </tr>\n",
       "    <tr>\n",
       "      <th>274</th>\n",
       "      <td>tonystarkweed</td>\n",
       "      <td>129.423152</td>\n",
       "    </tr>\n",
       "    <tr>\n",
       "      <th>605</th>\n",
       "      <td>CTB</td>\n",
       "      <td>123.932000</td>\n",
       "    </tr>\n",
       "  </tbody>\n",
       "</table>\n",
       "</div>"
      ],
      "text/plain": [
       "                vendor  total_btc_earnings\n",
       "436          CaliTerps         2088.068601\n",
       "365              Insta          384.991341\n",
       "190       GreenSupreme          325.015451\n",
       "434  MexicanConnection          303.519171\n",
       "423  cabackdoormedical          172.616300\n",
       "880    NancyBotwin2019          156.940364\n",
       "652           iROCKice          149.513500\n",
       "331        VanillaSurf          131.068990\n",
       "274      tonystarkweed          129.423152\n",
       "605                CTB          123.932000"
      ]
     },
     "execution_count": 42,
     "metadata": {},
     "output_type": "execute_result"
    }
   ],
   "source": [
    "# Read in original dataset\n",
    "columns = ['site', 'vendor', 'timestamp', 'score', 'value_btc']\n",
    "original_df = pd.read_csv('Darkweb data scrape.csv', usecols=columns)\n",
    "original_df['timestamp'] = pd.to_numeric(original_df['timestamp'])\n",
    "original_df['timestamp'] = pd.to_datetime(original_df['timestamp'],unit='s')\n",
    "\n",
    "vendors = original_df['vendor'].unique()\n",
    "vendor_earnings = []\n",
    "\n",
    "for vendor in vendors:\n",
    "    vendor_df = original_df[original_df['vendor'] == vendor]\n",
    "    vendor_earning = vendor_df['value_btc'].sum()\n",
    "    vendor_earnings.append(vendor_earning)\n",
    "    \n",
    "earnings_df = pd.DataFrame({\n",
    "    'vendor': vendors, \n",
    "    'total_btc_earnings': vendor_earnings\n",
    "})\n",
    "earnings_df = earnings_df.sort_values(by=['total_btc_earnings'], ascending = False)\n",
    "earnings_df.head(10)"
   ]
  },
  {
   "cell_type": "code",
   "execution_count": 43,
   "id": "df6d2cfa",
   "metadata": {},
   "outputs": [],
   "source": [
    "# See what categories are these vendors in \n",
    "top_vendors = earnings_df.head(10)['vendor']\n",
    "\n",
    "# Read in dataset with categories\n",
    "augmented_kilo = pd.read_csv('web_scrape_category.csv')\n",
    "augmented_kilo['timestamp'] = pd.to_datetime(augmented_kilo['timestamp'])\n",
    "\n",
    "# See if any of the top vendors are in the augmented kilo dataset\n",
    "for vendor in top_vendors:\n",
    "    if vendor in augmented_kilo['vendor'].unique():\n",
    "        print(vendor)"
   ]
  },
  {
   "cell_type": "code",
   "execution_count": 44,
   "id": "837737ae",
   "metadata": {},
   "outputs": [
    {
     "data": {
      "text/html": [
       "<div>\n",
       "<style scoped>\n",
       "    .dataframe tbody tr th:only-of-type {\n",
       "        vertical-align: middle;\n",
       "    }\n",
       "\n",
       "    .dataframe tbody tr th {\n",
       "        vertical-align: top;\n",
       "    }\n",
       "\n",
       "    .dataframe thead th {\n",
       "        text-align: right;\n",
       "    }\n",
       "</style>\n",
       "<table border=\"1\" class=\"dataframe\">\n",
       "  <thead>\n",
       "    <tr style=\"text-align: right;\">\n",
       "      <th></th>\n",
       "      <th>total_btc_earnings</th>\n",
       "      <th>average_rating</th>\n",
       "      <th>median_rating</th>\n",
       "    </tr>\n",
       "  </thead>\n",
       "  <tbody>\n",
       "    <tr>\n",
       "      <th>total_btc_earnings</th>\n",
       "      <td>1.000000</td>\n",
       "      <td>0.024957</td>\n",
       "      <td>0.007493</td>\n",
       "    </tr>\n",
       "    <tr>\n",
       "      <th>average_rating</th>\n",
       "      <td>0.024957</td>\n",
       "      <td>1.000000</td>\n",
       "      <td>0.738488</td>\n",
       "    </tr>\n",
       "    <tr>\n",
       "      <th>median_rating</th>\n",
       "      <td>0.007493</td>\n",
       "      <td>0.738488</td>\n",
       "      <td>1.000000</td>\n",
       "    </tr>\n",
       "  </tbody>\n",
       "</table>\n",
       "</div>"
      ],
      "text/plain": [
       "                    total_btc_earnings  average_rating  median_rating\n",
       "total_btc_earnings            1.000000        0.024957       0.007493\n",
       "average_rating                0.024957        1.000000       0.738488\n",
       "median_rating                 0.007493        0.738488       1.000000"
      ]
     },
     "execution_count": 44,
     "metadata": {},
     "output_type": "execute_result"
    }
   ],
   "source": [
    "# Analyze relationship between earnings and ratings\n",
    "earnings_df['average_rating'], earnings_df['median_rating'] = -1, -1\n",
    "for index, row in earnings_df.iterrows():\n",
    "    vendor = row['vendor']\n",
    "    \n",
    "    # Get ratings corresponding to vendor\n",
    "    vendor_ratings = original_df[original_df['vendor'] == vendor]\n",
    "    \n",
    "    # Store average rating\n",
    "    earnings_df.loc[index, 'average_rating'] = vendor_ratings['score'].mean()\n",
    "    earnings_df.loc[index, 'median_rating'] = vendor_ratings['score'].median()\n",
    "    \n",
    "earnings_df.corr()"
   ]
  },
  {
   "cell_type": "code",
   "execution_count": 45,
   "id": "9ca9ab46",
   "metadata": {},
   "outputs": [
    {
     "data": {
      "text/html": [
       "<div>\n",
       "<style scoped>\n",
       "    .dataframe tbody tr th:only-of-type {\n",
       "        vertical-align: middle;\n",
       "    }\n",
       "\n",
       "    .dataframe tbody tr th {\n",
       "        vertical-align: top;\n",
       "    }\n",
       "\n",
       "    .dataframe thead th {\n",
       "        text-align: right;\n",
       "    }\n",
       "</style>\n",
       "<table border=\"1\" class=\"dataframe\">\n",
       "  <thead>\n",
       "    <tr style=\"text-align: right;\">\n",
       "      <th></th>\n",
       "      <th>total_btc_earnings</th>\n",
       "      <th>average_rating</th>\n",
       "      <th>median_rating</th>\n",
       "    </tr>\n",
       "  </thead>\n",
       "  <tbody>\n",
       "    <tr>\n",
       "      <th>total_btc_earnings</th>\n",
       "      <td>1.000000</td>\n",
       "      <td>-0.526313</td>\n",
       "      <td>NaN</td>\n",
       "    </tr>\n",
       "    <tr>\n",
       "      <th>average_rating</th>\n",
       "      <td>-0.526313</td>\n",
       "      <td>1.000000</td>\n",
       "      <td>NaN</td>\n",
       "    </tr>\n",
       "    <tr>\n",
       "      <th>median_rating</th>\n",
       "      <td>NaN</td>\n",
       "      <td>NaN</td>\n",
       "      <td>NaN</td>\n",
       "    </tr>\n",
       "  </tbody>\n",
       "</table>\n",
       "</div>"
      ],
      "text/plain": [
       "                    total_btc_earnings  average_rating  median_rating\n",
       "total_btc_earnings            1.000000       -0.526313            NaN\n",
       "average_rating               -0.526313        1.000000            NaN\n",
       "median_rating                      NaN             NaN            NaN"
      ]
     },
     "execution_count": 45,
     "metadata": {},
     "output_type": "execute_result"
    }
   ],
   "source": [
    "# Top 13 in terms of earnings\n",
    "top_earnings = earnings_df.head(13)\n",
    "top_earnings.corr()"
   ]
  },
  {
   "cell_type": "markdown",
   "id": "904338b9",
   "metadata": {},
   "source": [
    "## Combine with Darknet market cocaine listings"
   ]
  },
  {
   "cell_type": "code",
   "execution_count": 46,
   "id": "bd49b742",
   "metadata": {},
   "outputs": [],
   "source": [
    "darknet_df = pd.read_csv('Darknet Market Cocaine Listings/dream_market_cocaine_listings.csv', thousands=\",\")"
   ]
  },
  {
   "cell_type": "code",
   "execution_count": 47,
   "id": "e85db86d",
   "metadata": {},
   "outputs": [
    {
     "name": "stdout",
     "output_type": "stream",
     "text": [
      "Number of common vendors: 6\n",
      "['onenation', 'homegrow1919', 'dutchcandyshop', 'ukwhite', 'superdrugz', 'drugkingz']\n"
     ]
    }
   ],
   "source": [
    "coccaine_vendors = []\n",
    "for kilos_vendor in kilos_df['vendor'].unique(): \n",
    "    if kilos_vendor in darknet_df['vendor_name'].unique():\n",
    "        coccaine_vendors.append(kilos_vendor)\n",
    "print('Number of common vendors:', len(coccaine_vendors))\n",
    "print(coccaine_vendors)"
   ]
  },
  {
   "cell_type": "code",
   "execution_count": 48,
   "id": "61e3c839",
   "metadata": {},
   "outputs": [
    {
     "name": "stdout",
     "output_type": "stream",
     "text": [
      "Data from Kilos dataset:\n"
     ]
    },
    {
     "data": {
      "text/plain": [
       "vendor\n",
       "drugkingz         1.000000\n",
       "dutchcandyshop    0.886957\n",
       "homegrow1919      1.000000\n",
       "onenation         0.972093\n",
       "superdrugz        1.000000\n",
       "ukwhite           1.000000\n",
       "Name: score, dtype: float64"
      ]
     },
     "execution_count": 48,
     "metadata": {},
     "output_type": "execute_result"
    }
   ],
   "source": [
    "# Get ratings for kilos dataset\n",
    "sub_ratings = kilos_df[kilos_df['vendor'].isin(coccaine_vendors)]\n",
    "sub_ratings = sub_ratings[['vendor', 'score']]\n",
    "print('Data from Kilos dataset:')\n",
    "sub_ratings.groupby('vendor')['score'].mean()"
   ]
  },
  {
   "cell_type": "code",
   "execution_count": 49,
   "id": "9c313fee",
   "metadata": {},
   "outputs": [
    {
     "name": "stdout",
     "output_type": "stream",
     "text": [
      "Data from Cocaine dataset:\n"
     ]
    },
    {
     "data": {
      "text/plain": [
       "vendor_name\n",
       "drugkingz         4.89\n",
       "dutchcandyshop    4.66\n",
       "homegrow1919      4.96\n",
       "onenation         4.84\n",
       "superdrugz        4.94\n",
       "ukwhite           4.88\n",
       "Name: rating, dtype: float64"
      ]
     },
     "execution_count": 49,
     "metadata": {},
     "output_type": "execute_result"
    }
   ],
   "source": [
    "# Get ratings from Cocaine dataset\n",
    "sub_ratings = darknet_df[darknet_df['vendor_name'].isin(coccaine_vendors)]\n",
    "sub_ratings = sub_ratings[['vendor_name', 'rating']]\n",
    "print('Data from Cocaine dataset:')\n",
    "sub_ratings.groupby('vendor_name')['rating'].mean()"
   ]
  },
  {
   "cell_type": "markdown",
   "id": "df473901",
   "metadata": {},
   "source": [
    "## Combine with Silk Road 2 Dataset"
   ]
  },
  {
   "cell_type": "code",
   "execution_count": 50,
   "id": "0453b7b0",
   "metadata": {},
   "outputs": [],
   "source": [
    "silk_road_df = pd.read_excel('Silk Road 2 Listings/mastersr2.xlsx')"
   ]
  },
  {
   "cell_type": "code",
   "execution_count": 51,
   "id": "02311fac",
   "metadata": {},
   "outputs": [
    {
     "name": "stdout",
     "output_type": "stream",
     "text": [
      "Number of common vendors: 11\n",
      "['instrument', 'namedeclined', 'theanchor', 'revenantchild', 'arctic', 'nzt48givesyouwings', 'puffinbilly', 'weednation', 'shroomdude', 'meerkovo', 'calitreez']\n"
     ]
    }
   ],
   "source": [
    "silk_road_vendors = []\n",
    "for kilos_vendor in kilos_df['vendor'].unique(): \n",
    "    if kilos_vendor in silk_road_df['Sellerid'].unique():\n",
    "        silk_road_vendors.append(kilos_vendor)\n",
    "print('Number of common vendors:', len(silk_road_vendors))\n",
    "print(silk_road_vendors)"
   ]
  },
  {
   "cell_type": "code",
   "execution_count": 52,
   "id": "dfc056ef",
   "metadata": {},
   "outputs": [
    {
     "name": "stdout",
     "output_type": "stream",
     "text": [
      "Data from Kilos dataset:\n"
     ]
    },
    {
     "data": {
      "text/plain": [
       "vendor\n",
       "arctic                0.888889\n",
       "calitreez             1.000000\n",
       "instrument            0.994709\n",
       "meerkovo              0.857143\n",
       "namedeclined          0.925743\n",
       "nzt48givesyouwings    1.000000\n",
       "puffinbilly           1.000000\n",
       "revenantchild         1.000000\n",
       "shroomdude            1.000000\n",
       "theanchor             0.800000\n",
       "weednation            0.984615\n",
       "Name: score, dtype: float64"
      ]
     },
     "execution_count": 52,
     "metadata": {},
     "output_type": "execute_result"
    }
   ],
   "source": [
    "# Get ratings for kilos dataset\n",
    "sub_ratings = kilos_df[kilos_df['vendor'].isin(silk_road_vendors)]\n",
    "sub_ratings = sub_ratings[['vendor', 'score']]\n",
    "print('Data from Kilos dataset:')\n",
    "sub_ratings.groupby('vendor')['score'].mean()"
   ]
  },
  {
   "cell_type": "code",
   "execution_count": 53,
   "id": "a83ea215",
   "metadata": {},
   "outputs": [
    {
     "name": "stdout",
     "output_type": "stream",
     "text": [
      "Data from Silk Road dataset:\n"
     ]
    },
    {
     "data": {
      "text/plain": [
       "Sellerid\n",
       "arctic                4.750000\n",
       "calitreez                  NaN\n",
       "instrument            4.800581\n",
       "meerkovo              4.752597\n",
       "namedeclined               NaN\n",
       "nzt48givesyouwings    4.786532\n",
       "puffinbilly           4.855844\n",
       "revenantchild         4.738312\n",
       "shroomdude            4.650000\n",
       "theanchor             3.700000\n",
       "weednation                 NaN\n",
       "Name: Rating, dtype: float64"
      ]
     },
     "execution_count": 53,
     "metadata": {},
     "output_type": "execute_result"
    }
   ],
   "source": [
    "# Get ratings for Silk Road dataset\n",
    "sub_ratings = silk_road_df[silk_road_df['Sellerid'].isin(silk_road_vendors)]\n",
    "sub_ratings = sub_ratings[['Sellerid', 'Rating']]\n",
    "print('Data from Silk Road dataset:')\n",
    "sub_ratings.groupby('Sellerid')['Rating'].mean()"
   ]
  }
 ],
 "metadata": {
  "kernelspec": {
   "display_name": "Python 3 (ipykernel)",
   "language": "python",
   "name": "python3"
  },
  "language_info": {
   "codemirror_mode": {
    "name": "ipython",
    "version": 3
   },
   "file_extension": ".py",
   "mimetype": "text/x-python",
   "name": "python",
   "nbconvert_exporter": "python",
   "pygments_lexer": "ipython3",
   "version": "3.8.8"
  }
 },
 "nbformat": 4,
 "nbformat_minor": 5
}
